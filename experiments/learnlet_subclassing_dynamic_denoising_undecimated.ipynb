{
 "cells": [
  {
   "cell_type": "code",
   "execution_count": 1,
   "metadata": {},
   "outputs": [
    {
     "name": "stdout",
     "output_type": "stream",
     "text": [
      "/volatile/home/Zaccharie/workspace/understanding-unets\n"
     ]
    }
   ],
   "source": [
    "%cd .."
   ]
  },
  {
   "cell_type": "code",
   "execution_count": 2,
   "metadata": {},
   "outputs": [],
   "source": [
    "# # this just to make sure we are using only on CPU\n",
    "# import os\n",
    "# os.environ[\"CUDA_VISIBLE_DEVICES\"]=\"-1\""
   ]
  },
  {
   "cell_type": "code",
   "execution_count": 3,
   "metadata": {},
   "outputs": [],
   "source": [
    "%load_ext autoreload\n",
    "%autoreload 2\n",
    "import os.path as op\n",
    "import time\n",
    "\n",
    "from tensorflow.keras.callbacks import TensorBoard, ModelCheckpoint, LearningRateScheduler\n",
    "import tensorflow_addons as tfa\n",
    "import tensorflow as tf\n",
    "from tensorflow.keras.optimizers import Adam\n",
    "from tqdm import tqdm_notebook\n",
    "\n",
    "from learning_wavelets.data.datasets import im_dataset_div2k, im_dataset_bsd500\n",
    "from learning_wavelets.evaluate import keras_psnr, keras_ssim, center_keras_psnr\n",
    "from learning_wavelets.keras_utils.image_tboard_cback import TensorBoardImage\n",
    "from learning_wavelets.keras_utils.normalisation import NormalisationAdjustment\n",
    "from learning_wavelets.keras_utils.thresholding import DynamicSoftThresholding, DynamicHardThresholding\n",
    "from learning_wavelets.models.learnlet_model import Learnlet"
   ]
  },
  {
   "cell_type": "code",
   "execution_count": 4,
   "metadata": {},
   "outputs": [],
   "source": [
    "tf.random.set_seed(1)"
   ]
  },
  {
   "cell_type": "code",
   "execution_count": 5,
   "metadata": {},
   "outputs": [],
   "source": [
    "noise_std_train = (0, 55)\n",
    "noise_std_val = 30\n",
    "batch_size = 8\n",
    "source = 'bsd500'\n",
    "if source == 'bsd500':\n",
    "    data_func = im_dataset_bsd500\n",
    "    n_samples_train = 400\n",
    "else:\n",
    "    data_func = im_dataset_div2k\n",
    "    n_samples_train = 800\n",
    "im_ds_train = data_func(\n",
    "    mode='training', \n",
    "    batch_size=batch_size, \n",
    "    patch_size=256, \n",
    "    noise_std=noise_std_train, \n",
    "    return_noise_level=True,\n",
    ")\n",
    "im_ds_val = data_func(\n",
    "    mode='validation', \n",
    "    batch_size=batch_size, \n",
    "    patch_size=256, \n",
    "    noise_std=noise_std_val, \n",
    "    return_noise_level=True,\n",
    ")"
   ]
  },
  {
   "cell_type": "code",
   "execution_count": 6,
   "metadata": {},
   "outputs": [
    {
     "name": "stdout",
     "output_type": "stream",
     "text": [
      "learnlet_subclassing_st_bsd500_0_55_1582623694\n"
     ]
    }
   ],
   "source": [
    "alpha = 2\n",
    "run_params = {\n",
    "    'denoising_activation': 'dynamic_soft_thresholding',\n",
    "    'learnlet_analysis_kwargs':{\n",
    "        'n_tiling': 64, \n",
    "        'mixing_details': False,    \n",
    "        'skip_connection': True,\n",
    "        'kernel_size': 11,\n",
    "    },\n",
    "    'learnlet_synthesis_kwargs': {\n",
    "        'res': True,\n",
    "        'kernel_size': 13,\n",
    "    },\n",
    "    'threshold_kwargs':{\n",
    "        'noise_std_norm': True,\n",
    "    },\n",
    "#     'wav_type': 'bior',\n",
    "    'n_scales': 5,\n",
    "#     'n_reweights_learn': 1,\n",
    "    'exact_reconstruction': True,\n",
    "    'undecimated': True,\n",
    "    'clip': False,\n",
    "}\n",
    "n_epochs = 500\n",
    "run_id = f'learnlet_subclassing_st_{source}_{noise_std_train[0]}_{noise_std_train[1]}_{int(time.time())}'\n",
    "chkpt_path = f'checkpoints/{run_id}' + '-{epoch:02d}.hdf5'\n",
    "print(run_id)"
   ]
  },
  {
   "cell_type": "code",
   "execution_count": 7,
   "metadata": {},
   "outputs": [],
   "source": [
    "def l_rate_schedule(epoch):\n",
    "    return max(1e-3 / 2**(epoch//25), 1e-5)\n",
    "lrate_cback = LearningRateScheduler(l_rate_schedule)"
   ]
  },
  {
   "cell_type": "code",
   "execution_count": 8,
   "metadata": {},
   "outputs": [
    {
     "name": "stdout",
     "output_type": "stream",
     "text": [
      "WARNING:tensorflow:`period` argument is deprecated. Please use `save_freq` to specify the frequency in number of samples seen.\n"
     ]
    }
   ],
   "source": [
    "chkpt_cback = ModelCheckpoint(chkpt_path, period=n_epochs, save_weights_only=False)\n",
    "log_dir = op.join('logs', run_id)\n",
    "tboard_cback = TensorBoard(\n",
    "    log_dir=log_dir, \n",
    "    histogram_freq=0, \n",
    "    write_graph=False, \n",
    "    write_images=False, \n",
    "    profile_batch=0,\n",
    ")\n",
    "tqdm_cb = tfa.callbacks.TQDMProgressBar(metrics_format=\"{name}: {value:e}\")\n",
    "# val_noisy, val_gt = next(iter(im_ds_val))\n",
    "# tboard_image_cback = TensorBoardImage(\n",
    "#     log_dir=log_dir + '/images',\n",
    "#     image=val_gt[0:1],\n",
    "#     noisy_image=val_noisy[0:1],\n",
    "# )\n",
    "norm_cback = NormalisationAdjustment(momentum=0.99, n_pooling=5)\n",
    "norm_cback.on_train_batch_end = norm_cback.on_batch_end"
   ]
  },
  {
   "cell_type": "code",
   "execution_count": 9,
   "metadata": {
    "scrolled": true
   },
   "outputs": [],
   "source": [
    "model = Learnlet(**run_params)\n",
    "model.compile(\n",
    "    optimizer=Adam(lr=1e-3),\n",
    "    loss='mse',\n",
    "    metrics=[keras_psnr, keras_ssim, center_keras_psnr],\n",
    ")\n",
    "# print(model.summary(line_length=114))"
   ]
  },
  {
   "cell_type": "code",
   "execution_count": 10,
   "metadata": {
    "scrolled": false
   },
   "outputs": [
    {
     "data": {
      "application/vnd.jupyter.widget-view+json": {
       "model_id": "4b8ecb1663e747d8a2cf4254098d8713",
       "version_major": 2,
       "version_minor": 0
      },
      "text/plain": [
       "HBox(children=(FloatProgress(value=0.0, description='Training', layout=Layout(flex='2'), max=2.0, style=Progre…"
      ]
     },
     "metadata": {},
     "output_type": "display_data"
    },
    {
     "name": "stdout",
     "output_type": "stream",
     "text": [
      "Epoch 1/2\n"
     ]
    },
    {
     "data": {
      "application/vnd.jupyter.widget-view+json": {
       "model_id": "58d49b614b0a4c0d9bbb691fbb7e5c97",
       "version_major": 2,
       "version_minor": 0
      },
      "text/plain": [
       "HBox(children=(FloatProgress(value=0.0, layout=Layout(flex='2'), max=20.0), HTML(value='')), layout=Layout(dis…"
      ]
     },
     "metadata": {},
     "output_type": "display_data"
    },
    {
     "name": "stdout",
     "output_type": "stream",
     "text": [
      "\n",
      "Epoch 2/2\n"
     ]
    },
    {
     "data": {
      "application/vnd.jupyter.widget-view+json": {
       "model_id": "e8dea50e0f3d44a59482a9657a136b1f",
       "version_major": 2,
       "version_minor": 0
      },
      "text/plain": [
       "HBox(children=(FloatProgress(value=0.0, layout=Layout(flex='2'), max=20.0), HTML(value='')), layout=Layout(dis…"
      ]
     },
     "metadata": {},
     "output_type": "display_data"
    },
    {
     "name": "stdout",
     "output_type": "stream",
     "text": [
      "\n",
      "\n",
      "CPU times: user 44 s, sys: 11.3 s, total: 55.4 s\n",
      "Wall time: 32.4 s\n"
     ]
    },
    {
     "data": {
      "text/plain": [
       "<tensorflow.python.keras.callbacks.History at 0x7f4144262278>"
      ]
     },
     "execution_count": 10,
     "metadata": {},
     "output_type": "execute_result"
    }
   ],
   "source": [
    "# %%time\n",
    "# model.fit(\n",
    "#     im_ds_train, \n",
    "#     steps_per_epoch=200, \n",
    "# #     steps_per_epoch=5, \n",
    "#     epochs=n_epochs,\n",
    "#     validation_data=im_ds_val,\n",
    "# #     validation_steps=int(validation_split * n_samples_train / batch_size),\n",
    "#     validation_steps=1,\n",
    "#     verbose=0,\n",
    "# #     callbacks=[tqdm_cb, tboard_cback, chkpt_cback, norm_cback, lrate_cback],\n",
    "#     callbacks=[tqdm_cb, norm_cback, lrate_cback],\n",
    "# #     callbacks=[tqdm_cb, tboard_cback, chkpt_cback, tboard_image_cback, norm_cback, lrate_cback],\n",
    "#     shuffle=False,\n",
    "# )"
   ]
  },
  {
   "cell_type": "code",
   "execution_count": 11,
   "metadata": {
    "scrolled": true
   },
   "outputs": [],
   "source": [
    "%%time\n",
    "# overfitting trials\n",
    "data = next(iter(im_ds_train))\n",
    "val_data = next(iter(im_ds_val))\n",
    "model.fit(\n",
    "    x=data[0], \n",
    "    y=data[1], \n",
    "#     validation_data=val_data, \n",
    "    batch_size=1, \n",
    "#     callbacks=[tqdm_cb, tboard_cback, tboard_image_cback, norm_cback, lrate_cback],\n",
    "    callbacks=[tqdm_cb, tboard_cback, lrate_cback],\n",
    "    epochs=n_epochs, \n",
    "    verbose=2, \n",
    "    shuffle=False,\n",
    ")"
   ]
  },
  {
   "cell_type": "code",
   "execution_count": null,
   "metadata": {
    "cell_style": "split"
   },
   "outputs": [],
   "source": []
  }
 ],
 "metadata": {
  "kernelspec": {
   "display_name": "Python 3",
   "language": "python",
   "name": "python3"
  },
  "language_info": {
   "codemirror_mode": {
    "name": "ipython",
    "version": 3
   },
   "file_extension": ".py",
   "mimetype": "text/x-python",
   "name": "python",
   "nbconvert_exporter": "python",
   "pygments_lexer": "ipython3",
   "version": "3.6.7"
  },
  "notify_time": "30"
 },
 "nbformat": 4,
 "nbformat_minor": 2
}

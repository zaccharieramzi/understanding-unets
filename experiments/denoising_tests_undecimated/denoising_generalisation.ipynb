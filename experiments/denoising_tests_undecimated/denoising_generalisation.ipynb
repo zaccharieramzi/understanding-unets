{
 "cells": [
  {
   "cell_type": "code",
   "execution_count": 1,
   "metadata": {},
   "outputs": [
    {
     "name": "stdout",
     "output_type": "stream",
     "text": [
      "/volatile/home/Zaccharie/workspace/understanding-unets\n"
     ]
    }
   ],
   "source": [
    "%cd ../.."
   ]
  },
  {
   "cell_type": "code",
   "execution_count": 2,
   "metadata": {},
   "outputs": [],
   "source": [
    "# # this just to make sure we are using only on CPU\n",
    "# import os\n",
    "# os.environ[\"CUDA_VISIBLE_DEVICES\"]=\"-1\""
   ]
  },
  {
   "cell_type": "code",
   "execution_count": 3,
   "metadata": {},
   "outputs": [
    {
     "name": "stdout",
     "output_type": "stream",
     "text": [
      "\n",
      "                 .|'''|       /.\\      '||'''|,\n",
      "                 ||          // \\\\      ||   ||\n",
      "'||''|, '||  ||` `|'''|,    //...\\\\     ||...|'\n",
      " ||  ||  `|..||   .   ||   //     \\\\    ||\n",
      " ||..|'      ||   |...|' .//       \\\\. .||\n",
      " ||       ,  |'\n",
      ".||        ''\n",
      "\n",
      "Package version: 0.0.3\n",
      "\n",
      "License: CeCILL-B\n",
      "\n",
      "Authors: \n",
      "\n",
      "Antoine Grigis <antoine.grigis@cea.fr>\n",
      "Samuel Farrens <samuel.farrens@cea.fr>\n",
      "Jean-Luc Starck <jl.stark@cea.fr>\n",
      "Philippe Ciuciu <philippe.ciuciu@cea.fr>\n",
      "\n",
      "Dependencies: \n",
      "\n",
      "scipy          : >=1.3.0   - required | 1.4.1     installed\n",
      "numpy          : >=1.16.4  - required | 1.17.4    installed\n",
      "matplotlib     : >=3.0.0   - required | 3.1.2     installed\n",
      "astropy        : >=3.0.0   - required | 3.2.3     installed\n",
      "nibabel        : >=2.3.2   - required | 2.5.1     installed\n",
      "pyqtgraph      : >=0.10.0  - required | 0.10.0    installed\n",
      "progressbar2   : >=3.34.3  - required | ?         installed\n",
      "modopt         : >=1.4.0   - required | 1.4.1     installed\n",
      "scikit-learn   : >=0.19.1  - required | ?         installed\n",
      "pywt           : >=1.0.0   - required | 1.1.1     installed\n",
      "pysparse       : >=0.0.1   - required | 0.1.0     installed\n",
      "\n"
     ]
    }
   ],
   "source": [
    "%load_ext autoreload\n",
    "%autoreload 2\n",
    "import copy\n",
    "import time\n",
    "\n",
    "import numpy as np\n",
    "import pandas as pd\n",
    "from tqdm import tqdm_notebook\n",
    "\n",
    "from learning_wavelets.data.datasets import im_dataset_bsd68\n",
    "from learning_wavelets.models.learnlet_model import Learnlet\n",
    "from learning_wavelets.models.unet import unet\n",
    "from learning_wavelets.utils.metrics import metrics_from_ds, metrics_original_from_ds"
   ]
  },
  {
   "cell_type": "code",
   "execution_count": 4,
   "metadata": {},
   "outputs": [],
   "source": [
    "np.random.seed(0)"
   ]
  },
  {
   "cell_type": "code",
   "execution_count": 5,
   "metadata": {},
   "outputs": [],
   "source": [
    "def build_learnlet_subclassing(**run_params):\n",
    "    model = Learnlet(**run_params)\n",
    "    model.build([[None, None, None, 1], [None, 1]])\n",
    "    return model"
   ]
  },
  {
   "cell_type": "code",
   "execution_count": 6,
   "metadata": {
    "code_folding": []
   },
   "outputs": [],
   "source": [
    "all_net_params = [\n",
    "    {\n",
    "        'name': 'unet-multiple-stds',\n",
    "        'init_function': unet,\n",
    "        'run_params': {\n",
    "            'n_layers': 5, \n",
    "            'pool': 'max', \n",
    "            \"layers_n_channels\": [64, 128, 256, 512, 1024], \n",
    "            'layers_n_non_lins': 2,\n",
    "            'non_relu_contract': False,\n",
    "            'bn': True,\n",
    "            'input_size': (None, None, 1),\n",
    "        },\n",
    "        'run_id': 'unet_dynamic_st_bsd500_0_55_1576668365',\n",
    "        'epoch': 500,\n",
    "    },\n",
    "]\n",
    "\n",
    "dynamic_denoising_net_params = [\n",
    "    {\n",
    "        'name': 'learnlet',\n",
    "        'init_function': build_learnlet_subclassing,\n",
    "        'run_params': {\n",
    "            'denoising_activation': 'dynamic_soft_thresholding',\n",
    "            'learnlet_analysis_kwargs':{\n",
    "                'n_tiling': 64, \n",
    "                'mixing_details': False,    \n",
    "                'skip_connection': True,\n",
    "                'kernel_size': 11,\n",
    "            },\n",
    "            'learnlet_synthesis_kwargs': {\n",
    "                'res': True,\n",
    "                'kernel_size': 13,\n",
    "            },\n",
    "            'threshold_kwargs':{\n",
    "                'noise_std_norm': True,\n",
    "            },\n",
    "            'n_scales': 5,\n",
    "            'exact_reconstruction': True,\n",
    "            'n_reweights_learn': 1,\n",
    "            'undecimated': True,\n",
    "            'clip': False,\n",
    "        },\n",
    "        'run_id': 'learnlet_subclassed_undecimated_64_dynamic_soft_thresholding_bsd500_0.0_55.0_None_1582736369',\n",
    "        'epoch': 500,\n",
    "    },\n",
    "]"
   ]
  },
  {
   "cell_type": "code",
   "execution_count": 7,
   "metadata": {},
   "outputs": [],
   "source": [
    "noise_stds = [0.0001, 5, 15, 20, 25, 30, 50, 55, 60, 75]"
   ]
  },
  {
   "cell_type": "code",
   "execution_count": 8,
   "metadata": {
    "code_folding": [],
    "scrolled": true
   },
   "outputs": [
    {
     "name": "stderr",
     "output_type": "stream",
     "text": [
      "/volatile/home/Zaccharie/workspace/understanding-unets/venv/lib/python3.6/site-packages/ipykernel_launcher.py:3: TqdmDeprecationWarning: This function will be removed in tqdm==5.0.0\n",
      "Please use `tqdm.notebook.tqdm` instead of `tqdm.tqdm_notebook`\n",
      "  This is separate from the ipykernel package so we can avoid doing imports until\n"
     ]
    },
    {
     "data": {
      "application/vnd.jupyter.widget-view+json": {
       "model_id": "19551bac273e4dc9ae6b88468eaa308f",
       "version_major": 2,
       "version_minor": 0
      },
      "text/plain": [
       "HBox(children=(FloatProgress(value=0.0, description='Noise stds', max=10.0, style=ProgressStyle(description_wi…"
      ]
     },
     "metadata": {},
     "output_type": "display_data"
    },
    {
     "data": {
      "application/vnd.jupyter.widget-view+json": {
       "model_id": "e1756040aff7499db6edcebd37d9b56e",
       "version_major": 2,
       "version_minor": 0
      },
      "text/plain": [
       "HBox(children=(FloatProgress(value=1.0, bar_style='info', max=1.0), HTML(value='')))"
      ]
     },
     "metadata": {},
     "output_type": "display_data"
    },
    {
     "name": "stdout",
     "output_type": "stream",
     "text": [
      "\n"
     ]
    },
    {
     "data": {
      "application/vnd.jupyter.widget-view+json": {
       "model_id": "fa8779d1fca64677bd9213e48000a524",
       "version_major": 2,
       "version_minor": 0
      },
      "text/plain": [
       "HBox(children=(FloatProgress(value=0.0, description='Stats for unet-multiple-stds', max=68.0, style=ProgressSt…"
      ]
     },
     "metadata": {},
     "output_type": "display_data"
    },
    {
     "name": "stderr",
     "output_type": "stream",
     "text": [
      "/volatile/home/Zaccharie/workspace/understanding-unets/learning_wavelets/evaluate.py:34: UserWarning: DEPRECATED: skimage.measure.compare_psnr has been moved to skimage.metrics.peak_signal_noise_ratio. It will be removed from skimage.measure in version 0.18.\n",
      "  return compare_psnr(gt, pred, data_range=1)\n",
      "/volatile/home/Zaccharie/workspace/understanding-unets/learning_wavelets/evaluate.py:43: UserWarning: DEPRECATED: skimage.measure.compare_ssim has been moved to skimage.metrics.structural_similarity. It will be removed from skimage.measure in version 0.18.\n",
      "  gt, pred, multichannel=True, data_range=1\n"
     ]
    },
    {
     "name": "stdout",
     "output_type": "stream",
     "text": [
      "\n"
     ]
    },
    {
     "data": {
      "application/vnd.jupyter.widget-view+json": {
       "model_id": "06444dc805ec4387be87af1b1f0e6bd0",
       "version_major": 2,
       "version_minor": 0
      },
      "text/plain": [
       "HBox(children=(FloatProgress(value=1.0, bar_style='info', max=1.0), HTML(value='')))"
      ]
     },
     "metadata": {},
     "output_type": "display_data"
    },
    {
     "name": "stdout",
     "output_type": "stream",
     "text": [
      "\n"
     ]
    },
    {
     "data": {
      "application/vnd.jupyter.widget-view+json": {
       "model_id": "b5fce185b13b4b8c805ca4505cc172fa",
       "version_major": 2,
       "version_minor": 0
      },
      "text/plain": [
       "HBox(children=(FloatProgress(value=0.0, description='Stats for original noisy images', max=68.0, style=Progres…"
      ]
     },
     "metadata": {},
     "output_type": "display_data"
    },
    {
     "name": "stdout",
     "output_type": "stream",
     "text": [
      "\n"
     ]
    },
    {
     "data": {
      "application/vnd.jupyter.widget-view+json": {
       "model_id": "e2c04168a1144eb1822ae8c9895e31cf",
       "version_major": 2,
       "version_minor": 0
      },
      "text/plain": [
       "HBox(children=(FloatProgress(value=1.0, bar_style='info', max=1.0), HTML(value='')))"
      ]
     },
     "metadata": {},
     "output_type": "display_data"
    },
    {
     "name": "stdout",
     "output_type": "stream",
     "text": [
      "\n"
     ]
    },
    {
     "data": {
      "application/vnd.jupyter.widget-view+json": {
       "model_id": "88ce3340d81042549a84b338b5eddf2a",
       "version_major": 2,
       "version_minor": 0
      },
      "text/plain": [
       "HBox(children=(FloatProgress(value=0.0, description='Stats for learnlet', max=68.0, style=ProgressStyle(descri…"
      ]
     },
     "metadata": {},
     "output_type": "display_data"
    },
    {
     "name": "stdout",
     "output_type": "stream",
     "text": [
      "\n"
     ]
    },
    {
     "data": {
      "application/vnd.jupyter.widget-view+json": {
       "model_id": "6b595852aba54b32ad39df96d3cd9953",
       "version_major": 2,
       "version_minor": 0
      },
      "text/plain": [
       "HBox(children=(FloatProgress(value=1.0, bar_style='info', max=1.0), HTML(value='')))"
      ]
     },
     "metadata": {},
     "output_type": "display_data"
    },
    {
     "name": "stdout",
     "output_type": "stream",
     "text": [
      "\n"
     ]
    },
    {
     "data": {
      "application/vnd.jupyter.widget-view+json": {
       "model_id": "2937de2d55c64cb99bfc4178d0218d2f",
       "version_major": 2,
       "version_minor": 0
      },
      "text/plain": [
       "HBox(children=(FloatProgress(value=0.0, description='Stats for unet-multiple-stds', max=68.0, style=ProgressSt…"
      ]
     },
     "metadata": {},
     "output_type": "display_data"
    },
    {
     "name": "stdout",
     "output_type": "stream",
     "text": [
      "\n"
     ]
    },
    {
     "data": {
      "application/vnd.jupyter.widget-view+json": {
       "model_id": "06fcddf9f34040799e3ceb15440526a2",
       "version_major": 2,
       "version_minor": 0
      },
      "text/plain": [
       "HBox(children=(FloatProgress(value=1.0, bar_style='info', max=1.0), HTML(value='')))"
      ]
     },
     "metadata": {},
     "output_type": "display_data"
    },
    {
     "name": "stdout",
     "output_type": "stream",
     "text": [
      "\n"
     ]
    },
    {
     "data": {
      "application/vnd.jupyter.widget-view+json": {
       "model_id": "73468898a12e4e518330cc5effdd1867",
       "version_major": 2,
       "version_minor": 0
      },
      "text/plain": [
       "HBox(children=(FloatProgress(value=0.0, description='Stats for original noisy images', max=68.0, style=Progres…"
      ]
     },
     "metadata": {},
     "output_type": "display_data"
    },
    {
     "name": "stdout",
     "output_type": "stream",
     "text": [
      "\n"
     ]
    },
    {
     "data": {
      "application/vnd.jupyter.widget-view+json": {
       "model_id": "7381cfd4e124441c89e74cb744aeb1c0",
       "version_major": 2,
       "version_minor": 0
      },
      "text/plain": [
       "HBox(children=(FloatProgress(value=1.0, bar_style='info', max=1.0), HTML(value='')))"
      ]
     },
     "metadata": {},
     "output_type": "display_data"
    },
    {
     "name": "stdout",
     "output_type": "stream",
     "text": [
      "\n"
     ]
    },
    {
     "data": {
      "application/vnd.jupyter.widget-view+json": {
       "model_id": "a60ba37cd4df4abd9cd0256099b14478",
       "version_major": 2,
       "version_minor": 0
      },
      "text/plain": [
       "HBox(children=(FloatProgress(value=0.0, description='Stats for learnlet', max=68.0, style=ProgressStyle(descri…"
      ]
     },
     "metadata": {},
     "output_type": "display_data"
    },
    {
     "name": "stdout",
     "output_type": "stream",
     "text": [
      "\n"
     ]
    },
    {
     "data": {
      "application/vnd.jupyter.widget-view+json": {
       "model_id": "ef049a4dc0e047afb76e226e6ac54d29",
       "version_major": 2,
       "version_minor": 0
      },
      "text/plain": [
       "HBox(children=(FloatProgress(value=1.0, bar_style='info', max=1.0), HTML(value='')))"
      ]
     },
     "metadata": {},
     "output_type": "display_data"
    },
    {
     "name": "stdout",
     "output_type": "stream",
     "text": [
      "\n"
     ]
    },
    {
     "data": {
      "application/vnd.jupyter.widget-view+json": {
       "model_id": "dd1ded73f35e4c04a5235a4f9a3b0b19",
       "version_major": 2,
       "version_minor": 0
      },
      "text/plain": [
       "HBox(children=(FloatProgress(value=0.0, description='Stats for unet-multiple-stds', max=68.0, style=ProgressSt…"
      ]
     },
     "metadata": {},
     "output_type": "display_data"
    },
    {
     "name": "stdout",
     "output_type": "stream",
     "text": [
      "\n"
     ]
    },
    {
     "data": {
      "application/vnd.jupyter.widget-view+json": {
       "model_id": "aa2446cba38d4cecb918689642a2ccea",
       "version_major": 2,
       "version_minor": 0
      },
      "text/plain": [
       "HBox(children=(FloatProgress(value=1.0, bar_style='info', max=1.0), HTML(value='')))"
      ]
     },
     "metadata": {},
     "output_type": "display_data"
    },
    {
     "name": "stdout",
     "output_type": "stream",
     "text": [
      "\n"
     ]
    },
    {
     "data": {
      "application/vnd.jupyter.widget-view+json": {
       "model_id": "72a56bf28e5d4482af653b0c83ec0509",
       "version_major": 2,
       "version_minor": 0
      },
      "text/plain": [
       "HBox(children=(FloatProgress(value=0.0, description='Stats for original noisy images', max=68.0, style=Progres…"
      ]
     },
     "metadata": {},
     "output_type": "display_data"
    },
    {
     "name": "stdout",
     "output_type": "stream",
     "text": [
      "\n"
     ]
    },
    {
     "data": {
      "application/vnd.jupyter.widget-view+json": {
       "model_id": "0226d230b2ab43829879f6b67da22923",
       "version_major": 2,
       "version_minor": 0
      },
      "text/plain": [
       "HBox(children=(FloatProgress(value=1.0, bar_style='info', max=1.0), HTML(value='')))"
      ]
     },
     "metadata": {},
     "output_type": "display_data"
    },
    {
     "name": "stdout",
     "output_type": "stream",
     "text": [
      "\n"
     ]
    },
    {
     "data": {
      "application/vnd.jupyter.widget-view+json": {
       "model_id": "cbc038193f0c4989b679da8d5c98640b",
       "version_major": 2,
       "version_minor": 0
      },
      "text/plain": [
       "HBox(children=(FloatProgress(value=0.0, description='Stats for learnlet', max=68.0, style=ProgressStyle(descri…"
      ]
     },
     "metadata": {},
     "output_type": "display_data"
    },
    {
     "name": "stdout",
     "output_type": "stream",
     "text": [
      "\n"
     ]
    },
    {
     "data": {
      "application/vnd.jupyter.widget-view+json": {
       "model_id": "fdda90c179a841f89934fdc642279309",
       "version_major": 2,
       "version_minor": 0
      },
      "text/plain": [
       "HBox(children=(FloatProgress(value=1.0, bar_style='info', max=1.0), HTML(value='')))"
      ]
     },
     "metadata": {},
     "output_type": "display_data"
    },
    {
     "name": "stdout",
     "output_type": "stream",
     "text": [
      "\n"
     ]
    },
    {
     "data": {
      "application/vnd.jupyter.widget-view+json": {
       "model_id": "d1d945a7b1e94bc38944728914e7f731",
       "version_major": 2,
       "version_minor": 0
      },
      "text/plain": [
       "HBox(children=(FloatProgress(value=0.0, description='Stats for unet-multiple-stds', max=68.0, style=ProgressSt…"
      ]
     },
     "metadata": {},
     "output_type": "display_data"
    },
    {
     "name": "stdout",
     "output_type": "stream",
     "text": [
      "\n"
     ]
    },
    {
     "data": {
      "application/vnd.jupyter.widget-view+json": {
       "model_id": "47af36bd8c7b4ac2a4e3db2adbac191a",
       "version_major": 2,
       "version_minor": 0
      },
      "text/plain": [
       "HBox(children=(FloatProgress(value=1.0, bar_style='info', max=1.0), HTML(value='')))"
      ]
     },
     "metadata": {},
     "output_type": "display_data"
    },
    {
     "name": "stdout",
     "output_type": "stream",
     "text": [
      "\n"
     ]
    },
    {
     "data": {
      "application/vnd.jupyter.widget-view+json": {
       "model_id": "72069535124841a4a471697dd240decf",
       "version_major": 2,
       "version_minor": 0
      },
      "text/plain": [
       "HBox(children=(FloatProgress(value=0.0, description='Stats for original noisy images', max=68.0, style=Progres…"
      ]
     },
     "metadata": {},
     "output_type": "display_data"
    },
    {
     "name": "stdout",
     "output_type": "stream",
     "text": [
      "\n"
     ]
    },
    {
     "data": {
      "application/vnd.jupyter.widget-view+json": {
       "model_id": "a0845d378aae40888dd69e73b3583aea",
       "version_major": 2,
       "version_minor": 0
      },
      "text/plain": [
       "HBox(children=(FloatProgress(value=1.0, bar_style='info', max=1.0), HTML(value='')))"
      ]
     },
     "metadata": {},
     "output_type": "display_data"
    },
    {
     "name": "stdout",
     "output_type": "stream",
     "text": [
      "\n"
     ]
    },
    {
     "data": {
      "application/vnd.jupyter.widget-view+json": {
       "model_id": "8b89d42b7df94843857fced23f4a29fd",
       "version_major": 2,
       "version_minor": 0
      },
      "text/plain": [
       "HBox(children=(FloatProgress(value=0.0, description='Stats for learnlet', max=68.0, style=ProgressStyle(descri…"
      ]
     },
     "metadata": {},
     "output_type": "display_data"
    },
    {
     "name": "stdout",
     "output_type": "stream",
     "text": [
      "\n"
     ]
    },
    {
     "data": {
      "application/vnd.jupyter.widget-view+json": {
       "model_id": "f6fe486bf31444feb3c6ab6fefe534fc",
       "version_major": 2,
       "version_minor": 0
      },
      "text/plain": [
       "HBox(children=(FloatProgress(value=1.0, bar_style='info', max=1.0), HTML(value='')))"
      ]
     },
     "metadata": {},
     "output_type": "display_data"
    },
    {
     "name": "stdout",
     "output_type": "stream",
     "text": [
      "\n"
     ]
    },
    {
     "data": {
      "application/vnd.jupyter.widget-view+json": {
       "model_id": "de524f49904a4bc384a89727d2eff32c",
       "version_major": 2,
       "version_minor": 0
      },
      "text/plain": [
       "HBox(children=(FloatProgress(value=0.0, description='Stats for unet-multiple-stds', max=68.0, style=ProgressSt…"
      ]
     },
     "metadata": {},
     "output_type": "display_data"
    },
    {
     "name": "stdout",
     "output_type": "stream",
     "text": [
      "\n"
     ]
    },
    {
     "data": {
      "application/vnd.jupyter.widget-view+json": {
       "model_id": "8a147d802af846fb8c8ec39636422be5",
       "version_major": 2,
       "version_minor": 0
      },
      "text/plain": [
       "HBox(children=(FloatProgress(value=1.0, bar_style='info', max=1.0), HTML(value='')))"
      ]
     },
     "metadata": {},
     "output_type": "display_data"
    },
    {
     "name": "stdout",
     "output_type": "stream",
     "text": [
      "\n"
     ]
    },
    {
     "data": {
      "application/vnd.jupyter.widget-view+json": {
       "model_id": "4d830d1bdf6c4739b261f9690b1caaf5",
       "version_major": 2,
       "version_minor": 0
      },
      "text/plain": [
       "HBox(children=(FloatProgress(value=0.0, description='Stats for original noisy images', max=68.0, style=Progres…"
      ]
     },
     "metadata": {},
     "output_type": "display_data"
    },
    {
     "name": "stdout",
     "output_type": "stream",
     "text": [
      "\n"
     ]
    },
    {
     "data": {
      "application/vnd.jupyter.widget-view+json": {
       "model_id": "837d7a7c7f9e46718c62c4a28920cd4f",
       "version_major": 2,
       "version_minor": 0
      },
      "text/plain": [
       "HBox(children=(FloatProgress(value=1.0, bar_style='info', max=1.0), HTML(value='')))"
      ]
     },
     "metadata": {},
     "output_type": "display_data"
    },
    {
     "name": "stdout",
     "output_type": "stream",
     "text": [
      "\n"
     ]
    },
    {
     "data": {
      "application/vnd.jupyter.widget-view+json": {
       "model_id": "95871d48d4654cadae2a9f7dd070626d",
       "version_major": 2,
       "version_minor": 0
      },
      "text/plain": [
       "HBox(children=(FloatProgress(value=0.0, description='Stats for learnlet', max=68.0, style=ProgressStyle(descri…"
      ]
     },
     "metadata": {},
     "output_type": "display_data"
    },
    {
     "name": "stdout",
     "output_type": "stream",
     "text": [
      "\n"
     ]
    },
    {
     "data": {
      "application/vnd.jupyter.widget-view+json": {
       "model_id": "fbc11421a7f34013bae4ea8ead6e3112",
       "version_major": 2,
       "version_minor": 0
      },
      "text/plain": [
       "HBox(children=(FloatProgress(value=1.0, bar_style='info', max=1.0), HTML(value='')))"
      ]
     },
     "metadata": {},
     "output_type": "display_data"
    },
    {
     "name": "stdout",
     "output_type": "stream",
     "text": [
      "\n"
     ]
    },
    {
     "data": {
      "application/vnd.jupyter.widget-view+json": {
       "model_id": "a57d736fabab4948a6805eca3e596400",
       "version_major": 2,
       "version_minor": 0
      },
      "text/plain": [
       "HBox(children=(FloatProgress(value=0.0, description='Stats for unet-multiple-stds', max=68.0, style=ProgressSt…"
      ]
     },
     "metadata": {},
     "output_type": "display_data"
    },
    {
     "name": "stdout",
     "output_type": "stream",
     "text": [
      "\n"
     ]
    },
    {
     "data": {
      "application/vnd.jupyter.widget-view+json": {
       "model_id": "6567acb36774468fa2ea9f820f943b23",
       "version_major": 2,
       "version_minor": 0
      },
      "text/plain": [
       "HBox(children=(FloatProgress(value=1.0, bar_style='info', max=1.0), HTML(value='')))"
      ]
     },
     "metadata": {},
     "output_type": "display_data"
    },
    {
     "name": "stdout",
     "output_type": "stream",
     "text": [
      "\n"
     ]
    },
    {
     "data": {
      "application/vnd.jupyter.widget-view+json": {
       "model_id": "c74d7b02793849cda33aaa38ba1d8d38",
       "version_major": 2,
       "version_minor": 0
      },
      "text/plain": [
       "HBox(children=(FloatProgress(value=0.0, description='Stats for original noisy images', max=68.0, style=Progres…"
      ]
     },
     "metadata": {},
     "output_type": "display_data"
    },
    {
     "name": "stdout",
     "output_type": "stream",
     "text": [
      "\n"
     ]
    },
    {
     "data": {
      "application/vnd.jupyter.widget-view+json": {
       "model_id": "ba7a3542177849849e6cee015e59f22c",
       "version_major": 2,
       "version_minor": 0
      },
      "text/plain": [
       "HBox(children=(FloatProgress(value=1.0, bar_style='info', max=1.0), HTML(value='')))"
      ]
     },
     "metadata": {},
     "output_type": "display_data"
    },
    {
     "name": "stdout",
     "output_type": "stream",
     "text": [
      "\n"
     ]
    },
    {
     "data": {
      "application/vnd.jupyter.widget-view+json": {
       "model_id": "55e574fe55024260b16b0ae4416fd86c",
       "version_major": 2,
       "version_minor": 0
      },
      "text/plain": [
       "HBox(children=(FloatProgress(value=0.0, description='Stats for learnlet', max=68.0, style=ProgressStyle(descri…"
      ]
     },
     "metadata": {},
     "output_type": "display_data"
    },
    {
     "name": "stdout",
     "output_type": "stream",
     "text": [
      "\n"
     ]
    },
    {
     "data": {
      "application/vnd.jupyter.widget-view+json": {
       "model_id": "eb567df2ba2b455da41b2790f70b688d",
       "version_major": 2,
       "version_minor": 0
      },
      "text/plain": [
       "HBox(children=(FloatProgress(value=1.0, bar_style='info', max=1.0), HTML(value='')))"
      ]
     },
     "metadata": {},
     "output_type": "display_data"
    },
    {
     "name": "stdout",
     "output_type": "stream",
     "text": [
      "\n"
     ]
    },
    {
     "data": {
      "application/vnd.jupyter.widget-view+json": {
       "model_id": "74c8be55e06c4f99bb36fbbf9ee39eec",
       "version_major": 2,
       "version_minor": 0
      },
      "text/plain": [
       "HBox(children=(FloatProgress(value=0.0, description='Stats for unet-multiple-stds', max=68.0, style=ProgressSt…"
      ]
     },
     "metadata": {},
     "output_type": "display_data"
    },
    {
     "name": "stdout",
     "output_type": "stream",
     "text": [
      "\n"
     ]
    },
    {
     "data": {
      "application/vnd.jupyter.widget-view+json": {
       "model_id": "b14309e890a94d4a9fc5b1938cb55b2a",
       "version_major": 2,
       "version_minor": 0
      },
      "text/plain": [
       "HBox(children=(FloatProgress(value=1.0, bar_style='info', max=1.0), HTML(value='')))"
      ]
     },
     "metadata": {},
     "output_type": "display_data"
    },
    {
     "name": "stdout",
     "output_type": "stream",
     "text": [
      "\n"
     ]
    },
    {
     "data": {
      "application/vnd.jupyter.widget-view+json": {
       "model_id": "e0159dfde45d4f08b5d02db622edd620",
       "version_major": 2,
       "version_minor": 0
      },
      "text/plain": [
       "HBox(children=(FloatProgress(value=0.0, description='Stats for original noisy images', max=68.0, style=Progres…"
      ]
     },
     "metadata": {},
     "output_type": "display_data"
    },
    {
     "name": "stdout",
     "output_type": "stream",
     "text": [
      "\n"
     ]
    },
    {
     "data": {
      "application/vnd.jupyter.widget-view+json": {
       "model_id": "ffba7a14d791492dadff54317622d9c3",
       "version_major": 2,
       "version_minor": 0
      },
      "text/plain": [
       "HBox(children=(FloatProgress(value=1.0, bar_style='info', max=1.0), HTML(value='')))"
      ]
     },
     "metadata": {},
     "output_type": "display_data"
    },
    {
     "name": "stdout",
     "output_type": "stream",
     "text": [
      "\n"
     ]
    },
    {
     "data": {
      "application/vnd.jupyter.widget-view+json": {
       "model_id": "887d671198bf40baba3dd70c0cc16100",
       "version_major": 2,
       "version_minor": 0
      },
      "text/plain": [
       "HBox(children=(FloatProgress(value=0.0, description='Stats for learnlet', max=68.0, style=ProgressStyle(descri…"
      ]
     },
     "metadata": {},
     "output_type": "display_data"
    },
    {
     "name": "stdout",
     "output_type": "stream",
     "text": [
      "\n"
     ]
    },
    {
     "data": {
      "application/vnd.jupyter.widget-view+json": {
       "model_id": "abe814503d8b4f59bf0ede832e05cc04",
       "version_major": 2,
       "version_minor": 0
      },
      "text/plain": [
       "HBox(children=(FloatProgress(value=1.0, bar_style='info', max=1.0), HTML(value='')))"
      ]
     },
     "metadata": {},
     "output_type": "display_data"
    },
    {
     "name": "stdout",
     "output_type": "stream",
     "text": [
      "\n"
     ]
    },
    {
     "data": {
      "application/vnd.jupyter.widget-view+json": {
       "model_id": "c4ec9edbbade468897f26e5c58bb7de2",
       "version_major": 2,
       "version_minor": 0
      },
      "text/plain": [
       "HBox(children=(FloatProgress(value=0.0, description='Stats for unet-multiple-stds', max=68.0, style=ProgressSt…"
      ]
     },
     "metadata": {},
     "output_type": "display_data"
    },
    {
     "name": "stdout",
     "output_type": "stream",
     "text": [
      "\n"
     ]
    },
    {
     "data": {
      "application/vnd.jupyter.widget-view+json": {
       "model_id": "2b9b5f142ab0464cbc7cf88cae138e45",
       "version_major": 2,
       "version_minor": 0
      },
      "text/plain": [
       "HBox(children=(FloatProgress(value=1.0, bar_style='info', max=1.0), HTML(value='')))"
      ]
     },
     "metadata": {},
     "output_type": "display_data"
    },
    {
     "name": "stdout",
     "output_type": "stream",
     "text": [
      "\n"
     ]
    },
    {
     "data": {
      "application/vnd.jupyter.widget-view+json": {
       "model_id": "0a445fc9947d49d3bda19abfce75d065",
       "version_major": 2,
       "version_minor": 0
      },
      "text/plain": [
       "HBox(children=(FloatProgress(value=0.0, description='Stats for original noisy images', max=68.0, style=Progres…"
      ]
     },
     "metadata": {},
     "output_type": "display_data"
    },
    {
     "name": "stdout",
     "output_type": "stream",
     "text": [
      "\n"
     ]
    },
    {
     "data": {
      "application/vnd.jupyter.widget-view+json": {
       "model_id": "3f02c6bbb61540209b98c1a46b5c73bb",
       "version_major": 2,
       "version_minor": 0
      },
      "text/plain": [
       "HBox(children=(FloatProgress(value=1.0, bar_style='info', max=1.0), HTML(value='')))"
      ]
     },
     "metadata": {},
     "output_type": "display_data"
    },
    {
     "name": "stdout",
     "output_type": "stream",
     "text": [
      "\n"
     ]
    },
    {
     "data": {
      "application/vnd.jupyter.widget-view+json": {
       "model_id": "88587f6654244b1895cd819f46c0a554",
       "version_major": 2,
       "version_minor": 0
      },
      "text/plain": [
       "HBox(children=(FloatProgress(value=0.0, description='Stats for learnlet', max=68.0, style=ProgressStyle(descri…"
      ]
     },
     "metadata": {},
     "output_type": "display_data"
    },
    {
     "name": "stdout",
     "output_type": "stream",
     "text": [
      "\n"
     ]
    },
    {
     "data": {
      "application/vnd.jupyter.widget-view+json": {
       "model_id": "724d7f42c4784b23874ddac83cb4619c",
       "version_major": 2,
       "version_minor": 0
      },
      "text/plain": [
       "HBox(children=(FloatProgress(value=1.0, bar_style='info', max=1.0), HTML(value='')))"
      ]
     },
     "metadata": {},
     "output_type": "display_data"
    },
    {
     "name": "stdout",
     "output_type": "stream",
     "text": [
      "\n"
     ]
    },
    {
     "data": {
      "application/vnd.jupyter.widget-view+json": {
       "model_id": "779b21cf586f4128a8a94d196451fcca",
       "version_major": 2,
       "version_minor": 0
      },
      "text/plain": [
       "HBox(children=(FloatProgress(value=0.0, description='Stats for unet-multiple-stds', max=68.0, style=ProgressSt…"
      ]
     },
     "metadata": {},
     "output_type": "display_data"
    },
    {
     "name": "stdout",
     "output_type": "stream",
     "text": [
      "\n"
     ]
    },
    {
     "data": {
      "application/vnd.jupyter.widget-view+json": {
       "model_id": "2653a45b18744e33bbd038e39cec0d9c",
       "version_major": 2,
       "version_minor": 0
      },
      "text/plain": [
       "HBox(children=(FloatProgress(value=1.0, bar_style='info', max=1.0), HTML(value='')))"
      ]
     },
     "metadata": {},
     "output_type": "display_data"
    },
    {
     "name": "stdout",
     "output_type": "stream",
     "text": [
      "\n"
     ]
    },
    {
     "data": {
      "application/vnd.jupyter.widget-view+json": {
       "model_id": "948a33f111f141229e45dea23c1cad85",
       "version_major": 2,
       "version_minor": 0
      },
      "text/plain": [
       "HBox(children=(FloatProgress(value=0.0, description='Stats for original noisy images', max=68.0, style=Progres…"
      ]
     },
     "metadata": {},
     "output_type": "display_data"
    },
    {
     "name": "stdout",
     "output_type": "stream",
     "text": [
      "\n"
     ]
    },
    {
     "data": {
      "application/vnd.jupyter.widget-view+json": {
       "model_id": "dd74f628df034ca282ca701697e365f6",
       "version_major": 2,
       "version_minor": 0
      },
      "text/plain": [
       "HBox(children=(FloatProgress(value=1.0, bar_style='info', max=1.0), HTML(value='')))"
      ]
     },
     "metadata": {},
     "output_type": "display_data"
    },
    {
     "name": "stdout",
     "output_type": "stream",
     "text": [
      "\n"
     ]
    },
    {
     "data": {
      "application/vnd.jupyter.widget-view+json": {
       "model_id": "8416e73cf4e9430889784fa8df611a96",
       "version_major": 2,
       "version_minor": 0
      },
      "text/plain": [
       "HBox(children=(FloatProgress(value=0.0, description='Stats for learnlet', max=68.0, style=ProgressStyle(descri…"
      ]
     },
     "metadata": {},
     "output_type": "display_data"
    },
    {
     "name": "stdout",
     "output_type": "stream",
     "text": [
      "\n"
     ]
    },
    {
     "data": {
      "application/vnd.jupyter.widget-view+json": {
       "model_id": "e39fa00236774b3dbce3d32ad28ed353",
       "version_major": 2,
       "version_minor": 0
      },
      "text/plain": [
       "HBox(children=(FloatProgress(value=1.0, bar_style='info', max=1.0), HTML(value='')))"
      ]
     },
     "metadata": {},
     "output_type": "display_data"
    },
    {
     "name": "stdout",
     "output_type": "stream",
     "text": [
      "\n"
     ]
    },
    {
     "data": {
      "application/vnd.jupyter.widget-view+json": {
       "model_id": "e5ad4e20fc4346419cdffbdb5e032eb5",
       "version_major": 2,
       "version_minor": 0
      },
      "text/plain": [
       "HBox(children=(FloatProgress(value=0.0, description='Stats for unet-multiple-stds', max=68.0, style=ProgressSt…"
      ]
     },
     "metadata": {},
     "output_type": "display_data"
    },
    {
     "name": "stdout",
     "output_type": "stream",
     "text": [
      "\n"
     ]
    },
    {
     "data": {
      "application/vnd.jupyter.widget-view+json": {
       "model_id": "b3b854353cfa4a1fa9a8db4c80718626",
       "version_major": 2,
       "version_minor": 0
      },
      "text/plain": [
       "HBox(children=(FloatProgress(value=1.0, bar_style='info', max=1.0), HTML(value='')))"
      ]
     },
     "metadata": {},
     "output_type": "display_data"
    },
    {
     "name": "stdout",
     "output_type": "stream",
     "text": [
      "\n"
     ]
    },
    {
     "data": {
      "application/vnd.jupyter.widget-view+json": {
       "model_id": "772ffc7a636a448a85f9c3f178d38249",
       "version_major": 2,
       "version_minor": 0
      },
      "text/plain": [
       "HBox(children=(FloatProgress(value=0.0, description='Stats for original noisy images', max=68.0, style=Progres…"
      ]
     },
     "metadata": {},
     "output_type": "display_data"
    },
    {
     "name": "stdout",
     "output_type": "stream",
     "text": [
      "\n"
     ]
    },
    {
     "data": {
      "application/vnd.jupyter.widget-view+json": {
       "model_id": "42d4bfc87c884de1afc04aad9a4a0e9c",
       "version_major": 2,
       "version_minor": 0
      },
      "text/plain": [
       "HBox(children=(FloatProgress(value=1.0, bar_style='info', max=1.0), HTML(value='')))"
      ]
     },
     "metadata": {},
     "output_type": "display_data"
    },
    {
     "name": "stdout",
     "output_type": "stream",
     "text": [
      "\n"
     ]
    },
    {
     "data": {
      "application/vnd.jupyter.widget-view+json": {
       "model_id": "2ffefc060bf042378f3b08d1d8589dff",
       "version_major": 2,
       "version_minor": 0
      },
      "text/plain": [
       "HBox(children=(FloatProgress(value=0.0, description='Stats for learnlet', max=68.0, style=ProgressStyle(descri…"
      ]
     },
     "metadata": {},
     "output_type": "display_data"
    },
    {
     "name": "stdout",
     "output_type": "stream",
     "text": [
      "\n",
      "\n"
     ]
    }
   ],
   "source": [
    "noise_std_metrics = {}\n",
    "n_samples = None\n",
    "for noise_std in tqdm_notebook(noise_stds, 'Noise stds'):\n",
    "    metrics = []\n",
    "    for net_params in all_net_params:\n",
    "        im_ds = im_dataset_bsd68(\n",
    "            mode='testing', \n",
    "            batch_size=1, \n",
    "            patch_size=None, \n",
    "            noise_std=noise_std, \n",
    "            return_noise_level=False,\n",
    "            n_pooling=5,\n",
    "            n_samples=n_samples,\n",
    "        )\n",
    "        metrics.append((net_params['name'], metrics_from_ds(im_ds, **net_params)))\n",
    "    im_ds = im_dataset_bsd68(\n",
    "        mode='testing', \n",
    "        batch_size=1, \n",
    "        patch_size=None, \n",
    "        noise_std=noise_std, \n",
    "        return_noise_level=False,\n",
    "        n_pooling=5,\n",
    "        n_samples=n_samples,\n",
    "    )\n",
    "    metrics.append(('original', metrics_original_from_ds(im_ds)))\n",
    "        \n",
    "    for net_params in dynamic_denoising_net_params:\n",
    "        im_ds = im_dataset_bsd68(\n",
    "            mode='testing', \n",
    "            batch_size=1, \n",
    "            patch_size=None, \n",
    "            noise_std=noise_std, \n",
    "            return_noise_level=True,\n",
    "            n_pooling=5,\n",
    "            n_samples=n_samples,\n",
    "        )\n",
    "        metrics.append((net_params['name'], metrics_from_ds(im_ds, **net_params)))\n",
    "\n",
    "\n",
    "    noise_std_metrics[noise_std] = metrics"
   ]
  },
  {
   "cell_type": "code",
   "execution_count": 9,
   "metadata": {},
   "outputs": [],
   "source": [
    "noise_std_metrics;"
   ]
  },
  {
   "cell_type": "code",
   "execution_count": 10,
   "metadata": {},
   "outputs": [],
   "source": [
    "BM3D_psnr_results = {\n",
    "    0.0001: 127.1,\n",
    "    5: 37.57,\n",
    "    15: 31.07,\n",
    "    20: 29.60,\n",
    "    25: 28.57,\n",
    "    30: 27.74,\n",
    "    50: 25.62,\n",
    "    75: 24.21,\n",
    "}\n",
    "\n",
    "wavelets_psnr_results = {\n",
    "    0.0001: (127.3,  0.3614),\n",
    "    5: (35.76,  1.937),\n",
    "    15: (29.56,  2.553),\n",
    "    20: (28.25,  2.645),\n",
    "    25: (27.32,  2.684),\n",
    "    30: (26.61,  2.694),\n",
    "    50: (24.79,  2.673),\n",
    "    75: (23.46,  2.574),\n",
    "}"
   ]
  },
  {
   "cell_type": "code",
   "execution_count": 11,
   "metadata": {},
   "outputs": [
    {
     "data": {
      "text/html": [
       "<div>\n",
       "<style scoped>\n",
       "    .dataframe tbody tr th:only-of-type {\n",
       "        vertical-align: middle;\n",
       "    }\n",
       "\n",
       "    .dataframe tbody tr th {\n",
       "        vertical-align: top;\n",
       "    }\n",
       "\n",
       "    .dataframe thead th {\n",
       "        text-align: right;\n",
       "    }\n",
       "</style>\n",
       "<table border=\"1\" class=\"dataframe\">\n",
       "  <thead>\n",
       "    <tr style=\"text-align: right;\">\n",
       "      <th></th>\n",
       "      <th>noise_std</th>\n",
       "      <th>unet-multiple-stds</th>\n",
       "      <th>learnlet</th>\n",
       "      <th>original</th>\n",
       "      <th>wavelets_24</th>\n",
       "      <th>bm3d</th>\n",
       "    </tr>\n",
       "  </thead>\n",
       "  <tbody>\n",
       "    <tr>\n",
       "      <th>0</th>\n",
       "      <td>0.0001</td>\n",
       "      <td>51.88 (3.037)</td>\n",
       "      <td>125.6 (0.3312)</td>\n",
       "      <td>128.1 (0.01554)</td>\n",
       "      <td>NaN</td>\n",
       "      <td>127.1</td>\n",
       "    </tr>\n",
       "    <tr>\n",
       "      <th>1</th>\n",
       "      <td>5</td>\n",
       "      <td>37.61 (1.847)</td>\n",
       "      <td>36.64 (1.97)</td>\n",
       "      <td>34.15 (0.01466)</td>\n",
       "      <td>NaN</td>\n",
       "      <td>37.57</td>\n",
       "    </tr>\n",
       "    <tr>\n",
       "      <th>2</th>\n",
       "      <td>15</td>\n",
       "      <td>31.59 (2.445)</td>\n",
       "      <td>30.87 (2.427)</td>\n",
       "      <td>24.61 (0.01656)</td>\n",
       "      <td>NaN</td>\n",
       "      <td>31.07</td>\n",
       "    </tr>\n",
       "    <tr>\n",
       "      <th>3</th>\n",
       "      <td>20</td>\n",
       "      <td>30.21 (2.559)</td>\n",
       "      <td>29.54 (2.479)</td>\n",
       "      <td>22.11 (0.01514)</td>\n",
       "      <td>NaN</td>\n",
       "      <td>29.6</td>\n",
       "    </tr>\n",
       "    <tr>\n",
       "      <th>4</th>\n",
       "      <td>25</td>\n",
       "      <td>29.18 (2.619)</td>\n",
       "      <td>28.54 (2.499)</td>\n",
       "      <td>20.17 (0.01665)</td>\n",
       "      <td>NaN</td>\n",
       "      <td>28.57</td>\n",
       "    </tr>\n",
       "    <tr>\n",
       "      <th>5</th>\n",
       "      <td>30</td>\n",
       "      <td>28.38 (2.666)</td>\n",
       "      <td>27.75 (2.503)</td>\n",
       "      <td>18.59 (0.01658)</td>\n",
       "      <td>NaN</td>\n",
       "      <td>27.74</td>\n",
       "    </tr>\n",
       "    <tr>\n",
       "      <th>6</th>\n",
       "      <td>50</td>\n",
       "      <td>26.27 (2.731)</td>\n",
       "      <td>25.6 (2.417)</td>\n",
       "      <td>14.15 (0.01437)</td>\n",
       "      <td>NaN</td>\n",
       "      <td>25.62</td>\n",
       "    </tr>\n",
       "    <tr>\n",
       "      <th>7</th>\n",
       "      <td>55</td>\n",
       "      <td>25.92 (2.725)</td>\n",
       "      <td>25.21 (2.397)</td>\n",
       "      <td>13.32 (0.01768)</td>\n",
       "      <td>NaN</td>\n",
       "      <td>NaN</td>\n",
       "    </tr>\n",
       "    <tr>\n",
       "      <th>8</th>\n",
       "      <td>60</td>\n",
       "      <td>25.43 (2.661)</td>\n",
       "      <td>24.84 (2.355)</td>\n",
       "      <td>12.57 (0.01527)</td>\n",
       "      <td>NaN</td>\n",
       "      <td>NaN</td>\n",
       "    </tr>\n",
       "    <tr>\n",
       "      <th>9</th>\n",
       "      <td>75</td>\n",
       "      <td>22.3 (1.428)</td>\n",
       "      <td>23.91 (2.238)</td>\n",
       "      <td>10.63 (0.01496)</td>\n",
       "      <td>NaN</td>\n",
       "      <td>24.21</td>\n",
       "    </tr>\n",
       "  </tbody>\n",
       "</table>\n",
       "</div>"
      ],
      "text/plain": [
       "  noise_std unet-multiple-stds        learnlet         original wavelets_24  \\\n",
       "0    0.0001      51.88 (3.037)  125.6 (0.3312)  128.1 (0.01554)         NaN   \n",
       "1         5      37.61 (1.847)    36.64 (1.97)  34.15 (0.01466)         NaN   \n",
       "2        15      31.59 (2.445)   30.87 (2.427)  24.61 (0.01656)         NaN   \n",
       "3        20      30.21 (2.559)   29.54 (2.479)  22.11 (0.01514)         NaN   \n",
       "4        25      29.18 (2.619)   28.54 (2.499)  20.17 (0.01665)         NaN   \n",
       "5        30      28.38 (2.666)   27.75 (2.503)  18.59 (0.01658)         NaN   \n",
       "6        50      26.27 (2.731)    25.6 (2.417)  14.15 (0.01437)         NaN   \n",
       "7        55      25.92 (2.725)   25.21 (2.397)  13.32 (0.01768)         NaN   \n",
       "8        60      25.43 (2.661)   24.84 (2.355)  12.57 (0.01527)         NaN   \n",
       "9        75       22.3 (1.428)   23.91 (2.238)  10.63 (0.01496)         NaN   \n",
       "\n",
       "    bm3d  \n",
       "0  127.1  \n",
       "1  37.57  \n",
       "2  31.07  \n",
       "3   29.6  \n",
       "4  28.57  \n",
       "5  27.74  \n",
       "6  25.62  \n",
       "7    NaN  \n",
       "8    NaN  \n",
       "9  24.21  "
      ]
     },
     "execution_count": 11,
     "metadata": {},
     "output_type": "execute_result"
    }
   ],
   "source": [
    "# PSNR table\n",
    "psnr_metrics_table = pd.DataFrame(\n",
    "    columns=['noise_std'] + [p['name'] for p in all_net_params] + [p['name'] for p in dynamic_denoising_net_params] + ['original', 'wavelets_24', 'bm3d'],\n",
    ")\n",
    "for i, (noise_std, metrics) in enumerate(noise_std_metrics.items()):\n",
    "    psnr_metrics_table.loc[i, 'noise_std'] = noise_std\n",
    "    for name, m in metrics:\n",
    "        psnr_metrics_table.loc[i, name] = \"{mean:.4} ({std:.4})\".format(\n",
    "            mean=m.metrics['PSNR'].mean(), \n",
    "            std=m.metrics['PSNR'].stddev(),\n",
    "        )\n",
    "    psnr_metrics_table.loc[i, 'bm3d'] = BM3D_psnr_results.get(noise_std, np.nan)\n",
    "#     psnr_metrics_table.loc[i, 'wavelets_24'] = \"{mean:.4} ({std:.4})\".format(\n",
    "#         mean=wavelets_psnr_results[noise_std][0], \n",
    "#         std=wavelets_psnr_results[noise_std][1],\n",
    "#     )\n",
    "psnr_metrics_table"
   ]
  },
  {
   "cell_type": "code",
   "execution_count": 12,
   "metadata": {},
   "outputs": [],
   "source": [
    "# SSIM table\n",
    "ssim_metrics_table = pd.DataFrame(\n",
    "    columns=['noise_std'] + [p['name'] for p in all_net_params] + [p['name'] for p in dynamic_denoising_net_params] + ['original', 'wavelets_24', 'bm3d'],\n",
    ")\n",
    "for i, (noise_std, metrics) in enumerate(noise_std_metrics.items()):\n",
    "    ssim_metrics_table.loc[i, 'noise_std'] = noise_std\n",
    "    for name, m in metrics:\n",
    "        ssim_metrics_table.loc[i, name] = \"{mean:.4} ({std:.4})\".format(\n",
    "            mean=m.metrics['SSIM'].mean(), \n",
    "            std=m.metrics['SSIM'].stddev(),\n",
    "        )\n",
    "ssim_metrics_table;"
   ]
  },
  {
   "cell_type": "code",
   "execution_count": 13,
   "metadata": {},
   "outputs": [],
   "source": [
    "%matplotlib nbagg\n",
    "import matplotlib.pyplot as plt\n",
    "import seaborn as sns"
   ]
  },
  {
   "cell_type": "code",
   "execution_count": 14,
   "metadata": {},
   "outputs": [],
   "source": [
    "sns.set(style=\"whitegrid\", palette=\"muted\", rc={'figure.figsize': (9, 5), 'image.cmap': 'gray'})"
   ]
  },
  {
   "cell_type": "code",
   "execution_count": 15,
   "metadata": {
    "scrolled": true
   },
   "outputs": [
    {
     "data": {
      "text/html": [
       "<div>\n",
       "<style scoped>\n",
       "    .dataframe tbody tr th:only-of-type {\n",
       "        vertical-align: middle;\n",
       "    }\n",
       "\n",
       "    .dataframe tbody tr th {\n",
       "        vertical-align: top;\n",
       "    }\n",
       "\n",
       "    .dataframe thead th {\n",
       "        text-align: right;\n",
       "    }\n",
       "</style>\n",
       "<table border=\"1\" class=\"dataframe\">\n",
       "  <thead>\n",
       "    <tr style=\"text-align: right;\">\n",
       "      <th></th>\n",
       "      <th>$\\sigma$</th>\n",
       "      <th>PSNR</th>\n",
       "      <th>model_name</th>\n",
       "      <th>$\\bf{Model}$</th>\n",
       "      <th>$\\bf{Train}$  $\\bf{std}$</th>\n",
       "    </tr>\n",
       "  </thead>\n",
       "  <tbody>\n",
       "    <tr>\n",
       "      <th>0</th>\n",
       "      <td>0.0001</td>\n",
       "      <td>0.404933</td>\n",
       "      <td>unet-multiple-stds</td>\n",
       "      <td>U-net</td>\n",
       "      <td>[0; 55]</td>\n",
       "    </tr>\n",
       "    <tr>\n",
       "      <th>1</th>\n",
       "      <td>0.0001</td>\n",
       "      <td>0.980393</td>\n",
       "      <td>learnlet</td>\n",
       "      <td>Learnlets</td>\n",
       "      <td>[0; 55]</td>\n",
       "    </tr>\n",
       "    <tr>\n",
       "      <th>2</th>\n",
       "      <td>0.0001</td>\n",
       "      <td>0.992004</td>\n",
       "      <td>bm3d</td>\n",
       "      <td>BM3D</td>\n",
       "      <td>[0; 55]</td>\n",
       "    </tr>\n",
       "    <tr>\n",
       "      <th>3</th>\n",
       "      <td>0.0001</td>\n",
       "      <td>0.993565</td>\n",
       "      <td>wavelets_24</td>\n",
       "      <td>Wavelets</td>\n",
       "      <td>[0; 55]</td>\n",
       "    </tr>\n",
       "    <tr>\n",
       "      <th>4</th>\n",
       "      <td>5</td>\n",
       "      <td>1.10139</td>\n",
       "      <td>unet-multiple-stds</td>\n",
       "      <td>U-net</td>\n",
       "      <td>[0; 55]</td>\n",
       "    </tr>\n",
       "    <tr>\n",
       "      <th>5</th>\n",
       "      <td>5</td>\n",
       "      <td>1.07294</td>\n",
       "      <td>learnlet</td>\n",
       "      <td>Learnlets</td>\n",
       "      <td>[0; 55]</td>\n",
       "    </tr>\n",
       "    <tr>\n",
       "      <th>6</th>\n",
       "      <td>5</td>\n",
       "      <td>1.10009</td>\n",
       "      <td>bm3d</td>\n",
       "      <td>BM3D</td>\n",
       "      <td>[0; 55]</td>\n",
       "    </tr>\n",
       "    <tr>\n",
       "      <th>7</th>\n",
       "      <td>5</td>\n",
       "      <td>1.04709</td>\n",
       "      <td>wavelets_24</td>\n",
       "      <td>Wavelets</td>\n",
       "      <td>[0; 55]</td>\n",
       "    </tr>\n",
       "    <tr>\n",
       "      <th>8</th>\n",
       "      <td>15</td>\n",
       "      <td>1.28377</td>\n",
       "      <td>unet-multiple-stds</td>\n",
       "      <td>U-net</td>\n",
       "      <td>[0; 55]</td>\n",
       "    </tr>\n",
       "    <tr>\n",
       "      <th>9</th>\n",
       "      <td>15</td>\n",
       "      <td>1.25461</td>\n",
       "      <td>learnlet</td>\n",
       "      <td>Learnlets</td>\n",
       "      <td>[0; 55]</td>\n",
       "    </tr>\n",
       "    <tr>\n",
       "      <th>10</th>\n",
       "      <td>15</td>\n",
       "      <td>1.26261</td>\n",
       "      <td>bm3d</td>\n",
       "      <td>BM3D</td>\n",
       "      <td>[0; 55]</td>\n",
       "    </tr>\n",
       "    <tr>\n",
       "      <th>11</th>\n",
       "      <td>15</td>\n",
       "      <td>1.20125</td>\n",
       "      <td>wavelets_24</td>\n",
       "      <td>Wavelets</td>\n",
       "      <td>[0; 55]</td>\n",
       "    </tr>\n",
       "    <tr>\n",
       "      <th>12</th>\n",
       "      <td>20</td>\n",
       "      <td>1.36628</td>\n",
       "      <td>unet-multiple-stds</td>\n",
       "      <td>U-net</td>\n",
       "      <td>[0; 55]</td>\n",
       "    </tr>\n",
       "    <tr>\n",
       "      <th>13</th>\n",
       "      <td>20</td>\n",
       "      <td>1.33594</td>\n",
       "      <td>learnlet</td>\n",
       "      <td>Learnlets</td>\n",
       "      <td>[0; 55]</td>\n",
       "    </tr>\n",
       "    <tr>\n",
       "      <th>14</th>\n",
       "      <td>20</td>\n",
       "      <td>1.33882</td>\n",
       "      <td>bm3d</td>\n",
       "      <td>BM3D</td>\n",
       "      <td>[0; 55]</td>\n",
       "    </tr>\n",
       "    <tr>\n",
       "      <th>15</th>\n",
       "      <td>20</td>\n",
       "      <td>1.27776</td>\n",
       "      <td>wavelets_24</td>\n",
       "      <td>Wavelets</td>\n",
       "      <td>[0; 55]</td>\n",
       "    </tr>\n",
       "    <tr>\n",
       "      <th>16</th>\n",
       "      <td>25</td>\n",
       "      <td>1.44667</td>\n",
       "      <td>unet-multiple-stds</td>\n",
       "      <td>U-net</td>\n",
       "      <td>[0; 55]</td>\n",
       "    </tr>\n",
       "    <tr>\n",
       "      <th>17</th>\n",
       "      <td>25</td>\n",
       "      <td>1.41506</td>\n",
       "      <td>learnlet</td>\n",
       "      <td>Learnlets</td>\n",
       "      <td>[0; 55]</td>\n",
       "    </tr>\n",
       "    <tr>\n",
       "      <th>18</th>\n",
       "      <td>25</td>\n",
       "      <td>1.41632</td>\n",
       "      <td>bm3d</td>\n",
       "      <td>BM3D</td>\n",
       "      <td>[0; 55]</td>\n",
       "    </tr>\n",
       "    <tr>\n",
       "      <th>19</th>\n",
       "      <td>25</td>\n",
       "      <td>1.35435</td>\n",
       "      <td>wavelets_24</td>\n",
       "      <td>Wavelets</td>\n",
       "      <td>[0; 55]</td>\n",
       "    </tr>\n",
       "    <tr>\n",
       "      <th>20</th>\n",
       "      <td>30</td>\n",
       "      <td>1.52658</td>\n",
       "      <td>unet-multiple-stds</td>\n",
       "      <td>U-net</td>\n",
       "      <td>[0; 55]</td>\n",
       "    </tr>\n",
       "    <tr>\n",
       "      <th>21</th>\n",
       "      <td>30</td>\n",
       "      <td>1.4929</td>\n",
       "      <td>learnlet</td>\n",
       "      <td>Learnlets</td>\n",
       "      <td>[0; 55]</td>\n",
       "    </tr>\n",
       "    <tr>\n",
       "      <th>22</th>\n",
       "      <td>30</td>\n",
       "      <td>1.49213</td>\n",
       "      <td>bm3d</td>\n",
       "      <td>BM3D</td>\n",
       "      <td>[0; 55]</td>\n",
       "    </tr>\n",
       "    <tr>\n",
       "      <th>23</th>\n",
       "      <td>30</td>\n",
       "      <td>1.43134</td>\n",
       "      <td>wavelets_24</td>\n",
       "      <td>Wavelets</td>\n",
       "      <td>[0; 55]</td>\n",
       "    </tr>\n",
       "    <tr>\n",
       "      <th>24</th>\n",
       "      <td>50</td>\n",
       "      <td>1.85665</td>\n",
       "      <td>unet-multiple-stds</td>\n",
       "      <td>U-net</td>\n",
       "      <td>[0; 55]</td>\n",
       "    </tr>\n",
       "    <tr>\n",
       "      <th>25</th>\n",
       "      <td>50</td>\n",
       "      <td>1.80902</td>\n",
       "      <td>learnlet</td>\n",
       "      <td>Learnlets</td>\n",
       "      <td>[0; 55]</td>\n",
       "    </tr>\n",
       "    <tr>\n",
       "      <th>26</th>\n",
       "      <td>50</td>\n",
       "      <td>1.81062</td>\n",
       "      <td>bm3d</td>\n",
       "      <td>BM3D</td>\n",
       "      <td>[0; 55]</td>\n",
       "    </tr>\n",
       "    <tr>\n",
       "      <th>27</th>\n",
       "      <td>50</td>\n",
       "      <td>1.75197</td>\n",
       "      <td>wavelets_24</td>\n",
       "      <td>Wavelets</td>\n",
       "      <td>[0; 55]</td>\n",
       "    </tr>\n",
       "    <tr>\n",
       "      <th>28</th>\n",
       "      <td>55</td>\n",
       "      <td>1.94567</td>\n",
       "      <td>unet-multiple-stds</td>\n",
       "      <td>U-net</td>\n",
       "      <td>[0; 55]</td>\n",
       "    </tr>\n",
       "    <tr>\n",
       "      <th>29</th>\n",
       "      <td>55</td>\n",
       "      <td>1.8923</td>\n",
       "      <td>learnlet</td>\n",
       "      <td>Learnlets</td>\n",
       "      <td>[0; 55]</td>\n",
       "    </tr>\n",
       "    <tr>\n",
       "      <th>30</th>\n",
       "      <td>55</td>\n",
       "      <td>NaN</td>\n",
       "      <td>bm3d</td>\n",
       "      <td>BM3D</td>\n",
       "      <td>[0; 55]</td>\n",
       "    </tr>\n",
       "    <tr>\n",
       "      <th>31</th>\n",
       "      <td>55</td>\n",
       "      <td>NaN</td>\n",
       "      <td>wavelets_24</td>\n",
       "      <td>Wavelets</td>\n",
       "      <td>[0; 55]</td>\n",
       "    </tr>\n",
       "    <tr>\n",
       "      <th>32</th>\n",
       "      <td>60</td>\n",
       "      <td>2.02386</td>\n",
       "      <td>unet-multiple-stds</td>\n",
       "      <td>U-net</td>\n",
       "      <td>[0; 55]</td>\n",
       "    </tr>\n",
       "    <tr>\n",
       "      <th>33</th>\n",
       "      <td>60</td>\n",
       "      <td>1.97684</td>\n",
       "      <td>learnlet</td>\n",
       "      <td>Learnlets</td>\n",
       "      <td>[0; 55]</td>\n",
       "    </tr>\n",
       "    <tr>\n",
       "      <th>34</th>\n",
       "      <td>60</td>\n",
       "      <td>NaN</td>\n",
       "      <td>bm3d</td>\n",
       "      <td>BM3D</td>\n",
       "      <td>[0; 55]</td>\n",
       "    </tr>\n",
       "    <tr>\n",
       "      <th>35</th>\n",
       "      <td>60</td>\n",
       "      <td>NaN</td>\n",
       "      <td>wavelets_24</td>\n",
       "      <td>Wavelets</td>\n",
       "      <td>[0; 55]</td>\n",
       "    </tr>\n",
       "    <tr>\n",
       "      <th>36</th>\n",
       "      <td>75</td>\n",
       "      <td>2.09805</td>\n",
       "      <td>unet-multiple-stds</td>\n",
       "      <td>U-net</td>\n",
       "      <td>[0; 55]</td>\n",
       "    </tr>\n",
       "    <tr>\n",
       "      <th>37</th>\n",
       "      <td>75</td>\n",
       "      <td>2.24975</td>\n",
       "      <td>learnlet</td>\n",
       "      <td>Learnlets</td>\n",
       "      <td>[0; 55]</td>\n",
       "    </tr>\n",
       "    <tr>\n",
       "      <th>38</th>\n",
       "      <td>75</td>\n",
       "      <td>2.27752</td>\n",
       "      <td>bm3d</td>\n",
       "      <td>BM3D</td>\n",
       "      <td>[0; 55]</td>\n",
       "    </tr>\n",
       "    <tr>\n",
       "      <th>39</th>\n",
       "      <td>75</td>\n",
       "      <td>2.20696</td>\n",
       "      <td>wavelets_24</td>\n",
       "      <td>Wavelets</td>\n",
       "      <td>[0; 55]</td>\n",
       "    </tr>\n",
       "  </tbody>\n",
       "</table>\n",
       "</div>"
      ],
      "text/plain": [
       "   $\\sigma$      PSNR          model_name $\\bf{Model}$  \\\n",
       "0    0.0001  0.404933  unet-multiple-stds        U-net   \n",
       "1    0.0001  0.980393            learnlet    Learnlets   \n",
       "2    0.0001  0.992004                bm3d         BM3D   \n",
       "3    0.0001  0.993565         wavelets_24     Wavelets   \n",
       "4         5   1.10139  unet-multiple-stds        U-net   \n",
       "5         5   1.07294            learnlet    Learnlets   \n",
       "6         5   1.10009                bm3d         BM3D   \n",
       "7         5   1.04709         wavelets_24     Wavelets   \n",
       "8        15   1.28377  unet-multiple-stds        U-net   \n",
       "9        15   1.25461            learnlet    Learnlets   \n",
       "10       15   1.26261                bm3d         BM3D   \n",
       "11       15   1.20125         wavelets_24     Wavelets   \n",
       "12       20   1.36628  unet-multiple-stds        U-net   \n",
       "13       20   1.33594            learnlet    Learnlets   \n",
       "14       20   1.33882                bm3d         BM3D   \n",
       "15       20   1.27776         wavelets_24     Wavelets   \n",
       "16       25   1.44667  unet-multiple-stds        U-net   \n",
       "17       25   1.41506            learnlet    Learnlets   \n",
       "18       25   1.41632                bm3d         BM3D   \n",
       "19       25   1.35435         wavelets_24     Wavelets   \n",
       "20       30   1.52658  unet-multiple-stds        U-net   \n",
       "21       30    1.4929            learnlet    Learnlets   \n",
       "22       30   1.49213                bm3d         BM3D   \n",
       "23       30   1.43134         wavelets_24     Wavelets   \n",
       "24       50   1.85665  unet-multiple-stds        U-net   \n",
       "25       50   1.80902            learnlet    Learnlets   \n",
       "26       50   1.81062                bm3d         BM3D   \n",
       "27       50   1.75197         wavelets_24     Wavelets   \n",
       "28       55   1.94567  unet-multiple-stds        U-net   \n",
       "29       55    1.8923            learnlet    Learnlets   \n",
       "30       55       NaN                bm3d         BM3D   \n",
       "31       55       NaN         wavelets_24     Wavelets   \n",
       "32       60   2.02386  unet-multiple-stds        U-net   \n",
       "33       60   1.97684            learnlet    Learnlets   \n",
       "34       60       NaN                bm3d         BM3D   \n",
       "35       60       NaN         wavelets_24     Wavelets   \n",
       "36       75   2.09805  unet-multiple-stds        U-net   \n",
       "37       75   2.24975            learnlet    Learnlets   \n",
       "38       75   2.27752                bm3d         BM3D   \n",
       "39       75   2.20696         wavelets_24     Wavelets   \n",
       "\n",
       "   $\\bf{Train}$  $\\bf{std}$  \n",
       "0                   [0; 55]  \n",
       "1                   [0; 55]  \n",
       "2                   [0; 55]  \n",
       "3                   [0; 55]  \n",
       "4                   [0; 55]  \n",
       "5                   [0; 55]  \n",
       "6                   [0; 55]  \n",
       "7                   [0; 55]  \n",
       "8                   [0; 55]  \n",
       "9                   [0; 55]  \n",
       "10                  [0; 55]  \n",
       "11                  [0; 55]  \n",
       "12                  [0; 55]  \n",
       "13                  [0; 55]  \n",
       "14                  [0; 55]  \n",
       "15                  [0; 55]  \n",
       "16                  [0; 55]  \n",
       "17                  [0; 55]  \n",
       "18                  [0; 55]  \n",
       "19                  [0; 55]  \n",
       "20                  [0; 55]  \n",
       "21                  [0; 55]  \n",
       "22                  [0; 55]  \n",
       "23                  [0; 55]  \n",
       "24                  [0; 55]  \n",
       "25                  [0; 55]  \n",
       "26                  [0; 55]  \n",
       "27                  [0; 55]  \n",
       "28                  [0; 55]  \n",
       "29                  [0; 55]  \n",
       "30                  [0; 55]  \n",
       "31                  [0; 55]  \n",
       "32                  [0; 55]  \n",
       "33                  [0; 55]  \n",
       "34                  [0; 55]  \n",
       "35                  [0; 55]  \n",
       "36                  [0; 55]  \n",
       "37                  [0; 55]  \n",
       "38                  [0; 55]  \n",
       "39                  [0; 55]  "
      ]
     },
     "execution_count": 15,
     "metadata": {},
     "output_type": "execute_result"
    }
   ],
   "source": [
    "relative_to_original = True\n",
    "\n",
    "\n",
    "model_family_str = r'$\\bf{Model}$'\n",
    "train_stds_str = r'$\\bf{Train}$  $\\bf{std}$'\n",
    "noise_std_str = r'$\\sigma$'\n",
    "psnr_str = 'PSNR'\n",
    "# PSNR to plot\n",
    "psnr_to_plot = pd.DataFrame(\n",
    "    columns=[noise_std_str, psnr_str, 'model_name', model_family_str, train_stds_str]\n",
    ")\n",
    "\n",
    "def from_name_to_family(model_name):\n",
    "    if 'learnlet' in model_name:\n",
    "        return 'Learnlets'\n",
    "    elif 'unet' in model_name:\n",
    "        return 'U-net'\n",
    "    elif 'bm3d' in model_name:\n",
    "        return 'BM3D'\n",
    "    elif 'wavelets' in model_name:\n",
    "        return 'Wavelets'\n",
    "    else:\n",
    "        return 'Original'\n",
    "    \n",
    "def from_name_to_train_stds(model_name):\n",
    "    if '30' in model_name:\n",
    "        return '30'\n",
    "    elif '20_40' in model_name:\n",
    "        return '[20; 40]'\n",
    "    else:\n",
    "        return '[0; 55]'\n",
    "\n",
    "family_model_to_color = {\n",
    "    'U-net': 'C0',\n",
    "    'Learnlets': 'C1',\n",
    "    'BM3D': 'C2',\n",
    "    'Wavelets': 'C3',\n",
    "}\n",
    "index = 0\n",
    "orig_psnrs = {}\n",
    "for i_noise, (noise_std, metrics) in enumerate(noise_std_metrics.items()):\n",
    "    for j_model, (name, m) in enumerate(metrics):\n",
    "        if relative_to_original and name == 'original':\n",
    "            orig_psnrs[noise_std] = m.metrics['PSNR'].mean()\n",
    "        else:\n",
    "            psnr_to_plot.loc[index, noise_std_str] = noise_std\n",
    "            psnr_to_plot.loc[index, psnr_str] = m.metrics['PSNR'].mean()\n",
    "            psnr_to_plot.loc[index, 'model_name'] = name\n",
    "            psnr_to_plot.loc[index, train_stds_str] = from_name_to_train_stds(name)\n",
    "            psnr_to_plot.loc[index, model_family_str] = from_name_to_family(name)\n",
    "            index += 1\n",
    "    name = 'bm3d'\n",
    "    psnr_to_plot.loc[index, noise_std_str] = noise_std\n",
    "    psnr_to_plot.loc[index, psnr_str] = BM3D_psnr_results.get(noise_std, np.nan)\n",
    "    psnr_to_plot.loc[index, 'model_name'] = name\n",
    "    psnr_to_plot.loc[index, train_stds_str] = from_name_to_train_stds(name)\n",
    "    psnr_to_plot.loc[index, model_family_str] = from_name_to_family(name)\n",
    "    index += 1\n",
    "    name = 'wavelets_24'\n",
    "    psnr_to_plot.loc[index, noise_std_str] = noise_std\n",
    "    psnr_to_plot.loc[index, psnr_str] = wavelets_psnr_results.get(noise_std, [np.nan]*2)[0]\n",
    "    psnr_to_plot.loc[index, 'model_name'] = name\n",
    "    psnr_to_plot.loc[index, train_stds_str] = from_name_to_train_stds(name)\n",
    "    psnr_to_plot.loc[index, model_family_str] = from_name_to_family(name)\n",
    "    index += 1\n",
    "\n",
    "if relative_to_original:\n",
    "    for noise_std, orig_psnr in orig_psnrs.items():\n",
    "        psnr_to_plot.loc[psnr_to_plot[noise_std_str] == noise_std, psnr_str] = psnr_to_plot[psnr_to_plot[noise_std_str] == noise_std][psnr_str] / orig_psnr\n",
    "    \n",
    "psnr_to_plot"
   ]
  },
  {
   "cell_type": "code",
   "execution_count": 16,
   "metadata": {
    "scrolled": false
   },
   "outputs": [
    {
     "data": {
      "application/javascript": [
       "/* Put everything inside the global mpl namespace */\n",
       "window.mpl = {};\n",
       "\n",
       "\n",
       "mpl.get_websocket_type = function() {\n",
       "    if (typeof(WebSocket) !== 'undefined') {\n",
       "        return WebSocket;\n",
       "    } else if (typeof(MozWebSocket) !== 'undefined') {\n",
       "        return MozWebSocket;\n",
       "    } else {\n",
       "        alert('Your browser does not have WebSocket support. ' +\n",
       "              'Please try Chrome, Safari or Firefox ≥ 6. ' +\n",
       "              'Firefox 4 and 5 are also supported but you ' +\n",
       "              'have to enable WebSockets in about:config.');\n",
       "    };\n",
       "}\n",
       "\n",
       "mpl.figure = function(figure_id, websocket, ondownload, parent_element) {\n",
       "    this.id = figure_id;\n",
       "\n",
       "    this.ws = websocket;\n",
       "\n",
       "    this.supports_binary = (this.ws.binaryType != undefined);\n",
       "\n",
       "    if (!this.supports_binary) {\n",
       "        var warnings = document.getElementById(\"mpl-warnings\");\n",
       "        if (warnings) {\n",
       "            warnings.style.display = 'block';\n",
       "            warnings.textContent = (\n",
       "                \"This browser does not support binary websocket messages. \" +\n",
       "                    \"Performance may be slow.\");\n",
       "        }\n",
       "    }\n",
       "\n",
       "    this.imageObj = new Image();\n",
       "\n",
       "    this.context = undefined;\n",
       "    this.message = undefined;\n",
       "    this.canvas = undefined;\n",
       "    this.rubberband_canvas = undefined;\n",
       "    this.rubberband_context = undefined;\n",
       "    this.format_dropdown = undefined;\n",
       "\n",
       "    this.image_mode = 'full';\n",
       "\n",
       "    this.root = $('<div/>');\n",
       "    this._root_extra_style(this.root)\n",
       "    this.root.attr('style', 'display: inline-block');\n",
       "\n",
       "    $(parent_element).append(this.root);\n",
       "\n",
       "    this._init_header(this);\n",
       "    this._init_canvas(this);\n",
       "    this._init_toolbar(this);\n",
       "\n",
       "    var fig = this;\n",
       "\n",
       "    this.waiting = false;\n",
       "\n",
       "    this.ws.onopen =  function () {\n",
       "            fig.send_message(\"supports_binary\", {value: fig.supports_binary});\n",
       "            fig.send_message(\"send_image_mode\", {});\n",
       "            if (mpl.ratio != 1) {\n",
       "                fig.send_message(\"set_dpi_ratio\", {'dpi_ratio': mpl.ratio});\n",
       "            }\n",
       "            fig.send_message(\"refresh\", {});\n",
       "        }\n",
       "\n",
       "    this.imageObj.onload = function() {\n",
       "            if (fig.image_mode == 'full') {\n",
       "                // Full images could contain transparency (where diff images\n",
       "                // almost always do), so we need to clear the canvas so that\n",
       "                // there is no ghosting.\n",
       "                fig.context.clearRect(0, 0, fig.canvas.width, fig.canvas.height);\n",
       "            }\n",
       "            fig.context.drawImage(fig.imageObj, 0, 0);\n",
       "        };\n",
       "\n",
       "    this.imageObj.onunload = function() {\n",
       "        fig.ws.close();\n",
       "    }\n",
       "\n",
       "    this.ws.onmessage = this._make_on_message_function(this);\n",
       "\n",
       "    this.ondownload = ondownload;\n",
       "}\n",
       "\n",
       "mpl.figure.prototype._init_header = function() {\n",
       "    var titlebar = $(\n",
       "        '<div class=\"ui-dialog-titlebar ui-widget-header ui-corner-all ' +\n",
       "        'ui-helper-clearfix\"/>');\n",
       "    var titletext = $(\n",
       "        '<div class=\"ui-dialog-title\" style=\"width: 100%; ' +\n",
       "        'text-align: center; padding: 3px;\"/>');\n",
       "    titlebar.append(titletext)\n",
       "    this.root.append(titlebar);\n",
       "    this.header = titletext[0];\n",
       "}\n",
       "\n",
       "\n",
       "\n",
       "mpl.figure.prototype._canvas_extra_style = function(canvas_div) {\n",
       "\n",
       "}\n",
       "\n",
       "\n",
       "mpl.figure.prototype._root_extra_style = function(canvas_div) {\n",
       "\n",
       "}\n",
       "\n",
       "mpl.figure.prototype._init_canvas = function() {\n",
       "    var fig = this;\n",
       "\n",
       "    var canvas_div = $('<div/>');\n",
       "\n",
       "    canvas_div.attr('style', 'position: relative; clear: both; outline: 0');\n",
       "\n",
       "    function canvas_keyboard_event(event) {\n",
       "        return fig.key_event(event, event['data']);\n",
       "    }\n",
       "\n",
       "    canvas_div.keydown('key_press', canvas_keyboard_event);\n",
       "    canvas_div.keyup('key_release', canvas_keyboard_event);\n",
       "    this.canvas_div = canvas_div\n",
       "    this._canvas_extra_style(canvas_div)\n",
       "    this.root.append(canvas_div);\n",
       "\n",
       "    var canvas = $('<canvas/>');\n",
       "    canvas.addClass('mpl-canvas');\n",
       "    canvas.attr('style', \"left: 0; top: 0; z-index: 0; outline: 0\")\n",
       "\n",
       "    this.canvas = canvas[0];\n",
       "    this.context = canvas[0].getContext(\"2d\");\n",
       "\n",
       "    var backingStore = this.context.backingStorePixelRatio ||\n",
       "\tthis.context.webkitBackingStorePixelRatio ||\n",
       "\tthis.context.mozBackingStorePixelRatio ||\n",
       "\tthis.context.msBackingStorePixelRatio ||\n",
       "\tthis.context.oBackingStorePixelRatio ||\n",
       "\tthis.context.backingStorePixelRatio || 1;\n",
       "\n",
       "    mpl.ratio = (window.devicePixelRatio || 1) / backingStore;\n",
       "\n",
       "    var rubberband = $('<canvas/>');\n",
       "    rubberband.attr('style', \"position: absolute; left: 0; top: 0; z-index: 1;\")\n",
       "\n",
       "    var pass_mouse_events = true;\n",
       "\n",
       "    canvas_div.resizable({\n",
       "        start: function(event, ui) {\n",
       "            pass_mouse_events = false;\n",
       "        },\n",
       "        resize: function(event, ui) {\n",
       "            fig.request_resize(ui.size.width, ui.size.height);\n",
       "        },\n",
       "        stop: function(event, ui) {\n",
       "            pass_mouse_events = true;\n",
       "            fig.request_resize(ui.size.width, ui.size.height);\n",
       "        },\n",
       "    });\n",
       "\n",
       "    function mouse_event_fn(event) {\n",
       "        if (pass_mouse_events)\n",
       "            return fig.mouse_event(event, event['data']);\n",
       "    }\n",
       "\n",
       "    rubberband.mousedown('button_press', mouse_event_fn);\n",
       "    rubberband.mouseup('button_release', mouse_event_fn);\n",
       "    // Throttle sequential mouse events to 1 every 20ms.\n",
       "    rubberband.mousemove('motion_notify', mouse_event_fn);\n",
       "\n",
       "    rubberband.mouseenter('figure_enter', mouse_event_fn);\n",
       "    rubberband.mouseleave('figure_leave', mouse_event_fn);\n",
       "\n",
       "    canvas_div.on(\"wheel\", function (event) {\n",
       "        event = event.originalEvent;\n",
       "        event['data'] = 'scroll'\n",
       "        if (event.deltaY < 0) {\n",
       "            event.step = 1;\n",
       "        } else {\n",
       "            event.step = -1;\n",
       "        }\n",
       "        mouse_event_fn(event);\n",
       "    });\n",
       "\n",
       "    canvas_div.append(canvas);\n",
       "    canvas_div.append(rubberband);\n",
       "\n",
       "    this.rubberband = rubberband;\n",
       "    this.rubberband_canvas = rubberband[0];\n",
       "    this.rubberband_context = rubberband[0].getContext(\"2d\");\n",
       "    this.rubberband_context.strokeStyle = \"#000000\";\n",
       "\n",
       "    this._resize_canvas = function(width, height) {\n",
       "        // Keep the size of the canvas, canvas container, and rubber band\n",
       "        // canvas in synch.\n",
       "        canvas_div.css('width', width)\n",
       "        canvas_div.css('height', height)\n",
       "\n",
       "        canvas.attr('width', width * mpl.ratio);\n",
       "        canvas.attr('height', height * mpl.ratio);\n",
       "        canvas.attr('style', 'width: ' + width + 'px; height: ' + height + 'px;');\n",
       "\n",
       "        rubberband.attr('width', width);\n",
       "        rubberband.attr('height', height);\n",
       "    }\n",
       "\n",
       "    // Set the figure to an initial 600x600px, this will subsequently be updated\n",
       "    // upon first draw.\n",
       "    this._resize_canvas(600, 600);\n",
       "\n",
       "    // Disable right mouse context menu.\n",
       "    $(this.rubberband_canvas).bind(\"contextmenu\",function(e){\n",
       "        return false;\n",
       "    });\n",
       "\n",
       "    function set_focus () {\n",
       "        canvas.focus();\n",
       "        canvas_div.focus();\n",
       "    }\n",
       "\n",
       "    window.setTimeout(set_focus, 100);\n",
       "}\n",
       "\n",
       "mpl.figure.prototype._init_toolbar = function() {\n",
       "    var fig = this;\n",
       "\n",
       "    var nav_element = $('<div/>');\n",
       "    nav_element.attr('style', 'width: 100%');\n",
       "    this.root.append(nav_element);\n",
       "\n",
       "    // Define a callback function for later on.\n",
       "    function toolbar_event(event) {\n",
       "        return fig.toolbar_button_onclick(event['data']);\n",
       "    }\n",
       "    function toolbar_mouse_event(event) {\n",
       "        return fig.toolbar_button_onmouseover(event['data']);\n",
       "    }\n",
       "\n",
       "    for(var toolbar_ind in mpl.toolbar_items) {\n",
       "        var name = mpl.toolbar_items[toolbar_ind][0];\n",
       "        var tooltip = mpl.toolbar_items[toolbar_ind][1];\n",
       "        var image = mpl.toolbar_items[toolbar_ind][2];\n",
       "        var method_name = mpl.toolbar_items[toolbar_ind][3];\n",
       "\n",
       "        if (!name) {\n",
       "            // put a spacer in here.\n",
       "            continue;\n",
       "        }\n",
       "        var button = $('<button/>');\n",
       "        button.addClass('ui-button ui-widget ui-state-default ui-corner-all ' +\n",
       "                        'ui-button-icon-only');\n",
       "        button.attr('role', 'button');\n",
       "        button.attr('aria-disabled', 'false');\n",
       "        button.click(method_name, toolbar_event);\n",
       "        button.mouseover(tooltip, toolbar_mouse_event);\n",
       "\n",
       "        var icon_img = $('<span/>');\n",
       "        icon_img.addClass('ui-button-icon-primary ui-icon');\n",
       "        icon_img.addClass(image);\n",
       "        icon_img.addClass('ui-corner-all');\n",
       "\n",
       "        var tooltip_span = $('<span/>');\n",
       "        tooltip_span.addClass('ui-button-text');\n",
       "        tooltip_span.html(tooltip);\n",
       "\n",
       "        button.append(icon_img);\n",
       "        button.append(tooltip_span);\n",
       "\n",
       "        nav_element.append(button);\n",
       "    }\n",
       "\n",
       "    var fmt_picker_span = $('<span/>');\n",
       "\n",
       "    var fmt_picker = $('<select/>');\n",
       "    fmt_picker.addClass('mpl-toolbar-option ui-widget ui-widget-content');\n",
       "    fmt_picker_span.append(fmt_picker);\n",
       "    nav_element.append(fmt_picker_span);\n",
       "    this.format_dropdown = fmt_picker[0];\n",
       "\n",
       "    for (var ind in mpl.extensions) {\n",
       "        var fmt = mpl.extensions[ind];\n",
       "        var option = $(\n",
       "            '<option/>', {selected: fmt === mpl.default_extension}).html(fmt);\n",
       "        fmt_picker.append(option);\n",
       "    }\n",
       "\n",
       "    // Add hover states to the ui-buttons\n",
       "    $( \".ui-button\" ).hover(\n",
       "        function() { $(this).addClass(\"ui-state-hover\");},\n",
       "        function() { $(this).removeClass(\"ui-state-hover\");}\n",
       "    );\n",
       "\n",
       "    var status_bar = $('<span class=\"mpl-message\"/>');\n",
       "    nav_element.append(status_bar);\n",
       "    this.message = status_bar[0];\n",
       "}\n",
       "\n",
       "mpl.figure.prototype.request_resize = function(x_pixels, y_pixels) {\n",
       "    // Request matplotlib to resize the figure. Matplotlib will then trigger a resize in the client,\n",
       "    // which will in turn request a refresh of the image.\n",
       "    this.send_message('resize', {'width': x_pixels, 'height': y_pixels});\n",
       "}\n",
       "\n",
       "mpl.figure.prototype.send_message = function(type, properties) {\n",
       "    properties['type'] = type;\n",
       "    properties['figure_id'] = this.id;\n",
       "    this.ws.send(JSON.stringify(properties));\n",
       "}\n",
       "\n",
       "mpl.figure.prototype.send_draw_message = function() {\n",
       "    if (!this.waiting) {\n",
       "        this.waiting = true;\n",
       "        this.ws.send(JSON.stringify({type: \"draw\", figure_id: this.id}));\n",
       "    }\n",
       "}\n",
       "\n",
       "\n",
       "mpl.figure.prototype.handle_save = function(fig, msg) {\n",
       "    var format_dropdown = fig.format_dropdown;\n",
       "    var format = format_dropdown.options[format_dropdown.selectedIndex].value;\n",
       "    fig.ondownload(fig, format);\n",
       "}\n",
       "\n",
       "\n",
       "mpl.figure.prototype.handle_resize = function(fig, msg) {\n",
       "    var size = msg['size'];\n",
       "    if (size[0] != fig.canvas.width || size[1] != fig.canvas.height) {\n",
       "        fig._resize_canvas(size[0], size[1]);\n",
       "        fig.send_message(\"refresh\", {});\n",
       "    };\n",
       "}\n",
       "\n",
       "mpl.figure.prototype.handle_rubberband = function(fig, msg) {\n",
       "    var x0 = msg['x0'] / mpl.ratio;\n",
       "    var y0 = (fig.canvas.height - msg['y0']) / mpl.ratio;\n",
       "    var x1 = msg['x1'] / mpl.ratio;\n",
       "    var y1 = (fig.canvas.height - msg['y1']) / mpl.ratio;\n",
       "    x0 = Math.floor(x0) + 0.5;\n",
       "    y0 = Math.floor(y0) + 0.5;\n",
       "    x1 = Math.floor(x1) + 0.5;\n",
       "    y1 = Math.floor(y1) + 0.5;\n",
       "    var min_x = Math.min(x0, x1);\n",
       "    var min_y = Math.min(y0, y1);\n",
       "    var width = Math.abs(x1 - x0);\n",
       "    var height = Math.abs(y1 - y0);\n",
       "\n",
       "    fig.rubberband_context.clearRect(\n",
       "        0, 0, fig.canvas.width / mpl.ratio, fig.canvas.height / mpl.ratio);\n",
       "\n",
       "    fig.rubberband_context.strokeRect(min_x, min_y, width, height);\n",
       "}\n",
       "\n",
       "mpl.figure.prototype.handle_figure_label = function(fig, msg) {\n",
       "    // Updates the figure title.\n",
       "    fig.header.textContent = msg['label'];\n",
       "}\n",
       "\n",
       "mpl.figure.prototype.handle_cursor = function(fig, msg) {\n",
       "    var cursor = msg['cursor'];\n",
       "    switch(cursor)\n",
       "    {\n",
       "    case 0:\n",
       "        cursor = 'pointer';\n",
       "        break;\n",
       "    case 1:\n",
       "        cursor = 'default';\n",
       "        break;\n",
       "    case 2:\n",
       "        cursor = 'crosshair';\n",
       "        break;\n",
       "    case 3:\n",
       "        cursor = 'move';\n",
       "        break;\n",
       "    }\n",
       "    fig.rubberband_canvas.style.cursor = cursor;\n",
       "}\n",
       "\n",
       "mpl.figure.prototype.handle_message = function(fig, msg) {\n",
       "    fig.message.textContent = msg['message'];\n",
       "}\n",
       "\n",
       "mpl.figure.prototype.handle_draw = function(fig, msg) {\n",
       "    // Request the server to send over a new figure.\n",
       "    fig.send_draw_message();\n",
       "}\n",
       "\n",
       "mpl.figure.prototype.handle_image_mode = function(fig, msg) {\n",
       "    fig.image_mode = msg['mode'];\n",
       "}\n",
       "\n",
       "mpl.figure.prototype.updated_canvas_event = function() {\n",
       "    // Called whenever the canvas gets updated.\n",
       "    this.send_message(\"ack\", {});\n",
       "}\n",
       "\n",
       "// A function to construct a web socket function for onmessage handling.\n",
       "// Called in the figure constructor.\n",
       "mpl.figure.prototype._make_on_message_function = function(fig) {\n",
       "    return function socket_on_message(evt) {\n",
       "        if (evt.data instanceof Blob) {\n",
       "            /* FIXME: We get \"Resource interpreted as Image but\n",
       "             * transferred with MIME type text/plain:\" errors on\n",
       "             * Chrome.  But how to set the MIME type?  It doesn't seem\n",
       "             * to be part of the websocket stream */\n",
       "            evt.data.type = \"image/png\";\n",
       "\n",
       "            /* Free the memory for the previous frames */\n",
       "            if (fig.imageObj.src) {\n",
       "                (window.URL || window.webkitURL).revokeObjectURL(\n",
       "                    fig.imageObj.src);\n",
       "            }\n",
       "\n",
       "            fig.imageObj.src = (window.URL || window.webkitURL).createObjectURL(\n",
       "                evt.data);\n",
       "            fig.updated_canvas_event();\n",
       "            fig.waiting = false;\n",
       "            return;\n",
       "        }\n",
       "        else if (typeof evt.data === 'string' && evt.data.slice(0, 21) == \"data:image/png;base64\") {\n",
       "            fig.imageObj.src = evt.data;\n",
       "            fig.updated_canvas_event();\n",
       "            fig.waiting = false;\n",
       "            return;\n",
       "        }\n",
       "\n",
       "        var msg = JSON.parse(evt.data);\n",
       "        var msg_type = msg['type'];\n",
       "\n",
       "        // Call the  \"handle_{type}\" callback, which takes\n",
       "        // the figure and JSON message as its only arguments.\n",
       "        try {\n",
       "            var callback = fig[\"handle_\" + msg_type];\n",
       "        } catch (e) {\n",
       "            console.log(\"No handler for the '\" + msg_type + \"' message type: \", msg);\n",
       "            return;\n",
       "        }\n",
       "\n",
       "        if (callback) {\n",
       "            try {\n",
       "                // console.log(\"Handling '\" + msg_type + \"' message: \", msg);\n",
       "                callback(fig, msg);\n",
       "            } catch (e) {\n",
       "                console.log(\"Exception inside the 'handler_\" + msg_type + \"' callback:\", e, e.stack, msg);\n",
       "            }\n",
       "        }\n",
       "    };\n",
       "}\n",
       "\n",
       "// from http://stackoverflow.com/questions/1114465/getting-mouse-location-in-canvas\n",
       "mpl.findpos = function(e) {\n",
       "    //this section is from http://www.quirksmode.org/js/events_properties.html\n",
       "    var targ;\n",
       "    if (!e)\n",
       "        e = window.event;\n",
       "    if (e.target)\n",
       "        targ = e.target;\n",
       "    else if (e.srcElement)\n",
       "        targ = e.srcElement;\n",
       "    if (targ.nodeType == 3) // defeat Safari bug\n",
       "        targ = targ.parentNode;\n",
       "\n",
       "    // jQuery normalizes the pageX and pageY\n",
       "    // pageX,Y are the mouse positions relative to the document\n",
       "    // offset() returns the position of the element relative to the document\n",
       "    var x = e.pageX - $(targ).offset().left;\n",
       "    var y = e.pageY - $(targ).offset().top;\n",
       "\n",
       "    return {\"x\": x, \"y\": y};\n",
       "};\n",
       "\n",
       "/*\n",
       " * return a copy of an object with only non-object keys\n",
       " * we need this to avoid circular references\n",
       " * http://stackoverflow.com/a/24161582/3208463\n",
       " */\n",
       "function simpleKeys (original) {\n",
       "  return Object.keys(original).reduce(function (obj, key) {\n",
       "    if (typeof original[key] !== 'object')\n",
       "        obj[key] = original[key]\n",
       "    return obj;\n",
       "  }, {});\n",
       "}\n",
       "\n",
       "mpl.figure.prototype.mouse_event = function(event, name) {\n",
       "    var canvas_pos = mpl.findpos(event)\n",
       "\n",
       "    if (name === 'button_press')\n",
       "    {\n",
       "        this.canvas.focus();\n",
       "        this.canvas_div.focus();\n",
       "    }\n",
       "\n",
       "    var x = canvas_pos.x * mpl.ratio;\n",
       "    var y = canvas_pos.y * mpl.ratio;\n",
       "\n",
       "    this.send_message(name, {x: x, y: y, button: event.button,\n",
       "                             step: event.step,\n",
       "                             guiEvent: simpleKeys(event)});\n",
       "\n",
       "    /* This prevents the web browser from automatically changing to\n",
       "     * the text insertion cursor when the button is pressed.  We want\n",
       "     * to control all of the cursor setting manually through the\n",
       "     * 'cursor' event from matplotlib */\n",
       "    event.preventDefault();\n",
       "    return false;\n",
       "}\n",
       "\n",
       "mpl.figure.prototype._key_event_extra = function(event, name) {\n",
       "    // Handle any extra behaviour associated with a key event\n",
       "}\n",
       "\n",
       "mpl.figure.prototype.key_event = function(event, name) {\n",
       "\n",
       "    // Prevent repeat events\n",
       "    if (name == 'key_press')\n",
       "    {\n",
       "        if (event.which === this._key)\n",
       "            return;\n",
       "        else\n",
       "            this._key = event.which;\n",
       "    }\n",
       "    if (name == 'key_release')\n",
       "        this._key = null;\n",
       "\n",
       "    var value = '';\n",
       "    if (event.ctrlKey && event.which != 17)\n",
       "        value += \"ctrl+\";\n",
       "    if (event.altKey && event.which != 18)\n",
       "        value += \"alt+\";\n",
       "    if (event.shiftKey && event.which != 16)\n",
       "        value += \"shift+\";\n",
       "\n",
       "    value += 'k';\n",
       "    value += event.which.toString();\n",
       "\n",
       "    this._key_event_extra(event, name);\n",
       "\n",
       "    this.send_message(name, {key: value,\n",
       "                             guiEvent: simpleKeys(event)});\n",
       "    return false;\n",
       "}\n",
       "\n",
       "mpl.figure.prototype.toolbar_button_onclick = function(name) {\n",
       "    if (name == 'download') {\n",
       "        this.handle_save(this, null);\n",
       "    } else {\n",
       "        this.send_message(\"toolbar_button\", {name: name});\n",
       "    }\n",
       "};\n",
       "\n",
       "mpl.figure.prototype.toolbar_button_onmouseover = function(tooltip) {\n",
       "    this.message.textContent = tooltip;\n",
       "};\n",
       "mpl.toolbar_items = [[\"Home\", \"Reset original view\", \"fa fa-home icon-home\", \"home\"], [\"Back\", \"Back to previous view\", \"fa fa-arrow-left icon-arrow-left\", \"back\"], [\"Forward\", \"Forward to next view\", \"fa fa-arrow-right icon-arrow-right\", \"forward\"], [\"\", \"\", \"\", \"\"], [\"Pan\", \"Pan axes with left mouse, zoom with right\", \"fa fa-arrows icon-move\", \"pan\"], [\"Zoom\", \"Zoom to rectangle\", \"fa fa-square-o icon-check-empty\", \"zoom\"], [\"\", \"\", \"\", \"\"], [\"Download\", \"Download plot\", \"fa fa-floppy-o icon-save\", \"download\"]];\n",
       "\n",
       "mpl.extensions = [\"eps\", \"jpeg\", \"pdf\", \"png\", \"ps\", \"raw\", \"svg\", \"tif\"];\n",
       "\n",
       "mpl.default_extension = \"png\";var comm_websocket_adapter = function(comm) {\n",
       "    // Create a \"websocket\"-like object which calls the given IPython comm\n",
       "    // object with the appropriate methods. Currently this is a non binary\n",
       "    // socket, so there is still some room for performance tuning.\n",
       "    var ws = {};\n",
       "\n",
       "    ws.close = function() {\n",
       "        comm.close()\n",
       "    };\n",
       "    ws.send = function(m) {\n",
       "        //console.log('sending', m);\n",
       "        comm.send(m);\n",
       "    };\n",
       "    // Register the callback with on_msg.\n",
       "    comm.on_msg(function(msg) {\n",
       "        //console.log('receiving', msg['content']['data'], msg);\n",
       "        // Pass the mpl event to the overridden (by mpl) onmessage function.\n",
       "        ws.onmessage(msg['content']['data'])\n",
       "    });\n",
       "    return ws;\n",
       "}\n",
       "\n",
       "mpl.mpl_figure_comm = function(comm, msg) {\n",
       "    // This is the function which gets called when the mpl process\n",
       "    // starts-up an IPython Comm through the \"matplotlib\" channel.\n",
       "\n",
       "    var id = msg.content.data.id;\n",
       "    // Get hold of the div created by the display call when the Comm\n",
       "    // socket was opened in Python.\n",
       "    var element = $(\"#\" + id);\n",
       "    var ws_proxy = comm_websocket_adapter(comm)\n",
       "\n",
       "    function ondownload(figure, format) {\n",
       "        window.open(figure.imageObj.src);\n",
       "    }\n",
       "\n",
       "    var fig = new mpl.figure(id, ws_proxy,\n",
       "                           ondownload,\n",
       "                           element.get(0));\n",
       "\n",
       "    // Call onopen now - mpl needs it, as it is assuming we've passed it a real\n",
       "    // web socket which is closed, not our websocket->open comm proxy.\n",
       "    ws_proxy.onopen();\n",
       "\n",
       "    fig.parent_element = element.get(0);\n",
       "    fig.cell_info = mpl.find_output_cell(\"<div id='\" + id + \"'></div>\");\n",
       "    if (!fig.cell_info) {\n",
       "        console.error(\"Failed to find cell for figure\", id, fig);\n",
       "        return;\n",
       "    }\n",
       "\n",
       "    var output_index = fig.cell_info[2]\n",
       "    var cell = fig.cell_info[0];\n",
       "\n",
       "};\n",
       "\n",
       "mpl.figure.prototype.handle_close = function(fig, msg) {\n",
       "    var width = fig.canvas.width/mpl.ratio\n",
       "    fig.root.unbind('remove')\n",
       "\n",
       "    // Update the output cell to use the data from the current canvas.\n",
       "    fig.push_to_output();\n",
       "    var dataURL = fig.canvas.toDataURL();\n",
       "    // Re-enable the keyboard manager in IPython - without this line, in FF,\n",
       "    // the notebook keyboard shortcuts fail.\n",
       "    IPython.keyboard_manager.enable()\n",
       "    $(fig.parent_element).html('<img src=\"' + dataURL + '\" width=\"' + width + '\">');\n",
       "    fig.close_ws(fig, msg);\n",
       "}\n",
       "\n",
       "mpl.figure.prototype.close_ws = function(fig, msg){\n",
       "    fig.send_message('closing', msg);\n",
       "    // fig.ws.close()\n",
       "}\n",
       "\n",
       "mpl.figure.prototype.push_to_output = function(remove_interactive) {\n",
       "    // Turn the data on the canvas into data in the output cell.\n",
       "    var width = this.canvas.width/mpl.ratio\n",
       "    var dataURL = this.canvas.toDataURL();\n",
       "    this.cell_info[1]['text/html'] = '<img src=\"' + dataURL + '\" width=\"' + width + '\">';\n",
       "}\n",
       "\n",
       "mpl.figure.prototype.updated_canvas_event = function() {\n",
       "    // Tell IPython that the notebook contents must change.\n",
       "    IPython.notebook.set_dirty(true);\n",
       "    this.send_message(\"ack\", {});\n",
       "    var fig = this;\n",
       "    // Wait a second, then push the new image to the DOM so\n",
       "    // that it is saved nicely (might be nice to debounce this).\n",
       "    setTimeout(function () { fig.push_to_output() }, 1000);\n",
       "}\n",
       "\n",
       "mpl.figure.prototype._init_toolbar = function() {\n",
       "    var fig = this;\n",
       "\n",
       "    var nav_element = $('<div/>');\n",
       "    nav_element.attr('style', 'width: 100%');\n",
       "    this.root.append(nav_element);\n",
       "\n",
       "    // Define a callback function for later on.\n",
       "    function toolbar_event(event) {\n",
       "        return fig.toolbar_button_onclick(event['data']);\n",
       "    }\n",
       "    function toolbar_mouse_event(event) {\n",
       "        return fig.toolbar_button_onmouseover(event['data']);\n",
       "    }\n",
       "\n",
       "    for(var toolbar_ind in mpl.toolbar_items){\n",
       "        var name = mpl.toolbar_items[toolbar_ind][0];\n",
       "        var tooltip = mpl.toolbar_items[toolbar_ind][1];\n",
       "        var image = mpl.toolbar_items[toolbar_ind][2];\n",
       "        var method_name = mpl.toolbar_items[toolbar_ind][3];\n",
       "\n",
       "        if (!name) { continue; };\n",
       "\n",
       "        var button = $('<button class=\"btn btn-default\" href=\"#\" title=\"' + name + '\"><i class=\"fa ' + image + ' fa-lg\"></i></button>');\n",
       "        button.click(method_name, toolbar_event);\n",
       "        button.mouseover(tooltip, toolbar_mouse_event);\n",
       "        nav_element.append(button);\n",
       "    }\n",
       "\n",
       "    // Add the status bar.\n",
       "    var status_bar = $('<span class=\"mpl-message\" style=\"text-align:right; float: right;\"/>');\n",
       "    nav_element.append(status_bar);\n",
       "    this.message = status_bar[0];\n",
       "\n",
       "    // Add the close button to the window.\n",
       "    var buttongrp = $('<div class=\"btn-group inline pull-right\"></div>');\n",
       "    var button = $('<button class=\"btn btn-mini btn-primary\" href=\"#\" title=\"Stop Interaction\"><i class=\"fa fa-power-off icon-remove icon-large\"></i></button>');\n",
       "    button.click(function (evt) { fig.handle_close(fig, {}); } );\n",
       "    button.mouseover('Stop Interaction', toolbar_mouse_event);\n",
       "    buttongrp.append(button);\n",
       "    var titlebar = this.root.find($('.ui-dialog-titlebar'));\n",
       "    titlebar.prepend(buttongrp);\n",
       "}\n",
       "\n",
       "mpl.figure.prototype._root_extra_style = function(el){\n",
       "    var fig = this\n",
       "    el.on(\"remove\", function(){\n",
       "\tfig.close_ws(fig, {});\n",
       "    });\n",
       "}\n",
       "\n",
       "mpl.figure.prototype._canvas_extra_style = function(el){\n",
       "    // this is important to make the div 'focusable\n",
       "    el.attr('tabindex', 0)\n",
       "    // reach out to IPython and tell the keyboard manager to turn it's self\n",
       "    // off when our div gets focus\n",
       "\n",
       "    // location in version 3\n",
       "    if (IPython.notebook.keyboard_manager) {\n",
       "        IPython.notebook.keyboard_manager.register_events(el);\n",
       "    }\n",
       "    else {\n",
       "        // location in version 2\n",
       "        IPython.keyboard_manager.register_events(el);\n",
       "    }\n",
       "\n",
       "}\n",
       "\n",
       "mpl.figure.prototype._key_event_extra = function(event, name) {\n",
       "    var manager = IPython.notebook.keyboard_manager;\n",
       "    if (!manager)\n",
       "        manager = IPython.keyboard_manager;\n",
       "\n",
       "    // Check for shift+enter\n",
       "    if (event.shiftKey && event.which == 13) {\n",
       "        this.canvas_div.blur();\n",
       "        // select the cell after this one\n",
       "        var index = IPython.notebook.find_cell_index(this.cell_info[0]);\n",
       "        IPython.notebook.select(index + 1);\n",
       "    }\n",
       "}\n",
       "\n",
       "mpl.figure.prototype.handle_save = function(fig, msg) {\n",
       "    fig.ondownload(fig, null);\n",
       "}\n",
       "\n",
       "\n",
       "mpl.find_output_cell = function(html_output) {\n",
       "    // Return the cell and output element which can be found *uniquely* in the notebook.\n",
       "    // Note - this is a bit hacky, but it is done because the \"notebook_saving.Notebook\"\n",
       "    // IPython event is triggered only after the cells have been serialised, which for\n",
       "    // our purposes (turning an active figure into a static one), is too late.\n",
       "    var cells = IPython.notebook.get_cells();\n",
       "    var ncells = cells.length;\n",
       "    for (var i=0; i<ncells; i++) {\n",
       "        var cell = cells[i];\n",
       "        if (cell.cell_type === 'code'){\n",
       "            for (var j=0; j<cell.output_area.outputs.length; j++) {\n",
       "                var data = cell.output_area.outputs[j];\n",
       "                if (data.data) {\n",
       "                    // IPython >= 3 moved mimebundle to data attribute of output\n",
       "                    data = data.data;\n",
       "                }\n",
       "                if (data['text/html'] == html_output) {\n",
       "                    return [cell, data, j];\n",
       "                }\n",
       "            }\n",
       "        }\n",
       "    }\n",
       "}\n",
       "\n",
       "// Register the function which deals with the matplotlib target/channel.\n",
       "// The kernel may be null if the page has been refreshed.\n",
       "if (IPython.notebook.kernel != null) {\n",
       "    IPython.notebook.kernel.comm_manager.register_target('matplotlib', mpl.mpl_figure_comm);\n",
       "}\n"
      ],
      "text/plain": [
       "<IPython.core.display.Javascript object>"
      ]
     },
     "metadata": {},
     "output_type": "display_data"
    },
    {
     "data": {
      "text/html": [
       "<img src=\"data:image/png;base64,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\" width=\"899.9999804930258\">"
      ],
      "text/plain": [
       "<IPython.core.display.HTML object>"
      ]
     },
     "metadata": {},
     "output_type": "display_data"
    }
   ],
   "source": [
    "plt.figure()\n",
    "psnr_to_plot[psnr_str] = psnr_to_plot[psnr_str].astype(float)\n",
    "lplot = sns.lineplot(\n",
    "    x=noise_std_str, \n",
    "    y=psnr_str, \n",
    "    hue=model_family_str,\n",
    "    style=train_stds_str,\n",
    "    data=psnr_to_plot,\n",
    "    palette=family_model_to_color,\n",
    ")\n",
    "plt.legend(bbox_to_anchor=(0., 1.01, 1., .05), loc='center', borderaxespad=0., ncol=7, fontsize=7.65)\n",
    "plt.subplots_adjust(right=0.83)\n",
    "plt.savefig(f'gen_wo_error_bars.png')"
   ]
  },
  {
   "cell_type": "code",
   "execution_count": null,
   "metadata": {},
   "outputs": [],
   "source": []
  }
 ],
 "metadata": {
  "kernelspec": {
   "display_name": "Python 3",
   "language": "python",
   "name": "python3"
  },
  "language_info": {
   "codemirror_mode": {
    "name": "ipython",
    "version": 3
   },
   "file_extension": ".py",
   "mimetype": "text/x-python",
   "name": "python",
   "nbconvert_exporter": "python",
   "pygments_lexer": "ipython3",
   "version": "3.6.8"
  },
  "notify_time": "30"
 },
 "nbformat": 4,
 "nbformat_minor": 2
}

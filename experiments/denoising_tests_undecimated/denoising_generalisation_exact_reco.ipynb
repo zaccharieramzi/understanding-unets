{
 "cells": [
  {
   "cell_type": "code",
   "execution_count": 1,
   "metadata": {},
   "outputs": [
    {
     "name": "stdout",
     "output_type": "stream",
     "text": [
      "/volatile/home/Zaccharie/workspace/understanding-unets\n"
     ]
    }
   ],
   "source": [
    "%cd ../.."
   ]
  },
  {
   "cell_type": "code",
   "execution_count": 2,
   "metadata": {},
   "outputs": [],
   "source": [
    "# # this just to make sure we are using only on CPU\n",
    "# import os\n",
    "# os.environ[\"CUDA_VISIBLE_DEVICES\"]=\"-1\""
   ]
  },
  {
   "cell_type": "code",
   "execution_count": 4,
   "metadata": {},
   "outputs": [
    {
     "name": "stdout",
     "output_type": "stream",
     "text": [
      "The autoreload extension is already loaded. To reload it, use:\n",
      "  %reload_ext autoreload\n",
      "\n",
      "                 .|'''|       /.\\      '||'''|,\n",
      "                 ||          // \\\\      ||   ||\n",
      "'||''|, '||  ||` `|'''|,    //...\\\\     ||...|'\n",
      " ||  ||  `|..||   .   ||   //     \\\\    ||\n",
      " ||..|'      ||   |...|' .//       \\\\. .||\n",
      " ||       ,  |'\n",
      ".||        ''\n",
      "\n",
      "Package version: 0.0.3\n",
      "\n",
      "License: CeCILL-B\n",
      "\n",
      "Authors: \n",
      "\n",
      "Antoine Grigis <antoine.grigis@cea.fr>\n",
      "Samuel Farrens <samuel.farrens@cea.fr>\n",
      "Jean-Luc Starck <jl.stark@cea.fr>\n",
      "Philippe Ciuciu <philippe.ciuciu@cea.fr>\n",
      "\n",
      "Dependencies: \n",
      "\n",
      "scipy          : >=1.3.0   - required | 1.4.1     installed\n",
      "numpy          : >=1.16.4  - required | 1.17.4    installed\n",
      "matplotlib     : >=3.0.0   - required | 3.1.2     installed\n",
      "astropy        : >=3.0.0   - required | 3.2.3     installed\n",
      "nibabel        : >=2.3.2   - required | 2.5.1     installed\n",
      "pyqtgraph      : >=0.10.0  - required | 0.10.0    installed\n",
      "progressbar2   : >=3.34.3  - required | ?         installed\n",
      "modopt         : >=1.4.0   - required | 1.4.1     installed\n",
      "scikit-learn   : >=0.19.1  - required | ?         installed\n",
      "pywt           : >=1.0.0   - required | 1.1.1     installed\n",
      "pysparse       : >=0.0.1   - required | 0.1.0     installed\n",
      "\n"
     ]
    }
   ],
   "source": [
    "%load_ext autoreload\n",
    "%autoreload 2\n",
    "import copy\n",
    "import time\n",
    "\n",
    "import numpy as np\n",
    "import pandas as pd\n",
    "from tqdm import tqdm_notebook\n",
    "\n",
    "from learning_wavelets.data.datasets import im_dataset_bsd68\n",
    "from learning_wavelets.models.learnlet_model import Learnlet\n",
    "from learning_wavelets.utils.metrics import metrics_from_ds, metrics_original_from_ds"
   ]
  },
  {
   "cell_type": "code",
   "execution_count": 5,
   "metadata": {},
   "outputs": [],
   "source": [
    "np.random.seed(0)"
   ]
  },
  {
   "cell_type": "code",
   "execution_count": 7,
   "metadata": {
    "code_folding": []
   },
   "outputs": [],
   "source": [
    "all_net_params = [\n",
    "]\n",
    "\n",
    "def build_learnlet_subclassing(**run_params):\n",
    "    model = Learnlet(**run_params)\n",
    "    model.build([[None, None, None, 1], [None, 1]])\n",
    "    return model\n",
    "\n",
    "dynamic_denoising_net_params = [\n",
    "    {\n",
    "        'name': 'learnlet_0_55_no_exact_reco',\n",
    "        'init_function': build_learnlet_subclassing,\n",
    "        'run_params': {\n",
    "            'denoising_activation': 'dynamic_soft_thresholding',\n",
    "            'learnlet_analysis_kwargs':{\n",
    "                'n_tiling': 64, \n",
    "                'mixing_details': False,    \n",
    "                'skip_connection': True,\n",
    "                'kernel_size': 11,\n",
    "            },\n",
    "            'learnlet_synthesis_kwargs': {\n",
    "                'res': True,\n",
    "                'kernel_size': 13,\n",
    "            },\n",
    "            'threshold_kwargs':{\n",
    "                'noise_std_norm': True,\n",
    "            },\n",
    "            'n_scales': 5,\n",
    "            'exact_reconstruction': True,\n",
    "            'n_reweights_learn': 1,\n",
    "            'undecimated': True,\n",
    "            'clip': False,\n",
    "        },\n",
    "        'run_id': 'learnlet_subclassed_undecimated_64_dynamic_soft_thresholding_bsd500_0.0_55.0_None_1582736369',\n",
    "        'epoch': 500,\n",
    "    },\n",
    "    {\n",
    "        'name': 'learnlet_0_55_exact_reco',\n",
    "        'init_function': build_learnlet_subclassing,\n",
    "        'run_params': {\n",
    "            'denoising_activation': 'dynamic_soft_thresholding',\n",
    "            'learnlet_analysis_kwargs':{\n",
    "                'n_tiling': 64, \n",
    "                'mixing_details': False,    \n",
    "                'skip_connection': True,\n",
    "                'kernel_size': 11,\n",
    "            },\n",
    "            'learnlet_synthesis_kwargs': {\n",
    "                'res': True,\n",
    "                'kernel_size': 13,\n",
    "            },\n",
    "            'threshold_kwargs':{\n",
    "                'noise_std_norm': True,\n",
    "            },\n",
    "            'n_scales': 5,\n",
    "            'exact_reconstruction': True,\n",
    "            'n_reweights_learn': 1,\n",
    "            'undecimated': True,\n",
    "            'clip': False,\n",
    "        },\n",
    "        'run_id': 'learnlet_subclassed_undecimated_64_dynamic_soft_thresholding_bsd500_0.0_55.0_None_1582736369',\n",
    "        'epoch': 500,\n",
    "    },  \n",
    "]"
   ]
  },
  {
   "cell_type": "code",
   "execution_count": 8,
   "metadata": {},
   "outputs": [],
   "source": [
    "noise_stds = [0.0001, 5, 15, 20, 25, 30, 50, 55, 60, 75]\n",
    "# noise_stds = [15, 20, 30]\n",
    "# noise_stds = [0.0001]"
   ]
  },
  {
   "cell_type": "code",
   "execution_count": 9,
   "metadata": {
    "code_folding": [],
    "scrolled": true
   },
   "outputs": [
    {
     "name": "stderr",
     "output_type": "stream",
     "text": [
      "/volatile/home/Zaccharie/workspace/understanding-unets/venv/lib/python3.6/site-packages/ipykernel_launcher.py:3: TqdmDeprecationWarning: This function will be removed in tqdm==5.0.0\n",
      "Please use `tqdm.notebook.tqdm` instead of `tqdm.tqdm_notebook`\n",
      "  This is separate from the ipykernel package so we can avoid doing imports until\n"
     ]
    },
    {
     "data": {
      "application/vnd.jupyter.widget-view+json": {
       "model_id": "4e04019a24914af7b7590a12185aad0c",
       "version_major": 2,
       "version_minor": 0
      },
      "text/plain": [
       "HBox(children=(FloatProgress(value=0.0, description='Noise stds', max=10.0, style=ProgressStyle(description_wi…"
      ]
     },
     "metadata": {},
     "output_type": "display_data"
    },
    {
     "data": {
      "application/vnd.jupyter.widget-view+json": {
       "model_id": "3d299022d752426f8e539ded2232b835",
       "version_major": 2,
       "version_minor": 0
      },
      "text/plain": [
       "HBox(children=(FloatProgress(value=1.0, bar_style='info', max=1.0), HTML(value='')))"
      ]
     },
     "metadata": {},
     "output_type": "display_data"
    },
    {
     "name": "stdout",
     "output_type": "stream",
     "text": [
      "\n"
     ]
    },
    {
     "data": {
      "application/vnd.jupyter.widget-view+json": {
       "model_id": "2f163d49f4ff4ba9bac0cb4111e1f4b7",
       "version_major": 2,
       "version_minor": 0
      },
      "text/plain": [
       "HBox(children=(FloatProgress(value=0.0, description='Stats for original noisy images', max=2.0, style=Progress…"
      ]
     },
     "metadata": {},
     "output_type": "display_data"
    },
    {
     "name": "stdout",
     "output_type": "stream",
     "text": [
      "\n"
     ]
    },
    {
     "name": "stderr",
     "output_type": "stream",
     "text": [
      "/volatile/home/Zaccharie/workspace/understanding-unets/learning_wavelets/evaluate.py:34: UserWarning: DEPRECATED: skimage.measure.compare_psnr has been moved to skimage.metrics.peak_signal_noise_ratio. It will be removed from skimage.measure in version 0.18.\n",
      "  return compare_psnr(gt, pred, data_range=1)\n",
      "/volatile/home/Zaccharie/workspace/understanding-unets/learning_wavelets/evaluate.py:43: UserWarning: DEPRECATED: skimage.measure.compare_ssim has been moved to skimage.metrics.structural_similarity. It will be removed from skimage.measure in version 0.18.\n",
      "  gt, pred, multichannel=True, data_range=1\n"
     ]
    },
    {
     "data": {
      "application/vnd.jupyter.widget-view+json": {
       "model_id": "8d8708f5154e4216bced7a4d3fcd8cbb",
       "version_major": 2,
       "version_minor": 0
      },
      "text/plain": [
       "HBox(children=(FloatProgress(value=1.0, bar_style='info', max=1.0), HTML(value='')))"
      ]
     },
     "metadata": {},
     "output_type": "display_data"
    },
    {
     "name": "stdout",
     "output_type": "stream",
     "text": [
      "\n"
     ]
    },
    {
     "data": {
      "application/vnd.jupyter.widget-view+json": {
       "model_id": "a395bf95fd414588b6a8cd3c85d06c7b",
       "version_major": 2,
       "version_minor": 0
      },
      "text/plain": [
       "HBox(children=(FloatProgress(value=0.0, description='Stats for learnlet_0_55_no_exact_reco', max=2.0, style=Pr…"
      ]
     },
     "metadata": {},
     "output_type": "display_data"
    },
    {
     "name": "stdout",
     "output_type": "stream",
     "text": [
      "\n"
     ]
    },
    {
     "data": {
      "application/vnd.jupyter.widget-view+json": {
       "model_id": "e13a67e86e5147a0a129d012d7f9bf44",
       "version_major": 2,
       "version_minor": 0
      },
      "text/plain": [
       "HBox(children=(FloatProgress(value=1.0, bar_style='info', max=1.0), HTML(value='')))"
      ]
     },
     "metadata": {},
     "output_type": "display_data"
    },
    {
     "name": "stdout",
     "output_type": "stream",
     "text": [
      "\n"
     ]
    },
    {
     "data": {
      "application/vnd.jupyter.widget-view+json": {
       "model_id": "57ff0e8d1b624eafb63e6b58d8a7998c",
       "version_major": 2,
       "version_minor": 0
      },
      "text/plain": [
       "HBox(children=(FloatProgress(value=0.0, description='Stats for learnlet_0_55_exact_reco', max=2.0, style=Progr…"
      ]
     },
     "metadata": {},
     "output_type": "display_data"
    },
    {
     "name": "stdout",
     "output_type": "stream",
     "text": [
      "\n"
     ]
    },
    {
     "data": {
      "application/vnd.jupyter.widget-view+json": {
       "model_id": "0dd2cc052ec14f3a9c4c113bf29914b1",
       "version_major": 2,
       "version_minor": 0
      },
      "text/plain": [
       "HBox(children=(FloatProgress(value=1.0, bar_style='info', max=1.0), HTML(value='')))"
      ]
     },
     "metadata": {},
     "output_type": "display_data"
    },
    {
     "name": "stdout",
     "output_type": "stream",
     "text": [
      "\n"
     ]
    },
    {
     "data": {
      "application/vnd.jupyter.widget-view+json": {
       "model_id": "a31a22658ceb474c9ae3dd993e32f25d",
       "version_major": 2,
       "version_minor": 0
      },
      "text/plain": [
       "HBox(children=(FloatProgress(value=0.0, description='Stats for original noisy images', max=2.0, style=Progress…"
      ]
     },
     "metadata": {},
     "output_type": "display_data"
    },
    {
     "name": "stdout",
     "output_type": "stream",
     "text": [
      "\n"
     ]
    },
    {
     "data": {
      "application/vnd.jupyter.widget-view+json": {
       "model_id": "d89957c657e04c47b4f13c60078292b2",
       "version_major": 2,
       "version_minor": 0
      },
      "text/plain": [
       "HBox(children=(FloatProgress(value=1.0, bar_style='info', max=1.0), HTML(value='')))"
      ]
     },
     "metadata": {},
     "output_type": "display_data"
    },
    {
     "name": "stdout",
     "output_type": "stream",
     "text": [
      "\n"
     ]
    },
    {
     "data": {
      "application/vnd.jupyter.widget-view+json": {
       "model_id": "1a3ec195a4d44760899e4dbd2851c9a1",
       "version_major": 2,
       "version_minor": 0
      },
      "text/plain": [
       "HBox(children=(FloatProgress(value=0.0, description='Stats for learnlet_0_55_no_exact_reco', max=2.0, style=Pr…"
      ]
     },
     "metadata": {},
     "output_type": "display_data"
    },
    {
     "name": "stdout",
     "output_type": "stream",
     "text": [
      "\n"
     ]
    },
    {
     "data": {
      "application/vnd.jupyter.widget-view+json": {
       "model_id": "d89e4bd2aa814d88bc641b193a98d422",
       "version_major": 2,
       "version_minor": 0
      },
      "text/plain": [
       "HBox(children=(FloatProgress(value=1.0, bar_style='info', max=1.0), HTML(value='')))"
      ]
     },
     "metadata": {},
     "output_type": "display_data"
    },
    {
     "name": "stdout",
     "output_type": "stream",
     "text": [
      "\n"
     ]
    },
    {
     "data": {
      "application/vnd.jupyter.widget-view+json": {
       "model_id": "5d37440a25d34651af37c2c2c8d94bdb",
       "version_major": 2,
       "version_minor": 0
      },
      "text/plain": [
       "HBox(children=(FloatProgress(value=0.0, description='Stats for learnlet_0_55_exact_reco', max=2.0, style=Progr…"
      ]
     },
     "metadata": {},
     "output_type": "display_data"
    },
    {
     "name": "stdout",
     "output_type": "stream",
     "text": [
      "\n"
     ]
    },
    {
     "data": {
      "application/vnd.jupyter.widget-view+json": {
       "model_id": "70a12194a4ee4d16b8ef96bfebf7eb0e",
       "version_major": 2,
       "version_minor": 0
      },
      "text/plain": [
       "HBox(children=(FloatProgress(value=1.0, bar_style='info', max=1.0), HTML(value='')))"
      ]
     },
     "metadata": {},
     "output_type": "display_data"
    },
    {
     "name": "stdout",
     "output_type": "stream",
     "text": [
      "\n"
     ]
    },
    {
     "data": {
      "application/vnd.jupyter.widget-view+json": {
       "model_id": "59df3b078085491796db06b5698d1441",
       "version_major": 2,
       "version_minor": 0
      },
      "text/plain": [
       "HBox(children=(FloatProgress(value=0.0, description='Stats for original noisy images', max=2.0, style=Progress…"
      ]
     },
     "metadata": {},
     "output_type": "display_data"
    },
    {
     "name": "stdout",
     "output_type": "stream",
     "text": [
      "\n"
     ]
    },
    {
     "data": {
      "application/vnd.jupyter.widget-view+json": {
       "model_id": "4b4ebf442e8e4ba2be47a162fb16dc9d",
       "version_major": 2,
       "version_minor": 0
      },
      "text/plain": [
       "HBox(children=(FloatProgress(value=1.0, bar_style='info', max=1.0), HTML(value='')))"
      ]
     },
     "metadata": {},
     "output_type": "display_data"
    },
    {
     "name": "stdout",
     "output_type": "stream",
     "text": [
      "\n"
     ]
    },
    {
     "data": {
      "application/vnd.jupyter.widget-view+json": {
       "model_id": "95748a54e5bb4387896910a0651848c0",
       "version_major": 2,
       "version_minor": 0
      },
      "text/plain": [
       "HBox(children=(FloatProgress(value=0.0, description='Stats for learnlet_0_55_no_exact_reco', max=2.0, style=Pr…"
      ]
     },
     "metadata": {},
     "output_type": "display_data"
    },
    {
     "name": "stdout",
     "output_type": "stream",
     "text": [
      "\n"
     ]
    },
    {
     "data": {
      "application/vnd.jupyter.widget-view+json": {
       "model_id": "da0a494b9c3c4e0fa298d81973b1bb74",
       "version_major": 2,
       "version_minor": 0
      },
      "text/plain": [
       "HBox(children=(FloatProgress(value=1.0, bar_style='info', max=1.0), HTML(value='')))"
      ]
     },
     "metadata": {},
     "output_type": "display_data"
    },
    {
     "name": "stdout",
     "output_type": "stream",
     "text": [
      "\n"
     ]
    },
    {
     "data": {
      "application/vnd.jupyter.widget-view+json": {
       "model_id": "62dab3b47cd0481f8193ed57d8e03673",
       "version_major": 2,
       "version_minor": 0
      },
      "text/plain": [
       "HBox(children=(FloatProgress(value=0.0, description='Stats for learnlet_0_55_exact_reco', max=2.0, style=Progr…"
      ]
     },
     "metadata": {},
     "output_type": "display_data"
    },
    {
     "name": "stdout",
     "output_type": "stream",
     "text": [
      "\n"
     ]
    },
    {
     "data": {
      "application/vnd.jupyter.widget-view+json": {
       "model_id": "330d77a3728146b2b78c26d2a899c3e7",
       "version_major": 2,
       "version_minor": 0
      },
      "text/plain": [
       "HBox(children=(FloatProgress(value=1.0, bar_style='info', max=1.0), HTML(value='')))"
      ]
     },
     "metadata": {},
     "output_type": "display_data"
    },
    {
     "name": "stdout",
     "output_type": "stream",
     "text": [
      "\n"
     ]
    },
    {
     "data": {
      "application/vnd.jupyter.widget-view+json": {
       "model_id": "c512867769964938bd2ab010c9ecc010",
       "version_major": 2,
       "version_minor": 0
      },
      "text/plain": [
       "HBox(children=(FloatProgress(value=0.0, description='Stats for original noisy images', max=2.0, style=Progress…"
      ]
     },
     "metadata": {},
     "output_type": "display_data"
    },
    {
     "name": "stdout",
     "output_type": "stream",
     "text": [
      "\n"
     ]
    },
    {
     "data": {
      "application/vnd.jupyter.widget-view+json": {
       "model_id": "32d1e0bc06714e5c8ebc32c9a76f062c",
       "version_major": 2,
       "version_minor": 0
      },
      "text/plain": [
       "HBox(children=(FloatProgress(value=1.0, bar_style='info', max=1.0), HTML(value='')))"
      ]
     },
     "metadata": {},
     "output_type": "display_data"
    },
    {
     "name": "stdout",
     "output_type": "stream",
     "text": [
      "\n"
     ]
    },
    {
     "data": {
      "application/vnd.jupyter.widget-view+json": {
       "model_id": "44cce1f2a0934338b857225bcc735a54",
       "version_major": 2,
       "version_minor": 0
      },
      "text/plain": [
       "HBox(children=(FloatProgress(value=0.0, description='Stats for learnlet_0_55_no_exact_reco', max=2.0, style=Pr…"
      ]
     },
     "metadata": {},
     "output_type": "display_data"
    },
    {
     "name": "stdout",
     "output_type": "stream",
     "text": [
      "\n"
     ]
    },
    {
     "data": {
      "application/vnd.jupyter.widget-view+json": {
       "model_id": "5b203bc1d8ef4f8cb062a5b398030ee2",
       "version_major": 2,
       "version_minor": 0
      },
      "text/plain": [
       "HBox(children=(FloatProgress(value=1.0, bar_style='info', max=1.0), HTML(value='')))"
      ]
     },
     "metadata": {},
     "output_type": "display_data"
    },
    {
     "name": "stdout",
     "output_type": "stream",
     "text": [
      "\n"
     ]
    },
    {
     "data": {
      "application/vnd.jupyter.widget-view+json": {
       "model_id": "2aafb42d96d94da7ba9468d17c0a2226",
       "version_major": 2,
       "version_minor": 0
      },
      "text/plain": [
       "HBox(children=(FloatProgress(value=0.0, description='Stats for learnlet_0_55_exact_reco', max=2.0, style=Progr…"
      ]
     },
     "metadata": {},
     "output_type": "display_data"
    },
    {
     "name": "stdout",
     "output_type": "stream",
     "text": [
      "\n"
     ]
    },
    {
     "data": {
      "application/vnd.jupyter.widget-view+json": {
       "model_id": "8b86545509c743ddbc3a55549b020329",
       "version_major": 2,
       "version_minor": 0
      },
      "text/plain": [
       "HBox(children=(FloatProgress(value=1.0, bar_style='info', max=1.0), HTML(value='')))"
      ]
     },
     "metadata": {},
     "output_type": "display_data"
    },
    {
     "name": "stdout",
     "output_type": "stream",
     "text": [
      "\n"
     ]
    },
    {
     "data": {
      "application/vnd.jupyter.widget-view+json": {
       "model_id": "119ac200c09f4e0c914fffef2672357d",
       "version_major": 2,
       "version_minor": 0
      },
      "text/plain": [
       "HBox(children=(FloatProgress(value=0.0, description='Stats for original noisy images', max=2.0, style=Progress…"
      ]
     },
     "metadata": {},
     "output_type": "display_data"
    },
    {
     "name": "stdout",
     "output_type": "stream",
     "text": [
      "\n"
     ]
    },
    {
     "data": {
      "application/vnd.jupyter.widget-view+json": {
       "model_id": "f508f27134be4a36939a733799686f86",
       "version_major": 2,
       "version_minor": 0
      },
      "text/plain": [
       "HBox(children=(FloatProgress(value=1.0, bar_style='info', max=1.0), HTML(value='')))"
      ]
     },
     "metadata": {},
     "output_type": "display_data"
    },
    {
     "name": "stdout",
     "output_type": "stream",
     "text": [
      "\n"
     ]
    },
    {
     "data": {
      "application/vnd.jupyter.widget-view+json": {
       "model_id": "c44b5413a83c4f098ded91ed7f25f1d3",
       "version_major": 2,
       "version_minor": 0
      },
      "text/plain": [
       "HBox(children=(FloatProgress(value=0.0, description='Stats for learnlet_0_55_no_exact_reco', max=2.0, style=Pr…"
      ]
     },
     "metadata": {},
     "output_type": "display_data"
    },
    {
     "name": "stdout",
     "output_type": "stream",
     "text": [
      "\n"
     ]
    },
    {
     "data": {
      "application/vnd.jupyter.widget-view+json": {
       "model_id": "55c4954ac5db444ea3a3f08318d47efe",
       "version_major": 2,
       "version_minor": 0
      },
      "text/plain": [
       "HBox(children=(FloatProgress(value=1.0, bar_style='info', max=1.0), HTML(value='')))"
      ]
     },
     "metadata": {},
     "output_type": "display_data"
    },
    {
     "name": "stdout",
     "output_type": "stream",
     "text": [
      "\n"
     ]
    },
    {
     "data": {
      "application/vnd.jupyter.widget-view+json": {
       "model_id": "c8cbfba6edb44bd8a0cae365ac2d6f22",
       "version_major": 2,
       "version_minor": 0
      },
      "text/plain": [
       "HBox(children=(FloatProgress(value=0.0, description='Stats for learnlet_0_55_exact_reco', max=2.0, style=Progr…"
      ]
     },
     "metadata": {},
     "output_type": "display_data"
    },
    {
     "name": "stdout",
     "output_type": "stream",
     "text": [
      "\n"
     ]
    },
    {
     "data": {
      "application/vnd.jupyter.widget-view+json": {
       "model_id": "50d4523230a74ad7a65b7067362a7135",
       "version_major": 2,
       "version_minor": 0
      },
      "text/plain": [
       "HBox(children=(FloatProgress(value=1.0, bar_style='info', max=1.0), HTML(value='')))"
      ]
     },
     "metadata": {},
     "output_type": "display_data"
    },
    {
     "name": "stdout",
     "output_type": "stream",
     "text": [
      "\n"
     ]
    },
    {
     "data": {
      "application/vnd.jupyter.widget-view+json": {
       "model_id": "c69e8de213814c418903553faa2ea78e",
       "version_major": 2,
       "version_minor": 0
      },
      "text/plain": [
       "HBox(children=(FloatProgress(value=0.0, description='Stats for original noisy images', max=2.0, style=Progress…"
      ]
     },
     "metadata": {},
     "output_type": "display_data"
    },
    {
     "name": "stdout",
     "output_type": "stream",
     "text": [
      "\n"
     ]
    },
    {
     "data": {
      "application/vnd.jupyter.widget-view+json": {
       "model_id": "4994c7480e2e4d58bf059af5a61fbb32",
       "version_major": 2,
       "version_minor": 0
      },
      "text/plain": [
       "HBox(children=(FloatProgress(value=1.0, bar_style='info', max=1.0), HTML(value='')))"
      ]
     },
     "metadata": {},
     "output_type": "display_data"
    },
    {
     "name": "stdout",
     "output_type": "stream",
     "text": [
      "\n"
     ]
    },
    {
     "data": {
      "application/vnd.jupyter.widget-view+json": {
       "model_id": "bd674006c24b49c09729249a239aa61c",
       "version_major": 2,
       "version_minor": 0
      },
      "text/plain": [
       "HBox(children=(FloatProgress(value=0.0, description='Stats for learnlet_0_55_no_exact_reco', max=2.0, style=Pr…"
      ]
     },
     "metadata": {},
     "output_type": "display_data"
    },
    {
     "name": "stdout",
     "output_type": "stream",
     "text": [
      "\n"
     ]
    },
    {
     "data": {
      "application/vnd.jupyter.widget-view+json": {
       "model_id": "9f6fd2b47e0946ada585ead75efc8b23",
       "version_major": 2,
       "version_minor": 0
      },
      "text/plain": [
       "HBox(children=(FloatProgress(value=1.0, bar_style='info', max=1.0), HTML(value='')))"
      ]
     },
     "metadata": {},
     "output_type": "display_data"
    },
    {
     "name": "stdout",
     "output_type": "stream",
     "text": [
      "\n"
     ]
    },
    {
     "data": {
      "application/vnd.jupyter.widget-view+json": {
       "model_id": "82cb8617a178478e8260bc9b115ad2c2",
       "version_major": 2,
       "version_minor": 0
      },
      "text/plain": [
       "HBox(children=(FloatProgress(value=0.0, description='Stats for learnlet_0_55_exact_reco', max=2.0, style=Progr…"
      ]
     },
     "metadata": {},
     "output_type": "display_data"
    },
    {
     "name": "stdout",
     "output_type": "stream",
     "text": [
      "\n"
     ]
    },
    {
     "data": {
      "application/vnd.jupyter.widget-view+json": {
       "model_id": "631644386dc142b598431add66069c33",
       "version_major": 2,
       "version_minor": 0
      },
      "text/plain": [
       "HBox(children=(FloatProgress(value=1.0, bar_style='info', max=1.0), HTML(value='')))"
      ]
     },
     "metadata": {},
     "output_type": "display_data"
    },
    {
     "name": "stdout",
     "output_type": "stream",
     "text": [
      "\n"
     ]
    },
    {
     "data": {
      "application/vnd.jupyter.widget-view+json": {
       "model_id": "2eef9c77362f4a2ca5280bf4967b0511",
       "version_major": 2,
       "version_minor": 0
      },
      "text/plain": [
       "HBox(children=(FloatProgress(value=0.0, description='Stats for original noisy images', max=2.0, style=Progress…"
      ]
     },
     "metadata": {},
     "output_type": "display_data"
    },
    {
     "name": "stdout",
     "output_type": "stream",
     "text": [
      "\n"
     ]
    },
    {
     "data": {
      "application/vnd.jupyter.widget-view+json": {
       "model_id": "f0dba6602f2b42a9a6aab1a8f413e648",
       "version_major": 2,
       "version_minor": 0
      },
      "text/plain": [
       "HBox(children=(FloatProgress(value=1.0, bar_style='info', max=1.0), HTML(value='')))"
      ]
     },
     "metadata": {},
     "output_type": "display_data"
    },
    {
     "name": "stdout",
     "output_type": "stream",
     "text": [
      "\n"
     ]
    },
    {
     "data": {
      "application/vnd.jupyter.widget-view+json": {
       "model_id": "829f3bc6048146fa8afb45df573652b9",
       "version_major": 2,
       "version_minor": 0
      },
      "text/plain": [
       "HBox(children=(FloatProgress(value=0.0, description='Stats for learnlet_0_55_no_exact_reco', max=2.0, style=Pr…"
      ]
     },
     "metadata": {},
     "output_type": "display_data"
    },
    {
     "name": "stdout",
     "output_type": "stream",
     "text": [
      "\n"
     ]
    },
    {
     "data": {
      "application/vnd.jupyter.widget-view+json": {
       "model_id": "f0c230798fdf49818f8b1ea83418633a",
       "version_major": 2,
       "version_minor": 0
      },
      "text/plain": [
       "HBox(children=(FloatProgress(value=1.0, bar_style='info', max=1.0), HTML(value='')))"
      ]
     },
     "metadata": {},
     "output_type": "display_data"
    },
    {
     "name": "stdout",
     "output_type": "stream",
     "text": [
      "\n"
     ]
    },
    {
     "data": {
      "application/vnd.jupyter.widget-view+json": {
       "model_id": "1a12deab9f8a437181254846e5d0de11",
       "version_major": 2,
       "version_minor": 0
      },
      "text/plain": [
       "HBox(children=(FloatProgress(value=0.0, description='Stats for learnlet_0_55_exact_reco', max=2.0, style=Progr…"
      ]
     },
     "metadata": {},
     "output_type": "display_data"
    },
    {
     "name": "stdout",
     "output_type": "stream",
     "text": [
      "\n"
     ]
    },
    {
     "data": {
      "application/vnd.jupyter.widget-view+json": {
       "model_id": "d77739b933de4895b10dfcedff9d214c",
       "version_major": 2,
       "version_minor": 0
      },
      "text/plain": [
       "HBox(children=(FloatProgress(value=1.0, bar_style='info', max=1.0), HTML(value='')))"
      ]
     },
     "metadata": {},
     "output_type": "display_data"
    },
    {
     "name": "stdout",
     "output_type": "stream",
     "text": [
      "\n"
     ]
    },
    {
     "data": {
      "application/vnd.jupyter.widget-view+json": {
       "model_id": "18384e0638444e7e99d1d332b5093e2c",
       "version_major": 2,
       "version_minor": 0
      },
      "text/plain": [
       "HBox(children=(FloatProgress(value=0.0, description='Stats for original noisy images', max=2.0, style=Progress…"
      ]
     },
     "metadata": {},
     "output_type": "display_data"
    },
    {
     "name": "stdout",
     "output_type": "stream",
     "text": [
      "\n"
     ]
    },
    {
     "data": {
      "application/vnd.jupyter.widget-view+json": {
       "model_id": "2c67f2f8a19f4034a735541e76949125",
       "version_major": 2,
       "version_minor": 0
      },
      "text/plain": [
       "HBox(children=(FloatProgress(value=1.0, bar_style='info', max=1.0), HTML(value='')))"
      ]
     },
     "metadata": {},
     "output_type": "display_data"
    },
    {
     "name": "stdout",
     "output_type": "stream",
     "text": [
      "\n"
     ]
    },
    {
     "data": {
      "application/vnd.jupyter.widget-view+json": {
       "model_id": "60ebbc0bde8e4fd08ae17bb333df18d2",
       "version_major": 2,
       "version_minor": 0
      },
      "text/plain": [
       "HBox(children=(FloatProgress(value=0.0, description='Stats for learnlet_0_55_no_exact_reco', max=2.0, style=Pr…"
      ]
     },
     "metadata": {},
     "output_type": "display_data"
    },
    {
     "name": "stdout",
     "output_type": "stream",
     "text": [
      "\n"
     ]
    },
    {
     "data": {
      "application/vnd.jupyter.widget-view+json": {
       "model_id": "603007f175bd4730b4775af8d1564eb6",
       "version_major": 2,
       "version_minor": 0
      },
      "text/plain": [
       "HBox(children=(FloatProgress(value=1.0, bar_style='info', max=1.0), HTML(value='')))"
      ]
     },
     "metadata": {},
     "output_type": "display_data"
    },
    {
     "name": "stdout",
     "output_type": "stream",
     "text": [
      "\n"
     ]
    },
    {
     "data": {
      "application/vnd.jupyter.widget-view+json": {
       "model_id": "f885558de7334c45a3ac20097d9d5fc0",
       "version_major": 2,
       "version_minor": 0
      },
      "text/plain": [
       "HBox(children=(FloatProgress(value=0.0, description='Stats for learnlet_0_55_exact_reco', max=2.0, style=Progr…"
      ]
     },
     "metadata": {},
     "output_type": "display_data"
    },
    {
     "name": "stdout",
     "output_type": "stream",
     "text": [
      "\n"
     ]
    },
    {
     "data": {
      "application/vnd.jupyter.widget-view+json": {
       "model_id": "57482218d0694dcfb42c3905c9d3f981",
       "version_major": 2,
       "version_minor": 0
      },
      "text/plain": [
       "HBox(children=(FloatProgress(value=1.0, bar_style='info', max=1.0), HTML(value='')))"
      ]
     },
     "metadata": {},
     "output_type": "display_data"
    },
    {
     "name": "stdout",
     "output_type": "stream",
     "text": [
      "\n"
     ]
    },
    {
     "data": {
      "application/vnd.jupyter.widget-view+json": {
       "model_id": "b9b9a768310c413a9a2edc735691ecea",
       "version_major": 2,
       "version_minor": 0
      },
      "text/plain": [
       "HBox(children=(FloatProgress(value=0.0, description='Stats for original noisy images', max=2.0, style=Progress…"
      ]
     },
     "metadata": {},
     "output_type": "display_data"
    },
    {
     "name": "stdout",
     "output_type": "stream",
     "text": [
      "\n"
     ]
    },
    {
     "data": {
      "application/vnd.jupyter.widget-view+json": {
       "model_id": "9897693e75e4461eba5562fe29810aca",
       "version_major": 2,
       "version_minor": 0
      },
      "text/plain": [
       "HBox(children=(FloatProgress(value=1.0, bar_style='info', max=1.0), HTML(value='')))"
      ]
     },
     "metadata": {},
     "output_type": "display_data"
    },
    {
     "name": "stdout",
     "output_type": "stream",
     "text": [
      "\n"
     ]
    },
    {
     "data": {
      "application/vnd.jupyter.widget-view+json": {
       "model_id": "d4140be84a5842d2b56686730ecfd2f8",
       "version_major": 2,
       "version_minor": 0
      },
      "text/plain": [
       "HBox(children=(FloatProgress(value=0.0, description='Stats for learnlet_0_55_no_exact_reco', max=2.0, style=Pr…"
      ]
     },
     "metadata": {},
     "output_type": "display_data"
    },
    {
     "name": "stdout",
     "output_type": "stream",
     "text": [
      "\n"
     ]
    },
    {
     "data": {
      "application/vnd.jupyter.widget-view+json": {
       "model_id": "cdc69a54d24d40d58192b1e67c8d7443",
       "version_major": 2,
       "version_minor": 0
      },
      "text/plain": [
       "HBox(children=(FloatProgress(value=1.0, bar_style='info', max=1.0), HTML(value='')))"
      ]
     },
     "metadata": {},
     "output_type": "display_data"
    },
    {
     "name": "stdout",
     "output_type": "stream",
     "text": [
      "\n"
     ]
    },
    {
     "data": {
      "application/vnd.jupyter.widget-view+json": {
       "model_id": "abb1190e1c8d46818ec89d2a693ab4d8",
       "version_major": 2,
       "version_minor": 0
      },
      "text/plain": [
       "HBox(children=(FloatProgress(value=0.0, description='Stats for learnlet_0_55_exact_reco', max=2.0, style=Progr…"
      ]
     },
     "metadata": {},
     "output_type": "display_data"
    },
    {
     "name": "stdout",
     "output_type": "stream",
     "text": [
      "\n"
     ]
    },
    {
     "data": {
      "application/vnd.jupyter.widget-view+json": {
       "model_id": "07cf33226d67417692c7bb0162e4f071",
       "version_major": 2,
       "version_minor": 0
      },
      "text/plain": [
       "HBox(children=(FloatProgress(value=1.0, bar_style='info', max=1.0), HTML(value='')))"
      ]
     },
     "metadata": {},
     "output_type": "display_data"
    },
    {
     "name": "stdout",
     "output_type": "stream",
     "text": [
      "\n"
     ]
    },
    {
     "data": {
      "application/vnd.jupyter.widget-view+json": {
       "model_id": "0b64f91d5d1f4b299ee149e7e3bf5a54",
       "version_major": 2,
       "version_minor": 0
      },
      "text/plain": [
       "HBox(children=(FloatProgress(value=0.0, description='Stats for original noisy images', max=2.0, style=Progress…"
      ]
     },
     "metadata": {},
     "output_type": "display_data"
    },
    {
     "name": "stdout",
     "output_type": "stream",
     "text": [
      "\n"
     ]
    },
    {
     "data": {
      "application/vnd.jupyter.widget-view+json": {
       "model_id": "8b2dce99995e4cfd9c678b67275fff96",
       "version_major": 2,
       "version_minor": 0
      },
      "text/plain": [
       "HBox(children=(FloatProgress(value=1.0, bar_style='info', max=1.0), HTML(value='')))"
      ]
     },
     "metadata": {},
     "output_type": "display_data"
    },
    {
     "name": "stdout",
     "output_type": "stream",
     "text": [
      "\n"
     ]
    },
    {
     "data": {
      "application/vnd.jupyter.widget-view+json": {
       "model_id": "c4219e0cbe314dd6aa218e26452562fa",
       "version_major": 2,
       "version_minor": 0
      },
      "text/plain": [
       "HBox(children=(FloatProgress(value=0.0, description='Stats for learnlet_0_55_no_exact_reco', max=2.0, style=Pr…"
      ]
     },
     "metadata": {},
     "output_type": "display_data"
    },
    {
     "name": "stdout",
     "output_type": "stream",
     "text": [
      "\n"
     ]
    },
    {
     "data": {
      "application/vnd.jupyter.widget-view+json": {
       "model_id": "144f1be7b166420fba3f12cac08eb3fe",
       "version_major": 2,
       "version_minor": 0
      },
      "text/plain": [
       "HBox(children=(FloatProgress(value=1.0, bar_style='info', max=1.0), HTML(value='')))"
      ]
     },
     "metadata": {},
     "output_type": "display_data"
    },
    {
     "name": "stdout",
     "output_type": "stream",
     "text": [
      "\n"
     ]
    },
    {
     "data": {
      "application/vnd.jupyter.widget-view+json": {
       "model_id": "3adc68e970fa4cd1a402507faa854974",
       "version_major": 2,
       "version_minor": 0
      },
      "text/plain": [
       "HBox(children=(FloatProgress(value=0.0, description='Stats for learnlet_0_55_exact_reco', max=2.0, style=Progr…"
      ]
     },
     "metadata": {},
     "output_type": "display_data"
    },
    {
     "name": "stdout",
     "output_type": "stream",
     "text": [
      "\n",
      "\n"
     ]
    }
   ],
   "source": [
    "noise_std_metrics = {}\n",
    "n_samples = 2\n",
    "for noise_std in tqdm_notebook(noise_stds, 'Noise stds'):\n",
    "    metrics = []\n",
    "    for net_params in all_net_params:\n",
    "        im_ds = im_dataset_bsd68(\n",
    "            mode='testing', \n",
    "            batch_size=1, \n",
    "            patch_size=None, \n",
    "            noise_std=noise_std, \n",
    "            return_noise_level=False,\n",
    "            n_pooling=5,\n",
    "            n_samples=n_samples,\n",
    "        )\n",
    "        metrics.append((net_params['name'], metrics_from_ds(im_ds, **net_params)))\n",
    "    im_ds = im_dataset_bsd68(\n",
    "        mode='testing', \n",
    "        batch_size=1, \n",
    "        patch_size=None, \n",
    "        noise_std=noise_std, \n",
    "        return_noise_level=False,\n",
    "        n_pooling=5,\n",
    "        n_samples=n_samples,\n",
    "    )\n",
    "    metrics.append(('original', metrics_original_from_ds(im_ds)))\n",
    "        \n",
    "    for net_params in dynamic_denoising_net_params:\n",
    "        im_ds = im_dataset_bsd68(\n",
    "            mode='testing', \n",
    "            batch_size=1, \n",
    "            patch_size=None, \n",
    "            noise_std=noise_std, \n",
    "            return_noise_level=True,\n",
    "            n_pooling=5,\n",
    "            n_samples=n_samples,\n",
    "        )\n",
    "        metrics.append((net_params['name'], metrics_from_ds(im_ds, **net_params)))\n",
    "\n",
    "#     metrics.append(('bm3d', metrics_bm3d(im_gen_test)))\n",
    "#     metrics.append(('wavelets_24', metrics_wavelets(im_gen_test, '24', noise_std=noise_std)))\n",
    "#     metrics.sort(key=lambda x: x[1].metrics['PSNR'].mean())\n",
    "    noise_std_metrics[noise_std] = metrics"
   ]
  },
  {
   "cell_type": "code",
   "execution_count": 10,
   "metadata": {},
   "outputs": [],
   "source": [
    "# PSNR table\n",
    "psnr_metrics_table = pd.DataFrame(\n",
    "    columns=['noise_std'] + [p['name'] for p in all_net_params] + [p['name'] for p in dynamic_denoising_net_params] + ['original', 'wavelets_24', 'bm3d'],\n",
    ")\n",
    "for i, (noise_std, metrics) in enumerate(noise_std_metrics.items()):\n",
    "    psnr_metrics_table.loc[i, 'noise_std'] = noise_std\n",
    "    for name, m in metrics:\n",
    "        psnr_metrics_table.loc[i, name] = \"{mean:.4} ({std:.2})\".format(\n",
    "            mean=m.metrics['PSNR'].mean(), \n",
    "            std=m.metrics['PSNR'].stddev(),\n",
    "        )\n",
    "psnr_metrics_table;"
   ]
  },
  {
   "cell_type": "code",
   "execution_count": 11,
   "metadata": {},
   "outputs": [],
   "source": [
    "# SSIM table\n",
    "ssim_metrics_table = pd.DataFrame(\n",
    "    columns=['noise_std'] + [p['name'] for p in all_net_params] + [p['name'] for p in dynamic_denoising_net_params] + ['original', 'wavelets_24', 'bm3d'],\n",
    ")\n",
    "for i, (noise_std, metrics) in enumerate(noise_std_metrics.items()):\n",
    "    ssim_metrics_table.loc[i, 'noise_std'] = noise_std\n",
    "    for name, m in metrics:\n",
    "        ssim_metrics_table.loc[i, name] = \"{mean:.4} ({std:.4})\".format(\n",
    "            mean=m.metrics['SSIM'].mean(), \n",
    "            std=m.metrics['SSIM'].stddev(),\n",
    "        )\n",
    "ssim_metrics_table;"
   ]
  },
  {
   "cell_type": "code",
   "execution_count": 12,
   "metadata": {},
   "outputs": [],
   "source": [
    "%matplotlib inline\n",
    "import matplotlib.pyplot as plt\n",
    "import seaborn as sns"
   ]
  },
  {
   "cell_type": "code",
   "execution_count": 13,
   "metadata": {},
   "outputs": [],
   "source": [
    "sns.set(style=\"whitegrid\", palette=\"muted\", rc={'figure.figsize': (9, 5), 'image.cmap': 'gray'})"
   ]
  },
  {
   "cell_type": "code",
   "execution_count": 14,
   "metadata": {
    "scrolled": false
   },
   "outputs": [
    {
     "data": {
      "text/html": [
       "<div>\n",
       "<style scoped>\n",
       "    .dataframe tbody tr th:only-of-type {\n",
       "        vertical-align: middle;\n",
       "    }\n",
       "\n",
       "    .dataframe tbody tr th {\n",
       "        vertical-align: top;\n",
       "    }\n",
       "\n",
       "    .dataframe thead th {\n",
       "        text-align: right;\n",
       "    }\n",
       "</style>\n",
       "<table border=\"1\" class=\"dataframe\">\n",
       "  <thead>\n",
       "    <tr style=\"text-align: right;\">\n",
       "      <th></th>\n",
       "      <th>$\\sigma$</th>\n",
       "      <th>Ratio over original PSNR</th>\n",
       "      <th>psnr-std-dev</th>\n",
       "      <th>model_name</th>\n",
       "      <th>$\\bf{Learnlets}$</th>\n",
       "    </tr>\n",
       "  </thead>\n",
       "  <tbody>\n",
       "    <tr>\n",
       "      <th>0</th>\n",
       "      <td>0.0001</td>\n",
       "      <td>0.981647</td>\n",
       "      <td>0.199887</td>\n",
       "      <td>learnlet_0_55_no_exact_reco</td>\n",
       "      <td>No Exact reconstruction</td>\n",
       "    </tr>\n",
       "    <tr>\n",
       "      <th>1</th>\n",
       "      <td>0.0001</td>\n",
       "      <td>0.981692</td>\n",
       "      <td>0.201739</td>\n",
       "      <td>learnlet_0_55_exact_reco</td>\n",
       "      <td>Exact reconstruction</td>\n",
       "    </tr>\n",
       "    <tr>\n",
       "      <th>2</th>\n",
       "      <td>5</td>\n",
       "      <td>1.08636</td>\n",
       "      <td>0.1504</td>\n",
       "      <td>learnlet_0_55_no_exact_reco</td>\n",
       "      <td>No Exact reconstruction</td>\n",
       "    </tr>\n",
       "    <tr>\n",
       "      <th>3</th>\n",
       "      <td>5</td>\n",
       "      <td>1.08606</td>\n",
       "      <td>0.142551</td>\n",
       "      <td>learnlet_0_55_exact_reco</td>\n",
       "      <td>Exact reconstruction</td>\n",
       "    </tr>\n",
       "    <tr>\n",
       "      <th>4</th>\n",
       "      <td>15</td>\n",
       "      <td>1.27727</td>\n",
       "      <td>0.143296</td>\n",
       "      <td>learnlet_0_55_no_exact_reco</td>\n",
       "      <td>No Exact reconstruction</td>\n",
       "    </tr>\n",
       "    <tr>\n",
       "      <th>5</th>\n",
       "      <td>15</td>\n",
       "      <td>1.27865</td>\n",
       "      <td>0.138883</td>\n",
       "      <td>learnlet_0_55_exact_reco</td>\n",
       "      <td>Exact reconstruction</td>\n",
       "    </tr>\n",
       "    <tr>\n",
       "      <th>6</th>\n",
       "      <td>20</td>\n",
       "      <td>1.36317</td>\n",
       "      <td>0.119915</td>\n",
       "      <td>learnlet_0_55_no_exact_reco</td>\n",
       "      <td>No Exact reconstruction</td>\n",
       "    </tr>\n",
       "    <tr>\n",
       "      <th>7</th>\n",
       "      <td>20</td>\n",
       "      <td>1.363</td>\n",
       "      <td>0.143901</td>\n",
       "      <td>learnlet_0_55_exact_reco</td>\n",
       "      <td>Exact reconstruction</td>\n",
       "    </tr>\n",
       "    <tr>\n",
       "      <th>8</th>\n",
       "      <td>25</td>\n",
       "      <td>1.44336</td>\n",
       "      <td>0.140182</td>\n",
       "      <td>learnlet_0_55_no_exact_reco</td>\n",
       "      <td>No Exact reconstruction</td>\n",
       "    </tr>\n",
       "    <tr>\n",
       "      <th>9</th>\n",
       "      <td>25</td>\n",
       "      <td>1.44238</td>\n",
       "      <td>0.0972532</td>\n",
       "      <td>learnlet_0_55_exact_reco</td>\n",
       "      <td>Exact reconstruction</td>\n",
       "    </tr>\n",
       "    <tr>\n",
       "      <th>10</th>\n",
       "      <td>30</td>\n",
       "      <td>1.52431</td>\n",
       "      <td>0.0873902</td>\n",
       "      <td>learnlet_0_55_no_exact_reco</td>\n",
       "      <td>No Exact reconstruction</td>\n",
       "    </tr>\n",
       "    <tr>\n",
       "      <th>11</th>\n",
       "      <td>30</td>\n",
       "      <td>1.52429</td>\n",
       "      <td>0.117273</td>\n",
       "      <td>learnlet_0_55_exact_reco</td>\n",
       "      <td>Exact reconstruction</td>\n",
       "    </tr>\n",
       "    <tr>\n",
       "      <th>12</th>\n",
       "      <td>50</td>\n",
       "      <td>1.8485</td>\n",
       "      <td>0.172356</td>\n",
       "      <td>learnlet_0_55_no_exact_reco</td>\n",
       "      <td>No Exact reconstruction</td>\n",
       "    </tr>\n",
       "    <tr>\n",
       "      <th>13</th>\n",
       "      <td>50</td>\n",
       "      <td>1.84866</td>\n",
       "      <td>0.200104</td>\n",
       "      <td>learnlet_0_55_exact_reco</td>\n",
       "      <td>Exact reconstruction</td>\n",
       "    </tr>\n",
       "    <tr>\n",
       "      <th>14</th>\n",
       "      <td>55</td>\n",
       "      <td>1.93406</td>\n",
       "      <td>0.162755</td>\n",
       "      <td>learnlet_0_55_no_exact_reco</td>\n",
       "      <td>No Exact reconstruction</td>\n",
       "    </tr>\n",
       "    <tr>\n",
       "      <th>15</th>\n",
       "      <td>55</td>\n",
       "      <td>1.9368</td>\n",
       "      <td>0.134812</td>\n",
       "      <td>learnlet_0_55_exact_reco</td>\n",
       "      <td>Exact reconstruction</td>\n",
       "    </tr>\n",
       "    <tr>\n",
       "      <th>16</th>\n",
       "      <td>60</td>\n",
       "      <td>2.02081</td>\n",
       "      <td>0.198198</td>\n",
       "      <td>learnlet_0_55_no_exact_reco</td>\n",
       "      <td>No Exact reconstruction</td>\n",
       "    </tr>\n",
       "    <tr>\n",
       "      <th>17</th>\n",
       "      <td>60</td>\n",
       "      <td>2.01877</td>\n",
       "      <td>0.200637</td>\n",
       "      <td>learnlet_0_55_exact_reco</td>\n",
       "      <td>Exact reconstruction</td>\n",
       "    </tr>\n",
       "    <tr>\n",
       "      <th>18</th>\n",
       "      <td>75</td>\n",
       "      <td>2.29801</td>\n",
       "      <td>0.241522</td>\n",
       "      <td>learnlet_0_55_no_exact_reco</td>\n",
       "      <td>No Exact reconstruction</td>\n",
       "    </tr>\n",
       "    <tr>\n",
       "      <th>19</th>\n",
       "      <td>75</td>\n",
       "      <td>2.30437</td>\n",
       "      <td>0.215415</td>\n",
       "      <td>learnlet_0_55_exact_reco</td>\n",
       "      <td>Exact reconstruction</td>\n",
       "    </tr>\n",
       "  </tbody>\n",
       "</table>\n",
       "</div>"
      ],
      "text/plain": [
       "   $\\sigma$ Ratio over original PSNR psnr-std-dev  \\\n",
       "0    0.0001                 0.981647     0.199887   \n",
       "1    0.0001                 0.981692     0.201739   \n",
       "2         5                  1.08636       0.1504   \n",
       "3         5                  1.08606     0.142551   \n",
       "4        15                  1.27727     0.143296   \n",
       "5        15                  1.27865     0.138883   \n",
       "6        20                  1.36317     0.119915   \n",
       "7        20                    1.363     0.143901   \n",
       "8        25                  1.44336     0.140182   \n",
       "9        25                  1.44238    0.0972532   \n",
       "10       30                  1.52431    0.0873902   \n",
       "11       30                  1.52429     0.117273   \n",
       "12       50                   1.8485     0.172356   \n",
       "13       50                  1.84866     0.200104   \n",
       "14       55                  1.93406     0.162755   \n",
       "15       55                   1.9368     0.134812   \n",
       "16       60                  2.02081     0.198198   \n",
       "17       60                  2.01877     0.200637   \n",
       "18       75                  2.29801     0.241522   \n",
       "19       75                  2.30437     0.215415   \n",
       "\n",
       "                     model_name         $\\bf{Learnlets}$  \n",
       "0   learnlet_0_55_no_exact_reco  No Exact reconstruction  \n",
       "1      learnlet_0_55_exact_reco     Exact reconstruction  \n",
       "2   learnlet_0_55_no_exact_reco  No Exact reconstruction  \n",
       "3      learnlet_0_55_exact_reco     Exact reconstruction  \n",
       "4   learnlet_0_55_no_exact_reco  No Exact reconstruction  \n",
       "5      learnlet_0_55_exact_reco     Exact reconstruction  \n",
       "6   learnlet_0_55_no_exact_reco  No Exact reconstruction  \n",
       "7      learnlet_0_55_exact_reco     Exact reconstruction  \n",
       "8   learnlet_0_55_no_exact_reco  No Exact reconstruction  \n",
       "9      learnlet_0_55_exact_reco     Exact reconstruction  \n",
       "10  learnlet_0_55_no_exact_reco  No Exact reconstruction  \n",
       "11     learnlet_0_55_exact_reco     Exact reconstruction  \n",
       "12  learnlet_0_55_no_exact_reco  No Exact reconstruction  \n",
       "13     learnlet_0_55_exact_reco     Exact reconstruction  \n",
       "14  learnlet_0_55_no_exact_reco  No Exact reconstruction  \n",
       "15     learnlet_0_55_exact_reco     Exact reconstruction  \n",
       "16  learnlet_0_55_no_exact_reco  No Exact reconstruction  \n",
       "17     learnlet_0_55_exact_reco     Exact reconstruction  \n",
       "18  learnlet_0_55_no_exact_reco  No Exact reconstruction  \n",
       "19     learnlet_0_55_exact_reco     Exact reconstruction  "
      ]
     },
     "execution_count": 14,
     "metadata": {},
     "output_type": "execute_result"
    }
   ],
   "source": [
    "relative_to_original = True\n",
    "\n",
    "model_family_str = r'$\\bf{Learnlets}$'\n",
    "noise_std_str = r'$\\sigma$'\n",
    "psnr_str = 'Ratio over original PSNR'\n",
    "# PSNR to plot\n",
    "psnr_to_plot = pd.DataFrame(\n",
    "    columns=[noise_std_str, psnr_str, 'psnr-std-dev', 'model_name', model_family_str]\n",
    ")\n",
    "\n",
    "def from_name_to_exact_reco(model_name):\n",
    "    if 'no_exact_reco' in model_name:\n",
    "        return 'No Exact reconstruction'\n",
    "    else:\n",
    "        return 'Exact reconstruction'\n",
    "\n",
    "index = 0\n",
    "orig_psnrs = {}\n",
    "for i_noise, (noise_std, metrics) in enumerate(noise_std_metrics.items()):\n",
    "    for j_model, (name, m) in enumerate(metrics):\n",
    "        if relative_to_original and name == 'original':\n",
    "            orig_psnrs[noise_std] = m.metrics['PSNR'].mean()\n",
    "        else:\n",
    "            psnr_to_plot.loc[index, noise_std_str] = noise_std\n",
    "            psnr_to_plot.loc[index, psnr_str] = m.metrics['PSNR'].mean()\n",
    "            psnr_to_plot.loc[index, 'psnr-std-dev'] = m.metrics['PSNR'].stddev() / 2\n",
    "            psnr_to_plot.loc[index, 'model_name'] = name\n",
    "            psnr_to_plot.loc[index, model_family_str] = from_name_to_exact_reco(name)\n",
    "            index += 1    \n",
    "\n",
    "if relative_to_original:\n",
    "    for noise_std, orig_psnr in orig_psnrs.items():\n",
    "        psnr_to_plot.loc[psnr_to_plot[noise_std_str] == noise_std, psnr_str] = psnr_to_plot[psnr_to_plot[noise_std_str] == noise_std][psnr_str] / orig_psnr\n",
    "    \n",
    "psnr_to_plot"
   ]
  },
  {
   "cell_type": "code",
   "execution_count": 15,
   "metadata": {
    "scrolled": false
   },
   "outputs": [
    {
     "data": {
      "image/png": "[encoded data removed]",
      "text/plain": [
       "<Figure size 648x360 with 1 Axes>"
      ]
     },
     "metadata": {},
     "output_type": "display_data"
    }
   ],
   "source": [
    "plt.figure()\n",
    "psnr_to_plot[psnr_str] = psnr_to_plot[psnr_str].astype(float)\n",
    "lplot = sns.lineplot(\n",
    "    x=noise_std_str, \n",
    "    y=psnr_str, \n",
    "    style=model_family_str,\n",
    "    data=psnr_to_plot,\n",
    "    color=(0.9333333333333333, 0.5215686274509804, 0.2901960784313726),\n",
    ")\n",
    "plt.legend(bbox_to_anchor=(0., 1.02, 1., .05), loc='center', borderaxespad=0., ncol=3, fontsize=12.25)\n",
    "# plt.subplots_adjust(right=0.83)\n",
    "plt.savefig(f'gen_wo_error_bars_exact_recon.png')"
   ]
  },
  {
   "cell_type": "code",
   "execution_count": null,
   "metadata": {},
   "outputs": [],
   "source": []
  }
 ],
 "metadata": {
  "kernelspec": {
   "display_name": "Python 3",
   "language": "python",
   "name": "python3"
  },
  "language_info": {
   "codemirror_mode": {
    "name": "ipython",
    "version": 3
   },
   "file_extension": ".py",
   "mimetype": "text/x-python",
   "name": "python",
   "nbconvert_exporter": "python",
   "pygments_lexer": "ipython3",
   "version": "3.6.8"
  },
  "notify_time": "30"
 },
 "nbformat": 4,
 "nbformat_minor": 2
}

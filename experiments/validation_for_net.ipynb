{
 "cells": [
  {
   "cell_type": "code",
   "execution_count": 1,
   "metadata": {},
   "outputs": [
    {
     "name": "stdout",
     "output_type": "stream",
     "text": [
      "/volatile/home/Zaccharie/workspace/understanding-unets\n"
     ]
    }
   ],
   "source": [
    "%cd .."
   ]
  },
  {
   "cell_type": "code",
   "execution_count": 2,
   "metadata": {},
   "outputs": [],
   "source": [
    "# # this just to make sure we are using only on CPU\n",
    "# import os\n",
    "# os.environ[\"CUDA_VISIBLE_DEVICES\"]=\"-1\""
   ]
  },
  {
   "cell_type": "code",
   "execution_count": 3,
   "metadata": {},
   "outputs": [
    {
     "name": "stdout",
     "output_type": "stream",
     "text": [
      "\n",
      "                 .|'''|       /.\\      '||'''|,\n",
      "                 ||          // \\\\      ||   ||\n",
      "'||''|, '||  ||` `|'''|,    //...\\\\     ||...|'\n",
      " ||  ||  `|..||   .   ||   //     \\\\    ||\n",
      " ||..|'      ||   |...|' .//       \\\\. .||\n",
      " ||       ,  |'\n",
      ".||        ''\n",
      "\n",
      "Package version: 0.0.3\n",
      "\n",
      "License: CeCILL-B\n",
      "\n",
      "Authors: \n",
      "\n",
      "Antoine Grigis <antoine.grigis@cea.fr>\n",
      "Samuel Farrens <samuel.farrens@cea.fr>\n",
      "Jean-Luc Starck <jl.stark@cea.fr>\n",
      "Philippe Ciuciu <philippe.ciuciu@cea.fr>\n",
      "\n",
      "Dependencies: \n",
      "\n",
      "scipy          : >=1.3.0   - required | 1.3.0     installed\n",
      "numpy          : >=1.16.4  - required | 1.17.4    installed\n",
      "matplotlib     : >=3.0.0   - required | 3.1.0     installed\n",
      "astropy        : >=3.0.0   - required | 3.1.2     installed\n",
      "nibabel        : >=2.3.2   - required | 2.5.1     installed\n",
      "pyqtgraph      : >=0.10.0  - required | 0.10.0    installed\n",
      "progressbar2   : >=3.34.3  - required | ?         installed\n",
      "modopt         : >=1.4.0   - required | 1.4.1     installed\n",
      "scikit-learn   : >=0.19.1  - required | ?         installed\n",
      "pywt           : >=1.0.0   - required | 1.0.3     installed\n",
      "pysparse       : >=0.0.1   - required | 0.1.0     installed\n",
      "\n"
     ]
    }
   ],
   "source": [
    "%load_ext autoreload\n",
    "%autoreload 2\n",
    "%matplotlib nbagg\n",
    "import time\n",
    "import warnings\n",
    "warnings.filterwarnings(\"ignore\")\n",
    "\n",
    "import bm3d\n",
    "import matplotlib.pyplot as plt\n",
    "import numpy as np\n",
    "import pandas as pd\n",
    "from tqdm import tqdm_notebook\n",
    "\n",
    "from learning_wavelets.data import im_generators, ConcatenateGenerators\n",
    "from learning_wavelets.dncnn import dncnn\n",
    "from learning_wavelets.evaluate import Metrics\n",
    "from learning_wavelets.keras_utils.thresholding import SoftThresholding, HardThresholding, DynamicSoftThresholding, DynamicHardThresholding\n",
    "from learning_wavelets.learned_wavelet import learned_wavelet, learnlet\n",
    "from learning_wavelets.unet import unet\n",
    "from learning_wavelets.wavelet_denoising import wavelet_denoising_pysap"
   ]
  },
  {
   "cell_type": "code",
   "execution_count": 4,
   "metadata": {},
   "outputs": [],
   "source": [
    "np.random.seed(0)"
   ]
  },
  {
   "cell_type": "code",
   "execution_count": 5,
   "metadata": {},
   "outputs": [],
   "source": [
    "plt.rcParams['figure.figsize'] = (9, 5)\n",
    "plt.rcParams['image.cmap'] = 'gray'"
   ]
  },
  {
   "cell_type": "code",
   "execution_count": 6,
   "metadata": {
    "code_folding": []
   },
   "outputs": [],
   "source": [
    "grey = True\n",
    "n_channels = 3\n",
    "if grey:\n",
    "    n_channels = 1\n",
    "noise_std = 30\n",
    "im_gen_train, im_gen_val, im_gen_test, size, n_samples_train = im_generators(\n",
    "    'bsd68', \n",
    "    batch_size=1, \n",
    "    validation_split=0, \n",
    "    no_augment=True, \n",
    "    noise_std=noise_std,\n",
    "    grey=grey\n",
    ")    \n",
    "im_bsd68 = im_gen_test"
   ]
  },
  {
   "cell_type": "code",
   "execution_count": 7,
   "metadata": {},
   "outputs": [],
   "source": [
    "thresh = 2*noise_std/255\n",
    "all_net_params = [\n",
    "#     {\n",
    "#         'name': 'unet',\n",
    "#         'init_function': unet,\n",
    "#         'run_params': {\n",
    "#             'n_layers': 5, \n",
    "#             'pool': 'max', \n",
    "#             \"layers_n_channels\": [64, 128, 256, 512, 1024], \n",
    "#             'layers_n_non_lins': 2,\n",
    "#             'non_relu_contract': False,\n",
    "#             'input_size': (size, size, n_channels),\n",
    "#         },\n",
    "#         'run_id': 'unet_div2k_30_1574408775',\n",
    "#     },\n",
    "#     {\n",
    "#         'name': 'learned wavelet_st',\n",
    "#         'init_function': learned_wavelet,\n",
    "#         'run_params': {\n",
    "#             'n_scales': 5, \n",
    "#             'n_details': 256, \n",
    "#             'n_coarse': n_channels, \n",
    "#             'mixing_details': False,\n",
    "#             'denoising_activation': SoftThresholding(thresh),\n",
    "#             'wav_pooling': True,\n",
    "#             'wav_use_bias': False,\n",
    "#             'wav_normed': True,\n",
    "#             'filters_normed': ['details', 'coarse'],\n",
    "#             'input_size': (size, size, n_channels),     \n",
    "#         },\n",
    "#         'run_id': 'learned_wavelet_div2k_30_1574790444',\n",
    "#         'epoch': 250,\n",
    "#     },\n",
    "#     {\n",
    "#         'name': 'dncnn_50',\n",
    "#         'init_function': dncnn,\n",
    "#         'run_params': {\n",
    "#             'filters': 64, \n",
    "#             'depth': 20,\n",
    "#             'input_size': (size, size, n_channels),     \n",
    "#         },\n",
    "#         'run_id': 'dncnn_div2k_30_1575738740',\n",
    "#         'epoch': 150,\n",
    "#     },\n",
    "    \n",
    "#     {\n",
    "#         'name': 'learned wavelet_ht',\n",
    "#         'init_function': learned_wavelet,\n",
    "#         'run_params': {\n",
    "#             'n_scales': 5, \n",
    "#             'n_details': 256, \n",
    "#             'n_coarse': n_channels, \n",
    "#             'mixing_details': False,\n",
    "#             'denoising_activation': HardThresholding(1.5*thresh),\n",
    "#             'wav_pooling': True,\n",
    "#             'wav_use_bias': False,\n",
    "#             'wav_normed': True,\n",
    "#             'filters_normed': ['details', 'coarse'],\n",
    "#             'input_size': (size, size, n_channels),\n",
    "#         },\n",
    "#         'run_id': 'learned_wavelet_div2k_30_1574371296',\n",
    "#         'epoch': 50,\n",
    "#     },\n",
    "]\n",
    "dynamic_denoising_net_params = [\n",
    "    {\n",
    "        'name': 'learnlet_0_55',\n",
    "        'init_function': learnlet,\n",
    "        'run_params': {\n",
    "            'denoising_activation': DynamicSoftThresholding(2, trainable=False),\n",
    "            'learnlet_analysis_kwargs':{\n",
    "                'n_tiling': 256, \n",
    "                'mixing_details': False,        \n",
    "            },\n",
    "            'learnlet_synthesis_kwargs': {\n",
    "                'res': False,\n",
    "            },\n",
    "            'n_scales': 5,\n",
    "            'exact_reconstruction_weight': 0,\n",
    "            'input_size': (size, size, n_channels),     \n",
    "        },\n",
    "        'run_id': 'learnlet_dynamic_st_div2k_(0, 55)_1575835369',\n",
    "        'epoch': 250,\n",
    "    },\n",
    "    {\n",
    "        'name': 'learnlet_0_55_alpha_learned',\n",
    "        'init_function': learnlet,\n",
    "        'run_params': {\n",
    "            'denoising_activation': DynamicSoftThresholding(2, trainable=True),\n",
    "            'learnlet_analysis_kwargs':{\n",
    "                'n_tiling': 256, \n",
    "                'mixing_details': False,        \n",
    "            },\n",
    "            'learnlet_synthesis_kwargs': {\n",
    "                'res': False,\n",
    "            },\n",
    "            'n_scales': 5,\n",
    "            'exact_reconstruction_weight': 0,\n",
    "            'input_size': (size, size, n_channels),     \n",
    "        },\n",
    "        'run_id': 'learnlet_dynamic_st_div2k_(0, 55)_1575881431',\n",
    "        'epoch': 250,\n",
    "    },\n",
    "    {\n",
    "        'name': 'learnlet_0_55_alpha_learned_bsd',\n",
    "        'init_function': learnlet,\n",
    "        'run_params': {\n",
    "            'denoising_activation': DynamicSoftThresholding(2, trainable=True),\n",
    "            'learnlet_analysis_kwargs':{\n",
    "                'n_tiling': 256, \n",
    "                'mixing_details': False,        \n",
    "            },\n",
    "            'learnlet_synthesis_kwargs': {\n",
    "                'res': False,\n",
    "            },\n",
    "            'n_scales': 5,\n",
    "            'exact_reconstruction_weight': 0,\n",
    "            'input_size': (size, size, n_channels),     \n",
    "        },\n",
    "        'run_id': 'learnlet_dynamic_st_bsd500_0_55_1575932444',\n",
    "        'epoch': 250,\n",
    "    },\n",
    "    {\n",
    "        'name': 'learnlet_0_55_ht',\n",
    "        'init_function': learnlet,\n",
    "        'run_params': {\n",
    "            'denoising_activation': DynamicHardThresholding(3, trainable=False),\n",
    "            'learnlet_analysis_kwargs':{\n",
    "                'n_tiling': 256, \n",
    "                'mixing_details': False,        \n",
    "            },\n",
    "            'learnlet_synthesis_kwargs': {\n",
    "                'res': False,\n",
    "            },\n",
    "            'n_scales': 5,\n",
    "            'exact_reconstruction_weight': 0,\n",
    "            'input_size': (None, None, 1),     \n",
    "        },\n",
    "        'run_id': 'learnlet_dynamic_ht_div2k_(0, 55)_1575898840',\n",
    "        'epoch': 250,\n",
    "    },\n",
    "]\n",
    "all_exact_recon_net_params = [\n",
    "    {\n",
    "        'name': 'learnlet_exact_reco',\n",
    "        'init_function': learnlet,\n",
    "        'run_params': {\n",
    "            'denoising_activation': SoftThresholding(thresh),\n",
    "            'learnlet_analysis_kwargs':{\n",
    "                'n_tiling': 256, \n",
    "                'mixing_details': False,        \n",
    "            },\n",
    "            'learnlet_synthesis_kwargs':{\n",
    "            },\n",
    "            'n_scales': 5,\n",
    "            'exact_reconstruction_weight': 1,\n",
    "            'input_size': (size, size, n_channels),     \n",
    "        },\n",
    "        'run_id': 'learnlet_div2k_30_1575052510',\n",
    "        'epoch': 250,\n",
    "    },\n",
    "]"
   ]
  },
  {
   "cell_type": "code",
   "execution_count": 8,
   "metadata": {},
   "outputs": [],
   "source": [
    "def unpack_model(init_function=None, run_params=None, run_id=None, epoch=250, **dummy_kwargs):\n",
    "    model = init_function(**run_params)\n",
    "    chkpt_path = f'checkpoints/{run_id}-{epoch}.hdf5'\n",
    "    model.load_weights(chkpt_path)\n",
    "    return model\n",
    "\n",
    "def enumerate_seq(seq, name):\n",
    "    return (seq[i] for i in tqdm_notebook(range(len(seq)), desc=f'Val files for {name}'))\n",
    "\n",
    "def enumerate_seq_noisy(seq, name):\n",
    "    return (np.squeeze(seq[i][0]) for i in tqdm_notebook(range(len(seq)), desc=f'Val files for {name}'))\n",
    "\n",
    "def enumerate_seq_gt(seq):\n",
    "    return (np.squeeze(seq[i][1]) for i in range(len(seq)))\n",
    "\n",
    "def metrics_for_params(reco_function=None, name=None, **net_params):\n",
    "    model = unpack_model(**net_params)\n",
    "    metrics = Metrics()\n",
    "    pred_and_gt = [\n",
    "        (model.predict_on_batch(images_noisy), images_gt)\n",
    "        for images_noisy, images_gt in enumerate_seq(im_bsd68, name)\n",
    "    ]    \n",
    "    for im_recos, images in tqdm_notebook(pred_and_gt, desc=f'Stats for {name}'):\n",
    "        metrics.push(images, im_recos.numpy())\n",
    "    return metrics\n",
    "\n",
    "def metrics_exact_recon_net(name=None, **net_params):\n",
    "    model = unpack_model(**net_params)\n",
    "    metrics = Metrics()\n",
    "    pred_and_gt = [\n",
    "        (model.predict_on_batch((images_noisy, images_noisy))[0], images_gt)\n",
    "        for images_noisy, images_gt in enumerate_seq(im_bsd68, name)\n",
    "    ]    \n",
    "    for im_recos, images in tqdm_notebook(pred_and_gt, desc=f'Stats for {name}'):\n",
    "        metrics.push(images, im_recos.numpy())\n",
    "    return metrics\n",
    "\n",
    "def metrics_dynamic_denoising_net(name=None, **net_params):\n",
    "    model = unpack_model(**net_params)\n",
    "    metrics = Metrics()\n",
    "    pred_and_gt = [\n",
    "        (model.predict_on_batch((images_noisy, np.array([[noise_std/255]]))), images_gt)\n",
    "        for images_noisy, images_gt in enumerate_seq(im_bsd68, name)\n",
    "    ]    \n",
    "    for im_recos, images in tqdm_notebook(pred_and_gt, desc=f'Stats for {name}'):\n",
    "        metrics.push(images, im_recos.numpy())\n",
    "    return metrics\n",
    "\n",
    "def metrics_original():\n",
    "    metrics = Metrics()\n",
    "    pred_and_gt = [\n",
    "        (images_noisy, images_gt)\n",
    "        for images_noisy, images_gt in enumerate_seq(im_bsd68, 'Original noisy image')\n",
    "    ]    \n",
    "    for im_recos, images in tqdm_notebook(pred_and_gt, desc='Original noisy image'):\n",
    "        metrics.push(images, im_recos)\n",
    "    return metrics\n",
    "\n",
    "def metrics_wavelets(wavelet_id):\n",
    "    metrics = Metrics()\n",
    "    pred = wavelet_denoising_pysap(\n",
    "        enumerate_seq_noisy(im_bsd68, f'Wavelet denoising {wavelet_id}'),\n",
    "        noise_std=noise_std/255,\n",
    "        wavelet_id=wavelet_id, \n",
    "        n_scales=5, \n",
    "        soft_thresh=False, \n",
    "        n_sigma=3,\n",
    "    )\n",
    "    gt = enumerate_seq_gt(im_bsd68)\n",
    "    for im_recos, images in tqdm_notebook(zip(pred, gt), desc='Stats for wavelet denoising'):\n",
    "        metrics.push(images[..., None], im_recos[..., None])\n",
    "    return metrics\n",
    "\n",
    "def metrics_bm3d():\n",
    "    metrics = Metrics()\n",
    "    pred = [\n",
    "        bm3d.bm3d(image_noisy + 0.5, sigma_psd=noise_std/255, stage_arg=bm3d.BM3DStages.ALL_STAGES) - 0.5\n",
    "        for image_noisy in enumerate_seq_noisy(im_bsd68, f'BM3D')\n",
    "    ]\n",
    "    gt = enumerate_seq_gt(im_bsd68)\n",
    "    for im_recos, images in tqdm_notebook(zip(pred, gt), desc='Stats for bm3d'):\n",
    "        metrics.push(images[..., None], im_recos[..., None])\n",
    "    return metrics"
   ]
  },
  {
   "cell_type": "code",
   "execution_count": 9,
   "metadata": {
    "scrolled": false
   },
   "outputs": [
    {
     "data": {
      "application/vnd.jupyter.widget-view+json": {
       "model_id": "2fde349e1fa24cbaa4e4ae79dac9ec70",
       "version_major": 2,
       "version_minor": 0
      },
      "text/plain": [
       "HBox(children=(IntProgress(value=0, description='Val files for learnlet_exact_reco', max=68, style=ProgressSty…"
      ]
     },
     "metadata": {},
     "output_type": "display_data"
    },
    {
     "name": "stdout",
     "output_type": "stream",
     "text": [
      "\n"
     ]
    },
    {
     "data": {
      "application/vnd.jupyter.widget-view+json": {
       "model_id": "5705f3af57bc4778afb277038499bceb",
       "version_major": 2,
       "version_minor": 0
      },
      "text/plain": [
       "HBox(children=(IntProgress(value=0, description='Stats for learnlet_exact_reco', max=68, style=ProgressStyle(d…"
      ]
     },
     "metadata": {},
     "output_type": "display_data"
    },
    {
     "name": "stdout",
     "output_type": "stream",
     "text": [
      "\n",
      "> \u001b[0;32m<ipython-input-8-5f79d012d158>\u001b[0m(41)\u001b[0;36mmetrics_dynamic_denoising_net\u001b[0;34m()\u001b[0m\n",
      "\u001b[0;32m     40 \u001b[0;31m    \u001b[0;32mimport\u001b[0m \u001b[0mipdb\u001b[0m\u001b[0;34m;\u001b[0m \u001b[0mipdb\u001b[0m\u001b[0;34m.\u001b[0m\u001b[0mset_trace\u001b[0m\u001b[0;34m(\u001b[0m\u001b[0;34m)\u001b[0m\u001b[0;34m\u001b[0m\u001b[0;34m\u001b[0m\u001b[0m\n",
      "\u001b[0m\u001b[0;32m---> 41 \u001b[0;31m    \u001b[0mmetrics\u001b[0m \u001b[0;34m=\u001b[0m \u001b[0mMetrics\u001b[0m\u001b[0;34m(\u001b[0m\u001b[0;34m)\u001b[0m\u001b[0;34m\u001b[0m\u001b[0;34m\u001b[0m\u001b[0m\n",
      "\u001b[0m\u001b[0;32m     42 \u001b[0;31m    pred_and_gt = [\n",
      "\u001b[0m\n",
      "ipdb> c\n"
     ]
    },
    {
     "data": {
      "application/vnd.jupyter.widget-view+json": {
       "model_id": "34afe6994162467d802fe9a41ff00783",
       "version_major": 2,
       "version_minor": 0
      },
      "text/plain": [
       "HBox(children=(IntProgress(value=0, description='Val files for learnlet_0_55', max=68, style=ProgressStyle(des…"
      ]
     },
     "metadata": {},
     "output_type": "display_data"
    },
    {
     "name": "stdout",
     "output_type": "stream",
     "text": [
      "\n"
     ]
    },
    {
     "data": {
      "application/vnd.jupyter.widget-view+json": {
       "model_id": "23a58eceb0b64805b68270f2bcf0e82f",
       "version_major": 2,
       "version_minor": 0
      },
      "text/plain": [
       "HBox(children=(IntProgress(value=0, description='Stats for learnlet_0_55', max=68, style=ProgressStyle(descrip…"
      ]
     },
     "metadata": {},
     "output_type": "display_data"
    },
    {
     "name": "stdout",
     "output_type": "stream",
     "text": [
      "\n",
      "> \u001b[0;32m<ipython-input-8-5f79d012d158>\u001b[0m(41)\u001b[0;36mmetrics_dynamic_denoising_net\u001b[0;34m()\u001b[0m\n",
      "\u001b[0;32m     40 \u001b[0;31m    \u001b[0;32mimport\u001b[0m \u001b[0mipdb\u001b[0m\u001b[0;34m;\u001b[0m \u001b[0mipdb\u001b[0m\u001b[0;34m.\u001b[0m\u001b[0mset_trace\u001b[0m\u001b[0;34m(\u001b[0m\u001b[0;34m)\u001b[0m\u001b[0;34m\u001b[0m\u001b[0;34m\u001b[0m\u001b[0m\n",
      "\u001b[0m\u001b[0;32m---> 41 \u001b[0;31m    \u001b[0mmetrics\u001b[0m \u001b[0;34m=\u001b[0m \u001b[0mMetrics\u001b[0m\u001b[0;34m(\u001b[0m\u001b[0;34m)\u001b[0m\u001b[0;34m\u001b[0m\u001b[0;34m\u001b[0m\u001b[0m\n",
      "\u001b[0m\u001b[0;32m     42 \u001b[0;31m    pred_and_gt = [\n",
      "\u001b[0m\n",
      "ipdb> c\n"
     ]
    },
    {
     "data": {
      "application/vnd.jupyter.widget-view+json": {
       "model_id": "30cbf101bab04618a2b4e8630cf9d6b7",
       "version_major": 2,
       "version_minor": 0
      },
      "text/plain": [
       "HBox(children=(IntProgress(value=0, description='Val files for learnlet_0_55_alpha_learned', max=68, style=Pro…"
      ]
     },
     "metadata": {},
     "output_type": "display_data"
    },
    {
     "name": "stdout",
     "output_type": "stream",
     "text": [
      "\n"
     ]
    },
    {
     "data": {
      "application/vnd.jupyter.widget-view+json": {
       "model_id": "06758b673f92440ba3f8afc3b66f34ca",
       "version_major": 2,
       "version_minor": 0
      },
      "text/plain": [
       "HBox(children=(IntProgress(value=0, description='Stats for learnlet_0_55_alpha_learned', max=68, style=Progres…"
      ]
     },
     "metadata": {},
     "output_type": "display_data"
    },
    {
     "name": "stdout",
     "output_type": "stream",
     "text": [
      "\n",
      "> \u001b[0;32m<ipython-input-8-5f79d012d158>\u001b[0m(41)\u001b[0;36mmetrics_dynamic_denoising_net\u001b[0;34m()\u001b[0m\n",
      "\u001b[0;32m     40 \u001b[0;31m    \u001b[0;32mimport\u001b[0m \u001b[0mipdb\u001b[0m\u001b[0;34m;\u001b[0m \u001b[0mipdb\u001b[0m\u001b[0;34m.\u001b[0m\u001b[0mset_trace\u001b[0m\u001b[0;34m(\u001b[0m\u001b[0;34m)\u001b[0m\u001b[0;34m\u001b[0m\u001b[0;34m\u001b[0m\u001b[0m\n",
      "\u001b[0m\u001b[0;32m---> 41 \u001b[0;31m    \u001b[0mmetrics\u001b[0m \u001b[0;34m=\u001b[0m \u001b[0mMetrics\u001b[0m\u001b[0;34m(\u001b[0m\u001b[0;34m)\u001b[0m\u001b[0;34m\u001b[0m\u001b[0;34m\u001b[0m\u001b[0m\n",
      "\u001b[0m\u001b[0;32m     42 \u001b[0;31m    pred_and_gt = [\n",
      "\u001b[0m\n",
      "ipdb> c\n"
     ]
    },
    {
     "data": {
      "application/vnd.jupyter.widget-view+json": {
       "model_id": "800b80d767384af3bfab70d031d9cd02",
       "version_major": 2,
       "version_minor": 0
      },
      "text/plain": [
       "HBox(children=(IntProgress(value=0, description='Val files for learnlet_0_55_alpha_learned_bsd', max=68, style…"
      ]
     },
     "metadata": {},
     "output_type": "display_data"
    },
    {
     "name": "stdout",
     "output_type": "stream",
     "text": [
      "\n"
     ]
    },
    {
     "data": {
      "application/vnd.jupyter.widget-view+json": {
       "model_id": "0a4f02a9ff3047dfa5f973cb26d65f89",
       "version_major": 2,
       "version_minor": 0
      },
      "text/plain": [
       "HBox(children=(IntProgress(value=0, description='Stats for learnlet_0_55_alpha_learned_bsd', max=68, style=Pro…"
      ]
     },
     "metadata": {},
     "output_type": "display_data"
    },
    {
     "name": "stdout",
     "output_type": "stream",
     "text": [
      "\n",
      "> \u001b[0;32m<ipython-input-8-5f79d012d158>\u001b[0m(41)\u001b[0;36mmetrics_dynamic_denoising_net\u001b[0;34m()\u001b[0m\n",
      "\u001b[0;32m     40 \u001b[0;31m    \u001b[0;32mimport\u001b[0m \u001b[0mipdb\u001b[0m\u001b[0;34m;\u001b[0m \u001b[0mipdb\u001b[0m\u001b[0;34m.\u001b[0m\u001b[0mset_trace\u001b[0m\u001b[0;34m(\u001b[0m\u001b[0;34m)\u001b[0m\u001b[0;34m\u001b[0m\u001b[0;34m\u001b[0m\u001b[0m\n",
      "\u001b[0m\u001b[0;32m---> 41 \u001b[0;31m    \u001b[0mmetrics\u001b[0m \u001b[0;34m=\u001b[0m \u001b[0mMetrics\u001b[0m\u001b[0;34m(\u001b[0m\u001b[0;34m)\u001b[0m\u001b[0;34m\u001b[0m\u001b[0;34m\u001b[0m\u001b[0m\n",
      "\u001b[0m\u001b[0;32m     42 \u001b[0;31m    pred_and_gt = [\n",
      "\u001b[0m\n",
      "ipdb> c\n"
     ]
    },
    {
     "data": {
      "application/vnd.jupyter.widget-view+json": {
       "model_id": "56078f95251c481883550086966aeca2",
       "version_major": 2,
       "version_minor": 0
      },
      "text/plain": [
       "HBox(children=(IntProgress(value=0, description='Val files for learnlet_0_55_ht', max=68, style=ProgressStyle(…"
      ]
     },
     "metadata": {},
     "output_type": "display_data"
    },
    {
     "name": "stdout",
     "output_type": "stream",
     "text": [
      "\n"
     ]
    },
    {
     "data": {
      "application/vnd.jupyter.widget-view+json": {
       "model_id": "40ff2678a751434492ce7ce71908b078",
       "version_major": 2,
       "version_minor": 0
      },
      "text/plain": [
       "HBox(children=(IntProgress(value=0, description='Stats for learnlet_0_55_ht', max=68, style=ProgressStyle(desc…"
      ]
     },
     "metadata": {},
     "output_type": "display_data"
    },
    {
     "name": "stdout",
     "output_type": "stream",
     "text": [
      "\n"
     ]
    },
    {
     "data": {
      "application/vnd.jupyter.widget-view+json": {
       "model_id": "80810e7979f748d191285d6b4e234609",
       "version_major": 2,
       "version_minor": 0
      },
      "text/plain": [
       "HBox(children=(IntProgress(value=0, description='Val files for Original noisy image', max=68, style=ProgressSt…"
      ]
     },
     "metadata": {},
     "output_type": "display_data"
    },
    {
     "name": "stdout",
     "output_type": "stream",
     "text": [
      "\n"
     ]
    },
    {
     "data": {
      "application/vnd.jupyter.widget-view+json": {
       "model_id": "1999a14004a54194ad770202ac69dd0d",
       "version_major": 2,
       "version_minor": 0
      },
      "text/plain": [
       "HBox(children=(IntProgress(value=0, description='Original noisy image', max=68, style=ProgressStyle(descriptio…"
      ]
     },
     "metadata": {},
     "output_type": "display_data"
    },
    {
     "name": "stdout",
     "output_type": "stream",
     "text": [
      "\n",
      "CPU times: user 32.6 s, sys: 2.09 s, total: 34.6 s\n",
      "Wall time: 1min 15s\n"
     ]
    }
   ],
   "source": [
    "%%time\n",
    "metrics = []\n",
    "for net_params in all_net_params:\n",
    "    metrics.append((net_params['name'], metrics_for_params(**net_params)))\n",
    "    \n",
    "for net_params in all_exact_recon_net_params:\n",
    "    metrics.append((net_params['name'], metrics_exact_recon_net(**net_params)))\n",
    "    \n",
    "for net_params in dynamic_denoising_net_params:\n",
    "    metrics.append((net_params['name'], metrics_dynamic_denoising_net(**net_params)))\n",
    "    \n",
    "metrics.append(('original', metrics_original()))\n",
    "# metrics.append(('bm3d', metrics_bm3d()))\n",
    "# metrics.append(('wavelets_24', metrics_wavelets('24')))"
   ]
  },
  {
   "cell_type": "code",
   "execution_count": 10,
   "metadata": {},
   "outputs": [
    {
     "data": {
      "text/plain": [
       "[('learnlet_exact_reco', PSNR = 27.08 +/- 4.704 SSIM = 0.7153 +/- 0.1317),\n",
       " ('learnlet_0_55', PSNR = 27.11 +/- 4.702 SSIM = 0.718 +/- 0.1354),\n",
       " ('learnlet_0_55_alpha_learned',\n",
       "  PSNR = 27.16 +/- 4.619 SSIM = 0.7183 +/- 0.1298),\n",
       " ('learnlet_0_55_alpha_learned_bsd',\n",
       "  PSNR = 27.11 +/- 4.396 SSIM = 0.7129 +/- 0.1174),\n",
       " ('learnlet_0_55_ht', PSNR = 26.9 +/- 4.613 SSIM = 0.7112 +/- 0.1401),\n",
       " ('original', PSNR = 18.59 +/- 0.03542 SSIM = 0.3283 +/- 0.2403)]"
      ]
     },
     "execution_count": 10,
     "metadata": {},
     "output_type": "execute_result"
    }
   ],
   "source": [
    "metrics"
   ]
  },
  {
   "cell_type": "code",
   "execution_count": 11,
   "metadata": {},
   "outputs": [],
   "source": [
    "metrics.sort(key=lambda x: x[1].metrics['PSNR'].mean())"
   ]
  },
  {
   "cell_type": "code",
   "execution_count": 12,
   "metadata": {},
   "outputs": [],
   "source": [
    "# import pickle\n",
    "# with open('metrics_net_rec_fastmri', 'wb') as f:\n",
    "#     pickle.dump(metrics, f)"
   ]
  },
  {
   "cell_type": "code",
   "execution_count": 13,
   "metadata": {},
   "outputs": [],
   "source": [
    "def n_model_params_for_params(reco_function=None, val_gen=None, name=None, **net_params):\n",
    "    model = unpack_model(**net_params)\n",
    "    n_params = model.count_params()\n",
    "    return n_params"
   ]
  },
  {
   "cell_type": "code",
   "execution_count": 14,
   "metadata": {},
   "outputs": [
    {
     "name": "stdout",
     "output_type": "stream",
     "text": [
      "CPU times: user 2.41 s, sys: 104 ms, total: 2.51 s\n",
      "Wall time: 2.43 s\n"
     ]
    }
   ],
   "source": [
    "%%time\n",
    "n_params = {}\n",
    "for net_params in all_net_params:\n",
    "    n_params[net_params['name']] =  n_model_params_for_params(**net_params)\n",
    "    \n",
    "for net_params in dynamic_denoising_net_params:\n",
    "    n_params[net_params['name']] =  n_model_params_for_params(**net_params)\n",
    "\n",
    "for net_params in all_exact_recon_net_params:\n",
    "    n_params[net_params['name']] =  n_model_params_for_params(**net_params)\n",
    "    \n",
    "n_params['original'] =  0\n",
    "# n_params['bm3d'] =  2  # number of scales and type of wavelets\n",
    "# n_params['wavelets_24'] =  2  # number of scales and type of wavelets"
   ]
  },
  {
   "cell_type": "code",
   "execution_count": 15,
   "metadata": {},
   "outputs": [],
   "source": [
    "def runtime_for_params(reco_function=None, name=None, **net_params):\n",
    "    model = unpack_model(**net_params)\n",
    "    data = im_bsd68[0]\n",
    "    start = time.time()\n",
    "    model.predict_on_batch(data[0])\n",
    "    end = time.time()\n",
    "    return end - start\n",
    "\n",
    "def runtime_exact_recon_for_params(reco_function=None, name=None, **net_params):\n",
    "    model = unpack_model(**net_params)\n",
    "    data = im_bsd68[0]\n",
    "    start = time.time()\n",
    "    model.predict_on_batch((data[0], data[0]))\n",
    "    end = time.time()\n",
    "    return end - start\n",
    "\n",
    "def runtime_dynamic_denoising_for_params(reco_function=None, name=None, **net_params):\n",
    "    model = unpack_model(**net_params)\n",
    "    data = im_bsd68[0]\n",
    "    start = time.time()\n",
    "    model.predict_on_batch((data[0], np.array([[noise_std/255]])))\n",
    "    end = time.time()\n",
    "    return end - start"
   ]
  },
  {
   "cell_type": "code",
   "execution_count": 16,
   "metadata": {
    "scrolled": true
   },
   "outputs": [
    {
     "data": {
      "application/vnd.jupyter.widget-view+json": {
       "model_id": "68c3d848128a4daaa6c0408f64972dcb",
       "version_major": 2,
       "version_minor": 0
      },
      "text/plain": [
       "HBox(children=(IntProgress(value=1, bar_style='info', max=1), HTML(value='')))"
      ]
     },
     "metadata": {},
     "output_type": "display_data"
    },
    {
     "name": "stdout",
     "output_type": "stream",
     "text": [
      "\n"
     ]
    },
    {
     "data": {
      "application/vnd.jupyter.widget-view+json": {
       "model_id": "a527887c38ab4da1a77a9165155e1ccd",
       "version_major": 2,
       "version_minor": 0
      },
      "text/plain": [
       "HBox(children=(IntProgress(value=0, max=1), HTML(value='')))"
      ]
     },
     "metadata": {},
     "output_type": "display_data"
    },
    {
     "name": "stdout",
     "output_type": "stream",
     "text": [
      "\n"
     ]
    },
    {
     "data": {
      "application/vnd.jupyter.widget-view+json": {
       "model_id": "c0bcd454f3d4469a883f08be708fb983",
       "version_major": 2,
       "version_minor": 0
      },
      "text/plain": [
       "HBox(children=(IntProgress(value=0, max=4), HTML(value='')))"
      ]
     },
     "metadata": {},
     "output_type": "display_data"
    },
    {
     "name": "stdout",
     "output_type": "stream",
     "text": [
      "\n",
      "CPU times: user 2.73 s, sys: 59.4 ms, total: 2.79 s\n",
      "Wall time: 2.73 s\n"
     ]
    }
   ],
   "source": [
    "%%time\n",
    "runtimes = {}\n",
    "for net_params in tqdm_notebook(all_net_params):\n",
    "    runtimes[net_params['name']] =  runtime_for_params(**net_params)\n",
    "    \n",
    "for net_params in tqdm_notebook(all_exact_recon_net_params):\n",
    "    runtimes[net_params['name']] =  runtime_exact_recon_for_params(**net_params)\n",
    "    \n",
    "for net_params in tqdm_notebook(dynamic_denoising_net_params):\n",
    "    runtimes[net_params['name']] =  runtime_dynamic_denoising_for_params(**net_params)\n",
    "    \n",
    "runtimes['original'] = 'NA'\n",
    "# runtimes['bm3d'] = 'NA'  # TODO: code function for that\n",
    "# runtimes['wavelets_24'] = 'NA'  # TODO: code function for that"
   ]
  },
  {
   "cell_type": "code",
   "execution_count": 17,
   "metadata": {},
   "outputs": [],
   "source": [
    "metrics_table = pd.DataFrame(\n",
    "    index=[name for name, _ in metrics], \n",
    "    columns=['PSNR-mean (std) (dB)', 'SSIM-mean (std)', '# params', 'Runtime (s)'],\n",
    ")\n",
    "for name, m in metrics:\n",
    "    metrics_table.loc[name, 'PSNR-mean (std) (dB)'] = \"{mean:.4} ({std:.4})\".format(\n",
    "        mean=m.metrics['PSNR'].mean(), \n",
    "        std=m.metrics['PSNR'].stddev(),\n",
    "    )\n",
    "    metrics_table.loc[name, 'SSIM-mean (std)'] = \"{mean:.4} ({std:.4})\".format(\n",
    "        mean=m.metrics['SSIM'].mean(), \n",
    "        std=m.metrics['SSIM'].stddev(),\n",
    "    )\n",
    "    metrics_table.loc[name, '# params'] = \"{}\".format(\n",
    "        n_params[name], \n",
    "     )\n",
    "    metrics_table.loc[name, 'Runtime (s)'] = \"{runtime:.4}\".format(\n",
    "        runtime=runtimes[name], \n",
    "    )"
   ]
  },
  {
   "cell_type": "code",
   "execution_count": 18,
   "metadata": {},
   "outputs": [
    {
     "data": {
      "text/html": [
       "<div>\n",
       "<style scoped>\n",
       "    .dataframe tbody tr th:only-of-type {\n",
       "        vertical-align: middle;\n",
       "    }\n",
       "\n",
       "    .dataframe tbody tr th {\n",
       "        vertical-align: top;\n",
       "    }\n",
       "\n",
       "    .dataframe thead th {\n",
       "        text-align: right;\n",
       "    }\n",
       "</style>\n",
       "<table border=\"1\" class=\"dataframe\">\n",
       "  <thead>\n",
       "    <tr style=\"text-align: right;\">\n",
       "      <th></th>\n",
       "      <th>PSNR-mean (std) (dB)</th>\n",
       "      <th>SSIM-mean (std)</th>\n",
       "      <th># params</th>\n",
       "      <th>Runtime (s)</th>\n",
       "    </tr>\n",
       "  </thead>\n",
       "  <tbody>\n",
       "    <tr>\n",
       "      <td>original</td>\n",
       "      <td>18.59 (0.01771)</td>\n",
       "      <td>0.3283 (0.1202)</td>\n",
       "      <td>0</td>\n",
       "      <td>NA</td>\n",
       "    </tr>\n",
       "    <tr>\n",
       "      <td>learnlet_0_55_ht</td>\n",
       "      <td>26.9 (2.306)</td>\n",
       "      <td>0.7112 (0.07007)</td>\n",
       "      <td>65456</td>\n",
       "      <td>0.05246</td>\n",
       "    </tr>\n",
       "    <tr>\n",
       "      <td>learnlet_exact_reco</td>\n",
       "      <td>27.08 (2.352)</td>\n",
       "      <td>0.7153 (0.06584)</td>\n",
       "      <td>65455</td>\n",
       "      <td>0.09662</td>\n",
       "    </tr>\n",
       "    <tr>\n",
       "      <td>learnlet_0_55_alpha_learned_bsd</td>\n",
       "      <td>27.11 (2.198)</td>\n",
       "      <td>0.7129 (0.05869)</td>\n",
       "      <td>65456</td>\n",
       "      <td>0.03626</td>\n",
       "    </tr>\n",
       "    <tr>\n",
       "      <td>learnlet_0_55</td>\n",
       "      <td>27.11 (2.351)</td>\n",
       "      <td>0.718 (0.06769)</td>\n",
       "      <td>65456</td>\n",
       "      <td>0.04766</td>\n",
       "    </tr>\n",
       "    <tr>\n",
       "      <td>learnlet_0_55_alpha_learned</td>\n",
       "      <td>27.16 (2.31)</td>\n",
       "      <td>0.7183 (0.06488)</td>\n",
       "      <td>65456</td>\n",
       "      <td>0.04564</td>\n",
       "    </tr>\n",
       "  </tbody>\n",
       "</table>\n",
       "</div>"
      ],
      "text/plain": [
       "                                PSNR-mean (std) (dB)   SSIM-mean (std)  \\\n",
       "original                             18.59 (0.01771)   0.3283 (0.1202)   \n",
       "learnlet_0_55_ht                        26.9 (2.306)  0.7112 (0.07007)   \n",
       "learnlet_exact_reco                    27.08 (2.352)  0.7153 (0.06584)   \n",
       "learnlet_0_55_alpha_learned_bsd        27.11 (2.198)  0.7129 (0.05869)   \n",
       "learnlet_0_55                          27.11 (2.351)   0.718 (0.06769)   \n",
       "learnlet_0_55_alpha_learned             27.16 (2.31)  0.7183 (0.06488)   \n",
       "\n",
       "                                # params Runtime (s)  \n",
       "original                               0          NA  \n",
       "learnlet_0_55_ht                   65456     0.05246  \n",
       "learnlet_exact_reco                65455     0.09662  \n",
       "learnlet_0_55_alpha_learned_bsd    65456     0.03626  \n",
       "learnlet_0_55                      65456     0.04766  \n",
       "learnlet_0_55_alpha_learned        65456     0.04564  "
      ]
     },
     "execution_count": 18,
     "metadata": {},
     "output_type": "execute_result"
    }
   ],
   "source": [
    "metrics_table"
   ]
  },
  {
   "cell_type": "code",
   "execution_count": null,
   "metadata": {},
   "outputs": [],
   "source": []
  }
 ],
 "metadata": {
  "kernelspec": {
   "display_name": "Python 3",
   "language": "python",
   "name": "python3"
  },
  "language_info": {
   "codemirror_mode": {
    "name": "ipython",
    "version": 3
   },
   "file_extension": ".py",
   "mimetype": "text/x-python",
   "name": "python",
   "nbconvert_exporter": "python",
   "pygments_lexer": "ipython3",
   "version": "3.6.8"
  },
  "notify_time": "30"
 },
 "nbformat": 4,
 "nbformat_minor": 2
}

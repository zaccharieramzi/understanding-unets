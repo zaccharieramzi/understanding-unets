{
 "cells": [
  {
   "cell_type": "code",
   "execution_count": 1,
   "metadata": {},
   "outputs": [
    {
     "name": "stdout",
     "output_type": "stream",
     "text": [
      "/volatile/home/Zaccharie/workspace/understanding-unets\n"
     ]
    }
   ],
   "source": [
    "%cd ../.."
   ]
  },
  {
   "cell_type": "code",
   "execution_count": 2,
   "metadata": {},
   "outputs": [],
   "source": [
    "# this just to make sure we are using only on CPU\n",
    "import os\n",
    "os.environ[\"CUDA_VISIBLE_DEVICES\"]=\"-1\""
   ]
  },
  {
   "cell_type": "code",
   "execution_count": 3,
   "metadata": {},
   "outputs": [
    {
     "name": "stdout",
     "output_type": "stream",
     "text": [
      "\n",
      "                 .|'''|       /.\\      '||'''|,\n",
      "                 ||          // \\\\      ||   ||\n",
      "'||''|, '||  ||` `|'''|,    //...\\\\     ||...|'\n",
      " ||  ||  `|..||   .   ||   //     \\\\    ||\n",
      " ||..|'      ||   |...|' .//       \\\\. .||\n",
      " ||       ,  |'\n",
      ".||        ''\n",
      "\n",
      "Package version: 0.0.3\n",
      "\n",
      "License: CeCILL-B\n",
      "\n",
      "Authors: \n",
      "\n",
      "Antoine Grigis <antoine.grigis@cea.fr>\n",
      "Samuel Farrens <samuel.farrens@cea.fr>\n",
      "Jean-Luc Starck <jl.stark@cea.fr>\n",
      "Philippe Ciuciu <philippe.ciuciu@cea.fr>\n",
      "\n",
      "Dependencies: \n",
      "\n",
      "scipy          : >=1.3.0   - required | 1.4.1     installed\n",
      "numpy          : >=1.16.4  - required | 1.17.4    installed\n",
      "matplotlib     : >=3.0.0   - required | 3.1.2     installed\n",
      "astropy        : >=3.0.0   - required | 3.2.3     installed\n",
      "nibabel        : >=2.3.2   - required | 2.5.1     installed\n",
      "pyqtgraph      : >=0.10.0  - required | 0.10.0    installed\n",
      "progressbar2   : >=3.34.3  - required | ?         installed\n",
      "modopt         : >=1.4.0   - required | 1.4.1     installed\n",
      "scikit-learn   : >=0.19.1  - required | ?         installed\n",
      "pywt           : >=1.0.0   - required | 1.1.1     installed\n",
      "pysparse       : >=0.0.1   - required | 0.1.0     installed\n",
      "\n"
     ]
    }
   ],
   "source": [
    "%load_ext autoreload\n",
    "%autoreload 2\n",
    "import copy\n",
    "import time\n",
    "\n",
    "import numpy as np\n",
    "import pandas as pd\n",
    "from tqdm import tqdm_notebook\n",
    "\n",
    "from learning_wavelets.data.datasets import im_dataset_bsd68\n",
    "from learning_wavelets.keras_utils.thresholding import SoftThresholding, HardThresholding, DynamicSoftThresholding, DynamicHardThresholding, RelaxedDynamicHardThresholding, LocalWienerFiltering\n",
    "from learning_wavelets.models.learned_wavelet import learnlet\n",
    "from learning_wavelets.models.unet import unet\n",
    "from learning_wavelets.utils.metrics import metrics_from_ds, metrics_original_from_ds"
   ]
  },
  {
   "cell_type": "code",
   "execution_count": 4,
   "metadata": {},
   "outputs": [],
   "source": [
    "np.random.seed(0)"
   ]
  },
  {
   "cell_type": "code",
   "execution_count": 5,
   "metadata": {
    "code_folding": []
   },
   "outputs": [],
   "source": [
    "all_net_params = [\n",
    "    {\n",
    "        'name': 'unet-multiple-stds',\n",
    "        'init_function': unet,\n",
    "        'run_params': {\n",
    "            'n_layers': 5, \n",
    "            'pool': 'max', \n",
    "            \"layers_n_channels\": [64, 128, 256, 512, 1024], \n",
    "            'layers_n_non_lins': 2,\n",
    "            'non_relu_contract': False,\n",
    "            'bn': True,\n",
    "            'input_size': (None, None, 1),\n",
    "        },\n",
    "        'run_id': 'unet_dynamic_st_bsd500_0_55_1576668365',\n",
    "        'epoch': 500,\n",
    "    },\n",
    "]\n",
    "\n",
    "dynamic_denoising_net_params = [\n",
    "    {\n",
    "        'name': 'learnlet_0_55_big_bsd',\n",
    "        'init_function': learnlet,\n",
    "        'run_params': {\n",
    "            'denoising_activation': 'dynamic_soft_thresholding',\n",
    "            'learnlet_analysis_kwargs':{\n",
    "                'n_tiling': 256, \n",
    "                'mixing_details': False,  \n",
    "                'kernel_size': 11,\n",
    "                'skip_connection': True,\n",
    "            },\n",
    "            'learnlet_synthesis_kwargs': {\n",
    "                'res': True,\n",
    "                'kernel_size': 13,\n",
    "            },\n",
    "            'n_scales': 5,\n",
    "            'clip': False,\n",
    "            'input_size': (None, None, 1),     \n",
    "        },\n",
    "        'run_id': 'learnlet_dynamic_st_bsd500_0_55_1580806694',\n",
    "        'epoch': 500,\n",
    "    },\n",
    "]"
   ]
  },
  {
   "cell_type": "code",
   "execution_count": 6,
   "metadata": {},
   "outputs": [],
   "source": [
    "noise_stds = [0.0001, 5, 15, 20, 25, 30, 50, 55, 60, 75]"
   ]
  },
  {
   "cell_type": "code",
   "execution_count": 7,
   "metadata": {
    "code_folding": [],
    "scrolled": true
   },
   "outputs": [
    {
     "name": "stderr",
     "output_type": "stream",
     "text": [
      "/volatile/home/Zaccharie/workspace/understanding-unets/venv/lib/python3.6/site-packages/ipykernel_launcher.py:3: TqdmDeprecationWarning: This function will be removed in tqdm==5.0.0\n",
      "Please use `tqdm.notebook.tqdm` instead of `tqdm.tqdm_notebook`\n",
      "  This is separate from the ipykernel package so we can avoid doing imports until\n"
     ]
    },
    {
     "data": {
      "application/vnd.jupyter.widget-view+json": {
       "model_id": "82c694ed92504df0b860eeaf63be3c59",
       "version_major": 2,
       "version_minor": 0
      },
      "text/plain": [
       "HBox(children=(FloatProgress(value=0.0, description='Noise stds', max=8.0, style=ProgressStyle(description_wid…"
      ]
     },
     "metadata": {},
     "output_type": "display_data"
    },
    {
     "data": {
      "application/vnd.jupyter.widget-view+json": {
       "model_id": "e5f55e7244df457285c1a6d2d2756090",
       "version_major": 2,
       "version_minor": 0
      },
      "text/plain": [
       "HBox(children=(FloatProgress(value=1.0, bar_style='info', max=1.0), HTML(value='')))"
      ]
     },
     "metadata": {},
     "output_type": "display_data"
    },
    {
     "name": "stdout",
     "output_type": "stream",
     "text": [
      "\n"
     ]
    },
    {
     "data": {
      "application/vnd.jupyter.widget-view+json": {
       "model_id": "6e82249a28714323993874f5eec8b5c3",
       "version_major": 2,
       "version_minor": 0
      },
      "text/plain": [
       "HBox(children=(FloatProgress(value=0.0, description='Stats for unet-multiple-stds', max=2.0, style=ProgressSty…"
      ]
     },
     "metadata": {},
     "output_type": "display_data"
    },
    {
     "name": "stdout",
     "output_type": "stream",
     "text": [
      "\n"
     ]
    },
    {
     "name": "stderr",
     "output_type": "stream",
     "text": [
      "/volatile/home/Zaccharie/workspace/understanding-unets/learning_wavelets/evaluate.py:34: UserWarning: DEPRECATED: skimage.measure.compare_psnr has been moved to skimage.metrics.peak_signal_noise_ratio. It will be removed from skimage.measure in version 0.18.\n",
      "  return compare_psnr(gt, pred, data_range=1)\n",
      "/volatile/home/Zaccharie/workspace/understanding-unets/learning_wavelets/evaluate.py:43: UserWarning: DEPRECATED: skimage.measure.compare_ssim has been moved to skimage.metrics.structural_similarity. It will be removed from skimage.measure in version 0.18.\n",
      "  gt, pred, multichannel=True, data_range=1\n"
     ]
    },
    {
     "data": {
      "application/vnd.jupyter.widget-view+json": {
       "model_id": "83796270c1834a19a749a1f21819fa1b",
       "version_major": 2,
       "version_minor": 0
      },
      "text/plain": [
       "HBox(children=(FloatProgress(value=1.0, bar_style='info', max=1.0), HTML(value='')))"
      ]
     },
     "metadata": {},
     "output_type": "display_data"
    },
    {
     "name": "stdout",
     "output_type": "stream",
     "text": [
      "\n"
     ]
    },
    {
     "data": {
      "application/vnd.jupyter.widget-view+json": {
       "model_id": "87e013dd579e4b06be9f3857197f63d2",
       "version_major": 2,
       "version_minor": 0
      },
      "text/plain": [
       "HBox(children=(FloatProgress(value=0.0, description='Stats for original noisy images', max=2.0, style=Progress…"
      ]
     },
     "metadata": {},
     "output_type": "display_data"
    },
    {
     "name": "stdout",
     "output_type": "stream",
     "text": [
      "\n"
     ]
    },
    {
     "data": {
      "application/vnd.jupyter.widget-view+json": {
       "model_id": "e0b5c675e44a4e228fb86852eb3047fe",
       "version_major": 2,
       "version_minor": 0
      },
      "text/plain": [
       "HBox(children=(FloatProgress(value=1.0, bar_style='info', max=1.0), HTML(value='')))"
      ]
     },
     "metadata": {},
     "output_type": "display_data"
    },
    {
     "name": "stdout",
     "output_type": "stream",
     "text": [
      "\n"
     ]
    },
    {
     "data": {
      "application/vnd.jupyter.widget-view+json": {
       "model_id": "65124684950243e585c8377c6239ec04",
       "version_major": 2,
       "version_minor": 0
      },
      "text/plain": [
       "HBox(children=(FloatProgress(value=0.0, description='Stats for learnlet_0_55_big_bsd', max=2.0, style=Progress…"
      ]
     },
     "metadata": {},
     "output_type": "display_data"
    },
    {
     "name": "stdout",
     "output_type": "stream",
     "text": [
      "\n"
     ]
    },
    {
     "data": {
      "application/vnd.jupyter.widget-view+json": {
       "model_id": "7d2bafb816e74e0cb8247fc2a42173fa",
       "version_major": 2,
       "version_minor": 0
      },
      "text/plain": [
       "HBox(children=(FloatProgress(value=1.0, bar_style='info', max=1.0), HTML(value='')))"
      ]
     },
     "metadata": {},
     "output_type": "display_data"
    },
    {
     "name": "stdout",
     "output_type": "stream",
     "text": [
      "\n"
     ]
    },
    {
     "data": {
      "application/vnd.jupyter.widget-view+json": {
       "model_id": "676e1b08f3974454a8837c49b781148e",
       "version_major": 2,
       "version_minor": 0
      },
      "text/plain": [
       "HBox(children=(FloatProgress(value=0.0, description='Stats for unet-multiple-stds', max=2.0, style=ProgressSty…"
      ]
     },
     "metadata": {},
     "output_type": "display_data"
    },
    {
     "name": "stdout",
     "output_type": "stream",
     "text": [
      "\n"
     ]
    },
    {
     "data": {
      "application/vnd.jupyter.widget-view+json": {
       "model_id": "100da78d4c95453683303c8b71b925a5",
       "version_major": 2,
       "version_minor": 0
      },
      "text/plain": [
       "HBox(children=(FloatProgress(value=1.0, bar_style='info', max=1.0), HTML(value='')))"
      ]
     },
     "metadata": {},
     "output_type": "display_data"
    },
    {
     "name": "stdout",
     "output_type": "stream",
     "text": [
      "\n"
     ]
    },
    {
     "data": {
      "application/vnd.jupyter.widget-view+json": {
       "model_id": "1fa87161c51c448180f41cbd4e581d59",
       "version_major": 2,
       "version_minor": 0
      },
      "text/plain": [
       "HBox(children=(FloatProgress(value=0.0, description='Stats for original noisy images', max=2.0, style=Progress…"
      ]
     },
     "metadata": {},
     "output_type": "display_data"
    },
    {
     "name": "stdout",
     "output_type": "stream",
     "text": [
      "\n"
     ]
    },
    {
     "data": {
      "application/vnd.jupyter.widget-view+json": {
       "model_id": "2ad45a397bb847fbbbedcf6dc120064f",
       "version_major": 2,
       "version_minor": 0
      },
      "text/plain": [
       "HBox(children=(FloatProgress(value=1.0, bar_style='info', max=1.0), HTML(value='')))"
      ]
     },
     "metadata": {},
     "output_type": "display_data"
    },
    {
     "name": "stdout",
     "output_type": "stream",
     "text": [
      "\n"
     ]
    },
    {
     "data": {
      "application/vnd.jupyter.widget-view+json": {
       "model_id": "0cea926487564d67ba0766e77260199a",
       "version_major": 2,
       "version_minor": 0
      },
      "text/plain": [
       "HBox(children=(FloatProgress(value=0.0, description='Stats for learnlet_0_55_big_bsd', max=2.0, style=Progress…"
      ]
     },
     "metadata": {},
     "output_type": "display_data"
    },
    {
     "name": "stdout",
     "output_type": "stream",
     "text": [
      "\n"
     ]
    },
    {
     "data": {
      "application/vnd.jupyter.widget-view+json": {
       "model_id": "f1acc991b3544ed4892b21602c6d6a00",
       "version_major": 2,
       "version_minor": 0
      },
      "text/plain": [
       "HBox(children=(FloatProgress(value=1.0, bar_style='info', max=1.0), HTML(value='')))"
      ]
     },
     "metadata": {},
     "output_type": "display_data"
    },
    {
     "name": "stdout",
     "output_type": "stream",
     "text": [
      "\n"
     ]
    },
    {
     "data": {
      "application/vnd.jupyter.widget-view+json": {
       "model_id": "fdf82c100f714ac4a74cd2f99139c6a1",
       "version_major": 2,
       "version_minor": 0
      },
      "text/plain": [
       "HBox(children=(FloatProgress(value=0.0, description='Stats for unet-multiple-stds', max=2.0, style=ProgressSty…"
      ]
     },
     "metadata": {},
     "output_type": "display_data"
    },
    {
     "name": "stdout",
     "output_type": "stream",
     "text": [
      "\n"
     ]
    },
    {
     "data": {
      "application/vnd.jupyter.widget-view+json": {
       "model_id": "b101bddcbd454cc996f128af0acbcf98",
       "version_major": 2,
       "version_minor": 0
      },
      "text/plain": [
       "HBox(children=(FloatProgress(value=1.0, bar_style='info', max=1.0), HTML(value='')))"
      ]
     },
     "metadata": {},
     "output_type": "display_data"
    },
    {
     "name": "stdout",
     "output_type": "stream",
     "text": [
      "\n"
     ]
    },
    {
     "data": {
      "application/vnd.jupyter.widget-view+json": {
       "model_id": "b8c343fb2ac14a0fb0d71d85b40bf5dd",
       "version_major": 2,
       "version_minor": 0
      },
      "text/plain": [
       "HBox(children=(FloatProgress(value=0.0, description='Stats for original noisy images', max=2.0, style=Progress…"
      ]
     },
     "metadata": {},
     "output_type": "display_data"
    },
    {
     "name": "stdout",
     "output_type": "stream",
     "text": [
      "\n"
     ]
    },
    {
     "data": {
      "application/vnd.jupyter.widget-view+json": {
       "model_id": "0ffc15f007ee447492ee8face2382757",
       "version_major": 2,
       "version_minor": 0
      },
      "text/plain": [
       "HBox(children=(FloatProgress(value=1.0, bar_style='info', max=1.0), HTML(value='')))"
      ]
     },
     "metadata": {},
     "output_type": "display_data"
    },
    {
     "name": "stdout",
     "output_type": "stream",
     "text": [
      "\n"
     ]
    },
    {
     "data": {
      "application/vnd.jupyter.widget-view+json": {
       "model_id": "c197fa80184f4e2cafedb47c58035cf8",
       "version_major": 2,
       "version_minor": 0
      },
      "text/plain": [
       "HBox(children=(FloatProgress(value=0.0, description='Stats for learnlet_0_55_big_bsd', max=2.0, style=Progress…"
      ]
     },
     "metadata": {},
     "output_type": "display_data"
    },
    {
     "name": "stdout",
     "output_type": "stream",
     "text": [
      "\n"
     ]
    },
    {
     "data": {
      "application/vnd.jupyter.widget-view+json": {
       "model_id": "d70a6e882f5f42499523cb417d114539",
       "version_major": 2,
       "version_minor": 0
      },
      "text/plain": [
       "HBox(children=(FloatProgress(value=1.0, bar_style='info', max=1.0), HTML(value='')))"
      ]
     },
     "metadata": {},
     "output_type": "display_data"
    },
    {
     "name": "stdout",
     "output_type": "stream",
     "text": [
      "\n"
     ]
    },
    {
     "data": {
      "application/vnd.jupyter.widget-view+json": {
       "model_id": "ee56c2209a354d7bbe7ed76592cbc6ed",
       "version_major": 2,
       "version_minor": 0
      },
      "text/plain": [
       "HBox(children=(FloatProgress(value=0.0, description='Stats for unet-multiple-stds', max=2.0, style=ProgressSty…"
      ]
     },
     "metadata": {},
     "output_type": "display_data"
    },
    {
     "name": "stdout",
     "output_type": "stream",
     "text": [
      "\n"
     ]
    },
    {
     "data": {
      "application/vnd.jupyter.widget-view+json": {
       "model_id": "824e2e92c38f49ccb73f1720e5873328",
       "version_major": 2,
       "version_minor": 0
      },
      "text/plain": [
       "HBox(children=(FloatProgress(value=1.0, bar_style='info', max=1.0), HTML(value='')))"
      ]
     },
     "metadata": {},
     "output_type": "display_data"
    },
    {
     "name": "stdout",
     "output_type": "stream",
     "text": [
      "\n"
     ]
    },
    {
     "data": {
      "application/vnd.jupyter.widget-view+json": {
       "model_id": "129f6f07f2824b0b853e9884d163fc22",
       "version_major": 2,
       "version_minor": 0
      },
      "text/plain": [
       "HBox(children=(FloatProgress(value=0.0, description='Stats for original noisy images', max=2.0, style=Progress…"
      ]
     },
     "metadata": {},
     "output_type": "display_data"
    },
    {
     "name": "stdout",
     "output_type": "stream",
     "text": [
      "\n"
     ]
    },
    {
     "data": {
      "application/vnd.jupyter.widget-view+json": {
       "model_id": "191cc167b464468baac262768d9145bf",
       "version_major": 2,
       "version_minor": 0
      },
      "text/plain": [
       "HBox(children=(FloatProgress(value=1.0, bar_style='info', max=1.0), HTML(value='')))"
      ]
     },
     "metadata": {},
     "output_type": "display_data"
    },
    {
     "name": "stdout",
     "output_type": "stream",
     "text": [
      "\n"
     ]
    },
    {
     "data": {
      "application/vnd.jupyter.widget-view+json": {
       "model_id": "69295779b1834ccc8813622639ae616e",
       "version_major": 2,
       "version_minor": 0
      },
      "text/plain": [
       "HBox(children=(FloatProgress(value=0.0, description='Stats for learnlet_0_55_big_bsd', max=2.0, style=Progress…"
      ]
     },
     "metadata": {},
     "output_type": "display_data"
    },
    {
     "name": "stdout",
     "output_type": "stream",
     "text": [
      "\n"
     ]
    },
    {
     "data": {
      "application/vnd.jupyter.widget-view+json": {
       "model_id": "785b9ef6a361402592232d22d638034d",
       "version_major": 2,
       "version_minor": 0
      },
      "text/plain": [
       "HBox(children=(FloatProgress(value=1.0, bar_style='info', max=1.0), HTML(value='')))"
      ]
     },
     "metadata": {},
     "output_type": "display_data"
    },
    {
     "name": "stdout",
     "output_type": "stream",
     "text": [
      "\n"
     ]
    },
    {
     "data": {
      "application/vnd.jupyter.widget-view+json": {
       "model_id": "70936f3a244e4a3096a1fd10933ce118",
       "version_major": 2,
       "version_minor": 0
      },
      "text/plain": [
       "HBox(children=(FloatProgress(value=0.0, description='Stats for unet-multiple-stds', max=2.0, style=ProgressSty…"
      ]
     },
     "metadata": {},
     "output_type": "display_data"
    },
    {
     "name": "stdout",
     "output_type": "stream",
     "text": [
      "\n"
     ]
    },
    {
     "data": {
      "application/vnd.jupyter.widget-view+json": {
       "model_id": "e8373ce09edf49e98f25f6564abe6953",
       "version_major": 2,
       "version_minor": 0
      },
      "text/plain": [
       "HBox(children=(FloatProgress(value=1.0, bar_style='info', max=1.0), HTML(value='')))"
      ]
     },
     "metadata": {},
     "output_type": "display_data"
    },
    {
     "name": "stdout",
     "output_type": "stream",
     "text": [
      "\n"
     ]
    },
    {
     "data": {
      "application/vnd.jupyter.widget-view+json": {
       "model_id": "53232e0ec17b4cc3a97f1ef86588838d",
       "version_major": 2,
       "version_minor": 0
      },
      "text/plain": [
       "HBox(children=(FloatProgress(value=0.0, description='Stats for original noisy images', max=2.0, style=Progress…"
      ]
     },
     "metadata": {},
     "output_type": "display_data"
    },
    {
     "name": "stdout",
     "output_type": "stream",
     "text": [
      "\n"
     ]
    },
    {
     "data": {
      "application/vnd.jupyter.widget-view+json": {
       "model_id": "70fe22ac10bc4e23bcc03af66f80a1b0",
       "version_major": 2,
       "version_minor": 0
      },
      "text/plain": [
       "HBox(children=(FloatProgress(value=1.0, bar_style='info', max=1.0), HTML(value='')))"
      ]
     },
     "metadata": {},
     "output_type": "display_data"
    },
    {
     "name": "stdout",
     "output_type": "stream",
     "text": [
      "\n"
     ]
    },
    {
     "data": {
      "application/vnd.jupyter.widget-view+json": {
       "model_id": "92f5cf8ec2cd466e955120a7516cfe63",
       "version_major": 2,
       "version_minor": 0
      },
      "text/plain": [
       "HBox(children=(FloatProgress(value=0.0, description='Stats for learnlet_0_55_big_bsd', max=2.0, style=Progress…"
      ]
     },
     "metadata": {},
     "output_type": "display_data"
    },
    {
     "name": "stdout",
     "output_type": "stream",
     "text": [
      "\n"
     ]
    },
    {
     "data": {
      "application/vnd.jupyter.widget-view+json": {
       "model_id": "207b46db0e4043fb99c6f770a0f51d67",
       "version_major": 2,
       "version_minor": 0
      },
      "text/plain": [
       "HBox(children=(FloatProgress(value=1.0, bar_style='info', max=1.0), HTML(value='')))"
      ]
     },
     "metadata": {},
     "output_type": "display_data"
    },
    {
     "name": "stdout",
     "output_type": "stream",
     "text": [
      "\n"
     ]
    },
    {
     "data": {
      "application/vnd.jupyter.widget-view+json": {
       "model_id": "70a0ddb854364042ba212cd831a4fe7c",
       "version_major": 2,
       "version_minor": 0
      },
      "text/plain": [
       "HBox(children=(FloatProgress(value=0.0, description='Stats for unet-multiple-stds', max=2.0, style=ProgressSty…"
      ]
     },
     "metadata": {},
     "output_type": "display_data"
    },
    {
     "name": "stdout",
     "output_type": "stream",
     "text": [
      "\n"
     ]
    },
    {
     "data": {
      "application/vnd.jupyter.widget-view+json": {
       "model_id": "e0f8634b084f44b7a5ce63b4f8eb09c0",
       "version_major": 2,
       "version_minor": 0
      },
      "text/plain": [
       "HBox(children=(FloatProgress(value=1.0, bar_style='info', max=1.0), HTML(value='')))"
      ]
     },
     "metadata": {},
     "output_type": "display_data"
    },
    {
     "name": "stdout",
     "output_type": "stream",
     "text": [
      "\n"
     ]
    },
    {
     "data": {
      "application/vnd.jupyter.widget-view+json": {
       "model_id": "cfda7eec3ca64ba6874a1477ecccafdc",
       "version_major": 2,
       "version_minor": 0
      },
      "text/plain": [
       "HBox(children=(FloatProgress(value=0.0, description='Stats for original noisy images', max=2.0, style=Progress…"
      ]
     },
     "metadata": {},
     "output_type": "display_data"
    },
    {
     "name": "stdout",
     "output_type": "stream",
     "text": [
      "\n"
     ]
    },
    {
     "data": {
      "application/vnd.jupyter.widget-view+json": {
       "model_id": "967fb2368fb94f26b0f7ce78cd7fc89d",
       "version_major": 2,
       "version_minor": 0
      },
      "text/plain": [
       "HBox(children=(FloatProgress(value=1.0, bar_style='info', max=1.0), HTML(value='')))"
      ]
     },
     "metadata": {},
     "output_type": "display_data"
    },
    {
     "name": "stdout",
     "output_type": "stream",
     "text": [
      "\n"
     ]
    },
    {
     "data": {
      "application/vnd.jupyter.widget-view+json": {
       "model_id": "5117c3fa15e842f8bd63017ac5830372",
       "version_major": 2,
       "version_minor": 0
      },
      "text/plain": [
       "HBox(children=(FloatProgress(value=0.0, description='Stats for learnlet_0_55_big_bsd', max=2.0, style=Progress…"
      ]
     },
     "metadata": {},
     "output_type": "display_data"
    },
    {
     "name": "stdout",
     "output_type": "stream",
     "text": [
      "\n"
     ]
    },
    {
     "data": {
      "application/vnd.jupyter.widget-view+json": {
       "model_id": "015b35515c10491db34d05d35eb5743b",
       "version_major": 2,
       "version_minor": 0
      },
      "text/plain": [
       "HBox(children=(FloatProgress(value=1.0, bar_style='info', max=1.0), HTML(value='')))"
      ]
     },
     "metadata": {},
     "output_type": "display_data"
    },
    {
     "name": "stdout",
     "output_type": "stream",
     "text": [
      "\n"
     ]
    },
    {
     "data": {
      "application/vnd.jupyter.widget-view+json": {
       "model_id": "91f687bf9bb44f7c8868f531c4a8dc33",
       "version_major": 2,
       "version_minor": 0
      },
      "text/plain": [
       "HBox(children=(FloatProgress(value=0.0, description='Stats for unet-multiple-stds', max=2.0, style=ProgressSty…"
      ]
     },
     "metadata": {},
     "output_type": "display_data"
    },
    {
     "name": "stdout",
     "output_type": "stream",
     "text": [
      "\n"
     ]
    },
    {
     "data": {
      "application/vnd.jupyter.widget-view+json": {
       "model_id": "00ac54d7886540019f6251fb5fff0467",
       "version_major": 2,
       "version_minor": 0
      },
      "text/plain": [
       "HBox(children=(FloatProgress(value=1.0, bar_style='info', max=1.0), HTML(value='')))"
      ]
     },
     "metadata": {},
     "output_type": "display_data"
    },
    {
     "name": "stdout",
     "output_type": "stream",
     "text": [
      "\n"
     ]
    },
    {
     "data": {
      "application/vnd.jupyter.widget-view+json": {
       "model_id": "6f8be587abec4f32be72d1d99bbee4a0",
       "version_major": 2,
       "version_minor": 0
      },
      "text/plain": [
       "HBox(children=(FloatProgress(value=0.0, description='Stats for original noisy images', max=2.0, style=Progress…"
      ]
     },
     "metadata": {},
     "output_type": "display_data"
    },
    {
     "name": "stdout",
     "output_type": "stream",
     "text": [
      "\n"
     ]
    },
    {
     "data": {
      "application/vnd.jupyter.widget-view+json": {
       "model_id": "e4083accc8f1466c9978f3d67d4acbc5",
       "version_major": 2,
       "version_minor": 0
      },
      "text/plain": [
       "HBox(children=(FloatProgress(value=1.0, bar_style='info', max=1.0), HTML(value='')))"
      ]
     },
     "metadata": {},
     "output_type": "display_data"
    },
    {
     "name": "stdout",
     "output_type": "stream",
     "text": [
      "\n"
     ]
    },
    {
     "data": {
      "application/vnd.jupyter.widget-view+json": {
       "model_id": "a0cba623863b4f69a7ea59bdd52bcedd",
       "version_major": 2,
       "version_minor": 0
      },
      "text/plain": [
       "HBox(children=(FloatProgress(value=0.0, description='Stats for learnlet_0_55_big_bsd', max=2.0, style=Progress…"
      ]
     },
     "metadata": {},
     "output_type": "display_data"
    },
    {
     "name": "stdout",
     "output_type": "stream",
     "text": [
      "\n"
     ]
    },
    {
     "data": {
      "application/vnd.jupyter.widget-view+json": {
       "model_id": "81a6c39727304067a2e64736e6f7a519",
       "version_major": 2,
       "version_minor": 0
      },
      "text/plain": [
       "HBox(children=(FloatProgress(value=1.0, bar_style='info', max=1.0), HTML(value='')))"
      ]
     },
     "metadata": {},
     "output_type": "display_data"
    },
    {
     "name": "stdout",
     "output_type": "stream",
     "text": [
      "\n"
     ]
    },
    {
     "data": {
      "application/vnd.jupyter.widget-view+json": {
       "model_id": "2b9141694c9642cda50d4ed0923f9868",
       "version_major": 2,
       "version_minor": 0
      },
      "text/plain": [
       "HBox(children=(FloatProgress(value=0.0, description='Stats for unet-multiple-stds', max=2.0, style=ProgressSty…"
      ]
     },
     "metadata": {},
     "output_type": "display_data"
    },
    {
     "name": "stdout",
     "output_type": "stream",
     "text": [
      "\n"
     ]
    },
    {
     "data": {
      "application/vnd.jupyter.widget-view+json": {
       "model_id": "47ad01d454024a2b96a517e9ae92bd61",
       "version_major": 2,
       "version_minor": 0
      },
      "text/plain": [
       "HBox(children=(FloatProgress(value=1.0, bar_style='info', max=1.0), HTML(value='')))"
      ]
     },
     "metadata": {},
     "output_type": "display_data"
    },
    {
     "name": "stdout",
     "output_type": "stream",
     "text": [
      "\n"
     ]
    },
    {
     "data": {
      "application/vnd.jupyter.widget-view+json": {
       "model_id": "aa6bc030e2444b4584e521367598f333",
       "version_major": 2,
       "version_minor": 0
      },
      "text/plain": [
       "HBox(children=(FloatProgress(value=0.0, description='Stats for original noisy images', max=2.0, style=Progress…"
      ]
     },
     "metadata": {},
     "output_type": "display_data"
    },
    {
     "name": "stdout",
     "output_type": "stream",
     "text": [
      "\n"
     ]
    },
    {
     "data": {
      "application/vnd.jupyter.widget-view+json": {
       "model_id": "8a1c2773d968456fb1c9dc8990653701",
       "version_major": 2,
       "version_minor": 0
      },
      "text/plain": [
       "HBox(children=(FloatProgress(value=1.0, bar_style='info', max=1.0), HTML(value='')))"
      ]
     },
     "metadata": {},
     "output_type": "display_data"
    },
    {
     "name": "stdout",
     "output_type": "stream",
     "text": [
      "\n"
     ]
    },
    {
     "data": {
      "application/vnd.jupyter.widget-view+json": {
       "model_id": "09c9a4d51e8a4c3e9c3e4668292309c2",
       "version_major": 2,
       "version_minor": 0
      },
      "text/plain": [
       "HBox(children=(FloatProgress(value=0.0, description='Stats for learnlet_0_55_big_bsd', max=2.0, style=Progress…"
      ]
     },
     "metadata": {},
     "output_type": "display_data"
    },
    {
     "name": "stdout",
     "output_type": "stream",
     "text": [
      "\n",
      "\n"
     ]
    }
   ],
   "source": [
    "noise_std_metrics = {}\n",
    "n_samples = 2\n",
    "for noise_std in tqdm_notebook(noise_stds, 'Noise stds'):\n",
    "    metrics = []\n",
    "    for net_params in all_net_params:\n",
    "        im_ds = im_dataset_bsd68(\n",
    "            mode='testing', \n",
    "            batch_size=1, \n",
    "            patch_size=None, \n",
    "            noise_std=noise_std, \n",
    "            return_noise_level=False,\n",
    "            n_pooling=5,\n",
    "            n_samples=n_samples,\n",
    "        )\n",
    "        metrics.append((net_params['name'], metrics_from_ds(im_ds, **net_params)))\n",
    "    im_ds = im_dataset_bsd68(\n",
    "        mode='testing', \n",
    "        batch_size=1, \n",
    "        patch_size=None, \n",
    "        noise_std=noise_std, \n",
    "        return_noise_level=False,\n",
    "        n_pooling=5,\n",
    "        n_samples=n_samples,\n",
    "    )\n",
    "    metrics.append(('original', metrics_original_from_ds(im_ds)))\n",
    "        \n",
    "    for net_params in dynamic_denoising_net_params:\n",
    "        im_ds = im_dataset_bsd68(\n",
    "            mode='testing', \n",
    "            batch_size=1, \n",
    "            patch_size=None, \n",
    "            noise_std=noise_std, \n",
    "            return_noise_level=True,\n",
    "            n_pooling=5,\n",
    "            n_samples=n_samples,\n",
    "        )\n",
    "        metrics.append((net_params['name'], metrics_from_ds(im_ds, **net_params)))\n",
    "\n",
    "\n",
    "    noise_std_metrics[noise_std] = metrics"
   ]
  },
  {
   "cell_type": "code",
   "execution_count": 8,
   "metadata": {},
   "outputs": [],
   "source": [
    "noise_std_metrics;"
   ]
  },
  {
   "cell_type": "code",
   "execution_count": 17,
   "metadata": {},
   "outputs": [],
   "source": [
    "BM3D_psnr_results = {\n",
    "    0.0001: 127.1,\n",
    "    5: 37.57,\n",
    "    15: 31.07,\n",
    "    20: 29.60,\n",
    "    25: 28.57,\n",
    "    30: 27.74,\n",
    "    50: 25.62,\n",
    "    75: 24.21,\n",
    "}\n",
    "\n",
    "wavelets_psnr_results = {\n",
    "    0.0001: (127.3,  0.3614),\n",
    "    5: (35.76,  1.937),\n",
    "    15: (29.56,  2.553),\n",
    "    20: (28.25,  2.645),\n",
    "    25: (27.32,  2.684),\n",
    "    30: (26.61,  2.694),\n",
    "    50: (24.79,  2.673),\n",
    "    75: (23.46,  2.574),\n",
    "}"
   ]
  },
  {
   "cell_type": "code",
   "execution_count": 18,
   "metadata": {},
   "outputs": [],
   "source": [
    "# PSNR table\n",
    "psnr_metrics_table = pd.DataFrame(\n",
    "    columns=['noise_std'] + [p['name'] for p in all_net_params] + [p['name'] for p in dynamic_denoising_net_params] + ['original', 'wavelets_24', 'bm3d'],\n",
    ")\n",
    "for i, (noise_std, metrics) in enumerate(noise_std_metrics.items()):\n",
    "    psnr_metrics_table.loc[i, 'noise_std'] = noise_std\n",
    "    for name, m in metrics:\n",
    "        psnr_metrics_table.loc[i, name] = \"{mean:.4} ({std:.4})\".format(\n",
    "            mean=m.metrics['PSNR'].mean(), \n",
    "            std=m.metrics['PSNR'].stddev(),\n",
    "        )\n",
    "    psnr_metrics_table.loc[i, 'bm3d'] = BM3D_psnr_results[noise_std]\n",
    "    psnr_metrics_table.loc[i, 'wavelets_24'] = \"{mean:.4} ({std:.4})\".format(\n",
    "        mean=wavelets_psnr_results[noise_std][0], \n",
    "        std=wavelets_psnr_results[noise_std][1],\n",
    "    )\n",
    "psnr_metrics_table;"
   ]
  },
  {
   "cell_type": "code",
   "execution_count": 19,
   "metadata": {},
   "outputs": [],
   "source": [
    "# SSIM table\n",
    "ssim_metrics_table = pd.DataFrame(\n",
    "    columns=['noise_std'] + [p['name'] for p in all_net_params] + [p['name'] for p in dynamic_denoising_net_params] + ['original', 'wavelets_24', 'bm3d'],\n",
    ")\n",
    "for i, (noise_std, metrics) in enumerate(noise_std_metrics.items()):\n",
    "    ssim_metrics_table.loc[i, 'noise_std'] = noise_std\n",
    "    for name, m in metrics:\n",
    "        ssim_metrics_table.loc[i, name] = \"{mean:.4} ({std:.4})\".format(\n",
    "            mean=m.metrics['SSIM'].mean(), \n",
    "            std=m.metrics['SSIM'].stddev(),\n",
    "        )\n",
    "ssim_metrics_table;"
   ]
  },
  {
   "cell_type": "code",
   "execution_count": 20,
   "metadata": {},
   "outputs": [],
   "source": [
    "%matplotlib nbagg\n",
    "import matplotlib.pyplot as plt\n",
    "import seaborn as sns"
   ]
  },
  {
   "cell_type": "code",
   "execution_count": 21,
   "metadata": {},
   "outputs": [],
   "source": [
    "sns.set(style=\"whitegrid\", palette=\"muted\", rc={'figure.figsize': (9, 5), 'image.cmap': 'gray'})"
   ]
  },
  {
   "cell_type": "code",
   "execution_count": 22,
   "metadata": {
    "scrolled": true
   },
   "outputs": [
    {
     "data": {
      "text/html": [
       "<div>\n",
       "<style scoped>\n",
       "    .dataframe tbody tr th:only-of-type {\n",
       "        vertical-align: middle;\n",
       "    }\n",
       "\n",
       "    .dataframe tbody tr th {\n",
       "        vertical-align: top;\n",
       "    }\n",
       "\n",
       "    .dataframe thead th {\n",
       "        text-align: right;\n",
       "    }\n",
       "</style>\n",
       "<table border=\"1\" class=\"dataframe\">\n",
       "  <thead>\n",
       "    <tr style=\"text-align: right;\">\n",
       "      <th></th>\n",
       "      <th>$\\sigma$</th>\n",
       "      <th>PSNR</th>\n",
       "      <th>psnr-std-dev</th>\n",
       "      <th>model_name</th>\n",
       "      <th>$\\bf{Model}$</th>\n",
       "      <th>$\\bf{Train}$  $\\bf{std}$</th>\n",
       "    </tr>\n",
       "  </thead>\n",
       "  <tbody>\n",
       "    <tr>\n",
       "      <th>0</th>\n",
       "      <td>0.0001</td>\n",
       "      <td>0.417538</td>\n",
       "      <td>0.913515</td>\n",
       "      <td>unet-multiple-stds</td>\n",
       "      <td>U-net</td>\n",
       "      <td>[0; 55]</td>\n",
       "    </tr>\n",
       "    <tr>\n",
       "      <th>1</th>\n",
       "      <td>0.0001</td>\n",
       "      <td>0.351571</td>\n",
       "      <td>1.62917</td>\n",
       "      <td>learnlet_0_55_big_bsd</td>\n",
       "      <td>Learnlets</td>\n",
       "      <td>[0; 55]</td>\n",
       "    </tr>\n",
       "    <tr>\n",
       "      <th>2</th>\n",
       "      <td>0.0001</td>\n",
       "      <td>0.991893</td>\n",
       "      <td>0</td>\n",
       "      <td>bm3d</td>\n",
       "      <td>BM3D</td>\n",
       "      <td>[0; 55]</td>\n",
       "    </tr>\n",
       "    <tr>\n",
       "      <th>3</th>\n",
       "      <td>0.0001</td>\n",
       "      <td>0.993454</td>\n",
       "      <td>0.1807</td>\n",
       "      <td>wavelets_24</td>\n",
       "      <td>Wavelets</td>\n",
       "      <td>[0; 55]</td>\n",
       "    </tr>\n",
       "    <tr>\n",
       "      <th>4</th>\n",
       "      <td>5</td>\n",
       "      <td>1.11077</td>\n",
       "      <td>0.104151</td>\n",
       "      <td>unet-multiple-stds</td>\n",
       "      <td>U-net</td>\n",
       "      <td>[0; 55]</td>\n",
       "    </tr>\n",
       "    <tr>\n",
       "      <th>5</th>\n",
       "      <td>5</td>\n",
       "      <td>1.07974</td>\n",
       "      <td>0.262165</td>\n",
       "      <td>learnlet_0_55_big_bsd</td>\n",
       "      <td>Learnlets</td>\n",
       "      <td>[0; 55]</td>\n",
       "    </tr>\n",
       "    <tr>\n",
       "      <th>6</th>\n",
       "      <td>5</td>\n",
       "      <td>1.1007</td>\n",
       "      <td>0</td>\n",
       "      <td>bm3d</td>\n",
       "      <td>BM3D</td>\n",
       "      <td>[0; 55]</td>\n",
       "    </tr>\n",
       "    <tr>\n",
       "      <th>7</th>\n",
       "      <td>5</td>\n",
       "      <td>1.04767</td>\n",
       "      <td>0.9685</td>\n",
       "      <td>wavelets_24</td>\n",
       "      <td>Wavelets</td>\n",
       "      <td>[0; 55]</td>\n",
       "    </tr>\n",
       "    <tr>\n",
       "      <th>8</th>\n",
       "      <td>15</td>\n",
       "      <td>1.30091</td>\n",
       "      <td>0.0354651</td>\n",
       "      <td>unet-multiple-stds</td>\n",
       "      <td>U-net</td>\n",
       "      <td>[0; 55]</td>\n",
       "    </tr>\n",
       "    <tr>\n",
       "      <th>9</th>\n",
       "      <td>15</td>\n",
       "      <td>1.275</td>\n",
       "      <td>0.178351</td>\n",
       "      <td>learnlet_0_55_big_bsd</td>\n",
       "      <td>Learnlets</td>\n",
       "      <td>[0; 55]</td>\n",
       "    </tr>\n",
       "    <tr>\n",
       "      <th>10</th>\n",
       "      <td>15</td>\n",
       "      <td>1.26165</td>\n",
       "      <td>0</td>\n",
       "      <td>bm3d</td>\n",
       "      <td>BM3D</td>\n",
       "      <td>[0; 55]</td>\n",
       "    </tr>\n",
       "    <tr>\n",
       "      <th>11</th>\n",
       "      <td>15</td>\n",
       "      <td>1.20033</td>\n",
       "      <td>1.2765</td>\n",
       "      <td>wavelets_24</td>\n",
       "      <td>Wavelets</td>\n",
       "      <td>[0; 55]</td>\n",
       "    </tr>\n",
       "    <tr>\n",
       "      <th>12</th>\n",
       "      <td>20</td>\n",
       "      <td>1.38843</td>\n",
       "      <td>0.014786</td>\n",
       "      <td>unet-multiple-stds</td>\n",
       "      <td>U-net</td>\n",
       "      <td>[0; 55]</td>\n",
       "    </tr>\n",
       "    <tr>\n",
       "      <th>13</th>\n",
       "      <td>20</td>\n",
       "      <td>1.35776</td>\n",
       "      <td>0.166381</td>\n",
       "      <td>learnlet_0_55_big_bsd</td>\n",
       "      <td>Learnlets</td>\n",
       "      <td>[0; 55]</td>\n",
       "    </tr>\n",
       "    <tr>\n",
       "      <th>14</th>\n",
       "      <td>20</td>\n",
       "      <td>1.33847</td>\n",
       "      <td>0</td>\n",
       "      <td>bm3d</td>\n",
       "      <td>BM3D</td>\n",
       "      <td>[0; 55]</td>\n",
       "    </tr>\n",
       "    <tr>\n",
       "      <th>15</th>\n",
       "      <td>20</td>\n",
       "      <td>1.27743</td>\n",
       "      <td>1.3225</td>\n",
       "      <td>wavelets_24</td>\n",
       "      <td>Wavelets</td>\n",
       "      <td>[0; 55]</td>\n",
       "    </tr>\n",
       "    <tr>\n",
       "      <th>16</th>\n",
       "      <td>25</td>\n",
       "      <td>1.47084</td>\n",
       "      <td>0.0242479</td>\n",
       "      <td>unet-multiple-stds</td>\n",
       "      <td>U-net</td>\n",
       "      <td>[0; 55]</td>\n",
       "    </tr>\n",
       "    <tr>\n",
       "      <th>17</th>\n",
       "      <td>25</td>\n",
       "      <td>1.44031</td>\n",
       "      <td>0.164135</td>\n",
       "      <td>learnlet_0_55_big_bsd</td>\n",
       "      <td>Learnlets</td>\n",
       "      <td>[0; 55]</td>\n",
       "    </tr>\n",
       "    <tr>\n",
       "      <th>18</th>\n",
       "      <td>25</td>\n",
       "      <td>1.41694</td>\n",
       "      <td>0</td>\n",
       "      <td>bm3d</td>\n",
       "      <td>BM3D</td>\n",
       "      <td>[0; 55]</td>\n",
       "    </tr>\n",
       "    <tr>\n",
       "      <th>19</th>\n",
       "      <td>25</td>\n",
       "      <td>1.35495</td>\n",
       "      <td>1.342</td>\n",
       "      <td>wavelets_24</td>\n",
       "      <td>Wavelets</td>\n",
       "      <td>[0; 55]</td>\n",
       "    </tr>\n",
       "    <tr>\n",
       "      <th>20</th>\n",
       "      <td>30</td>\n",
       "      <td>1.55397</td>\n",
       "      <td>0.0605338</td>\n",
       "      <td>unet-multiple-stds</td>\n",
       "      <td>U-net</td>\n",
       "      <td>[0; 55]</td>\n",
       "    </tr>\n",
       "    <tr>\n",
       "      <th>21</th>\n",
       "      <td>30</td>\n",
       "      <td>1.5196</td>\n",
       "      <td>0.168179</td>\n",
       "      <td>learnlet_0_55_big_bsd</td>\n",
       "      <td>Learnlets</td>\n",
       "      <td>[0; 55]</td>\n",
       "    </tr>\n",
       "    <tr>\n",
       "      <th>22</th>\n",
       "      <td>30</td>\n",
       "      <td>1.49378</td>\n",
       "      <td>0</td>\n",
       "      <td>bm3d</td>\n",
       "      <td>BM3D</td>\n",
       "      <td>[0; 55]</td>\n",
       "    </tr>\n",
       "    <tr>\n",
       "      <th>23</th>\n",
       "      <td>30</td>\n",
       "      <td>1.43293</td>\n",
       "      <td>1.347</td>\n",
       "      <td>wavelets_24</td>\n",
       "      <td>Wavelets</td>\n",
       "      <td>[0; 55]</td>\n",
       "    </tr>\n",
       "    <tr>\n",
       "      <th>24</th>\n",
       "      <td>50</td>\n",
       "      <td>1.89033</td>\n",
       "      <td>0.0680779</td>\n",
       "      <td>unet-multiple-stds</td>\n",
       "      <td>U-net</td>\n",
       "      <td>[0; 55]</td>\n",
       "    </tr>\n",
       "    <tr>\n",
       "      <th>25</th>\n",
       "      <td>50</td>\n",
       "      <td>1.84041</td>\n",
       "      <td>0.22994</td>\n",
       "      <td>learnlet_0_55_big_bsd</td>\n",
       "      <td>Learnlets</td>\n",
       "      <td>[0; 55]</td>\n",
       "    </tr>\n",
       "    <tr>\n",
       "      <th>26</th>\n",
       "      <td>50</td>\n",
       "      <td>1.81061</td>\n",
       "      <td>0</td>\n",
       "      <td>bm3d</td>\n",
       "      <td>BM3D</td>\n",
       "      <td>[0; 55]</td>\n",
       "    </tr>\n",
       "    <tr>\n",
       "      <th>27</th>\n",
       "      <td>50</td>\n",
       "      <td>1.75196</td>\n",
       "      <td>1.3365</td>\n",
       "      <td>wavelets_24</td>\n",
       "      <td>Wavelets</td>\n",
       "      <td>[0; 55]</td>\n",
       "    </tr>\n",
       "    <tr>\n",
       "      <th>28</th>\n",
       "      <td>75</td>\n",
       "      <td>2.12448</td>\n",
       "      <td>0.198359</td>\n",
       "      <td>unet-multiple-stds</td>\n",
       "      <td>U-net</td>\n",
       "      <td>[0; 55]</td>\n",
       "    </tr>\n",
       "    <tr>\n",
       "      <th>29</th>\n",
       "      <td>75</td>\n",
       "      <td>2.28306</td>\n",
       "      <td>0.266628</td>\n",
       "      <td>learnlet_0_55_big_bsd</td>\n",
       "      <td>Learnlets</td>\n",
       "      <td>[0; 55]</td>\n",
       "    </tr>\n",
       "    <tr>\n",
       "      <th>30</th>\n",
       "      <td>75</td>\n",
       "      <td>2.27762</td>\n",
       "      <td>0</td>\n",
       "      <td>bm3d</td>\n",
       "      <td>BM3D</td>\n",
       "      <td>[0; 55]</td>\n",
       "    </tr>\n",
       "    <tr>\n",
       "      <th>31</th>\n",
       "      <td>75</td>\n",
       "      <td>2.20706</td>\n",
       "      <td>1.287</td>\n",
       "      <td>wavelets_24</td>\n",
       "      <td>Wavelets</td>\n",
       "      <td>[0; 55]</td>\n",
       "    </tr>\n",
       "  </tbody>\n",
       "</table>\n",
       "</div>"
      ],
      "text/plain": [
       "   $\\sigma$      PSNR psnr-std-dev             model_name $\\bf{Model}$  \\\n",
       "0    0.0001  0.417538     0.913515     unet-multiple-stds        U-net   \n",
       "1    0.0001  0.351571      1.62917  learnlet_0_55_big_bsd    Learnlets   \n",
       "2    0.0001  0.991893            0                   bm3d         BM3D   \n",
       "3    0.0001  0.993454       0.1807            wavelets_24     Wavelets   \n",
       "4         5   1.11077     0.104151     unet-multiple-stds        U-net   \n",
       "5         5   1.07974     0.262165  learnlet_0_55_big_bsd    Learnlets   \n",
       "6         5    1.1007            0                   bm3d         BM3D   \n",
       "7         5   1.04767       0.9685            wavelets_24     Wavelets   \n",
       "8        15   1.30091    0.0354651     unet-multiple-stds        U-net   \n",
       "9        15     1.275     0.178351  learnlet_0_55_big_bsd    Learnlets   \n",
       "10       15   1.26165            0                   bm3d         BM3D   \n",
       "11       15   1.20033       1.2765            wavelets_24     Wavelets   \n",
       "12       20   1.38843     0.014786     unet-multiple-stds        U-net   \n",
       "13       20   1.35776     0.166381  learnlet_0_55_big_bsd    Learnlets   \n",
       "14       20   1.33847            0                   bm3d         BM3D   \n",
       "15       20   1.27743       1.3225            wavelets_24     Wavelets   \n",
       "16       25   1.47084    0.0242479     unet-multiple-stds        U-net   \n",
       "17       25   1.44031     0.164135  learnlet_0_55_big_bsd    Learnlets   \n",
       "18       25   1.41694            0                   bm3d         BM3D   \n",
       "19       25   1.35495        1.342            wavelets_24     Wavelets   \n",
       "20       30   1.55397    0.0605338     unet-multiple-stds        U-net   \n",
       "21       30    1.5196     0.168179  learnlet_0_55_big_bsd    Learnlets   \n",
       "22       30   1.49378            0                   bm3d         BM3D   \n",
       "23       30   1.43293        1.347            wavelets_24     Wavelets   \n",
       "24       50   1.89033    0.0680779     unet-multiple-stds        U-net   \n",
       "25       50   1.84041      0.22994  learnlet_0_55_big_bsd    Learnlets   \n",
       "26       50   1.81061            0                   bm3d         BM3D   \n",
       "27       50   1.75196       1.3365            wavelets_24     Wavelets   \n",
       "28       75   2.12448     0.198359     unet-multiple-stds        U-net   \n",
       "29       75   2.28306     0.266628  learnlet_0_55_big_bsd    Learnlets   \n",
       "30       75   2.27762            0                   bm3d         BM3D   \n",
       "31       75   2.20706        1.287            wavelets_24     Wavelets   \n",
       "\n",
       "   $\\bf{Train}$  $\\bf{std}$  \n",
       "0                   [0; 55]  \n",
       "1                   [0; 55]  \n",
       "2                   [0; 55]  \n",
       "3                   [0; 55]  \n",
       "4                   [0; 55]  \n",
       "5                   [0; 55]  \n",
       "6                   [0; 55]  \n",
       "7                   [0; 55]  \n",
       "8                   [0; 55]  \n",
       "9                   [0; 55]  \n",
       "10                  [0; 55]  \n",
       "11                  [0; 55]  \n",
       "12                  [0; 55]  \n",
       "13                  [0; 55]  \n",
       "14                  [0; 55]  \n",
       "15                  [0; 55]  \n",
       "16                  [0; 55]  \n",
       "17                  [0; 55]  \n",
       "18                  [0; 55]  \n",
       "19                  [0; 55]  \n",
       "20                  [0; 55]  \n",
       "21                  [0; 55]  \n",
       "22                  [0; 55]  \n",
       "23                  [0; 55]  \n",
       "24                  [0; 55]  \n",
       "25                  [0; 55]  \n",
       "26                  [0; 55]  \n",
       "27                  [0; 55]  \n",
       "28                  [0; 55]  \n",
       "29                  [0; 55]  \n",
       "30                  [0; 55]  \n",
       "31                  [0; 55]  "
      ]
     },
     "execution_count": 22,
     "metadata": {},
     "output_type": "execute_result"
    }
   ],
   "source": [
    "relative_to_original = True\n",
    "\n",
    "\n",
    "model_family_str = r'$\\bf{Model}$'\n",
    "train_stds_str = r'$\\bf{Train}$  $\\bf{std}$'\n",
    "noise_std_str = r'$\\sigma$'\n",
    "psnr_str = 'PSNR'\n",
    "# PSNR to plot\n",
    "psnr_to_plot = pd.DataFrame(\n",
    "    columns=[noise_std_str, psnr_str, 'psnr-std-dev', 'model_name', model_family_str, train_stds_str]\n",
    ")\n",
    "\n",
    "def from_name_to_family(model_name):\n",
    "    if 'learnlet' in model_name:\n",
    "        return 'Learnlets'\n",
    "    elif 'unet' in model_name:\n",
    "        return 'U-net'\n",
    "    elif 'bm3d' in model_name:\n",
    "        return 'BM3D'\n",
    "    elif 'wavelets' in model_name:\n",
    "        return 'Wavelets'\n",
    "    else:\n",
    "        return 'Original'\n",
    "    \n",
    "def from_name_to_train_stds(model_name):\n",
    "    if '30' in model_name:\n",
    "        return '30'\n",
    "    elif '20_40' in model_name:\n",
    "        return '[20; 40]'\n",
    "    else:\n",
    "        return '[0; 55]'\n",
    "\n",
    "family_model_to_color = {\n",
    "    'U-net': 'C0',\n",
    "    'Learnlets': 'C1',\n",
    "    'BM3D': 'C2',\n",
    "    'Wavelets': 'C3',\n",
    "}\n",
    "index = 0\n",
    "orig_psnrs = {}\n",
    "for i_noise, (noise_std, metrics) in enumerate(noise_std_metrics.items()):\n",
    "    for j_model, (name, m) in enumerate(metrics):\n",
    "        if relative_to_original and name == 'original':\n",
    "            orig_psnrs[noise_std] = m.metrics['PSNR'].mean()\n",
    "        else:\n",
    "            psnr_to_plot.loc[index, noise_std_str] = noise_std\n",
    "            psnr_to_plot.loc[index, psnr_str] = m.metrics['PSNR'].mean()\n",
    "            psnr_to_plot.loc[index, 'psnr-std-dev'] = m.metrics['PSNR'].stddev() / 2\n",
    "            psnr_to_plot.loc[index, 'model_name'] = name\n",
    "            psnr_to_plot.loc[index, train_stds_str] = from_name_to_train_stds(name)\n",
    "            psnr_to_plot.loc[index, model_family_str] = from_name_to_family(name)\n",
    "            index += 1\n",
    "    name = 'bm3d'\n",
    "    psnr_to_plot.loc[index, noise_std_str] = noise_std\n",
    "    psnr_to_plot.loc[index, psnr_str] = BM3D_psnr_results[noise_std]\n",
    "    psnr_to_plot.loc[index, 'psnr-std-dev'] = 0\n",
    "    psnr_to_plot.loc[index, 'model_name'] = name\n",
    "    psnr_to_plot.loc[index, train_stds_str] = from_name_to_train_stds(name)\n",
    "    psnr_to_plot.loc[index, model_family_str] = from_name_to_family(name)\n",
    "    index += 1\n",
    "    name = 'wavelets_24'\n",
    "    psnr_to_plot.loc[index, noise_std_str] = noise_std\n",
    "    psnr_to_plot.loc[index, psnr_str] = wavelets_psnr_results[noise_std][0]\n",
    "    psnr_to_plot.loc[index, 'psnr-std-dev'] = wavelets_psnr_results[noise_std][1] /2\n",
    "    psnr_to_plot.loc[index, 'model_name'] = name\n",
    "    psnr_to_plot.loc[index, train_stds_str] = from_name_to_train_stds(name)\n",
    "    psnr_to_plot.loc[index, model_family_str] = from_name_to_family(name)\n",
    "    index += 1\n",
    "\n",
    "if relative_to_original:\n",
    "    for noise_std, orig_psnr in orig_psnrs.items():\n",
    "        psnr_to_plot.loc[psnr_to_plot[noise_std_str] == noise_std, psnr_str] = psnr_to_plot[psnr_to_plot[noise_std_str] == noise_std][psnr_str] / orig_psnr\n",
    "    \n",
    "psnr_to_plot"
   ]
  },
  {
   "cell_type": "code",
   "execution_count": 30,
   "metadata": {
    "scrolled": false
   },
   "outputs": [
    {
     "data": {
      "application/javascript": [
       "/* Put everything inside the global mpl namespace */\n",
       "window.mpl = {};\n",
       "\n",
       "\n",
       "mpl.get_websocket_type = function() {\n",
       "    if (typeof(WebSocket) !== 'undefined') {\n",
       "        return WebSocket;\n",
       "    } else if (typeof(MozWebSocket) !== 'undefined') {\n",
       "        return MozWebSocket;\n",
       "    } else {\n",
       "        alert('Your browser does not have WebSocket support. ' +\n",
       "              'Please try Chrome, Safari or Firefox ≥ 6. ' +\n",
       "              'Firefox 4 and 5 are also supported but you ' +\n",
       "              'have to enable WebSockets in about:config.');\n",
       "    };\n",
       "}\n",
       "\n",
       "mpl.figure = function(figure_id, websocket, ondownload, parent_element) {\n",
       "    this.id = figure_id;\n",
       "\n",
       "    this.ws = websocket;\n",
       "\n",
       "    this.supports_binary = (this.ws.binaryType != undefined);\n",
       "\n",
       "    if (!this.supports_binary) {\n",
       "        var warnings = document.getElementById(\"mpl-warnings\");\n",
       "        if (warnings) {\n",
       "            warnings.style.display = 'block';\n",
       "            warnings.textContent = (\n",
       "                \"This browser does not support binary websocket messages. \" +\n",
       "                    \"Performance may be slow.\");\n",
       "        }\n",
       "    }\n",
       "\n",
       "    this.imageObj = new Image();\n",
       "\n",
       "    this.context = undefined;\n",
       "    this.message = undefined;\n",
       "    this.canvas = undefined;\n",
       "    this.rubberband_canvas = undefined;\n",
       "    this.rubberband_context = undefined;\n",
       "    this.format_dropdown = undefined;\n",
       "\n",
       "    this.image_mode = 'full';\n",
       "\n",
       "    this.root = $('<div/>');\n",
       "    this._root_extra_style(this.root)\n",
       "    this.root.attr('style', 'display: inline-block');\n",
       "\n",
       "    $(parent_element).append(this.root);\n",
       "\n",
       "    this._init_header(this);\n",
       "    this._init_canvas(this);\n",
       "    this._init_toolbar(this);\n",
       "\n",
       "    var fig = this;\n",
       "\n",
       "    this.waiting = false;\n",
       "\n",
       "    this.ws.onopen =  function () {\n",
       "            fig.send_message(\"supports_binary\", {value: fig.supports_binary});\n",
       "            fig.send_message(\"send_image_mode\", {});\n",
       "            if (mpl.ratio != 1) {\n",
       "                fig.send_message(\"set_dpi_ratio\", {'dpi_ratio': mpl.ratio});\n",
       "            }\n",
       "            fig.send_message(\"refresh\", {});\n",
       "        }\n",
       "\n",
       "    this.imageObj.onload = function() {\n",
       "            if (fig.image_mode == 'full') {\n",
       "                // Full images could contain transparency (where diff images\n",
       "                // almost always do), so we need to clear the canvas so that\n",
       "                // there is no ghosting.\n",
       "                fig.context.clearRect(0, 0, fig.canvas.width, fig.canvas.height);\n",
       "            }\n",
       "            fig.context.drawImage(fig.imageObj, 0, 0);\n",
       "        };\n",
       "\n",
       "    this.imageObj.onunload = function() {\n",
       "        fig.ws.close();\n",
       "    }\n",
       "\n",
       "    this.ws.onmessage = this._make_on_message_function(this);\n",
       "\n",
       "    this.ondownload = ondownload;\n",
       "}\n",
       "\n",
       "mpl.figure.prototype._init_header = function() {\n",
       "    var titlebar = $(\n",
       "        '<div class=\"ui-dialog-titlebar ui-widget-header ui-corner-all ' +\n",
       "        'ui-helper-clearfix\"/>');\n",
       "    var titletext = $(\n",
       "        '<div class=\"ui-dialog-title\" style=\"width: 100%; ' +\n",
       "        'text-align: center; padding: 3px;\"/>');\n",
       "    titlebar.append(titletext)\n",
       "    this.root.append(titlebar);\n",
       "    this.header = titletext[0];\n",
       "}\n",
       "\n",
       "\n",
       "\n",
       "mpl.figure.prototype._canvas_extra_style = function(canvas_div) {\n",
       "\n",
       "}\n",
       "\n",
       "\n",
       "mpl.figure.prototype._root_extra_style = function(canvas_div) {\n",
       "\n",
       "}\n",
       "\n",
       "mpl.figure.prototype._init_canvas = function() {\n",
       "    var fig = this;\n",
       "\n",
       "    var canvas_div = $('<div/>');\n",
       "\n",
       "    canvas_div.attr('style', 'position: relative; clear: both; outline: 0');\n",
       "\n",
       "    function canvas_keyboard_event(event) {\n",
       "        return fig.key_event(event, event['data']);\n",
       "    }\n",
       "\n",
       "    canvas_div.keydown('key_press', canvas_keyboard_event);\n",
       "    canvas_div.keyup('key_release', canvas_keyboard_event);\n",
       "    this.canvas_div = canvas_div\n",
       "    this._canvas_extra_style(canvas_div)\n",
       "    this.root.append(canvas_div);\n",
       "\n",
       "    var canvas = $('<canvas/>');\n",
       "    canvas.addClass('mpl-canvas');\n",
       "    canvas.attr('style', \"left: 0; top: 0; z-index: 0; outline: 0\")\n",
       "\n",
       "    this.canvas = canvas[0];\n",
       "    this.context = canvas[0].getContext(\"2d\");\n",
       "\n",
       "    var backingStore = this.context.backingStorePixelRatio ||\n",
       "\tthis.context.webkitBackingStorePixelRatio ||\n",
       "\tthis.context.mozBackingStorePixelRatio ||\n",
       "\tthis.context.msBackingStorePixelRatio ||\n",
       "\tthis.context.oBackingStorePixelRatio ||\n",
       "\tthis.context.backingStorePixelRatio || 1;\n",
       "\n",
       "    mpl.ratio = (window.devicePixelRatio || 1) / backingStore;\n",
       "\n",
       "    var rubberband = $('<canvas/>');\n",
       "    rubberband.attr('style', \"position: absolute; left: 0; top: 0; z-index: 1;\")\n",
       "\n",
       "    var pass_mouse_events = true;\n",
       "\n",
       "    canvas_div.resizable({\n",
       "        start: function(event, ui) {\n",
       "            pass_mouse_events = false;\n",
       "        },\n",
       "        resize: function(event, ui) {\n",
       "            fig.request_resize(ui.size.width, ui.size.height);\n",
       "        },\n",
       "        stop: function(event, ui) {\n",
       "            pass_mouse_events = true;\n",
       "            fig.request_resize(ui.size.width, ui.size.height);\n",
       "        },\n",
       "    });\n",
       "\n",
       "    function mouse_event_fn(event) {\n",
       "        if (pass_mouse_events)\n",
       "            return fig.mouse_event(event, event['data']);\n",
       "    }\n",
       "\n",
       "    rubberband.mousedown('button_press', mouse_event_fn);\n",
       "    rubberband.mouseup('button_release', mouse_event_fn);\n",
       "    // Throttle sequential mouse events to 1 every 20ms.\n",
       "    rubberband.mousemove('motion_notify', mouse_event_fn);\n",
       "\n",
       "    rubberband.mouseenter('figure_enter', mouse_event_fn);\n",
       "    rubberband.mouseleave('figure_leave', mouse_event_fn);\n",
       "\n",
       "    canvas_div.on(\"wheel\", function (event) {\n",
       "        event = event.originalEvent;\n",
       "        event['data'] = 'scroll'\n",
       "        if (event.deltaY < 0) {\n",
       "            event.step = 1;\n",
       "        } else {\n",
       "            event.step = -1;\n",
       "        }\n",
       "        mouse_event_fn(event);\n",
       "    });\n",
       "\n",
       "    canvas_div.append(canvas);\n",
       "    canvas_div.append(rubberband);\n",
       "\n",
       "    this.rubberband = rubberband;\n",
       "    this.rubberband_canvas = rubberband[0];\n",
       "    this.rubberband_context = rubberband[0].getContext(\"2d\");\n",
       "    this.rubberband_context.strokeStyle = \"#000000\";\n",
       "\n",
       "    this._resize_canvas = function(width, height) {\n",
       "        // Keep the size of the canvas, canvas container, and rubber band\n",
       "        // canvas in synch.\n",
       "        canvas_div.css('width', width)\n",
       "        canvas_div.css('height', height)\n",
       "\n",
       "        canvas.attr('width', width * mpl.ratio);\n",
       "        canvas.attr('height', height * mpl.ratio);\n",
       "        canvas.attr('style', 'width: ' + width + 'px; height: ' + height + 'px;');\n",
       "\n",
       "        rubberband.attr('width', width);\n",
       "        rubberband.attr('height', height);\n",
       "    }\n",
       "\n",
       "    // Set the figure to an initial 600x600px, this will subsequently be updated\n",
       "    // upon first draw.\n",
       "    this._resize_canvas(600, 600);\n",
       "\n",
       "    // Disable right mouse context menu.\n",
       "    $(this.rubberband_canvas).bind(\"contextmenu\",function(e){\n",
       "        return false;\n",
       "    });\n",
       "\n",
       "    function set_focus () {\n",
       "        canvas.focus();\n",
       "        canvas_div.focus();\n",
       "    }\n",
       "\n",
       "    window.setTimeout(set_focus, 100);\n",
       "}\n",
       "\n",
       "mpl.figure.prototype._init_toolbar = function() {\n",
       "    var fig = this;\n",
       "\n",
       "    var nav_element = $('<div/>');\n",
       "    nav_element.attr('style', 'width: 100%');\n",
       "    this.root.append(nav_element);\n",
       "\n",
       "    // Define a callback function for later on.\n",
       "    function toolbar_event(event) {\n",
       "        return fig.toolbar_button_onclick(event['data']);\n",
       "    }\n",
       "    function toolbar_mouse_event(event) {\n",
       "        return fig.toolbar_button_onmouseover(event['data']);\n",
       "    }\n",
       "\n",
       "    for(var toolbar_ind in mpl.toolbar_items) {\n",
       "        var name = mpl.toolbar_items[toolbar_ind][0];\n",
       "        var tooltip = mpl.toolbar_items[toolbar_ind][1];\n",
       "        var image = mpl.toolbar_items[toolbar_ind][2];\n",
       "        var method_name = mpl.toolbar_items[toolbar_ind][3];\n",
       "\n",
       "        if (!name) {\n",
       "            // put a spacer in here.\n",
       "            continue;\n",
       "        }\n",
       "        var button = $('<button/>');\n",
       "        button.addClass('ui-button ui-widget ui-state-default ui-corner-all ' +\n",
       "                        'ui-button-icon-only');\n",
       "        button.attr('role', 'button');\n",
       "        button.attr('aria-disabled', 'false');\n",
       "        button.click(method_name, toolbar_event);\n",
       "        button.mouseover(tooltip, toolbar_mouse_event);\n",
       "\n",
       "        var icon_img = $('<span/>');\n",
       "        icon_img.addClass('ui-button-icon-primary ui-icon');\n",
       "        icon_img.addClass(image);\n",
       "        icon_img.addClass('ui-corner-all');\n",
       "\n",
       "        var tooltip_span = $('<span/>');\n",
       "        tooltip_span.addClass('ui-button-text');\n",
       "        tooltip_span.html(tooltip);\n",
       "\n",
       "        button.append(icon_img);\n",
       "        button.append(tooltip_span);\n",
       "\n",
       "        nav_element.append(button);\n",
       "    }\n",
       "\n",
       "    var fmt_picker_span = $('<span/>');\n",
       "\n",
       "    var fmt_picker = $('<select/>');\n",
       "    fmt_picker.addClass('mpl-toolbar-option ui-widget ui-widget-content');\n",
       "    fmt_picker_span.append(fmt_picker);\n",
       "    nav_element.append(fmt_picker_span);\n",
       "    this.format_dropdown = fmt_picker[0];\n",
       "\n",
       "    for (var ind in mpl.extensions) {\n",
       "        var fmt = mpl.extensions[ind];\n",
       "        var option = $(\n",
       "            '<option/>', {selected: fmt === mpl.default_extension}).html(fmt);\n",
       "        fmt_picker.append(option);\n",
       "    }\n",
       "\n",
       "    // Add hover states to the ui-buttons\n",
       "    $( \".ui-button\" ).hover(\n",
       "        function() { $(this).addClass(\"ui-state-hover\");},\n",
       "        function() { $(this).removeClass(\"ui-state-hover\");}\n",
       "    );\n",
       "\n",
       "    var status_bar = $('<span class=\"mpl-message\"/>');\n",
       "    nav_element.append(status_bar);\n",
       "    this.message = status_bar[0];\n",
       "}\n",
       "\n",
       "mpl.figure.prototype.request_resize = function(x_pixels, y_pixels) {\n",
       "    // Request matplotlib to resize the figure. Matplotlib will then trigger a resize in the client,\n",
       "    // which will in turn request a refresh of the image.\n",
       "    this.send_message('resize', {'width': x_pixels, 'height': y_pixels});\n",
       "}\n",
       "\n",
       "mpl.figure.prototype.send_message = function(type, properties) {\n",
       "    properties['type'] = type;\n",
       "    properties['figure_id'] = this.id;\n",
       "    this.ws.send(JSON.stringify(properties));\n",
       "}\n",
       "\n",
       "mpl.figure.prototype.send_draw_message = function() {\n",
       "    if (!this.waiting) {\n",
       "        this.waiting = true;\n",
       "        this.ws.send(JSON.stringify({type: \"draw\", figure_id: this.id}));\n",
       "    }\n",
       "}\n",
       "\n",
       "\n",
       "mpl.figure.prototype.handle_save = function(fig, msg) {\n",
       "    var format_dropdown = fig.format_dropdown;\n",
       "    var format = format_dropdown.options[format_dropdown.selectedIndex].value;\n",
       "    fig.ondownload(fig, format);\n",
       "}\n",
       "\n",
       "\n",
       "mpl.figure.prototype.handle_resize = function(fig, msg) {\n",
       "    var size = msg['size'];\n",
       "    if (size[0] != fig.canvas.width || size[1] != fig.canvas.height) {\n",
       "        fig._resize_canvas(size[0], size[1]);\n",
       "        fig.send_message(\"refresh\", {});\n",
       "    };\n",
       "}\n",
       "\n",
       "mpl.figure.prototype.handle_rubberband = function(fig, msg) {\n",
       "    var x0 = msg['x0'] / mpl.ratio;\n",
       "    var y0 = (fig.canvas.height - msg['y0']) / mpl.ratio;\n",
       "    var x1 = msg['x1'] / mpl.ratio;\n",
       "    var y1 = (fig.canvas.height - msg['y1']) / mpl.ratio;\n",
       "    x0 = Math.floor(x0) + 0.5;\n",
       "    y0 = Math.floor(y0) + 0.5;\n",
       "    x1 = Math.floor(x1) + 0.5;\n",
       "    y1 = Math.floor(y1) + 0.5;\n",
       "    var min_x = Math.min(x0, x1);\n",
       "    var min_y = Math.min(y0, y1);\n",
       "    var width = Math.abs(x1 - x0);\n",
       "    var height = Math.abs(y1 - y0);\n",
       "\n",
       "    fig.rubberband_context.clearRect(\n",
       "        0, 0, fig.canvas.width / mpl.ratio, fig.canvas.height / mpl.ratio);\n",
       "\n",
       "    fig.rubberband_context.strokeRect(min_x, min_y, width, height);\n",
       "}\n",
       "\n",
       "mpl.figure.prototype.handle_figure_label = function(fig, msg) {\n",
       "    // Updates the figure title.\n",
       "    fig.header.textContent = msg['label'];\n",
       "}\n",
       "\n",
       "mpl.figure.prototype.handle_cursor = function(fig, msg) {\n",
       "    var cursor = msg['cursor'];\n",
       "    switch(cursor)\n",
       "    {\n",
       "    case 0:\n",
       "        cursor = 'pointer';\n",
       "        break;\n",
       "    case 1:\n",
       "        cursor = 'default';\n",
       "        break;\n",
       "    case 2:\n",
       "        cursor = 'crosshair';\n",
       "        break;\n",
       "    case 3:\n",
       "        cursor = 'move';\n",
       "        break;\n",
       "    }\n",
       "    fig.rubberband_canvas.style.cursor = cursor;\n",
       "}\n",
       "\n",
       "mpl.figure.prototype.handle_message = function(fig, msg) {\n",
       "    fig.message.textContent = msg['message'];\n",
       "}\n",
       "\n",
       "mpl.figure.prototype.handle_draw = function(fig, msg) {\n",
       "    // Request the server to send over a new figure.\n",
       "    fig.send_draw_message();\n",
       "}\n",
       "\n",
       "mpl.figure.prototype.handle_image_mode = function(fig, msg) {\n",
       "    fig.image_mode = msg['mode'];\n",
       "}\n",
       "\n",
       "mpl.figure.prototype.updated_canvas_event = function() {\n",
       "    // Called whenever the canvas gets updated.\n",
       "    this.send_message(\"ack\", {});\n",
       "}\n",
       "\n",
       "// A function to construct a web socket function for onmessage handling.\n",
       "// Called in the figure constructor.\n",
       "mpl.figure.prototype._make_on_message_function = function(fig) {\n",
       "    return function socket_on_message(evt) {\n",
       "        if (evt.data instanceof Blob) {\n",
       "            /* FIXME: We get \"Resource interpreted as Image but\n",
       "             * transferred with MIME type text/plain:\" errors on\n",
       "             * Chrome.  But how to set the MIME type?  It doesn't seem\n",
       "             * to be part of the websocket stream */\n",
       "            evt.data.type = \"image/png\";\n",
       "\n",
       "            /* Free the memory for the previous frames */\n",
       "            if (fig.imageObj.src) {\n",
       "                (window.URL || window.webkitURL).revokeObjectURL(\n",
       "                    fig.imageObj.src);\n",
       "            }\n",
       "\n",
       "            fig.imageObj.src = (window.URL || window.webkitURL).createObjectURL(\n",
       "                evt.data);\n",
       "            fig.updated_canvas_event();\n",
       "            fig.waiting = false;\n",
       "            return;\n",
       "        }\n",
       "        else if (typeof evt.data === 'string' && evt.data.slice(0, 21) == \"data:image/png;base64\") {\n",
       "            fig.imageObj.src = evt.data;\n",
       "            fig.updated_canvas_event();\n",
       "            fig.waiting = false;\n",
       "            return;\n",
       "        }\n",
       "\n",
       "        var msg = JSON.parse(evt.data);\n",
       "        var msg_type = msg['type'];\n",
       "\n",
       "        // Call the  \"handle_{type}\" callback, which takes\n",
       "        // the figure and JSON message as its only arguments.\n",
       "        try {\n",
       "            var callback = fig[\"handle_\" + msg_type];\n",
       "        } catch (e) {\n",
       "            console.log(\"No handler for the '\" + msg_type + \"' message type: \", msg);\n",
       "            return;\n",
       "        }\n",
       "\n",
       "        if (callback) {\n",
       "            try {\n",
       "                // console.log(\"Handling '\" + msg_type + \"' message: \", msg);\n",
       "                callback(fig, msg);\n",
       "            } catch (e) {\n",
       "                console.log(\"Exception inside the 'handler_\" + msg_type + \"' callback:\", e, e.stack, msg);\n",
       "            }\n",
       "        }\n",
       "    };\n",
       "}\n",
       "\n",
       "// from http://stackoverflow.com/questions/1114465/getting-mouse-location-in-canvas\n",
       "mpl.findpos = function(e) {\n",
       "    //this section is from http://www.quirksmode.org/js/events_properties.html\n",
       "    var targ;\n",
       "    if (!e)\n",
       "        e = window.event;\n",
       "    if (e.target)\n",
       "        targ = e.target;\n",
       "    else if (e.srcElement)\n",
       "        targ = e.srcElement;\n",
       "    if (targ.nodeType == 3) // defeat Safari bug\n",
       "        targ = targ.parentNode;\n",
       "\n",
       "    // jQuery normalizes the pageX and pageY\n",
       "    // pageX,Y are the mouse positions relative to the document\n",
       "    // offset() returns the position of the element relative to the document\n",
       "    var x = e.pageX - $(targ).offset().left;\n",
       "    var y = e.pageY - $(targ).offset().top;\n",
       "\n",
       "    return {\"x\": x, \"y\": y};\n",
       "};\n",
       "\n",
       "/*\n",
       " * return a copy of an object with only non-object keys\n",
       " * we need this to avoid circular references\n",
       " * http://stackoverflow.com/a/24161582/3208463\n",
       " */\n",
       "function simpleKeys (original) {\n",
       "  return Object.keys(original).reduce(function (obj, key) {\n",
       "    if (typeof original[key] !== 'object')\n",
       "        obj[key] = original[key]\n",
       "    return obj;\n",
       "  }, {});\n",
       "}\n",
       "\n",
       "mpl.figure.prototype.mouse_event = function(event, name) {\n",
       "    var canvas_pos = mpl.findpos(event)\n",
       "\n",
       "    if (name === 'button_press')\n",
       "    {\n",
       "        this.canvas.focus();\n",
       "        this.canvas_div.focus();\n",
       "    }\n",
       "\n",
       "    var x = canvas_pos.x * mpl.ratio;\n",
       "    var y = canvas_pos.y * mpl.ratio;\n",
       "\n",
       "    this.send_message(name, {x: x, y: y, button: event.button,\n",
       "                             step: event.step,\n",
       "                             guiEvent: simpleKeys(event)});\n",
       "\n",
       "    /* This prevents the web browser from automatically changing to\n",
       "     * the text insertion cursor when the button is pressed.  We want\n",
       "     * to control all of the cursor setting manually through the\n",
       "     * 'cursor' event from matplotlib */\n",
       "    event.preventDefault();\n",
       "    return false;\n",
       "}\n",
       "\n",
       "mpl.figure.prototype._key_event_extra = function(event, name) {\n",
       "    // Handle any extra behaviour associated with a key event\n",
       "}\n",
       "\n",
       "mpl.figure.prototype.key_event = function(event, name) {\n",
       "\n",
       "    // Prevent repeat events\n",
       "    if (name == 'key_press')\n",
       "    {\n",
       "        if (event.which === this._key)\n",
       "            return;\n",
       "        else\n",
       "            this._key = event.which;\n",
       "    }\n",
       "    if (name == 'key_release')\n",
       "        this._key = null;\n",
       "\n",
       "    var value = '';\n",
       "    if (event.ctrlKey && event.which != 17)\n",
       "        value += \"ctrl+\";\n",
       "    if (event.altKey && event.which != 18)\n",
       "        value += \"alt+\";\n",
       "    if (event.shiftKey && event.which != 16)\n",
       "        value += \"shift+\";\n",
       "\n",
       "    value += 'k';\n",
       "    value += event.which.toString();\n",
       "\n",
       "    this._key_event_extra(event, name);\n",
       "\n",
       "    this.send_message(name, {key: value,\n",
       "                             guiEvent: simpleKeys(event)});\n",
       "    return false;\n",
       "}\n",
       "\n",
       "mpl.figure.prototype.toolbar_button_onclick = function(name) {\n",
       "    if (name == 'download') {\n",
       "        this.handle_save(this, null);\n",
       "    } else {\n",
       "        this.send_message(\"toolbar_button\", {name: name});\n",
       "    }\n",
       "};\n",
       "\n",
       "mpl.figure.prototype.toolbar_button_onmouseover = function(tooltip) {\n",
       "    this.message.textContent = tooltip;\n",
       "};\n",
       "mpl.toolbar_items = [[\"Home\", \"Reset original view\", \"fa fa-home icon-home\", \"home\"], [\"Back\", \"Back to previous view\", \"fa fa-arrow-left icon-arrow-left\", \"back\"], [\"Forward\", \"Forward to next view\", \"fa fa-arrow-right icon-arrow-right\", \"forward\"], [\"\", \"\", \"\", \"\"], [\"Pan\", \"Pan axes with left mouse, zoom with right\", \"fa fa-arrows icon-move\", \"pan\"], [\"Zoom\", \"Zoom to rectangle\", \"fa fa-square-o icon-check-empty\", \"zoom\"], [\"\", \"\", \"\", \"\"], [\"Download\", \"Download plot\", \"fa fa-floppy-o icon-save\", \"download\"]];\n",
       "\n",
       "mpl.extensions = [\"eps\", \"jpeg\", \"pdf\", \"png\", \"ps\", \"raw\", \"svg\", \"tif\"];\n",
       "\n",
       "mpl.default_extension = \"png\";var comm_websocket_adapter = function(comm) {\n",
       "    // Create a \"websocket\"-like object which calls the given IPython comm\n",
       "    // object with the appropriate methods. Currently this is a non binary\n",
       "    // socket, so there is still some room for performance tuning.\n",
       "    var ws = {};\n",
       "\n",
       "    ws.close = function() {\n",
       "        comm.close()\n",
       "    };\n",
       "    ws.send = function(m) {\n",
       "        //console.log('sending', m);\n",
       "        comm.send(m);\n",
       "    };\n",
       "    // Register the callback with on_msg.\n",
       "    comm.on_msg(function(msg) {\n",
       "        //console.log('receiving', msg['content']['data'], msg);\n",
       "        // Pass the mpl event to the overridden (by mpl) onmessage function.\n",
       "        ws.onmessage(msg['content']['data'])\n",
       "    });\n",
       "    return ws;\n",
       "}\n",
       "\n",
       "mpl.mpl_figure_comm = function(comm, msg) {\n",
       "    // This is the function which gets called when the mpl process\n",
       "    // starts-up an IPython Comm through the \"matplotlib\" channel.\n",
       "\n",
       "    var id = msg.content.data.id;\n",
       "    // Get hold of the div created by the display call when the Comm\n",
       "    // socket was opened in Python.\n",
       "    var element = $(\"#\" + id);\n",
       "    var ws_proxy = comm_websocket_adapter(comm)\n",
       "\n",
       "    function ondownload(figure, format) {\n",
       "        window.open(figure.imageObj.src);\n",
       "    }\n",
       "\n",
       "    var fig = new mpl.figure(id, ws_proxy,\n",
       "                           ondownload,\n",
       "                           element.get(0));\n",
       "\n",
       "    // Call onopen now - mpl needs it, as it is assuming we've passed it a real\n",
       "    // web socket which is closed, not our websocket->open comm proxy.\n",
       "    ws_proxy.onopen();\n",
       "\n",
       "    fig.parent_element = element.get(0);\n",
       "    fig.cell_info = mpl.find_output_cell(\"<div id='\" + id + \"'></div>\");\n",
       "    if (!fig.cell_info) {\n",
       "        console.error(\"Failed to find cell for figure\", id, fig);\n",
       "        return;\n",
       "    }\n",
       "\n",
       "    var output_index = fig.cell_info[2]\n",
       "    var cell = fig.cell_info[0];\n",
       "\n",
       "};\n",
       "\n",
       "mpl.figure.prototype.handle_close = function(fig, msg) {\n",
       "    var width = fig.canvas.width/mpl.ratio\n",
       "    fig.root.unbind('remove')\n",
       "\n",
       "    // Update the output cell to use the data from the current canvas.\n",
       "    fig.push_to_output();\n",
       "    var dataURL = fig.canvas.toDataURL();\n",
       "    // Re-enable the keyboard manager in IPython - without this line, in FF,\n",
       "    // the notebook keyboard shortcuts fail.\n",
       "    IPython.keyboard_manager.enable()\n",
       "    $(fig.parent_element).html('<img src=\"' + dataURL + '\" width=\"' + width + '\">');\n",
       "    fig.close_ws(fig, msg);\n",
       "}\n",
       "\n",
       "mpl.figure.prototype.close_ws = function(fig, msg){\n",
       "    fig.send_message('closing', msg);\n",
       "    // fig.ws.close()\n",
       "}\n",
       "\n",
       "mpl.figure.prototype.push_to_output = function(remove_interactive) {\n",
       "    // Turn the data on the canvas into data in the output cell.\n",
       "    var width = this.canvas.width/mpl.ratio\n",
       "    var dataURL = this.canvas.toDataURL();\n",
       "    this.cell_info[1]['text/html'] = '<img src=\"' + dataURL + '\" width=\"' + width + '\">';\n",
       "}\n",
       "\n",
       "mpl.figure.prototype.updated_canvas_event = function() {\n",
       "    // Tell IPython that the notebook contents must change.\n",
       "    IPython.notebook.set_dirty(true);\n",
       "    this.send_message(\"ack\", {});\n",
       "    var fig = this;\n",
       "    // Wait a second, then push the new image to the DOM so\n",
       "    // that it is saved nicely (might be nice to debounce this).\n",
       "    setTimeout(function () { fig.push_to_output() }, 1000);\n",
       "}\n",
       "\n",
       "mpl.figure.prototype._init_toolbar = function() {\n",
       "    var fig = this;\n",
       "\n",
       "    var nav_element = $('<div/>');\n",
       "    nav_element.attr('style', 'width: 100%');\n",
       "    this.root.append(nav_element);\n",
       "\n",
       "    // Define a callback function for later on.\n",
       "    function toolbar_event(event) {\n",
       "        return fig.toolbar_button_onclick(event['data']);\n",
       "    }\n",
       "    function toolbar_mouse_event(event) {\n",
       "        return fig.toolbar_button_onmouseover(event['data']);\n",
       "    }\n",
       "\n",
       "    for(var toolbar_ind in mpl.toolbar_items){\n",
       "        var name = mpl.toolbar_items[toolbar_ind][0];\n",
       "        var tooltip = mpl.toolbar_items[toolbar_ind][1];\n",
       "        var image = mpl.toolbar_items[toolbar_ind][2];\n",
       "        var method_name = mpl.toolbar_items[toolbar_ind][3];\n",
       "\n",
       "        if (!name) { continue; };\n",
       "\n",
       "        var button = $('<button class=\"btn btn-default\" href=\"#\" title=\"' + name + '\"><i class=\"fa ' + image + ' fa-lg\"></i></button>');\n",
       "        button.click(method_name, toolbar_event);\n",
       "        button.mouseover(tooltip, toolbar_mouse_event);\n",
       "        nav_element.append(button);\n",
       "    }\n",
       "\n",
       "    // Add the status bar.\n",
       "    var status_bar = $('<span class=\"mpl-message\" style=\"text-align:right; float: right;\"/>');\n",
       "    nav_element.append(status_bar);\n",
       "    this.message = status_bar[0];\n",
       "\n",
       "    // Add the close button to the window.\n",
       "    var buttongrp = $('<div class=\"btn-group inline pull-right\"></div>');\n",
       "    var button = $('<button class=\"btn btn-mini btn-primary\" href=\"#\" title=\"Stop Interaction\"><i class=\"fa fa-power-off icon-remove icon-large\"></i></button>');\n",
       "    button.click(function (evt) { fig.handle_close(fig, {}); } );\n",
       "    button.mouseover('Stop Interaction', toolbar_mouse_event);\n",
       "    buttongrp.append(button);\n",
       "    var titlebar = this.root.find($('.ui-dialog-titlebar'));\n",
       "    titlebar.prepend(buttongrp);\n",
       "}\n",
       "\n",
       "mpl.figure.prototype._root_extra_style = function(el){\n",
       "    var fig = this\n",
       "    el.on(\"remove\", function(){\n",
       "\tfig.close_ws(fig, {});\n",
       "    });\n",
       "}\n",
       "\n",
       "mpl.figure.prototype._canvas_extra_style = function(el){\n",
       "    // this is important to make the div 'focusable\n",
       "    el.attr('tabindex', 0)\n",
       "    // reach out to IPython and tell the keyboard manager to turn it's self\n",
       "    // off when our div gets focus\n",
       "\n",
       "    // location in version 3\n",
       "    if (IPython.notebook.keyboard_manager) {\n",
       "        IPython.notebook.keyboard_manager.register_events(el);\n",
       "    }\n",
       "    else {\n",
       "        // location in version 2\n",
       "        IPython.keyboard_manager.register_events(el);\n",
       "    }\n",
       "\n",
       "}\n",
       "\n",
       "mpl.figure.prototype._key_event_extra = function(event, name) {\n",
       "    var manager = IPython.notebook.keyboard_manager;\n",
       "    if (!manager)\n",
       "        manager = IPython.keyboard_manager;\n",
       "\n",
       "    // Check for shift+enter\n",
       "    if (event.shiftKey && event.which == 13) {\n",
       "        this.canvas_div.blur();\n",
       "        // select the cell after this one\n",
       "        var index = IPython.notebook.find_cell_index(this.cell_info[0]);\n",
       "        IPython.notebook.select(index + 1);\n",
       "    }\n",
       "}\n",
       "\n",
       "mpl.figure.prototype.handle_save = function(fig, msg) {\n",
       "    fig.ondownload(fig, null);\n",
       "}\n",
       "\n",
       "\n",
       "mpl.find_output_cell = function(html_output) {\n",
       "    // Return the cell and output element which can be found *uniquely* in the notebook.\n",
       "    // Note - this is a bit hacky, but it is done because the \"notebook_saving.Notebook\"\n",
       "    // IPython event is triggered only after the cells have been serialised, which for\n",
       "    // our purposes (turning an active figure into a static one), is too late.\n",
       "    var cells = IPython.notebook.get_cells();\n",
       "    var ncells = cells.length;\n",
       "    for (var i=0; i<ncells; i++) {\n",
       "        var cell = cells[i];\n",
       "        if (cell.cell_type === 'code'){\n",
       "            for (var j=0; j<cell.output_area.outputs.length; j++) {\n",
       "                var data = cell.output_area.outputs[j];\n",
       "                if (data.data) {\n",
       "                    // IPython >= 3 moved mimebundle to data attribute of output\n",
       "                    data = data.data;\n",
       "                }\n",
       "                if (data['text/html'] == html_output) {\n",
       "                    return [cell, data, j];\n",
       "                }\n",
       "            }\n",
       "        }\n",
       "    }\n",
       "}\n",
       "\n",
       "// Register the function which deals with the matplotlib target/channel.\n",
       "// The kernel may be null if the page has been refreshed.\n",
       "if (IPython.notebook.kernel != null) {\n",
       "    IPython.notebook.kernel.comm_manager.register_target('matplotlib', mpl.mpl_figure_comm);\n",
       "}\n"
      ],
      "text/plain": [
       "<IPython.core.display.Javascript object>"
      ]
     },
     "metadata": {},
     "output_type": "display_data"
    },
    {
     "data": {
      "text/html": [
       "<img src=\"data:image/png;base64,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\" width=\"899.9999804930258\">"
      ],
      "text/plain": [
       "<IPython.core.display.HTML object>"
      ]
     },
     "metadata": {},
     "output_type": "display_data"
    }
   ],
   "source": [
    "plt.figure()\n",
    "psnr_to_plot[psnr_str] = psnr_to_plot[psnr_str].astype(float)\n",
    "lplot = sns.lineplot(\n",
    "    x=noise_std_str, \n",
    "    y=psnr_str, \n",
    "    hue=model_family_str,\n",
    "    style=train_stds_str,\n",
    "    data=psnr_to_plot,\n",
    "    palette=family_model_to_color,\n",
    ")\n",
    "plt.legend(bbox_to_anchor=(0., 1.01, 1., .05), loc='center', borderaxespad=0., ncol=7, fontsize=7.65)\n",
    "plt.subplots_adjust(right=0.83)\n",
    "plt.savefig(f'gen_wo_error_bars.png')"
   ]
  },
  {
   "cell_type": "code",
   "execution_count": null,
   "metadata": {},
   "outputs": [],
   "source": []
  }
 ],
 "metadata": {
  "kernelspec": {
   "display_name": "Python 3",
   "language": "python",
   "name": "python3"
  },
  "language_info": {
   "codemirror_mode": {
    "name": "ipython",
    "version": 3
   },
   "file_extension": ".py",
   "mimetype": "text/x-python",
   "name": "python",
   "nbconvert_exporter": "python",
   "pygments_lexer": "ipython3",
   "version": "3.6.8"
  },
  "notify_time": "30"
 },
 "nbformat": 4,
 "nbformat_minor": 2
}

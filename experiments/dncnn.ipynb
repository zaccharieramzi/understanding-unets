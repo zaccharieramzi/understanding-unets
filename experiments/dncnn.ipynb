{
 "cells": [
  {
   "cell_type": "code",
   "execution_count": 1,
   "metadata": {},
   "outputs": [
    {
     "name": "stdout",
     "output_type": "stream",
     "text": [
      "/volatile/home/Zaccharie/workspace/understanding-unets\n"
     ]
    }
   ],
   "source": [
    "%cd .."
   ]
  },
  {
   "cell_type": "code",
   "execution_count": 2,
   "metadata": {},
   "outputs": [],
   "source": [
    "# # this just to make sure we are using only on CPU\n",
    "# import os\n",
    "# os.environ[\"CUDA_VISIBLE_DEVICES\"]=\"-1\""
   ]
  },
  {
   "cell_type": "code",
   "execution_count": 3,
   "metadata": {},
   "outputs": [
    {
     "name": "stderr",
     "output_type": "stream",
     "text": [
      "Using TensorFlow backend.\n"
     ]
    }
   ],
   "source": [
    "%load_ext autoreload\n",
    "%autoreload 2\n",
    "import os.path as op\n",
    "import time\n",
    "\n",
    "from tensorflow.keras.callbacks import TensorBoard, ModelCheckpoint, LearningRateScheduler\n",
    "from keras_tqdm import TQDMNotebookCallback\n",
    "import tensorflow as tf\n",
    "from tqdm import tqdm_notebook\n",
    "\n",
    "from learning_wavelets.datasets import im_dataset_div2k\n",
    "from learning_wavelets.evaluate import psnr, ssim\n",
    "from learning_wavelets.keras_utils.image_tboard_cback import TensorBoardImage\n",
    "from learning_wavelets.dncnn import dncnn"
   ]
  },
  {
   "cell_type": "code",
   "execution_count": 4,
   "metadata": {},
   "outputs": [],
   "source": [
    "tf.random.set_seed(1)"
   ]
  },
  {
   "cell_type": "code",
   "execution_count": 5,
   "metadata": {},
   "outputs": [],
   "source": [
    "noise_std = 30\n",
    "batch_size = 8\n",
    "n_samples_train = 800\n",
    "im_ds_train = im_dataset_div2k(mode='training', batch_size=batch_size, patch_size=50, noise_std=noise_std)\n",
    "im_ds_val = im_dataset_div2k(mode='validation', batch_size=1, patch_size=50, noise_std=noise_std)"
   ]
  },
  {
   "cell_type": "code",
   "execution_count": 6,
   "metadata": {},
   "outputs": [
    {
     "name": "stdout",
     "output_type": "stream",
     "text": [
      "dncnn_div2k_30_1575738740\n"
     ]
    }
   ],
   "source": [
    "run_params = {\n",
    "    'filters': 64, \n",
    "    'depth': 20,\n",
    "}\n",
    "n_epochs = 150\n",
    "run_id = f'dncnn_div2k_{noise_std}_{int(time.time())}'\n",
    "chkpt_path = f'checkpoints/{run_id}' + '-{epoch:02d}.hdf5'\n",
    "print(run_id)"
   ]
  },
  {
   "cell_type": "code",
   "execution_count": 7,
   "metadata": {},
   "outputs": [],
   "source": [
    "def l_rate_schedule(epoch):\n",
    "    return 1e-3 / 2**(epoch//25)\n",
    "lrate_cback = LearningRateScheduler(l_rate_schedule)"
   ]
  },
  {
   "cell_type": "code",
   "execution_count": 8,
   "metadata": {
    "scrolled": false
   },
   "outputs": [
    {
     "name": "stderr",
     "output_type": "stream",
     "text": [
      "WARNING: Logging before flag parsing goes to stderr.\n",
      "W1207 18:12:20.846529 140512068499200 callbacks.py:863] `period` argument is deprecated. Please use `save_freq` to specify the frequency in number of samples seen.\n"
     ]
    }
   ],
   "source": [
    "chkpt_cback = ModelCheckpoint(chkpt_path, period=n_epochs, save_weights_only=False)\n",
    "log_dir = op.join('logs', run_id)\n",
    "tboard_cback = TensorBoard(\n",
    "    log_dir=log_dir, \n",
    "    histogram_freq=0, \n",
    "    write_graph=True, \n",
    "    write_images=False, \n",
    "    profile_batch=0,\n",
    ")\n",
    "tqdm_cb = TQDMNotebookCallback(metric_format=\"{name}: {value:e}\")\n",
    "tqdm_cb.on_train_batch_begin = tqdm_cb.on_batch_begin\n",
    "tqdm_cb.on_train_batch_end = tqdm_cb.on_batch_end\n",
    "val_noisy, val_gt = next(iter(im_ds_val))\n",
    "tboard_image_cback = TensorBoardImage(\n",
    "    log_dir=log_dir + '/images',\n",
    "    image=val_gt[0:1],\n",
    "    noisy_image=val_noisy[0:1],\n",
    ")"
   ]
  },
  {
   "cell_type": "code",
   "execution_count": 9,
   "metadata": {
    "scrolled": true
   },
   "outputs": [
    {
     "name": "stdout",
     "output_type": "stream",
     "text": [
      "Model: \"model\"\n",
      "______________________________________________________________________________________________________________________________________________________\n",
      "Layer (type)                                     Output Shape                     Param #           Connected to                                      \n",
      "======================================================================================================================================================\n",
      "input_1 (InputLayer)                             [(None, None, None, 1)]          0                                                                   \n",
      "______________________________________________________________________________________________________________________________________________________\n",
      "conv2d (Conv2D)                                  (None, None, None, 64)           640               input_1[0][0]                                     \n",
      "______________________________________________________________________________________________________________________________________________________\n",
      "activation (Activation)                          (None, None, None, 64)           0                 conv2d[0][0]                                      \n",
      "______________________________________________________________________________________________________________________________________________________\n",
      "conv2d_1 (Conv2D)                                (None, None, None, 64)           36864             activation[0][0]                                  \n",
      "______________________________________________________________________________________________________________________________________________________\n",
      "batch_normalization (BatchNormalization)         (None, None, None, 64)           256               conv2d_1[0][0]                                    \n",
      "______________________________________________________________________________________________________________________________________________________\n",
      "activation_1 (Activation)                        (None, None, None, 64)           0                 batch_normalization[0][0]                         \n",
      "______________________________________________________________________________________________________________________________________________________\n",
      "conv2d_2 (Conv2D)                                (None, None, None, 64)           36864             activation_1[0][0]                                \n",
      "______________________________________________________________________________________________________________________________________________________\n",
      "batch_normalization_1 (BatchNormalization)       (None, None, None, 64)           256               conv2d_2[0][0]                                    \n",
      "______________________________________________________________________________________________________________________________________________________\n",
      "activation_2 (Activation)                        (None, None, None, 64)           0                 batch_normalization_1[0][0]                       \n",
      "______________________________________________________________________________________________________________________________________________________\n",
      "conv2d_3 (Conv2D)                                (None, None, None, 64)           36864             activation_2[0][0]                                \n",
      "______________________________________________________________________________________________________________________________________________________\n",
      "batch_normalization_2 (BatchNormalization)       (None, None, None, 64)           256               conv2d_3[0][0]                                    \n",
      "______________________________________________________________________________________________________________________________________________________\n",
      "activation_3 (Activation)                        (None, None, None, 64)           0                 batch_normalization_2[0][0]                       \n",
      "______________________________________________________________________________________________________________________________________________________\n",
      "conv2d_4 (Conv2D)                                (None, None, None, 64)           36864             activation_3[0][0]                                \n",
      "______________________________________________________________________________________________________________________________________________________\n",
      "batch_normalization_3 (BatchNormalization)       (None, None, None, 64)           256               conv2d_4[0][0]                                    \n",
      "______________________________________________________________________________________________________________________________________________________\n",
      "activation_4 (Activation)                        (None, None, None, 64)           0                 batch_normalization_3[0][0]                       \n",
      "______________________________________________________________________________________________________________________________________________________\n",
      "conv2d_5 (Conv2D)                                (None, None, None, 64)           36864             activation_4[0][0]                                \n",
      "______________________________________________________________________________________________________________________________________________________\n",
      "batch_normalization_4 (BatchNormalization)       (None, None, None, 64)           256               conv2d_5[0][0]                                    \n",
      "______________________________________________________________________________________________________________________________________________________\n",
      "activation_5 (Activation)                        (None, None, None, 64)           0                 batch_normalization_4[0][0]                       \n",
      "______________________________________________________________________________________________________________________________________________________\n",
      "conv2d_6 (Conv2D)                                (None, None, None, 64)           36864             activation_5[0][0]                                \n",
      "______________________________________________________________________________________________________________________________________________________\n",
      "batch_normalization_5 (BatchNormalization)       (None, None, None, 64)           256               conv2d_6[0][0]                                    \n",
      "______________________________________________________________________________________________________________________________________________________\n",
      "activation_6 (Activation)                        (None, None, None, 64)           0                 batch_normalization_5[0][0]                       \n",
      "______________________________________________________________________________________________________________________________________________________\n",
      "conv2d_7 (Conv2D)                                (None, None, None, 64)           36864             activation_6[0][0]                                \n",
      "______________________________________________________________________________________________________________________________________________________\n",
      "batch_normalization_6 (BatchNormalization)       (None, None, None, 64)           256               conv2d_7[0][0]                                    \n",
      "______________________________________________________________________________________________________________________________________________________\n",
      "activation_7 (Activation)                        (None, None, None, 64)           0                 batch_normalization_6[0][0]                       \n",
      "______________________________________________________________________________________________________________________________________________________\n",
      "conv2d_8 (Conv2D)                                (None, None, None, 64)           36864             activation_7[0][0]                                \n",
      "______________________________________________________________________________________________________________________________________________________\n",
      "batch_normalization_7 (BatchNormalization)       (None, None, None, 64)           256               conv2d_8[0][0]                                    \n",
      "______________________________________________________________________________________________________________________________________________________\n",
      "activation_8 (Activation)                        (None, None, None, 64)           0                 batch_normalization_7[0][0]                       \n",
      "______________________________________________________________________________________________________________________________________________________\n",
      "conv2d_9 (Conv2D)                                (None, None, None, 64)           36864             activation_8[0][0]                                \n",
      "______________________________________________________________________________________________________________________________________________________\n",
      "batch_normalization_8 (BatchNormalization)       (None, None, None, 64)           256               conv2d_9[0][0]                                    \n",
      "______________________________________________________________________________________________________________________________________________________\n",
      "activation_9 (Activation)                        (None, None, None, 64)           0                 batch_normalization_8[0][0]                       \n",
      "______________________________________________________________________________________________________________________________________________________\n",
      "conv2d_10 (Conv2D)                               (None, None, None, 64)           36864             activation_9[0][0]                                \n",
      "______________________________________________________________________________________________________________________________________________________\n",
      "batch_normalization_9 (BatchNormalization)       (None, None, None, 64)           256               conv2d_10[0][0]                                   \n",
      "______________________________________________________________________________________________________________________________________________________\n",
      "activation_10 (Activation)                       (None, None, None, 64)           0                 batch_normalization_9[0][0]                       \n",
      "______________________________________________________________________________________________________________________________________________________\n",
      "conv2d_11 (Conv2D)                               (None, None, None, 64)           36864             activation_10[0][0]                               \n",
      "______________________________________________________________________________________________________________________________________________________\n",
      "batch_normalization_10 (BatchNormalization)      (None, None, None, 64)           256               conv2d_11[0][0]                                   \n",
      "______________________________________________________________________________________________________________________________________________________\n",
      "activation_11 (Activation)                       (None, None, None, 64)           0                 batch_normalization_10[0][0]                      \n",
      "______________________________________________________________________________________________________________________________________________________\n",
      "conv2d_12 (Conv2D)                               (None, None, None, 64)           36864             activation_11[0][0]                               \n",
      "______________________________________________________________________________________________________________________________________________________\n",
      "batch_normalization_11 (BatchNormalization)      (None, None, None, 64)           256               conv2d_12[0][0]                                   \n",
      "______________________________________________________________________________________________________________________________________________________\n",
      "activation_12 (Activation)                       (None, None, None, 64)           0                 batch_normalization_11[0][0]                      \n",
      "______________________________________________________________________________________________________________________________________________________\n",
      "conv2d_13 (Conv2D)                               (None, None, None, 64)           36864             activation_12[0][0]                               \n",
      "______________________________________________________________________________________________________________________________________________________\n",
      "batch_normalization_12 (BatchNormalization)      (None, None, None, 64)           256               conv2d_13[0][0]                                   \n",
      "______________________________________________________________________________________________________________________________________________________\n",
      "activation_13 (Activation)                       (None, None, None, 64)           0                 batch_normalization_12[0][0]                      \n",
      "______________________________________________________________________________________________________________________________________________________\n",
      "conv2d_14 (Conv2D)                               (None, None, None, 64)           36864             activation_13[0][0]                               \n",
      "______________________________________________________________________________________________________________________________________________________\n",
      "batch_normalization_13 (BatchNormalization)      (None, None, None, 64)           256               conv2d_14[0][0]                                   \n",
      "______________________________________________________________________________________________________________________________________________________\n",
      "activation_14 (Activation)                       (None, None, None, 64)           0                 batch_normalization_13[0][0]                      \n",
      "______________________________________________________________________________________________________________________________________________________\n",
      "conv2d_15 (Conv2D)                               (None, None, None, 64)           36864             activation_14[0][0]                               \n",
      "______________________________________________________________________________________________________________________________________________________\n",
      "batch_normalization_14 (BatchNormalization)      (None, None, None, 64)           256               conv2d_15[0][0]                                   \n",
      "______________________________________________________________________________________________________________________________________________________\n",
      "activation_15 (Activation)                       (None, None, None, 64)           0                 batch_normalization_14[0][0]                      \n",
      "______________________________________________________________________________________________________________________________________________________\n",
      "conv2d_16 (Conv2D)                               (None, None, None, 64)           36864             activation_15[0][0]                               \n",
      "______________________________________________________________________________________________________________________________________________________\n",
      "batch_normalization_15 (BatchNormalization)      (None, None, None, 64)           256               conv2d_16[0][0]                                   \n",
      "______________________________________________________________________________________________________________________________________________________\n",
      "activation_16 (Activation)                       (None, None, None, 64)           0                 batch_normalization_15[0][0]                      \n",
      "______________________________________________________________________________________________________________________________________________________\n",
      "conv2d_17 (Conv2D)                               (None, None, None, 64)           36864             activation_16[0][0]                               \n",
      "______________________________________________________________________________________________________________________________________________________\n",
      "batch_normalization_16 (BatchNormalization)      (None, None, None, 64)           256               conv2d_17[0][0]                                   \n",
      "______________________________________________________________________________________________________________________________________________________\n",
      "activation_17 (Activation)                       (None, None, None, 64)           0                 batch_normalization_16[0][0]                      \n",
      "______________________________________________________________________________________________________________________________________________________\n",
      "conv2d_18 (Conv2D)                               (None, None, None, 64)           36864             activation_17[0][0]                               \n",
      "______________________________________________________________________________________________________________________________________________________\n",
      "batch_normalization_17 (BatchNormalization)      (None, None, None, 64)           256               conv2d_18[0][0]                                   \n",
      "______________________________________________________________________________________________________________________________________________________\n",
      "activation_18 (Activation)                       (None, None, None, 64)           0                 batch_normalization_17[0][0]                      \n",
      "______________________________________________________________________________________________________________________________________________________\n",
      "conv2d_19 (Conv2D)                               (None, None, None, 1)            576               activation_18[0][0]                               \n",
      "______________________________________________________________________________________________________________________________________________________\n",
      "subtract (Subtract)                              (None, None, None, 1)            0                 input_1[0][0]                                     \n",
      "                                                                                                    conv2d_19[0][0]                                   \n",
      "======================================================================================================================================================\n",
      "Total params: 669,376\n",
      "Trainable params: 667,072\n",
      "Non-trainable params: 2,304\n",
      "______________________________________________________________________________________________________________________________________________________\n",
      "None\n"
     ]
    }
   ],
   "source": [
    "n_channels = 1\n",
    "model = dncnn(input_size=(None, None, n_channels), lr=1e-1, **run_params)\n",
    "print(model.summary(line_length=150))"
   ]
  },
  {
   "cell_type": "code",
   "execution_count": null,
   "metadata": {
    "scrolled": true
   },
   "outputs": [
    {
     "data": {
      "application/vnd.jupyter.widget-view+json": {
       "model_id": "11dfb6a75d5b42719cb8fe96bfc40186",
       "version_major": 2,
       "version_minor": 0
      },
      "text/plain": [
       "HBox(children=(IntProgress(value=0, description='Training', max=150, style=ProgressStyle(description_width='in…"
      ]
     },
     "metadata": {},
     "output_type": "display_data"
    },
    {
     "data": {
      "application/vnd.jupyter.widget-view+json": {
       "model_id": "",
       "version_major": 2,
       "version_minor": 0
      },
      "text/plain": [
       "HBox(children=(IntProgress(value=0, description='Epoch 0', max=3000, style=ProgressStyle(description_width='in…"
      ]
     },
     "metadata": {},
     "output_type": "display_data"
    },
    {
     "data": {
      "application/vnd.jupyter.widget-view+json": {
       "model_id": "",
       "version_major": 2,
       "version_minor": 0
      },
      "text/plain": [
       "HBox(children=(IntProgress(value=0, description='Epoch 1', max=3000, style=ProgressStyle(description_width='in…"
      ]
     },
     "metadata": {},
     "output_type": "display_data"
    },
    {
     "data": {
      "application/vnd.jupyter.widget-view+json": {
       "model_id": "1fcbdb1834d148dfa3426d15cd6cbb05",
       "version_major": 2,
       "version_minor": 0
      },
      "text/plain": [
       "HBox(children=(IntProgress(value=0, description='Epoch 2', max=3000, style=ProgressStyle(description_width='in…"
      ]
     },
     "metadata": {},
     "output_type": "display_data"
    }
   ],
   "source": [
    "%%time\n",
    "model.fit(\n",
    "    im_ds_train, \n",
    "    steps_per_epoch=3000, \n",
    "#     steps_per_epoch=5, \n",
    "    epochs=n_epochs,\n",
    "    validation_data=im_ds_val,\n",
    "#     validation_steps=int(validation_split * n_samples_train / batch_size),\n",
    "    validation_steps=1,\n",
    "    verbose=0,\n",
    "    callbacks=[tqdm_cb, tboard_cback, chkpt_cback, tboard_image_cback, lrate_cback],\n",
    "    shuffle=False,\n",
    ")"
   ]
  },
  {
   "cell_type": "code",
   "execution_count": 12,
   "metadata": {},
   "outputs": [
    {
     "name": "stdout",
     "output_type": "stream",
     "text": [
      "200/200 [==============================] - 3s 16ms/step - loss: 0.0024 - keras_psnr: 30.5730 - keras_ssim: 0.8163\n"
     ]
    },
    {
     "data": {
      "text/plain": [
       "[0.0023909427807211614, 30.57302, 0.8163035]"
      ]
     },
     "execution_count": 12,
     "metadata": {},
     "output_type": "execute_result"
    }
   ],
   "source": [
    "model.evaluate(im_ds_val, steps=200)"
   ]
  },
  {
   "cell_type": "code",
   "execution_count": null,
   "metadata": {
    "scrolled": true
   },
   "outputs": [],
   "source": [
    "# %%time\n",
    "# # overfitting trials\n",
    "# data = next(iter(im_ds_train))\n",
    "# val_data = next(iter(im_ds_val))\n",
    "# model.fit(\n",
    "#     x=data[0], \n",
    "#     y=data[1], \n",
    "# #     validation_data=val_data, \n",
    "#     batch_size=batch_size, \n",
    "# #     callbacks=[tqdm_cb, tboard_cback, tboard_image_cback, norm_cback, lrate_cback],\n",
    "#     callbacks=[tqdm_cb, tboard_cback, lrate_cback],\n",
    "#     epochs=250, \n",
    "#     verbose=2, \n",
    "#     shuffle=False,\n",
    "# )\n",
    "# print('Original metrics')\n",
    "# print(psnr(data[0].numpy(), data[1].numpy()))\n",
    "# print(ssim(data[0].numpy(), data[1].numpy()))"
   ]
  },
  {
   "cell_type": "code",
   "execution_count": null,
   "metadata": {},
   "outputs": [],
   "source": []
  }
 ],
 "metadata": {
  "kernelspec": {
   "display_name": "Python 3",
   "language": "python",
   "name": "python3"
  },
  "language_info": {
   "codemirror_mode": {
    "name": "ipython",
    "version": 3
   },
   "file_extension": ".py",
   "mimetype": "text/x-python",
   "name": "python",
   "nbconvert_exporter": "python",
   "pygments_lexer": "ipython3",
   "version": "3.6.8"
  },
  "notify_time": "30"
 },
 "nbformat": 4,
 "nbformat_minor": 2
}

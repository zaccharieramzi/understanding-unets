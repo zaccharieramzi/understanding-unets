{
 "cells": [
  {
   "cell_type": "code",
   "execution_count": 1,
   "metadata": {},
   "outputs": [
    {
     "name": "stdout",
     "output_type": "stream",
     "text": [
      "/volatile/home/Zaccharie/workspace/understanding-unets\n"
     ]
    }
   ],
   "source": [
    "%cd .."
   ]
  },
  {
   "cell_type": "code",
   "execution_count": 2,
   "metadata": {},
   "outputs": [],
   "source": [
    "# # this just to make sure we are using only on CPU\n",
    "# import os\n",
    "# os.environ[\"CUDA_VISIBLE_DEVICES\"]=\"-1\""
   ]
  },
  {
   "cell_type": "code",
   "execution_count": 3,
   "metadata": {},
   "outputs": [
    {
     "name": "stdout",
     "output_type": "stream",
     "text": [
      "\n",
      "                 .|'''|       /.\\      '||'''|,\n",
      "                 ||          // \\\\      ||   ||\n",
      "'||''|, '||  ||` `|'''|,    //...\\\\     ||...|'\n",
      " ||  ||  `|..||   .   ||   //     \\\\    ||\n",
      " ||..|'      ||   |...|' .//       \\\\. .||\n",
      " ||       ,  |'\n",
      ".||        ''\n",
      "\n",
      "Package version: 0.0.3\n",
      "\n",
      "License: CeCILL-B\n",
      "\n",
      "Authors: \n",
      "\n",
      "Antoine Grigis <antoine.grigis@cea.fr>\n",
      "Samuel Farrens <samuel.farrens@cea.fr>\n",
      "Jean-Luc Starck <jl.stark@cea.fr>\n",
      "Philippe Ciuciu <philippe.ciuciu@cea.fr>\n",
      "\n",
      "Dependencies: \n",
      "\n",
      "scipy          : >=1.3.0   - required | 1.3.0     installed\n",
      "numpy          : >=1.16.4  - required | 1.17.4    installed\n",
      "matplotlib     : >=3.0.0   - required | 3.1.0     installed\n",
      "astropy        : >=3.0.0   - required | 3.1.2     installed\n",
      "nibabel        : >=2.3.2   - required | 2.5.1     installed\n",
      "pyqtgraph      : >=0.10.0  - required | 0.10.0    installed\n",
      "progressbar2   : >=3.34.3  - required | ?         installed\n",
      "modopt         : >=1.4.0   - required | 1.4.1     installed\n",
      "scikit-learn   : >=0.19.1  - required | ?         installed\n",
      "pywt           : >=1.0.0   - required | 1.0.3     installed\n",
      "pysparse       : >=0.0.1   - required | 0.1.0     installed\n",
      "\n"
     ]
    }
   ],
   "source": [
    "%load_ext autoreload\n",
    "%autoreload 2\n",
    "import copy\n",
    "import time\n",
    "\n",
    "import numpy as np\n",
    "import pandas as pd\n",
    "from tqdm import tqdm_notebook\n",
    "\n",
    "from learning_wavelets.data import im_generators, ConcatenateGenerators\n",
    "from learning_wavelets.keras_utils.thresholding import SoftThresholding, HardThresholding, DynamicSoftThresholding, DynamicHardThresholding\n",
    "from learning_wavelets.learned_wavelet import learned_wavelet, learnlet\n",
    "from learning_wavelets.unet import unet\n",
    "from learning_wavelets.utils.metrics import metrics_for_params, metrics_exact_recon_net, metrics_original, metrics_wavelets, metrics_bm3d, metrics_dynamic_denoising_net"
   ]
  },
  {
   "cell_type": "code",
   "execution_count": 4,
   "metadata": {},
   "outputs": [],
   "source": [
    "np.random.seed(0)"
   ]
  },
  {
   "cell_type": "code",
   "execution_count": 5,
   "metadata": {},
   "outputs": [],
   "source": [
    "all_net_params = [\n",
    "    {\n",
    "        'name': 'unet',\n",
    "        'init_function': unet,\n",
    "        'run_params': {\n",
    "            'n_layers': 5, \n",
    "            'pool': 'max', \n",
    "            \"layers_n_channels\": [64, 128, 256, 512, 1024], \n",
    "            'layers_n_non_lins': 2,\n",
    "            'non_relu_contract': False,\n",
    "            'input_size': (None, None, 1),\n",
    "        },\n",
    "        'run_id': 'unet_div2k_30_1574408775',\n",
    "    },\n",
    "    {\n",
    "        'name': 'learned wavelet_st',\n",
    "        'init_function': learned_wavelet,\n",
    "        'run_params': {\n",
    "            'n_scales': 5, \n",
    "            'n_details': 256, \n",
    "            'n_coarse': 1, \n",
    "            'mixing_details': False,\n",
    "            'denoising_activation': SoftThresholding,\n",
    "            'wav_pooling': True,\n",
    "            'wav_use_bias': False,\n",
    "            'wav_normed': True,\n",
    "            'filters_normed': ['details', 'coarse'],\n",
    "            'input_size': (None, None, 1),     \n",
    "        },\n",
    "        'run_id': 'learned_wavelet_div2k_30_1574790444',\n",
    "        'epoch': 250,\n",
    "    },\n",
    "]\n",
    "all_exact_recon_net_params = [\n",
    "    {\n",
    "        'name': 'learnlet_exact_reco',\n",
    "        'init_function': learnlet,\n",
    "        'run_params': {\n",
    "            'denoising_activation': SoftThresholding,\n",
    "            'learnlet_analysis_kwargs':{\n",
    "                'n_tiling': 256, \n",
    "                'mixing_details': False,        \n",
    "            },\n",
    "            'learnlet_synthesis_kwargs':{\n",
    "            },\n",
    "            'n_scales': 5,\n",
    "            'exact_reconstruction_weight': 1,\n",
    "            'input_size': (None, None, 1),     \n",
    "        },\n",
    "        'run_id': 'learnlet_div2k_30_1575052510',\n",
    "        'epoch': 250,\n",
    "    },\n",
    "]\n",
    "\n",
    "dynamic_denoising_net_params = [\n",
    "    {\n",
    "        'name': 'learnlet_0_55',\n",
    "        'init_function': learnlet,\n",
    "        'run_params': {\n",
    "            'denoising_activation': DynamicSoftThresholding(2, trainable=False),\n",
    "            'learnlet_analysis_kwargs':{\n",
    "                'n_tiling': 256, \n",
    "                'mixing_details': False,        \n",
    "            },\n",
    "            'learnlet_synthesis_kwargs': {\n",
    "                'res': False,\n",
    "            },\n",
    "            'n_scales': 5,\n",
    "            'exact_reconstruction_weight': 0,\n",
    "            'input_size': (None, None, 1),     \n",
    "        },\n",
    "        'run_id': 'learnlet_dynamic_st_div2k_(0, 55)_1575835369',\n",
    "        'epoch': 250,\n",
    "    },\n",
    "    {\n",
    "        'name': 'learnlet_0_55_alpha_learned',\n",
    "        'init_function': learnlet,\n",
    "        'run_params': {\n",
    "            'denoising_activation': DynamicSoftThresholding(2, trainable=True),\n",
    "            'learnlet_analysis_kwargs':{\n",
    "                'n_tiling': 256, \n",
    "                'mixing_details': False,        \n",
    "            },\n",
    "            'learnlet_synthesis_kwargs': {\n",
    "                'res': False,\n",
    "            },\n",
    "            'n_scales': 5,\n",
    "            'exact_reconstruction_weight': 0,\n",
    "            'input_size': (None, None, 1),     \n",
    "        },\n",
    "        'run_id': 'learnlet_dynamic_st_div2k_(0, 55)_1575881431',\n",
    "        'epoch': 250,\n",
    "    },\n",
    "    {\n",
    "        'name': 'learnlet_0_55_alpha_learned_bsd',\n",
    "        'init_function': learnlet,\n",
    "        'run_params': {\n",
    "            'denoising_activation': DynamicSoftThresholding(2, trainable=True),\n",
    "            'learnlet_analysis_kwargs':{\n",
    "                'n_tiling': 256, \n",
    "                'mixing_details': False,        \n",
    "            },\n",
    "            'learnlet_synthesis_kwargs': {\n",
    "                'res': False,\n",
    "            },\n",
    "            'n_scales': 5,\n",
    "            'exact_reconstruction_weight': 0,\n",
    "            'input_size': (size, size, n_channels),     \n",
    "        },\n",
    "        # there was a typo during training, but it is actually st\n",
    "        'run_id': 'learnlet_dynamic_ht_bsd500_0_55_1575925545',\n",
    "        'epoch': 250,\n",
    "    },\n",
    "    {\n",
    "        'name': 'learnlet_0_55_ht',\n",
    "        'init_function': learnlet,\n",
    "        'run_params': {\n",
    "            'denoising_activation': DynamicHardThresholding(3, trainable=False),\n",
    "            'learnlet_analysis_kwargs':{\n",
    "                'n_tiling': 256, \n",
    "                'mixing_details': False,        \n",
    "            },\n",
    "            'learnlet_synthesis_kwargs': {\n",
    "                'res': False,\n",
    "            },\n",
    "            'n_scales': 5,\n",
    "            'exact_reconstruction_weight': 0,\n",
    "            'input_size': (None, None, 1),     \n",
    "        },\n",
    "        'run_id': 'learnlet_dynamic_ht_div2k_(0, 55)_1575898840',\n",
    "        'epoch': 250,\n",
    "    },\n",
    "]"
   ]
  },
  {
   "cell_type": "code",
   "execution_count": 6,
   "metadata": {},
   "outputs": [],
   "source": [
    "noise_stds = [5, 15, 25, 30, 50, 75]"
   ]
  },
  {
   "cell_type": "code",
   "execution_count": 7,
   "metadata": {
    "code_folding": [],
    "scrolled": false
   },
   "outputs": [
    {
     "data": {
      "application/vnd.jupyter.widget-view+json": {
       "model_id": "8ab8981939584a87bbf33ff571496643",
       "version_major": 2,
       "version_minor": 0
      },
      "text/plain": [
       "HBox(children=(IntProgress(value=0, description='Noise stds', max=6, style=ProgressStyle(description_width='in…"
      ]
     },
     "metadata": {},
     "output_type": "display_data"
    },
    {
     "data": {
      "application/vnd.jupyter.widget-view+json": {
       "model_id": "50933017926b4a8a85678481392cec2c",
       "version_major": 2,
       "version_minor": 0
      },
      "text/plain": [
       "HBox(children=(IntProgress(value=0, description='Val files for unet', max=68, style=ProgressStyle(description_…"
      ]
     },
     "metadata": {},
     "output_type": "display_data"
    },
    {
     "data": {
      "application/vnd.jupyter.widget-view+json": {
       "model_id": "25035311739841058baf35bdac8b9a10",
       "version_major": 2,
       "version_minor": 0
      },
      "text/plain": [
       "HBox(children=(IntProgress(value=0, description='Stats for unet', max=68, style=ProgressStyle(description_widt…"
      ]
     },
     "metadata": {},
     "output_type": "display_data"
    },
    {
     "data": {
      "application/vnd.jupyter.widget-view+json": {
       "model_id": "0c9cc7dc617f46e59f1f888d58a89bc2",
       "version_major": 2,
       "version_minor": 0
      },
      "text/plain": [
       "HBox(children=(IntProgress(value=0, description='Val files for learned wavelet_st', max=68, style=ProgressStyl…"
      ]
     },
     "metadata": {},
     "output_type": "display_data"
    },
    {
     "data": {
      "application/vnd.jupyter.widget-view+json": {
       "model_id": "a7cdbe46aced4720b23b1af216e33537",
       "version_major": 2,
       "version_minor": 0
      },
      "text/plain": [
       "HBox(children=(IntProgress(value=0, description='Stats for learned wavelet_st', max=68, style=ProgressStyle(de…"
      ]
     },
     "metadata": {},
     "output_type": "display_data"
    },
    {
     "data": {
      "application/vnd.jupyter.widget-view+json": {
       "model_id": "7a9909a02bb24e93973f953ec28dd5d7",
       "version_major": 2,
       "version_minor": 0
      },
      "text/plain": [
       "HBox(children=(IntProgress(value=0, description='Val files for learnlet_0_55', max=68, style=ProgressStyle(des…"
      ]
     },
     "metadata": {},
     "output_type": "display_data"
    },
    {
     "data": {
      "application/vnd.jupyter.widget-view+json": {
       "model_id": "2a2d6541891942fb9f97fa4bd2babbb1",
       "version_major": 2,
       "version_minor": 0
      },
      "text/plain": [
       "HBox(children=(IntProgress(value=0, description='Stats for learnlet_0_55', max=68, style=ProgressStyle(descrip…"
      ]
     },
     "metadata": {},
     "output_type": "display_data"
    },
    {
     "data": {
      "application/vnd.jupyter.widget-view+json": {
       "model_id": "78725fa263d14335ab0aaef1a27c8552",
       "version_major": 2,
       "version_minor": 0
      },
      "text/plain": [
       "HBox(children=(IntProgress(value=0, description='Val files for learnlet_0_55_alpha_learned', max=68, style=Pro…"
      ]
     },
     "metadata": {},
     "output_type": "display_data"
    },
    {
     "data": {
      "application/vnd.jupyter.widget-view+json": {
       "model_id": "8b8e289efcce4e60acc511bf87338561",
       "version_major": 2,
       "version_minor": 0
      },
      "text/plain": [
       "HBox(children=(IntProgress(value=0, description='Stats for learnlet_0_55_alpha_learned', max=68, style=Progres…"
      ]
     },
     "metadata": {},
     "output_type": "display_data"
    },
    {
     "data": {
      "application/vnd.jupyter.widget-view+json": {
       "model_id": "6c963e7175ef4851ac116f740660617d",
       "version_major": 2,
       "version_minor": 0
      },
      "text/plain": [
       "HBox(children=(IntProgress(value=0, description='Val files for learnlet_0_55_ht', max=68, style=ProgressStyle(…"
      ]
     },
     "metadata": {},
     "output_type": "display_data"
    },
    {
     "data": {
      "application/vnd.jupyter.widget-view+json": {
       "model_id": "5497cb3293554315a0c549550c65c20a",
       "version_major": 2,
       "version_minor": 0
      },
      "text/plain": [
       "HBox(children=(IntProgress(value=0, description='Stats for learnlet_0_55_ht', max=68, style=ProgressStyle(desc…"
      ]
     },
     "metadata": {},
     "output_type": "display_data"
    },
    {
     "data": {
      "application/vnd.jupyter.widget-view+json": {
       "model_id": "91583081ff6947ef898a7b737b2340bf",
       "version_major": 2,
       "version_minor": 0
      },
      "text/plain": [
       "HBox(children=(IntProgress(value=0, description='Val files for learnlet_exact_reco', max=68, style=ProgressSty…"
      ]
     },
     "metadata": {},
     "output_type": "display_data"
    },
    {
     "data": {
      "application/vnd.jupyter.widget-view+json": {
       "model_id": "a2b08d79713c450f87d33d0c4ccbceb1",
       "version_major": 2,
       "version_minor": 0
      },
      "text/plain": [
       "HBox(children=(IntProgress(value=0, description='Stats for learnlet_exact_reco', max=68, style=ProgressStyle(d…"
      ]
     },
     "metadata": {},
     "output_type": "display_data"
    },
    {
     "data": {
      "application/vnd.jupyter.widget-view+json": {
       "model_id": "b2a0771ed7644aa1b98999a85462bd7e",
       "version_major": 2,
       "version_minor": 0
      },
      "text/plain": [
       "HBox(children=(IntProgress(value=0, description='Val files for Original noisy image', max=68, style=ProgressSt…"
      ]
     },
     "metadata": {},
     "output_type": "display_data"
    },
    {
     "data": {
      "application/vnd.jupyter.widget-view+json": {
       "model_id": "04c9f77e84774aee997149bf4d576fad",
       "version_major": 2,
       "version_minor": 0
      },
      "text/plain": [
       "HBox(children=(IntProgress(value=0, description='Original noisy image', max=68, style=ProgressStyle(descriptio…"
      ]
     },
     "metadata": {},
     "output_type": "display_data"
    },
    {
     "data": {
      "application/vnd.jupyter.widget-view+json": {
       "model_id": "b04b97665451414fb23f2cab126893ef",
       "version_major": 2,
       "version_minor": 0
      },
      "text/plain": [
       "HBox(children=(IntProgress(value=0, description='Val files for Wavelet denoising 24', max=68, style=ProgressSt…"
      ]
     },
     "metadata": {},
     "output_type": "display_data"
    },
    {
     "data": {
      "application/vnd.jupyter.widget-view+json": {
       "model_id": "ceb8b5c520a94bf18dc94397985b298d",
       "version_major": 2,
       "version_minor": 0
      },
      "text/plain": [
       "HBox(children=(IntProgress(value=1, bar_style='info', description='Stats for wavelet denoising', max=1, style=…"
      ]
     },
     "metadata": {},
     "output_type": "display_data"
    },
    {
     "data": {
      "application/vnd.jupyter.widget-view+json": {
       "model_id": "33dcf63ba794466787eb845d00c8b307",
       "version_major": 2,
       "version_minor": 0
      },
      "text/plain": [
       "HBox(children=(IntProgress(value=0, description='Val files for unet', max=68, style=ProgressStyle(description_…"
      ]
     },
     "metadata": {},
     "output_type": "display_data"
    },
    {
     "data": {
      "application/vnd.jupyter.widget-view+json": {
       "model_id": "e18efb09c114468492df52293ac43cc3",
       "version_major": 2,
       "version_minor": 0
      },
      "text/plain": [
       "HBox(children=(IntProgress(value=0, description='Stats for unet', max=68, style=ProgressStyle(description_widt…"
      ]
     },
     "metadata": {},
     "output_type": "display_data"
    },
    {
     "data": {
      "application/vnd.jupyter.widget-view+json": {
       "model_id": "33c8be5b0e544c959c7d7728296be419",
       "version_major": 2,
       "version_minor": 0
      },
      "text/plain": [
       "HBox(children=(IntProgress(value=0, description='Val files for learned wavelet_st', max=68, style=ProgressStyl…"
      ]
     },
     "metadata": {},
     "output_type": "display_data"
    },
    {
     "data": {
      "application/vnd.jupyter.widget-view+json": {
       "model_id": "cd7169eeb49d4e6dac779429a7059792",
       "version_major": 2,
       "version_minor": 0
      },
      "text/plain": [
       "HBox(children=(IntProgress(value=0, description='Stats for learned wavelet_st', max=68, style=ProgressStyle(de…"
      ]
     },
     "metadata": {},
     "output_type": "display_data"
    },
    {
     "data": {
      "application/vnd.jupyter.widget-view+json": {
       "model_id": "6077ae0e207c4879ab97c13e66590a8a",
       "version_major": 2,
       "version_minor": 0
      },
      "text/plain": [
       "HBox(children=(IntProgress(value=0, description='Val files for learnlet_0_55', max=68, style=ProgressStyle(des…"
      ]
     },
     "metadata": {},
     "output_type": "display_data"
    },
    {
     "data": {
      "application/vnd.jupyter.widget-view+json": {
       "model_id": "89a1b72d3deb40cfab191e0c28b20901",
       "version_major": 2,
       "version_minor": 0
      },
      "text/plain": [
       "HBox(children=(IntProgress(value=0, description='Stats for learnlet_0_55', max=68, style=ProgressStyle(descrip…"
      ]
     },
     "metadata": {},
     "output_type": "display_data"
    },
    {
     "data": {
      "application/vnd.jupyter.widget-view+json": {
       "model_id": "d5787d9c3ff84bb6b5ab0ff27264cdf8",
       "version_major": 2,
       "version_minor": 0
      },
      "text/plain": [
       "HBox(children=(IntProgress(value=0, description='Val files for learnlet_0_55_alpha_learned', max=68, style=Pro…"
      ]
     },
     "metadata": {},
     "output_type": "display_data"
    },
    {
     "data": {
      "application/vnd.jupyter.widget-view+json": {
       "model_id": "e9d5ede1d1344eaeae8578386776cebb",
       "version_major": 2,
       "version_minor": 0
      },
      "text/plain": [
       "HBox(children=(IntProgress(value=0, description='Stats for learnlet_0_55_alpha_learned', max=68, style=Progres…"
      ]
     },
     "metadata": {},
     "output_type": "display_data"
    },
    {
     "data": {
      "application/vnd.jupyter.widget-view+json": {
       "model_id": "9f32ed0d1b79443a8a2d3018edcc0324",
       "version_major": 2,
       "version_minor": 0
      },
      "text/plain": [
       "HBox(children=(IntProgress(value=0, description='Val files for learnlet_0_55_ht', max=68, style=ProgressStyle(…"
      ]
     },
     "metadata": {},
     "output_type": "display_data"
    },
    {
     "data": {
      "application/vnd.jupyter.widget-view+json": {
       "model_id": "0e6bbe13adb841bfb2034afffb2bf8f4",
       "version_major": 2,
       "version_minor": 0
      },
      "text/plain": [
       "HBox(children=(IntProgress(value=0, description='Stats for learnlet_0_55_ht', max=68, style=ProgressStyle(desc…"
      ]
     },
     "metadata": {},
     "output_type": "display_data"
    },
    {
     "data": {
      "application/vnd.jupyter.widget-view+json": {
       "model_id": "f437b6c478ad4cd8b0f6b5379d92de4f",
       "version_major": 2,
       "version_minor": 0
      },
      "text/plain": [
       "HBox(children=(IntProgress(value=0, description='Val files for learnlet_exact_reco', max=68, style=ProgressSty…"
      ]
     },
     "metadata": {},
     "output_type": "display_data"
    },
    {
     "data": {
      "application/vnd.jupyter.widget-view+json": {
       "model_id": "3a67adda6978472686a918531166c96d",
       "version_major": 2,
       "version_minor": 0
      },
      "text/plain": [
       "HBox(children=(IntProgress(value=0, description='Stats for learnlet_exact_reco', max=68, style=ProgressStyle(d…"
      ]
     },
     "metadata": {},
     "output_type": "display_data"
    },
    {
     "data": {
      "application/vnd.jupyter.widget-view+json": {
       "model_id": "befe9d40a3d14dfb8049c0a6f7d30f15",
       "version_major": 2,
       "version_minor": 0
      },
      "text/plain": [
       "HBox(children=(IntProgress(value=0, description='Val files for Original noisy image', max=68, style=ProgressSt…"
      ]
     },
     "metadata": {},
     "output_type": "display_data"
    },
    {
     "data": {
      "application/vnd.jupyter.widget-view+json": {
       "model_id": "254994afd1d54dab8ace77fed8c3eea7",
       "version_major": 2,
       "version_minor": 0
      },
      "text/plain": [
       "HBox(children=(IntProgress(value=0, description='Original noisy image', max=68, style=ProgressStyle(descriptio…"
      ]
     },
     "metadata": {},
     "output_type": "display_data"
    },
    {
     "data": {
      "application/vnd.jupyter.widget-view+json": {
       "model_id": "4dc1b2802e0a43edbebeead13e19bf93",
       "version_major": 2,
       "version_minor": 0
      },
      "text/plain": [
       "HBox(children=(IntProgress(value=0, description='Val files for Wavelet denoising 24', max=68, style=ProgressSt…"
      ]
     },
     "metadata": {},
     "output_type": "display_data"
    },
    {
     "data": {
      "application/vnd.jupyter.widget-view+json": {
       "model_id": "815ba00e61ef43dd8ea37efff083489e",
       "version_major": 2,
       "version_minor": 0
      },
      "text/plain": [
       "HBox(children=(IntProgress(value=1, bar_style='info', description='Stats for wavelet denoising', max=1, style=…"
      ]
     },
     "metadata": {},
     "output_type": "display_data"
    },
    {
     "data": {
      "application/vnd.jupyter.widget-view+json": {
       "model_id": "6823e4a644754cd8baf1a2007ba91cfd",
       "version_major": 2,
       "version_minor": 0
      },
      "text/plain": [
       "HBox(children=(IntProgress(value=0, description='Val files for unet', max=68, style=ProgressStyle(description_…"
      ]
     },
     "metadata": {},
     "output_type": "display_data"
    },
    {
     "data": {
      "application/vnd.jupyter.widget-view+json": {
       "model_id": "d8f288b9d37e4a34a3be981c2d177715",
       "version_major": 2,
       "version_minor": 0
      },
      "text/plain": [
       "HBox(children=(IntProgress(value=0, description='Stats for unet', max=68, style=ProgressStyle(description_widt…"
      ]
     },
     "metadata": {},
     "output_type": "display_data"
    },
    {
     "data": {
      "application/vnd.jupyter.widget-view+json": {
       "model_id": "04f20498c3574e5d9cf7f8ca69faec67",
       "version_major": 2,
       "version_minor": 0
      },
      "text/plain": [
       "HBox(children=(IntProgress(value=0, description='Val files for learned wavelet_st', max=68, style=ProgressStyl…"
      ]
     },
     "metadata": {},
     "output_type": "display_data"
    },
    {
     "data": {
      "application/vnd.jupyter.widget-view+json": {
       "model_id": "695230de3ef14800b1212b75ddeddc52",
       "version_major": 2,
       "version_minor": 0
      },
      "text/plain": [
       "HBox(children=(IntProgress(value=0, description='Stats for learned wavelet_st', max=68, style=ProgressStyle(de…"
      ]
     },
     "metadata": {},
     "output_type": "display_data"
    },
    {
     "data": {
      "application/vnd.jupyter.widget-view+json": {
       "model_id": "30d64a827ca04764a73ec2e0169a47ee",
       "version_major": 2,
       "version_minor": 0
      },
      "text/plain": [
       "HBox(children=(IntProgress(value=0, description='Val files for learnlet_0_55', max=68, style=ProgressStyle(des…"
      ]
     },
     "metadata": {},
     "output_type": "display_data"
    },
    {
     "data": {
      "application/vnd.jupyter.widget-view+json": {
       "model_id": "653ff3a671be4f8591fbfdb37510b436",
       "version_major": 2,
       "version_minor": 0
      },
      "text/plain": [
       "HBox(children=(IntProgress(value=0, description='Stats for learnlet_0_55', max=68, style=ProgressStyle(descrip…"
      ]
     },
     "metadata": {},
     "output_type": "display_data"
    },
    {
     "data": {
      "application/vnd.jupyter.widget-view+json": {
       "model_id": "d72b10b9a1dd4fcfa2f010c1dd790155",
       "version_major": 2,
       "version_minor": 0
      },
      "text/plain": [
       "HBox(children=(IntProgress(value=0, description='Val files for learnlet_0_55_alpha_learned', max=68, style=Pro…"
      ]
     },
     "metadata": {},
     "output_type": "display_data"
    },
    {
     "data": {
      "application/vnd.jupyter.widget-view+json": {
       "model_id": "240fe51d9d314525ab22556cacbb38d3",
       "version_major": 2,
       "version_minor": 0
      },
      "text/plain": [
       "HBox(children=(IntProgress(value=0, description='Stats for learnlet_0_55_alpha_learned', max=68, style=Progres…"
      ]
     },
     "metadata": {},
     "output_type": "display_data"
    },
    {
     "data": {
      "application/vnd.jupyter.widget-view+json": {
       "model_id": "de8aec488d9944a8b326ddcb22658976",
       "version_major": 2,
       "version_minor": 0
      },
      "text/plain": [
       "HBox(children=(IntProgress(value=0, description='Val files for learnlet_0_55_ht', max=68, style=ProgressStyle(…"
      ]
     },
     "metadata": {},
     "output_type": "display_data"
    },
    {
     "data": {
      "application/vnd.jupyter.widget-view+json": {
       "model_id": "ea15a5d783344473bc9c89a303266128",
       "version_major": 2,
       "version_minor": 0
      },
      "text/plain": [
       "HBox(children=(IntProgress(value=0, description='Stats for learnlet_0_55_ht', max=68, style=ProgressStyle(desc…"
      ]
     },
     "metadata": {},
     "output_type": "display_data"
    },
    {
     "data": {
      "application/vnd.jupyter.widget-view+json": {
       "model_id": "3ca95d425e3946cbb5b028535f0309de",
       "version_major": 2,
       "version_minor": 0
      },
      "text/plain": [
       "HBox(children=(IntProgress(value=0, description='Val files for learnlet_exact_reco', max=68, style=ProgressSty…"
      ]
     },
     "metadata": {},
     "output_type": "display_data"
    },
    {
     "data": {
      "application/vnd.jupyter.widget-view+json": {
       "model_id": "c24ccfa3a2664a3e80350c8817847fec",
       "version_major": 2,
       "version_minor": 0
      },
      "text/plain": [
       "HBox(children=(IntProgress(value=0, description='Stats for learnlet_exact_reco', max=68, style=ProgressStyle(d…"
      ]
     },
     "metadata": {},
     "output_type": "display_data"
    },
    {
     "data": {
      "application/vnd.jupyter.widget-view+json": {
       "model_id": "5e9e98befab44795b4f0ae8b3ff1c9da",
       "version_major": 2,
       "version_minor": 0
      },
      "text/plain": [
       "HBox(children=(IntProgress(value=0, description='Val files for Original noisy image', max=68, style=ProgressSt…"
      ]
     },
     "metadata": {},
     "output_type": "display_data"
    },
    {
     "data": {
      "application/vnd.jupyter.widget-view+json": {
       "model_id": "3498d0a2c0464a4398db42b61dc00771",
       "version_major": 2,
       "version_minor": 0
      },
      "text/plain": [
       "HBox(children=(IntProgress(value=0, description='Original noisy image', max=68, style=ProgressStyle(descriptio…"
      ]
     },
     "metadata": {},
     "output_type": "display_data"
    },
    {
     "data": {
      "application/vnd.jupyter.widget-view+json": {
       "model_id": "a5e124c24806463db315a0a0770780ce",
       "version_major": 2,
       "version_minor": 0
      },
      "text/plain": [
       "HBox(children=(IntProgress(value=0, description='Val files for Wavelet denoising 24', max=68, style=ProgressSt…"
      ]
     },
     "metadata": {},
     "output_type": "display_data"
    },
    {
     "data": {
      "application/vnd.jupyter.widget-view+json": {
       "model_id": "030418d2612e4fbb844cbecd1dd3aa19",
       "version_major": 2,
       "version_minor": 0
      },
      "text/plain": [
       "HBox(children=(IntProgress(value=1, bar_style='info', description='Stats for wavelet denoising', max=1, style=…"
      ]
     },
     "metadata": {},
     "output_type": "display_data"
    },
    {
     "data": {
      "application/vnd.jupyter.widget-view+json": {
       "model_id": "d4fca1222910488086510d2c67e1a8a6",
       "version_major": 2,
       "version_minor": 0
      },
      "text/plain": [
       "HBox(children=(IntProgress(value=0, description='Val files for unet', max=68, style=ProgressStyle(description_…"
      ]
     },
     "metadata": {},
     "output_type": "display_data"
    },
    {
     "data": {
      "application/vnd.jupyter.widget-view+json": {
       "model_id": "fee17d218c154bbb817276d0d2d00dcf",
       "version_major": 2,
       "version_minor": 0
      },
      "text/plain": [
       "HBox(children=(IntProgress(value=0, description='Stats for unet', max=68, style=ProgressStyle(description_widt…"
      ]
     },
     "metadata": {},
     "output_type": "display_data"
    },
    {
     "data": {
      "application/vnd.jupyter.widget-view+json": {
       "model_id": "6ad0e12db5714e01834619436c15b2e9",
       "version_major": 2,
       "version_minor": 0
      },
      "text/plain": [
       "HBox(children=(IntProgress(value=0, description='Val files for learned wavelet_st', max=68, style=ProgressStyl…"
      ]
     },
     "metadata": {},
     "output_type": "display_data"
    },
    {
     "data": {
      "application/vnd.jupyter.widget-view+json": {
       "model_id": "b649c4645abe4e28b2e385e002c7d382",
       "version_major": 2,
       "version_minor": 0
      },
      "text/plain": [
       "HBox(children=(IntProgress(value=0, description='Stats for learned wavelet_st', max=68, style=ProgressStyle(de…"
      ]
     },
     "metadata": {},
     "output_type": "display_data"
    },
    {
     "data": {
      "application/vnd.jupyter.widget-view+json": {
       "model_id": "40e9c82f0f524f42a0c477a4ca7f01e0",
       "version_major": 2,
       "version_minor": 0
      },
      "text/plain": [
       "HBox(children=(IntProgress(value=0, description='Val files for learnlet_0_55', max=68, style=ProgressStyle(des…"
      ]
     },
     "metadata": {},
     "output_type": "display_data"
    },
    {
     "data": {
      "application/vnd.jupyter.widget-view+json": {
       "model_id": "08cf3d99cfde487bb2f5a6a0ac311567",
       "version_major": 2,
       "version_minor": 0
      },
      "text/plain": [
       "HBox(children=(IntProgress(value=0, description='Stats for learnlet_0_55', max=68, style=ProgressStyle(descrip…"
      ]
     },
     "metadata": {},
     "output_type": "display_data"
    },
    {
     "data": {
      "application/vnd.jupyter.widget-view+json": {
       "model_id": "b2dba91b0551443f8fa7f30f608a8d87",
       "version_major": 2,
       "version_minor": 0
      },
      "text/plain": [
       "HBox(children=(IntProgress(value=0, description='Val files for learnlet_0_55_alpha_learned', max=68, style=Pro…"
      ]
     },
     "metadata": {},
     "output_type": "display_data"
    },
    {
     "data": {
      "application/vnd.jupyter.widget-view+json": {
       "model_id": "af3dc67fa31547338ce2c4ba0c3698a4",
       "version_major": 2,
       "version_minor": 0
      },
      "text/plain": [
       "HBox(children=(IntProgress(value=0, description='Stats for learnlet_0_55_alpha_learned', max=68, style=Progres…"
      ]
     },
     "metadata": {},
     "output_type": "display_data"
    },
    {
     "data": {
      "application/vnd.jupyter.widget-view+json": {
       "model_id": "22b351f65b1f4104aa4c0dc11338e85b",
       "version_major": 2,
       "version_minor": 0
      },
      "text/plain": [
       "HBox(children=(IntProgress(value=0, description='Val files for learnlet_0_55_ht', max=68, style=ProgressStyle(…"
      ]
     },
     "metadata": {},
     "output_type": "display_data"
    },
    {
     "data": {
      "application/vnd.jupyter.widget-view+json": {
       "model_id": "161bddb34843426288e0eb9e194122f6",
       "version_major": 2,
       "version_minor": 0
      },
      "text/plain": [
       "HBox(children=(IntProgress(value=0, description='Stats for learnlet_0_55_ht', max=68, style=ProgressStyle(desc…"
      ]
     },
     "metadata": {},
     "output_type": "display_data"
    },
    {
     "data": {
      "application/vnd.jupyter.widget-view+json": {
       "model_id": "543240390c53420cb52ee07943474b25",
       "version_major": 2,
       "version_minor": 0
      },
      "text/plain": [
       "HBox(children=(IntProgress(value=0, description='Val files for learnlet_exact_reco', max=68, style=ProgressSty…"
      ]
     },
     "metadata": {},
     "output_type": "display_data"
    },
    {
     "data": {
      "application/vnd.jupyter.widget-view+json": {
       "model_id": "e4ca7e266bb34088b6f7c79286970ead",
       "version_major": 2,
       "version_minor": 0
      },
      "text/plain": [
       "HBox(children=(IntProgress(value=0, description='Stats for learnlet_exact_reco', max=68, style=ProgressStyle(d…"
      ]
     },
     "metadata": {},
     "output_type": "display_data"
    },
    {
     "data": {
      "application/vnd.jupyter.widget-view+json": {
       "model_id": "99c24fe322484fe0b1d16ba641ea2cb2",
       "version_major": 2,
       "version_minor": 0
      },
      "text/plain": [
       "HBox(children=(IntProgress(value=0, description='Val files for Original noisy image', max=68, style=ProgressSt…"
      ]
     },
     "metadata": {},
     "output_type": "display_data"
    },
    {
     "data": {
      "application/vnd.jupyter.widget-view+json": {
       "model_id": "8f4050886b584f4ba18f0797dbba8292",
       "version_major": 2,
       "version_minor": 0
      },
      "text/plain": [
       "HBox(children=(IntProgress(value=0, description='Original noisy image', max=68, style=ProgressStyle(descriptio…"
      ]
     },
     "metadata": {},
     "output_type": "display_data"
    },
    {
     "data": {
      "application/vnd.jupyter.widget-view+json": {
       "model_id": "1e06055d75f64d409f5b4552e60e44fb",
       "version_major": 2,
       "version_minor": 0
      },
      "text/plain": [
       "HBox(children=(IntProgress(value=0, description='Val files for Wavelet denoising 24', max=68, style=ProgressSt…"
      ]
     },
     "metadata": {},
     "output_type": "display_data"
    },
    {
     "data": {
      "application/vnd.jupyter.widget-view+json": {
       "model_id": "98e08d5286e34ec79a186fd3d80b060d",
       "version_major": 2,
       "version_minor": 0
      },
      "text/plain": [
       "HBox(children=(IntProgress(value=1, bar_style='info', description='Stats for wavelet denoising', max=1, style=…"
      ]
     },
     "metadata": {},
     "output_type": "display_data"
    },
    {
     "data": {
      "application/vnd.jupyter.widget-view+json": {
       "model_id": "9c38d02c27bd42728e8e3dfe16e2e0f4",
       "version_major": 2,
       "version_minor": 0
      },
      "text/plain": [
       "HBox(children=(IntProgress(value=0, description='Val files for unet', max=68, style=ProgressStyle(description_…"
      ]
     },
     "metadata": {},
     "output_type": "display_data"
    },
    {
     "data": {
      "application/vnd.jupyter.widget-view+json": {
       "model_id": "26abb64c0b5049fbae6e80ed4d9a7abe",
       "version_major": 2,
       "version_minor": 0
      },
      "text/plain": [
       "HBox(children=(IntProgress(value=0, description='Stats for unet', max=68, style=ProgressStyle(description_widt…"
      ]
     },
     "metadata": {},
     "output_type": "display_data"
    },
    {
     "data": {
      "application/vnd.jupyter.widget-view+json": {
       "model_id": "0eb53ccefe914fa98a8aa8009988f85b",
       "version_major": 2,
       "version_minor": 0
      },
      "text/plain": [
       "HBox(children=(IntProgress(value=0, description='Val files for learned wavelet_st', max=68, style=ProgressStyl…"
      ]
     },
     "metadata": {},
     "output_type": "display_data"
    },
    {
     "data": {
      "application/vnd.jupyter.widget-view+json": {
       "model_id": "41e9d29b80f24931b7ab2ccd55e77acb",
       "version_major": 2,
       "version_minor": 0
      },
      "text/plain": [
       "HBox(children=(IntProgress(value=0, description='Stats for learned wavelet_st', max=68, style=ProgressStyle(de…"
      ]
     },
     "metadata": {},
     "output_type": "display_data"
    },
    {
     "data": {
      "application/vnd.jupyter.widget-view+json": {
       "model_id": "cfd23f9777ef4dafa129b4fda78e2fa8",
       "version_major": 2,
       "version_minor": 0
      },
      "text/plain": [
       "HBox(children=(IntProgress(value=0, description='Val files for learnlet_0_55', max=68, style=ProgressStyle(des…"
      ]
     },
     "metadata": {},
     "output_type": "display_data"
    },
    {
     "data": {
      "application/vnd.jupyter.widget-view+json": {
       "model_id": "a008a6446bae4a6da8f2344ff7acfb25",
       "version_major": 2,
       "version_minor": 0
      },
      "text/plain": [
       "HBox(children=(IntProgress(value=0, description='Stats for learnlet_0_55', max=68, style=ProgressStyle(descrip…"
      ]
     },
     "metadata": {},
     "output_type": "display_data"
    },
    {
     "data": {
      "application/vnd.jupyter.widget-view+json": {
       "model_id": "b16c17160a7446f98b8bb847d951d530",
       "version_major": 2,
       "version_minor": 0
      },
      "text/plain": [
       "HBox(children=(IntProgress(value=0, description='Val files for learnlet_0_55_alpha_learned', max=68, style=Pro…"
      ]
     },
     "metadata": {},
     "output_type": "display_data"
    },
    {
     "data": {
      "application/vnd.jupyter.widget-view+json": {
       "model_id": "c0854a010a3046f79b448a357a39cfba",
       "version_major": 2,
       "version_minor": 0
      },
      "text/plain": [
       "HBox(children=(IntProgress(value=0, description='Stats for learnlet_0_55_alpha_learned', max=68, style=Progres…"
      ]
     },
     "metadata": {},
     "output_type": "display_data"
    },
    {
     "data": {
      "application/vnd.jupyter.widget-view+json": {
       "model_id": "982912dcaca34a22a5b232856f35495d",
       "version_major": 2,
       "version_minor": 0
      },
      "text/plain": [
       "HBox(children=(IntProgress(value=0, description='Val files for learnlet_0_55_ht', max=68, style=ProgressStyle(…"
      ]
     },
     "metadata": {},
     "output_type": "display_data"
    },
    {
     "data": {
      "application/vnd.jupyter.widget-view+json": {
       "model_id": "e6189ffe1cd74dc2a4bcce434e389e8b",
       "version_major": 2,
       "version_minor": 0
      },
      "text/plain": [
       "HBox(children=(IntProgress(value=0, description='Stats for learnlet_0_55_ht', max=68, style=ProgressStyle(desc…"
      ]
     },
     "metadata": {},
     "output_type": "display_data"
    },
    {
     "data": {
      "application/vnd.jupyter.widget-view+json": {
       "model_id": "890dc70f5fbb499c9ea0f6acc4ad7d5e",
       "version_major": 2,
       "version_minor": 0
      },
      "text/plain": [
       "HBox(children=(IntProgress(value=0, description='Val files for learnlet_exact_reco', max=68, style=ProgressSty…"
      ]
     },
     "metadata": {},
     "output_type": "display_data"
    },
    {
     "data": {
      "application/vnd.jupyter.widget-view+json": {
       "model_id": "2eab66b5fc224eb2a5b7e7d8a9e11dad",
       "version_major": 2,
       "version_minor": 0
      },
      "text/plain": [
       "HBox(children=(IntProgress(value=0, description='Stats for learnlet_exact_reco', max=68, style=ProgressStyle(d…"
      ]
     },
     "metadata": {},
     "output_type": "display_data"
    },
    {
     "data": {
      "application/vnd.jupyter.widget-view+json": {
       "model_id": "14440b4acaa6437593dabbaf27999c77",
       "version_major": 2,
       "version_minor": 0
      },
      "text/plain": [
       "HBox(children=(IntProgress(value=0, description='Val files for Original noisy image', max=68, style=ProgressSt…"
      ]
     },
     "metadata": {},
     "output_type": "display_data"
    },
    {
     "data": {
      "application/vnd.jupyter.widget-view+json": {
       "model_id": "2570d2ad5fdf468c8c60e4b76129d5a4",
       "version_major": 2,
       "version_minor": 0
      },
      "text/plain": [
       "HBox(children=(IntProgress(value=0, description='Original noisy image', max=68, style=ProgressStyle(descriptio…"
      ]
     },
     "metadata": {},
     "output_type": "display_data"
    },
    {
     "data": {
      "application/vnd.jupyter.widget-view+json": {
       "model_id": "c2efb2306bf74c288cea410df731fcde",
       "version_major": 2,
       "version_minor": 0
      },
      "text/plain": [
       "HBox(children=(IntProgress(value=0, description='Val files for Wavelet denoising 24', max=68, style=ProgressSt…"
      ]
     },
     "metadata": {},
     "output_type": "display_data"
    },
    {
     "data": {
      "application/vnd.jupyter.widget-view+json": {
       "model_id": "38ac603bb18d44d390e4e5f373025c70",
       "version_major": 2,
       "version_minor": 0
      },
      "text/plain": [
       "HBox(children=(IntProgress(value=1, bar_style='info', description='Stats for wavelet denoising', max=1, style=…"
      ]
     },
     "metadata": {},
     "output_type": "display_data"
    },
    {
     "data": {
      "application/vnd.jupyter.widget-view+json": {
       "model_id": "c54bd25cdfb64399a4a0e405e953b9e5",
       "version_major": 2,
       "version_minor": 0
      },
      "text/plain": [
       "HBox(children=(IntProgress(value=0, description='Val files for unet', max=68, style=ProgressStyle(description_…"
      ]
     },
     "metadata": {},
     "output_type": "display_data"
    },
    {
     "data": {
      "application/vnd.jupyter.widget-view+json": {
       "model_id": "6ede1e6d9f7240e2bd0cf9ca462b710b",
       "version_major": 2,
       "version_minor": 0
      },
      "text/plain": [
       "HBox(children=(IntProgress(value=0, description='Stats for unet', max=68, style=ProgressStyle(description_widt…"
      ]
     },
     "metadata": {},
     "output_type": "display_data"
    },
    {
     "data": {
      "application/vnd.jupyter.widget-view+json": {
       "model_id": "2d44a45295fe40aa8e859b3fc3b56e65",
       "version_major": 2,
       "version_minor": 0
      },
      "text/plain": [
       "HBox(children=(IntProgress(value=0, description='Val files for learned wavelet_st', max=68, style=ProgressStyl…"
      ]
     },
     "metadata": {},
     "output_type": "display_data"
    },
    {
     "data": {
      "application/vnd.jupyter.widget-view+json": {
       "model_id": "f69520a577fa4d1bb1d585fccdbfcaef",
       "version_major": 2,
       "version_minor": 0
      },
      "text/plain": [
       "HBox(children=(IntProgress(value=0, description='Stats for learned wavelet_st', max=68, style=ProgressStyle(de…"
      ]
     },
     "metadata": {},
     "output_type": "display_data"
    },
    {
     "data": {
      "application/vnd.jupyter.widget-view+json": {
       "model_id": "971a06c520074b3da0081be9db3d9d62",
       "version_major": 2,
       "version_minor": 0
      },
      "text/plain": [
       "HBox(children=(IntProgress(value=0, description='Val files for learnlet_0_55', max=68, style=ProgressStyle(des…"
      ]
     },
     "metadata": {},
     "output_type": "display_data"
    },
    {
     "data": {
      "application/vnd.jupyter.widget-view+json": {
       "model_id": "c6f31614e5f845c7b78a62c7bdbb06e0",
       "version_major": 2,
       "version_minor": 0
      },
      "text/plain": [
       "HBox(children=(IntProgress(value=0, description='Stats for learnlet_0_55', max=68, style=ProgressStyle(descrip…"
      ]
     },
     "metadata": {},
     "output_type": "display_data"
    },
    {
     "data": {
      "application/vnd.jupyter.widget-view+json": {
       "model_id": "8bbcdef5be95470ba664453561d8addb",
       "version_major": 2,
       "version_minor": 0
      },
      "text/plain": [
       "HBox(children=(IntProgress(value=0, description='Val files for learnlet_0_55_alpha_learned', max=68, style=Pro…"
      ]
     },
     "metadata": {},
     "output_type": "display_data"
    },
    {
     "data": {
      "application/vnd.jupyter.widget-view+json": {
       "model_id": "01c5507a8cf047b08184e9060b09ffd6",
       "version_major": 2,
       "version_minor": 0
      },
      "text/plain": [
       "HBox(children=(IntProgress(value=0, description='Stats for learnlet_0_55_alpha_learned', max=68, style=Progres…"
      ]
     },
     "metadata": {},
     "output_type": "display_data"
    },
    {
     "data": {
      "application/vnd.jupyter.widget-view+json": {
       "model_id": "7b33185cbfc540e292b1065bc4d00606",
       "version_major": 2,
       "version_minor": 0
      },
      "text/plain": [
       "HBox(children=(IntProgress(value=0, description='Val files for learnlet_0_55_ht', max=68, style=ProgressStyle(…"
      ]
     },
     "metadata": {},
     "output_type": "display_data"
    },
    {
     "data": {
      "application/vnd.jupyter.widget-view+json": {
       "model_id": "88fb939651c642d2be7c9f1161ea8772",
       "version_major": 2,
       "version_minor": 0
      },
      "text/plain": [
       "HBox(children=(IntProgress(value=0, description='Stats for learnlet_0_55_ht', max=68, style=ProgressStyle(desc…"
      ]
     },
     "metadata": {},
     "output_type": "display_data"
    },
    {
     "data": {
      "application/vnd.jupyter.widget-view+json": {
       "model_id": "d2ae78e879ab476eba7a045a899016d4",
       "version_major": 2,
       "version_minor": 0
      },
      "text/plain": [
       "HBox(children=(IntProgress(value=0, description='Val files for learnlet_exact_reco', max=68, style=ProgressSty…"
      ]
     },
     "metadata": {},
     "output_type": "display_data"
    },
    {
     "data": {
      "application/vnd.jupyter.widget-view+json": {
       "model_id": "7889f2e6aaaf435fbcc01a395a3dd276",
       "version_major": 2,
       "version_minor": 0
      },
      "text/plain": [
       "HBox(children=(IntProgress(value=0, description='Stats for learnlet_exact_reco', max=68, style=ProgressStyle(d…"
      ]
     },
     "metadata": {},
     "output_type": "display_data"
    },
    {
     "data": {
      "application/vnd.jupyter.widget-view+json": {
       "model_id": "ffe79d4fba9e47099a1c383c27595461",
       "version_major": 2,
       "version_minor": 0
      },
      "text/plain": [
       "HBox(children=(IntProgress(value=0, description='Val files for Original noisy image', max=68, style=ProgressSt…"
      ]
     },
     "metadata": {},
     "output_type": "display_data"
    },
    {
     "data": {
      "application/vnd.jupyter.widget-view+json": {
       "model_id": "529645606e99441c9e346e7684580ebb",
       "version_major": 2,
       "version_minor": 0
      },
      "text/plain": [
       "HBox(children=(IntProgress(value=0, description='Original noisy image', max=68, style=ProgressStyle(descriptio…"
      ]
     },
     "metadata": {},
     "output_type": "display_data"
    },
    {
     "data": {
      "application/vnd.jupyter.widget-view+json": {
       "model_id": "fd9fe962ced04d62aba725d2d062d657",
       "version_major": 2,
       "version_minor": 0
      },
      "text/plain": [
       "HBox(children=(IntProgress(value=0, description='Val files for Wavelet denoising 24', max=68, style=ProgressSt…"
      ]
     },
     "metadata": {},
     "output_type": "display_data"
    },
    {
     "data": {
      "application/vnd.jupyter.widget-view+json": {
       "model_id": "42989faa3f9644dc938fa0cb3dbe8390",
       "version_major": 2,
       "version_minor": 0
      },
      "text/plain": [
       "HBox(children=(IntProgress(value=1, bar_style='info', description='Stats for wavelet denoising', max=1, style=…"
      ]
     },
     "metadata": {},
     "output_type": "display_data"
    },
    {
     "name": "stdout",
     "output_type": "stream",
     "text": [
      "\n"
     ]
    }
   ],
   "source": [
    "noise_std_metrics = {}\n",
    "for noise_std in tqdm_notebook(noise_stds, 'Noise stds'):\n",
    "    n_channels = 1\n",
    "    im_gen_train, im_gen_val, im_gen_test, size, n_samples_train = im_generators(\n",
    "        'bsd68', \n",
    "        batch_size=1, \n",
    "        validation_split=0, \n",
    "        no_augment=True, \n",
    "        noise_std=noise_std,\n",
    "        grey=True\n",
    "    )    \n",
    "    im_bsd68 = im_gen_test\n",
    "    metrics = []\n",
    "    for net_params in all_net_params:\n",
    "        at_inference_net_params = copy.deepcopy(net_params)\n",
    "        if callable(at_inference_net_params['run_params'].get('denoising_activation')):\n",
    "            at_inference_net_params['run_params']['denoising_activation'] = at_inference_net_params['run_params']['denoising_activation'](2*noise_std/255)\n",
    "        metrics.append((net_params['name'], metrics_for_params(im_gen_test, **at_inference_net_params)))\n",
    "        \n",
    "    for net_params in dynamic_denoising_net_params:\n",
    "        metrics.append((net_params['name'], metrics_dynamic_denoising_net(im_gen_test, noise_std, **net_params)))\n",
    "\n",
    "    for net_params in all_exact_recon_net_params:\n",
    "        at_inference_net_params = copy.deepcopy(net_params)\n",
    "        if callable(at_inference_net_params['run_params'].get('denoising_activation')):\n",
    "            at_inference_net_params['run_params']['denoising_activation'] = at_inference_net_params['run_params']['denoising_activation'](2*noise_std/255)\n",
    "        metrics.append((net_params['name'], metrics_exact_recon_net(im_gen_test, **at_inference_net_params)))\n",
    "\n",
    "    metrics.append(('original', metrics_original(im_gen_test)))\n",
    "    # metrics.append(('bm3d', metrics_bm3d(im_gen_test)))\n",
    "    metrics.append(('wavelets_24', metrics_wavelets(im_gen_test, '24', noise_std=noise_std)))\n",
    "    metrics.sort(key=lambda x: x[1].metrics['PSNR'].mean())\n",
    "    noise_std_metrics[noise_std] = metrics"
   ]
  },
  {
   "cell_type": "code",
   "execution_count": 8,
   "metadata": {},
   "outputs": [
    {
     "data": {
      "text/plain": [
       "{5: [('unet', PSNR = 27.6 +/- 5.228 SSIM = 0.7227 +/- 0.1863),\n",
       "  ('learned wavelet_st', PSNR = 30.39 +/- 6.608 SSIM = 0.9287 +/- 0.03775),\n",
       "  ('original', PSNR = 34.15 +/- 0.03261 SSIM = 0.8854 +/- 0.1022),\n",
       "  ('learnlet_exact_reco', PSNR = 35.03 +/- 3.761 SSIM = 0.9453 +/- 0.03728),\n",
       "  ('learnlet_0_55', PSNR = 35.35 +/- 3.86 SSIM = 0.9471 +/- 0.04034),\n",
       "  ('learnlet_0_55_alpha_learned',\n",
       "   PSNR = 35.4 +/- 4.039 SSIM = 0.9477 +/- 0.0408),\n",
       "  ('wavelets_24', PSNR = 35.69 +/- 3.741 SSIM = 0.9449 +/- 0.04547),\n",
       "  ('learnlet_0_55_ht', PSNR = 35.78 +/- 3.452 SSIM = 0.9509 +/- 0.03361)],\n",
       " 15: [('original', PSNR = 24.61 +/- 0.03261 SSIM = 0.5689 +/- 0.2587),\n",
       "  ('unet', PSNR = 27.81 +/- 5.091 SSIM = 0.7337 +/- 0.1797),\n",
       "  ('wavelets_24', PSNR = 29.41 +/- 4.875 SSIM = 0.8205 +/- 0.1246),\n",
       "  ('learnlet_exact_reco', PSNR = 30.11 +/- 4.604 SSIM = 0.8413 +/- 0.1024),\n",
       "  ('learned wavelet_st', PSNR = 30.15 +/- 4.721 SSIM = 0.8476 +/- 0.09783),\n",
       "  ('learnlet_0_55_ht', PSNR = 30.16 +/- 4.252 SSIM = 0.8395 +/- 0.1055),\n",
       "  ('learnlet_0_55', PSNR = 30.25 +/- 4.514 SSIM = 0.8414 +/- 0.1055),\n",
       "  ('learnlet_0_55_alpha_learned',\n",
       "   PSNR = 30.32 +/- 4.51 SSIM = 0.8437 +/- 0.1032)],\n",
       " 25: [('original', PSNR = 20.17 +/- 0.03261 SSIM = 0.3884 +/- 0.2566),\n",
       "  ('wavelets_24', PSNR = 27.08 +/- 4.993 SSIM = 0.7321 +/- 0.1555),\n",
       "  ('learnlet_0_55_ht', PSNR = 27.71 +/- 4.542 SSIM = 0.7488 +/- 0.1318),\n",
       "  ('learnlet_exact_reco', PSNR = 27.87 +/- 4.706 SSIM = 0.7542 +/- 0.1249),\n",
       "  ('learnlet_0_55', PSNR = 27.91 +/- 4.672 SSIM = 0.7544 +/- 0.1291),\n",
       "  ('learnlet_0_55_alpha_learned',\n",
       "   PSNR = 27.98 +/- 4.623 SSIM = 0.7567 +/- 0.1244),\n",
       "  ('learned wavelet_st', PSNR = 28.08 +/- 4.623 SSIM = 0.7615 +/- 0.1205),\n",
       "  ('unet', PSNR = 28.26 +/- 4.972 SSIM = 0.7631 +/- 0.1627)],\n",
       " 30: [('original', PSNR = 18.59 +/- 0.03261 SSIM = 0.328 +/- 0.2401),\n",
       "  ('wavelets_24', PSNR = 26.32 +/- 4.977 SSIM = 0.6974 +/- 0.1668),\n",
       "  ('learnlet_0_55_ht', PSNR = 26.9 +/- 4.613 SSIM = 0.7112 +/- 0.1401),\n",
       "  ('learnlet_exact_reco', PSNR = 27.08 +/- 4.687 SSIM = 0.7159 +/- 0.1309),\n",
       "  ('learnlet_0_55', PSNR = 27.1 +/- 4.684 SSIM = 0.7171 +/- 0.1359),\n",
       "  ('learnlet_0_55_alpha_learned',\n",
       "   PSNR = 27.17 +/- 4.62 SSIM = 0.7189 +/- 0.1298),\n",
       "  ('learned wavelet_st', PSNR = 27.26 +/- 4.603 SSIM = 0.7231 +/- 0.1262),\n",
       "  ('unet', PSNR = 28.25 +/- 5.22 SSIM = 0.7802 +/- 0.137)],\n",
       " 50: [('original', PSNR = 14.15 +/- 0.03261 SSIM = 0.1832 +/- 0.167),\n",
       "  ('unet', PSNR = 18.49 +/- 0.8325 SSIM = 0.2841 +/- 0.1981),\n",
       "  ('wavelets_24', PSNR = 24.42 +/- 4.82 SSIM = 0.5955 +/- 0.1966),\n",
       "  ('learnlet_0_55_ht', PSNR = 24.79 +/- 4.649 SSIM = 0.5945 +/- 0.1611),\n",
       "  ('learnlet_exact_reco', PSNR = 24.9 +/- 4.481 SSIM = 0.5899 +/- 0.1394),\n",
       "  ('learnlet_0_55', PSNR = 24.95 +/- 4.573 SSIM = 0.5969 +/- 0.148),\n",
       "  ('learnlet_0_55_alpha_learned',\n",
       "   PSNR = 24.97 +/- 4.456 SSIM = 0.595 +/- 0.1368),\n",
       "  ('learned wavelet_st', PSNR = 25 +/- 4.414 SSIM = 0.5962 +/- 0.1348)],\n",
       " 75: [('original', PSNR = 10.63 +/- 0.03261 SSIM = 0.1013 +/- 0.1036),\n",
       "  ('unet', PSNR = 13.51 +/- 0.3911 SSIM = 0.1439 +/- 0.1333),\n",
       "  ('wavelets_24', PSNR = 23.06 +/- 4.614 SSIM = 0.5141 +/- 0.2113),\n",
       "  ('learnlet_exact_reco', PSNR = 23.2 +/- 4.148 SSIM = 0.4741 +/- 0.1309),\n",
       "  ('learned wavelet_st', PSNR = 23.25 +/- 4.089 SSIM = 0.4806 +/- 0.128),\n",
       "  ('learnlet_0_55_ht', PSNR = 23.26 +/- 4.483 SSIM = 0.4945 +/- 0.1666),\n",
       "  ('learnlet_0_55_alpha_learned',\n",
       "   PSNR = 23.28 +/- 4.139 SSIM = 0.4811 +/- 0.1286),\n",
       "  ('learnlet_0_55', PSNR = 23.32 +/- 4.309 SSIM = 0.4875 +/- 0.1434)]}"
      ]
     },
     "execution_count": 8,
     "metadata": {},
     "output_type": "execute_result"
    }
   ],
   "source": [
    "noise_std_metrics"
   ]
  },
  {
   "cell_type": "code",
   "execution_count": 9,
   "metadata": {},
   "outputs": [
    {
     "data": {
      "text/html": [
       "<div>\n",
       "<style scoped>\n",
       "    .dataframe tbody tr th:only-of-type {\n",
       "        vertical-align: middle;\n",
       "    }\n",
       "\n",
       "    .dataframe tbody tr th {\n",
       "        vertical-align: top;\n",
       "    }\n",
       "\n",
       "    .dataframe thead th {\n",
       "        text-align: right;\n",
       "    }\n",
       "</style>\n",
       "<table border=\"1\" class=\"dataframe\">\n",
       "  <thead>\n",
       "    <tr style=\"text-align: right;\">\n",
       "      <th></th>\n",
       "      <th>unet</th>\n",
       "      <th>learned wavelet_st</th>\n",
       "      <th>learnlet_exact_reco</th>\n",
       "      <th>learnlet_0_55</th>\n",
       "      <th>learnlet_0_55_alpha_learned</th>\n",
       "      <th>learnlet_0_55_ht</th>\n",
       "      <th>original</th>\n",
       "      <th>wavelets_24</th>\n",
       "    </tr>\n",
       "  </thead>\n",
       "  <tbody>\n",
       "    <tr>\n",
       "      <td>5</td>\n",
       "      <td>27.6 (2.614)</td>\n",
       "      <td>30.39 (3.304)</td>\n",
       "      <td>35.03 (1.881)</td>\n",
       "      <td>35.35 (1.93)</td>\n",
       "      <td>35.4 (2.02)</td>\n",
       "      <td>35.78 (1.726)</td>\n",
       "      <td>34.15 (0.01631)</td>\n",
       "      <td>35.69 (1.87)</td>\n",
       "    </tr>\n",
       "    <tr>\n",
       "      <td>15</td>\n",
       "      <td>27.81 (2.545)</td>\n",
       "      <td>30.15 (2.36)</td>\n",
       "      <td>30.11 (2.302)</td>\n",
       "      <td>30.25 (2.257)</td>\n",
       "      <td>30.32 (2.255)</td>\n",
       "      <td>30.16 (2.126)</td>\n",
       "      <td>24.61 (0.01631)</td>\n",
       "      <td>29.41 (2.437)</td>\n",
       "    </tr>\n",
       "    <tr>\n",
       "      <td>25</td>\n",
       "      <td>28.26 (2.486)</td>\n",
       "      <td>28.08 (2.312)</td>\n",
       "      <td>27.87 (2.353)</td>\n",
       "      <td>27.91 (2.336)</td>\n",
       "      <td>27.98 (2.312)</td>\n",
       "      <td>27.71 (2.271)</td>\n",
       "      <td>20.17 (0.01631)</td>\n",
       "      <td>27.08 (2.497)</td>\n",
       "    </tr>\n",
       "    <tr>\n",
       "      <td>30</td>\n",
       "      <td>28.25 (2.61)</td>\n",
       "      <td>27.26 (2.301)</td>\n",
       "      <td>27.08 (2.343)</td>\n",
       "      <td>27.1 (2.342)</td>\n",
       "      <td>27.17 (2.31)</td>\n",
       "      <td>26.9 (2.306)</td>\n",
       "      <td>18.59 (0.01631)</td>\n",
       "      <td>26.32 (2.488)</td>\n",
       "    </tr>\n",
       "    <tr>\n",
       "      <td>50</td>\n",
       "      <td>18.49 (0.4162)</td>\n",
       "      <td>25.0 (2.207)</td>\n",
       "      <td>24.9 (2.24)</td>\n",
       "      <td>24.95 (2.287)</td>\n",
       "      <td>24.97 (2.228)</td>\n",
       "      <td>24.79 (2.325)</td>\n",
       "      <td>14.15 (0.01631)</td>\n",
       "      <td>24.42 (2.41)</td>\n",
       "    </tr>\n",
       "    <tr>\n",
       "      <td>75</td>\n",
       "      <td>13.51 (0.1955)</td>\n",
       "      <td>23.25 (2.045)</td>\n",
       "      <td>23.2 (2.074)</td>\n",
       "      <td>23.32 (2.154)</td>\n",
       "      <td>23.28 (2.069)</td>\n",
       "      <td>23.26 (2.241)</td>\n",
       "      <td>10.63 (0.01631)</td>\n",
       "      <td>23.06 (2.307)</td>\n",
       "    </tr>\n",
       "  </tbody>\n",
       "</table>\n",
       "</div>"
      ],
      "text/plain": [
       "              unet learned wavelet_st learnlet_exact_reco  learnlet_0_55  \\\n",
       "5     27.6 (2.614)      30.39 (3.304)       35.03 (1.881)   35.35 (1.93)   \n",
       "15   27.81 (2.545)       30.15 (2.36)       30.11 (2.302)  30.25 (2.257)   \n",
       "25   28.26 (2.486)      28.08 (2.312)       27.87 (2.353)  27.91 (2.336)   \n",
       "30    28.25 (2.61)      27.26 (2.301)       27.08 (2.343)   27.1 (2.342)   \n",
       "50  18.49 (0.4162)       25.0 (2.207)         24.9 (2.24)  24.95 (2.287)   \n",
       "75  13.51 (0.1955)      23.25 (2.045)        23.2 (2.074)  23.32 (2.154)   \n",
       "\n",
       "   learnlet_0_55_alpha_learned learnlet_0_55_ht         original  \\\n",
       "5                  35.4 (2.02)    35.78 (1.726)  34.15 (0.01631)   \n",
       "15               30.32 (2.255)    30.16 (2.126)  24.61 (0.01631)   \n",
       "25               27.98 (2.312)    27.71 (2.271)  20.17 (0.01631)   \n",
       "30                27.17 (2.31)     26.9 (2.306)  18.59 (0.01631)   \n",
       "50               24.97 (2.228)    24.79 (2.325)  14.15 (0.01631)   \n",
       "75               23.28 (2.069)    23.26 (2.241)  10.63 (0.01631)   \n",
       "\n",
       "      wavelets_24  \n",
       "5    35.69 (1.87)  \n",
       "15  29.41 (2.437)  \n",
       "25  27.08 (2.497)  \n",
       "30  26.32 (2.488)  \n",
       "50   24.42 (2.41)  \n",
       "75  23.06 (2.307)  "
      ]
     },
     "execution_count": 9,
     "metadata": {},
     "output_type": "execute_result"
    }
   ],
   "source": [
    "# PSNR table\n",
    "psnr_metrics_table = pd.DataFrame(\n",
    "    index=noise_stds, \n",
    "    columns=[p['name'] for p in all_net_params] + [p['name'] for p in all_exact_recon_net_params] + [p['name'] for p in dynamic_denoising_net_params] + ['original'],\n",
    ")\n",
    "for noise_std, metrics in noise_std_metrics.items():\n",
    "    for name, m in metrics:\n",
    "        psnr_metrics_table.loc[noise_std, name] = \"{mean:.4} ({std:.4})\".format(\n",
    "            mean=m.metrics['PSNR'].mean(), \n",
    "            std=m.metrics['PSNR'].stddev(),\n",
    "        )\n",
    "psnr_metrics_table"
   ]
  },
  {
   "cell_type": "code",
   "execution_count": 10,
   "metadata": {},
   "outputs": [
    {
     "data": {
      "text/html": [
       "<div>\n",
       "<style scoped>\n",
       "    .dataframe tbody tr th:only-of-type {\n",
       "        vertical-align: middle;\n",
       "    }\n",
       "\n",
       "    .dataframe tbody tr th {\n",
       "        vertical-align: top;\n",
       "    }\n",
       "\n",
       "    .dataframe thead th {\n",
       "        text-align: right;\n",
       "    }\n",
       "</style>\n",
       "<table border=\"1\" class=\"dataframe\">\n",
       "  <thead>\n",
       "    <tr style=\"text-align: right;\">\n",
       "      <th></th>\n",
       "      <th>unet</th>\n",
       "      <th>learned wavelet_st</th>\n",
       "      <th>learnlet_exact_reco</th>\n",
       "      <th>learnlet_0_55</th>\n",
       "      <th>learnlet_0_55_alpha_learned</th>\n",
       "      <th>learnlet_0_55_ht</th>\n",
       "      <th>original</th>\n",
       "      <th>wavelets_24</th>\n",
       "    </tr>\n",
       "  </thead>\n",
       "  <tbody>\n",
       "    <tr>\n",
       "      <td>5</td>\n",
       "      <td>0.7227 (0.09316)</td>\n",
       "      <td>0.9287 (0.01887)</td>\n",
       "      <td>0.9453 (0.01864)</td>\n",
       "      <td>0.9471 (0.02017)</td>\n",
       "      <td>0.9477 (0.0204)</td>\n",
       "      <td>0.9509 (0.01681)</td>\n",
       "      <td>0.8854 (0.05111)</td>\n",
       "      <td>0.9449 (0.02273)</td>\n",
       "    </tr>\n",
       "    <tr>\n",
       "      <td>15</td>\n",
       "      <td>0.7337 (0.08987)</td>\n",
       "      <td>0.8476 (0.04891)</td>\n",
       "      <td>0.8413 (0.05119)</td>\n",
       "      <td>0.8414 (0.05274)</td>\n",
       "      <td>0.8437 (0.05159)</td>\n",
       "      <td>0.8395 (0.05276)</td>\n",
       "      <td>0.5689 (0.1293)</td>\n",
       "      <td>0.8205 (0.06228)</td>\n",
       "    </tr>\n",
       "    <tr>\n",
       "      <td>25</td>\n",
       "      <td>0.7631 (0.08133)</td>\n",
       "      <td>0.7615 (0.06025)</td>\n",
       "      <td>0.7542 (0.06246)</td>\n",
       "      <td>0.7544 (0.06454)</td>\n",
       "      <td>0.7567 (0.06221)</td>\n",
       "      <td>0.7488 (0.0659)</td>\n",
       "      <td>0.3884 (0.1283)</td>\n",
       "      <td>0.7321 (0.07773)</td>\n",
       "    </tr>\n",
       "    <tr>\n",
       "      <td>30</td>\n",
       "      <td>0.7802 (0.06849)</td>\n",
       "      <td>0.7231 (0.06312)</td>\n",
       "      <td>0.7159 (0.06543)</td>\n",
       "      <td>0.7171 (0.06794)</td>\n",
       "      <td>0.7189 (0.0649)</td>\n",
       "      <td>0.7112 (0.07007)</td>\n",
       "      <td>0.328 (0.1201)</td>\n",
       "      <td>0.6974 (0.08341)</td>\n",
       "    </tr>\n",
       "    <tr>\n",
       "      <td>50</td>\n",
       "      <td>0.2841 (0.09905)</td>\n",
       "      <td>0.5962 (0.06742)</td>\n",
       "      <td>0.5899 (0.06972)</td>\n",
       "      <td>0.5969 (0.074)</td>\n",
       "      <td>0.595 (0.06838)</td>\n",
       "      <td>0.5945 (0.08054)</td>\n",
       "      <td>0.1832 (0.08348)</td>\n",
       "      <td>0.5955 (0.09832)</td>\n",
       "    </tr>\n",
       "    <tr>\n",
       "      <td>75</td>\n",
       "      <td>0.1439 (0.06663)</td>\n",
       "      <td>0.4806 (0.06402)</td>\n",
       "      <td>0.4741 (0.06546)</td>\n",
       "      <td>0.4875 (0.0717)</td>\n",
       "      <td>0.4811 (0.0643)</td>\n",
       "      <td>0.4945 (0.0833)</td>\n",
       "      <td>0.1013 (0.05182)</td>\n",
       "      <td>0.5141 (0.1057)</td>\n",
       "    </tr>\n",
       "  </tbody>\n",
       "</table>\n",
       "</div>"
      ],
      "text/plain": [
       "                unet learned wavelet_st learnlet_exact_reco     learnlet_0_55  \\\n",
       "5   0.7227 (0.09316)   0.9287 (0.01887)    0.9453 (0.01864)  0.9471 (0.02017)   \n",
       "15  0.7337 (0.08987)   0.8476 (0.04891)    0.8413 (0.05119)  0.8414 (0.05274)   \n",
       "25  0.7631 (0.08133)   0.7615 (0.06025)    0.7542 (0.06246)  0.7544 (0.06454)   \n",
       "30  0.7802 (0.06849)   0.7231 (0.06312)    0.7159 (0.06543)  0.7171 (0.06794)   \n",
       "50  0.2841 (0.09905)   0.5962 (0.06742)    0.5899 (0.06972)    0.5969 (0.074)   \n",
       "75  0.1439 (0.06663)   0.4806 (0.06402)    0.4741 (0.06546)   0.4875 (0.0717)   \n",
       "\n",
       "   learnlet_0_55_alpha_learned  learnlet_0_55_ht          original  \\\n",
       "5              0.9477 (0.0204)  0.9509 (0.01681)  0.8854 (0.05111)   \n",
       "15            0.8437 (0.05159)  0.8395 (0.05276)   0.5689 (0.1293)   \n",
       "25            0.7567 (0.06221)   0.7488 (0.0659)   0.3884 (0.1283)   \n",
       "30             0.7189 (0.0649)  0.7112 (0.07007)    0.328 (0.1201)   \n",
       "50             0.595 (0.06838)  0.5945 (0.08054)  0.1832 (0.08348)   \n",
       "75             0.4811 (0.0643)   0.4945 (0.0833)  0.1013 (0.05182)   \n",
       "\n",
       "         wavelets_24  \n",
       "5   0.9449 (0.02273)  \n",
       "15  0.8205 (0.06228)  \n",
       "25  0.7321 (0.07773)  \n",
       "30  0.6974 (0.08341)  \n",
       "50  0.5955 (0.09832)  \n",
       "75   0.5141 (0.1057)  "
      ]
     },
     "execution_count": 10,
     "metadata": {},
     "output_type": "execute_result"
    }
   ],
   "source": [
    "# SSIM table\n",
    "ssim_metrics_table = pd.DataFrame(\n",
    "    index=noise_stds, \n",
    "    columns=[p['name'] for p in all_net_params] + [p['name'] for p in all_exact_recon_net_params] + [p['name'] for p in dynamic_denoising_net_params] + ['original', 'wavelets_24'],\n",
    ")\n",
    "for noise_std, metrics in noise_std_metrics.items():\n",
    "    for name, m in metrics:\n",
    "        ssim_metrics_table.loc[noise_std, name] = \"{mean:.4} ({std:.4})\".format(\n",
    "            mean=m.metrics['SSIM'].mean(), \n",
    "            std=m.metrics['SSIM'].stddev(),\n",
    "        )\n",
    "ssim_metrics_table"
   ]
  },
  {
   "cell_type": "code",
   "execution_count": null,
   "metadata": {},
   "outputs": [],
   "source": []
  }
 ],
 "metadata": {
  "kernelspec": {
   "display_name": "Python 3",
   "language": "python",
   "name": "python3"
  },
  "language_info": {
   "codemirror_mode": {
    "name": "ipython",
    "version": 3
   },
   "file_extension": ".py",
   "mimetype": "text/x-python",
   "name": "python",
   "nbconvert_exporter": "python",
   "pygments_lexer": "ipython3",
   "version": "3.6.8"
  },
  "notify_time": "30"
 },
 "nbformat": 4,
 "nbformat_minor": 2
}
